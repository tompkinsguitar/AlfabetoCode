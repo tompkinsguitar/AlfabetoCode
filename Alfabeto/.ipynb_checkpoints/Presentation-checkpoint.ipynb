{
 "cells": [
  {
   "cell_type": "markdown",
   "metadata": {
    "nbpresent": {
     "id": "40d748dd-a061-46aa-a3e7-14fcc49981e9"
    },
    "slideshow": {
     "slide_type": "slide"
    }
   },
   "source": [
    "# 01: The Problem"
   ]
  },
  {
   "cell_type": "raw",
   "metadata": {
    "nbpresent": {
     "id": "ea95770e-7e54-4e16-9dc1-ab2ff1f7600f"
    },
    "slideshow": {
     "slide_type": "fragment"
    }
   },
   "source": [
    "1. Early music is notated in a framework of six modes."
   ]
  },
  {
   "cell_type": "raw",
   "metadata": {
    "nbpresent": {
     "id": "e681bc3a-3e51-45f1-9dfe-45409de49ece"
    },
    "slideshow": {
     "slide_type": "fragment"
    }
   },
   "source": [
    "2. Can we distinguish six modes by pitch content?"
   ]
  },
  {
   "cell_type": "raw",
   "metadata": {
    "nbpresent": {
     "id": "b1a5c762-b8f8-4df9-b22f-c17a7e2e467a"
    },
    "slideshow": {
     "slide_type": "fragment"
    }
   },
   "source": [
    "3. Is there a shift from several modes to two (major and minor)?"
   ]
  },
  {
   "cell_type": "markdown",
   "metadata": {
    "collapsed": true,
    "nbpresent": {
     "id": "135ffeba-b427-4bf5-98b2-a17856a809b8"
    },
    "slideshow": {
     "slide_type": "slide"
    }
   },
   "source": [
    "# 02: Finding Music"
   ]
  },
  {
   "cell_type": "markdown",
   "metadata": {
    "slideshow": {
     "slide_type": "fragment"
    }
   },
   "source": [
    "[Corpus](http://kern.humdrum.org/cgi-bin/browse?l=/jrp)"
   ]
  },
  {
   "cell_type": "markdown",
   "metadata": {
    "slideshow": {
     "slide_type": "fragment"
    }
   },
   "source": [
    "[Mass movement](https://youtu.be/pTB5tjn4mqM)"
   ]
  },
  {
   "cell_type": "markdown",
   "metadata": {
    "slideshow": {
     "slide_type": "fragment"
    }
   },
   "source": [
    "[Motet](https://youtu.be/qXMZoKofu7g?t=9s)"
   ]
  },
  {
   "cell_type": "markdown",
   "metadata": {
    "slideshow": {
     "slide_type": "fragment"
    }
   },
   "source": [
    "[Chanson](https://www.youtube.com/watch?v=OI-bQ0RkArA)"
   ]
  },
  {
   "cell_type": "markdown",
   "metadata": {
    "collapsed": true,
    "nbpresent": {
     "id": "455486cd-b834-46e1-94ef-021cea8303cf"
    },
    "slideshow": {
     "slide_type": "slide"
    }
   },
   "source": [
    "# 03: Extract Data"
   ]
  },
  {
   "cell_type": "raw",
   "metadata": {
    "nbpresent": {
     "id": "84b82a7a-1e25-4664-947e-cd949ddcaefa"
    },
    "slideshow": {
     "slide_type": "fragment"
    }
   },
   "source": [
    "Basic goals\n",
    "1: Extract frequency of each pitch class\n",
    "2: Extract each \"chord\""
   ]
  },
  {
   "cell_type": "markdown",
   "metadata": {
    "slideshow": {
     "slide_type": "slide"
    }
   },
   "source": [
    "# Find \"key profile\" of each song"
   ]
  },
  {
   "cell_type": "raw",
   "metadata": {
    "slideshow": {
     "slide_type": "fragment"
    }
   },
   "source": [
    "1: Convert all pitches to pitch-class integers (C=0)"
   ]
  },
  {
   "cell_type": "raw",
   "metadata": {
    "slideshow": {
     "slide_type": "fragment"
    }
   },
   "source": [
    "2: Transpose all pitch classes so that the final bass note is pc-0"
   ]
  },
  {
   "cell_type": "raw",
   "metadata": {
    "slideshow": {
     "slide_type": "fragment"
    }
   },
   "source": [
    "3: Find the frequency (in percent) of each pitch class"
   ]
  },
  {
   "cell_type": "raw",
   "metadata": {
    "slideshow": {
     "slide_type": "fragment"
    }
   },
   "source": [
    "4: Label data point by original notated mode (key:final)"
   ]
  },
  {
   "cell_type": "markdown",
   "metadata": {
    "slideshow": {
     "slide_type": "slide"
    }
   },
   "source": [
    "# Extract \"chords\""
   ]
  },
  {
   "cell_type": "raw",
   "metadata": {
    "slideshow": {
     "slide_type": "fragment"
    }
   },
   "source": [
    "1: Convert, transpose, and label as above"
   ]
  },
  {
   "cell_type": "raw",
   "metadata": {
    "slideshow": {
     "slide_type": "fragment"
    }
   },
   "source": [
    "2: \"Chordify\" each vertical sonority"
   ]
  },
  {
   "cell_type": "raw",
   "metadata": {
    "slideshow": {
     "slide_type": "fragment"
    }
   },
   "source": [
    "3: Pseudo continuo notation: [0, [0, 4, 7]], [11, [0, 3, 8]]"
   ]
  },
  {
   "cell_type": "raw",
   "metadata": {
    "slideshow": {
     "slide_type": "fragment"
    }
   },
   "source": [
    "(later we will discard \"non-chords\")"
   ]
  },
  {
   "cell_type": "markdown",
   "metadata": {
    "slideshow": {
     "slide_type": "slide"
    }
   },
   "source": [
    "# Cluster Analysis"
   ]
  },
  {
   "cell_type": "raw",
   "metadata": {
    "slideshow": {
     "slide_type": "slide"
    }
   },
   "source": [
    "Measure the difference between each key profile."
   ]
  },
  {
   "cell_type": "code",
   "execution_count": 2,
   "metadata": {
    "collapsed": true,
    "slideshow": {
     "slide_type": "fragment"
    }
   },
   "outputs": [],
   "source": [
    "from scipy.spatial.distance import euclidean\n",
    "from sklearn.externals import joblib\n",
    "songs = joblib.load('pickles/Zso_notes.pkl')\n",
    "motets = joblib.load('pickles/Zmo_notes.pkl')\n",
    "masses = joblib.load('pickles/Zma_notes.pkl')"
   ]
  },
  {
   "cell_type": "code",
   "execution_count": 3,
   "metadata": {
    "collapsed": false,
    "slideshow": {
     "slide_type": "fragment"
    }
   },
   "outputs": [
    {
     "data": {
      "text/plain": [
       "26.17081133237858"
      ]
     },
     "execution_count": 3,
     "metadata": {},
     "output_type": "execute_result"
    }
   ],
   "source": [
    "euclidean(masses[0][0], songs[0][0])"
   ]
  },
  {
   "cell_type": "raw",
   "metadata": {
    "slideshow": {
     "slide_type": "slide"
    }
   },
   "source": [
    "Cluster the data using k-means"
   ]
  },
  {
   "cell_type": "code",
   "execution_count": null,
   "metadata": {
    "collapsed": false,
    "slideshow": {
     "slide_type": "fragment"
    }
   },
   "outputs": [],
   "source": [
    "import alfabeto_data.dissertation_images as di"
   ]
  },
  {
   "cell_type": "code",
   "execution_count": null,
   "metadata": {
    "collapsed": false,
    "slideshow": {
     "slide_type": "slide"
    }
   },
   "outputs": [],
   "source": [
    "%pylab inline\n",
    "di.k_means_data(songs[0], 2, di.label_maker_alfabeto(songs[1]), \n",
    "                '/home/daniel/Desktop/motets.pdf')"
   ]
  },
  {
   "cell_type": "markdown",
   "metadata": {
    "slideshow": {
     "slide_type": "slide"
    }
   },
   "source": [
    "# Score different cluster numbers"
   ]
  },
  {
   "cell_type": "raw",
   "metadata": {
    "slideshow": {
     "slide_type": "fragment"
    }
   },
   "source": [
    "Silhouette coefficient: distinctiveness of the clusters (-1 to 1)"
   ]
  },
  {
   "cell_type": "raw",
   "metadata": {
    "slideshow": {
     "slide_type": "fragment"
    }
   },
   "source": [
    "Completeness score: success of all songs of a particular mode ending up in the same cluster"
   ]
  },
  {
   "cell_type": "code",
   "execution_count": null,
   "metadata": {
    "collapsed": false,
    "slideshow": {
     "slide_type": "slide"
    }
   },
   "outputs": [],
   "source": [
    "di.fitness_plotter(songs[0], di.label_maker_alfabeto(songs[1]), \n",
    "                   12, '/home/daniel/Desktop/score.pdf')"
   ]
  },
  {
   "cell_type": "markdown",
   "metadata": {
    "slideshow": {
     "slide_type": "slide"
    }
   },
   "source": [
    "# Some other corpora"
   ]
  },
  {
   "cell_type": "markdown",
   "metadata": {
    "slideshow": {
     "slide_type": "slide"
    }
   },
   "source": [
    "## Palestrina"
   ]
  },
  {
   "cell_type": "code",
   "execution_count": null,
   "metadata": {
    "collapsed": false,
    "slideshow": {
     "slide_type": "fragment"
    }
   },
   "outputs": [],
   "source": [
    "palestrina = di.k_means_data(di.palestrina_notes_data[0], 5, di.label_maker_alfabeto(di.palestrina_notes_data[1]), '/home/daniel/Desktop/')"
   ]
  },
  {
   "cell_type": "markdown",
   "metadata": {
    "slideshow": {
     "slide_type": "slide"
    }
   },
   "source": [
    "## Alfabeto"
   ]
  },
  {
   "cell_type": "markdown",
   "metadata": {
    "slideshow": {
     "slide_type": "fragment"
    }
   },
   "source": [
    "[Felici Gl'Animi](Felici Gl'Animi) (Happy Hearts)"
   ]
  },
  {
   "cell_type": "code",
   "execution_count": null,
   "metadata": {
    "collapsed": false,
    "slideshow": {
     "slide_type": "slide"
    }
   },
   "outputs": [],
   "source": [
    "di.k_means_data(di.alfabeto_notes_data[0], 2, di.label_maker_alfabeto(di.alfabeto_notes_data[1]), '/home/daniel/Desktop/')"
   ]
  },
  {
   "cell_type": "markdown",
   "metadata": {
    "slideshow": {
     "slide_type": "slide"
    }
   },
   "source": [
    "## J.S. Bach"
   ]
  },
  {
   "cell_type": "code",
   "execution_count": null,
   "metadata": {
    "collapsed": false,
    "slideshow": {
     "slide_type": "fragment"
    }
   },
   "outputs": [],
   "source": [
    "di.k_means_data(di.bach_notes_data[0], 2, di.label_maker(di.bach_notes_data[1]), '/home/daniel/Desktop/')"
   ]
  },
  {
   "cell_type": "markdown",
   "metadata": {
    "slideshow": {
     "slide_type": "slide"
    }
   },
   "source": [
    "# Harmonic Motion"
   ]
  },
  {
   "cell_type": "raw",
   "metadata": {
    "slideshow": {
     "slide_type": "fragment"
    }
   },
   "source": [
    "Use the chords we made earlier to find harmonic function (if any) in a given corpus. Hidden Markov models (HMMs) cluster chords into a given number of functions based on their context (where they move/where they came from)"
   ]
  }
 ],
 "metadata": {
  "anaconda-cloud": {},
  "celltoolbar": "Slideshow",
  "kernelspec": {
   "display_name": "Python [conda root]",
   "language": "python",
   "name": "conda-root-py"
  },
  "language_info": {
   "codemirror_mode": {
    "name": "ipython",
    "version": 3
   },
   "file_extension": ".py",
   "mimetype": "text/x-python",
   "name": "python",
   "nbconvert_exporter": "python",
   "pygments_lexer": "ipython3",
   "version": "3.5.2"
  },
  "nbpresent": {
   "slides": {
    "0e439b22-84c2-4da4-9114-3cd9f4597aa4": {
     "id": "0e439b22-84c2-4da4-9114-3cd9f4597aa4",
     "prev": "25d54048-80af-42e6-b908-3f79ba708954",
     "regions": {
      "5152a590-45c5-4f86-a7de-c2acd6e1aea9": {
       "attrs": {
        "height": 0.4,
        "width": 0.8,
        "x": 0.1,
        "y": 0.5
       },
       "content": {
        "cell": "84b82a7a-1e25-4664-947e-cd949ddcaefa",
        "part": "whole"
       },
       "id": "5152a590-45c5-4f86-a7de-c2acd6e1aea9"
      },
      "d56944d2-b9b1-4a2c-ac07-925d261fbc2a": {
       "attrs": {
        "height": 0.8,
        "width": 0.8,
        "x": 0.1,
        "y": 0.1
       },
       "content": {
        "cell": "455486cd-b834-46e1-94ef-021cea8303cf",
        "part": "whole"
       },
       "id": "d56944d2-b9b1-4a2c-ac07-925d261fbc2a"
      }
     }
    },
    "231b5f33-1243-4a96-b0e3-cd7fb82c29e0": {
     "id": "231b5f33-1243-4a96-b0e3-cd7fb82c29e0",
     "prev": "dd2510aa-afcd-4bc8-be45-d901aa50cb3a",
     "regions": {
      "8383a521-4faa-46f2-bea0-7096229fccb4": {
       "attrs": {
        "height": 0.8,
        "width": 0.8,
        "x": 0.1,
        "y": 0.1
       },
       "content": {
        "cell": "5d00b952-b0f9-4314-af51-9e18d9ecab25",
        "part": "whole"
       },
       "id": "8383a521-4faa-46f2-bea0-7096229fccb4"
      },
      "e97f8b3d-6085-4793-b38e-1a0bf39e8feb": {
       "attrs": {
        "height": 0.4,
        "width": 0.8,
        "x": 0.1,
        "y": 0.5
       },
       "content": {
        "cell": "f25f95f5-ef1e-465f-9312-749620725cb4",
        "part": "whole"
       },
       "id": "e97f8b3d-6085-4793-b38e-1a0bf39e8feb"
      }
     }
    },
    "25d54048-80af-42e6-b908-3f79ba708954": {
     "id": "25d54048-80af-42e6-b908-3f79ba708954",
     "prev": "cf2f5b80-5c22-4c18-be20-420be482cda1",
     "regions": {
      "5021b79a-2c5b-433c-996a-950a0fac7635": {
       "attrs": {
        "height": 0.8,
        "width": 0.8,
        "x": 0.1,
        "y": 0.1
       },
       "content": {
        "cell": "135ffeba-b427-4bf5-98b2-a17856a809b8",
        "part": "whole"
       },
       "id": "5021b79a-2c5b-433c-996a-950a0fac7635"
      }
     }
    },
    "cf2f5b80-5c22-4c18-be20-420be482cda1": {
     "id": "cf2f5b80-5c22-4c18-be20-420be482cda1",
     "prev": null,
     "regions": {
      "17516f5e-8b0f-4004-b718-cf7f029ed6eb": {
       "attrs": {
        "height": 0.4,
        "width": 0.8,
        "x": 0.1,
        "y": 0.5
       },
       "content": {
        "cell": "e681bc3a-3e51-45f1-9dfe-45409de49ece",
        "part": "whole"
       },
       "id": "17516f5e-8b0f-4004-b718-cf7f029ed6eb"
      },
      "5f7bdf05-dcd3-4dbd-ab8c-3acf50368b1a": {
       "attrs": {
        "height": 0.4,
        "width": 0.8,
        "x": 0.1,
        "y": 0.5
       },
       "content": {
        "cell": "b1a5c762-b8f8-4df9-b22f-c17a7e2e467a",
        "part": "whole"
       },
       "id": "5f7bdf05-dcd3-4dbd-ab8c-3acf50368b1a"
      },
      "81149950-b6d4-42c1-b25e-32df3cef1179": {
       "attrs": {
        "height": 0.8,
        "width": 0.8,
        "x": 0.1,
        "y": 0.1
       },
       "content": {
        "cell": "40d748dd-a061-46aa-a3e7-14fcc49981e9",
        "part": "whole"
       },
       "id": "81149950-b6d4-42c1-b25e-32df3cef1179"
      },
      "91fe9f51-8102-4d4a-8c7a-d31594b5a29c": {
       "attrs": {
        "height": 0.4,
        "width": 0.8,
        "x": 0.1,
        "y": 0.5
       },
       "content": {
        "cell": "ea95770e-7e54-4e16-9dc1-ab2ff1f7600f",
        "part": "whole"
       },
       "id": "91fe9f51-8102-4d4a-8c7a-d31594b5a29c"
      }
     }
    },
    "dd2510aa-afcd-4bc8-be45-d901aa50cb3a": {
     "id": "dd2510aa-afcd-4bc8-be45-d901aa50cb3a",
     "prev": "0e439b22-84c2-4da4-9114-3cd9f4597aa4",
     "regions": {
      "bd6107c2-52aa-4153-86f4-d131685f31ba": {
       "attrs": {
        "height": 0.8,
        "width": 0.8,
        "x": 0.1,
        "y": 0.1
       },
       "content": {
        "cell": "dce90daf-5d34-4af2-b3cf-a0ec16dfb96c",
        "part": "whole"
       },
       "id": "bd6107c2-52aa-4153-86f4-d131685f31ba"
      },
      "edc4cf96-8232-4288-b431-959fc1380e68": {
       "attrs": {
        "height": 0.4,
        "width": 0.8,
        "x": 0.1,
        "y": 0.5
       },
       "content": {
        "cell": "ccb18fea-4980-4506-9a02-ffd8aba147d0",
        "part": "whole"
       },
       "id": "edc4cf96-8232-4288-b431-959fc1380e68"
      }
     }
    }
   },
   "themes": {
    "default": "8240735c-13e6-4b6e-8672-872ae9549963",
    "theme": {
     "8240735c-13e6-4b6e-8672-872ae9549963": {
      "id": "8240735c-13e6-4b6e-8672-872ae9549963",
      "palette": {
       "19cc588f-0593-49c9-9f4b-e4d7cc113b1c": {
        "id": "19cc588f-0593-49c9-9f4b-e4d7cc113b1c",
        "rgb": [
         252,
         252,
         252
        ]
       },
       "31af15d2-7e15-44c5-ab5e-e04b16a89eff": {
        "id": "31af15d2-7e15-44c5-ab5e-e04b16a89eff",
        "rgb": [
         68,
         68,
         68
        ]
       },
       "50f92c45-a630-455b-aec3-788680ec7410": {
        "id": "50f92c45-a630-455b-aec3-788680ec7410",
        "rgb": [
         155,
         177,
         192
        ]
       },
       "c5cc3653-2ee1-402a-aba2-7caae1da4f6c": {
        "id": "c5cc3653-2ee1-402a-aba2-7caae1da4f6c",
        "rgb": [
         43,
         126,
         184
        ]
       },
       "efa7f048-9acb-414c-8b04-a26811511a21": {
        "id": "efa7f048-9acb-414c-8b04-a26811511a21",
        "rgb": [
         25.118061674008803,
         73.60176211453744,
         107.4819383259912
        ]
       }
      },
      "rules": {
       "blockquote": {
        "color": "50f92c45-a630-455b-aec3-788680ec7410"
       },
       "code": {
        "font-family": "Anonymous Pro"
       },
       "h1": {
        "color": "c5cc3653-2ee1-402a-aba2-7caae1da4f6c",
        "font-family": "Lato",
        "font-size": 8
       },
       "h2": {
        "color": "c5cc3653-2ee1-402a-aba2-7caae1da4f6c",
        "font-family": "Lato",
        "font-size": 6
       },
       "h3": {
        "color": "50f92c45-a630-455b-aec3-788680ec7410",
        "font-family": "Lato",
        "font-size": 5.5
       },
       "h4": {
        "color": "c5cc3653-2ee1-402a-aba2-7caae1da4f6c",
        "font-family": "Lato",
        "font-size": 5
       },
       "h5": {
        "font-family": "Lato"
       },
       "h6": {
        "font-family": "Lato"
       },
       "h7": {
        "font-family": "Lato"
       },
       "pre": {
        "font-family": "Anonymous Pro",
        "font-size": 4
       }
      },
      "text-base": {
       "font-family": "Merriweather",
       "font-size": 4
      }
     },
     "ff5182c9-9723-49cc-a495-5fdfeaf0f274": {
      "backgrounds": {
       "dc7afa04-bf90-40b1-82a5-726e3cff5267": {
        "background-color": "31af15d2-7e15-44c5-ab5e-e04b16a89eff",
        "id": "dc7afa04-bf90-40b1-82a5-726e3cff5267"
       }
      },
      "id": "ff5182c9-9723-49cc-a495-5fdfeaf0f274",
      "palette": {
       "19cc588f-0593-49c9-9f4b-e4d7cc113b1c": {
        "id": "19cc588f-0593-49c9-9f4b-e4d7cc113b1c",
        "rgb": [
         252,
         252,
         252
        ]
       },
       "31af15d2-7e15-44c5-ab5e-e04b16a89eff": {
        "id": "31af15d2-7e15-44c5-ab5e-e04b16a89eff",
        "rgb": [
         68,
         68,
         68
        ]
       },
       "50f92c45-a630-455b-aec3-788680ec7410": {
        "id": "50f92c45-a630-455b-aec3-788680ec7410",
        "rgb": [
         197,
         226,
         245
        ]
       },
       "c5cc3653-2ee1-402a-aba2-7caae1da4f6c": {
        "id": "c5cc3653-2ee1-402a-aba2-7caae1da4f6c",
        "rgb": [
         43,
         126,
         184
        ]
       },
       "efa7f048-9acb-414c-8b04-a26811511a21": {
        "id": "efa7f048-9acb-414c-8b04-a26811511a21",
        "rgb": [
         25.118061674008803,
         73.60176211453744,
         107.4819383259912
        ]
       }
      },
      "rules": {
       "a": {
        "color": "19cc588f-0593-49c9-9f4b-e4d7cc113b1c"
       },
       "blockquote": {
        "color": "50f92c45-a630-455b-aec3-788680ec7410",
        "font-size": 3
       },
       "code": {
        "font-family": "Anonymous Pro"
       },
       "h1": {
        "color": "19cc588f-0593-49c9-9f4b-e4d7cc113b1c",
        "font-family": "Merriweather",
        "font-size": 8
       },
       "h2": {
        "color": "19cc588f-0593-49c9-9f4b-e4d7cc113b1c",
        "font-family": "Merriweather",
        "font-size": 6
       },
       "h3": {
        "color": "50f92c45-a630-455b-aec3-788680ec7410",
        "font-family": "Lato",
        "font-size": 5.5
       },
       "h4": {
        "color": "c5cc3653-2ee1-402a-aba2-7caae1da4f6c",
        "font-family": "Lato",
        "font-size": 5
       },
       "h5": {
        "font-family": "Lato"
       },
       "h6": {
        "font-family": "Lato"
       },
       "h7": {
        "font-family": "Lato"
       },
       "li": {
        "color": "50f92c45-a630-455b-aec3-788680ec7410",
        "font-size": 3.25
       },
       "pre": {
        "font-family": "Anonymous Pro",
        "font-size": 4
       }
      },
      "text-base": {
       "color": "19cc588f-0593-49c9-9f4b-e4d7cc113b1c",
       "font-family": "Lato",
       "font-size": 4
      }
     }
    }
   }
  }
 },
 "nbformat": 4,
 "nbformat_minor": 1
}
