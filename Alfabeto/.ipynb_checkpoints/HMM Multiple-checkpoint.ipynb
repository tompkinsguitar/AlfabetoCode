{
 "cells": [
  {
   "cell_type": "code",
   "execution_count": 1,
   "metadata": {
    "collapsed": false
   },
   "outputs": [
    {
     "name": "stdout",
     "output_type": "stream",
     "text": [
      "ready!\n"
     ]
    }
   ],
   "source": [
    "import numpy as np\n",
    "from hmmlearn import hmm\n",
    "import alfabeto_data.dissertation_images as di\n",
    "import alfabeto_data.hmm_threading as ht\n",
    "from alfabeto_data.harmonic_function_data import ordered_numeral_list\n",
    "from alfabeto_sources.all_sources import *\n",
    "from alfabeto_sources import *\n",
    "from alfabeto_code.AlfabetoConverter import transposed_pc_chords_noMMD\n",
    "from Continuo.ContinuoConverter import figure_intervals_pc\n",
    "import csv, copy, time\n",
    "\n",
    "from sklearn.externals import joblib\n",
    "import networkx as nx\n",
    "from networkx.drawing.nx_agraph import write_dot, to_agraph\n",
    "from scipy.spatial.distance import euclidean, cdist"
   ]
  },
  {
   "cell_type": "code",
   "execution_count": null,
   "metadata": {
    "collapsed": true
   },
   "outputs": [],
   "source": [
    "def many_hmm(corpus_dict, mode, n_functions, crd_type):\n",
    "    total_estemit = []\n",
    "    corpus_names = []\n",
    "#     all_numerals = ['I', 'i', 'bII', 'bii', 'II', 'ii', 'bIII', 'biii', 'III', 'iii', 'IV', 'iv',\n",
    "#                     '#IV', '#iv', 'V', 'v', 'bVI', 'bvi', 'VI', 'vi', 'bVII', 'bvii', 'VII', 'vii']\n",
    "    all_numerals = ordered_numeral_list\n",
    "    for j, x in corpus_dict.items():\n",
    "        temp_emit = []\n",
    "        corpus_names.append(j)\n",
    "        X = '_'\n",
    "        if type(x) is tuple:\n",
    "            X = di.python_hmm_corpus(x, mode)\n",
    "        elif type(x) is list:\n",
    "            X = di.python_hmm(x, mode, crd_type)\n",
    "        K = n_functions\n",
    "        Y = hmm.MultinomialHMM(n_components=K, verbose=False,n_iter=500,tol=.001)\n",
    "        Y.n_features=len(X[2])\n",
    "        a = Y.fit(X[0], X[1])\n",
    "        ESTTR11 = a.transmat_\n",
    "        TOKEN_NAMES=X[2]\n",
    "        ESTEMIT11 = a.emissionprob_\n",
    "        \n",
    "        #trying to insert unused numerals...\n",
    "        ordered_emit = [] #T-S-D\n",
    "        numerals_in = [] #indices of numerals in the corpus\n",
    "        numerals_not = [] #indices of numerals not in the corpus\n",
    "        for numeral in all_numerals:\n",
    "            if numeral in TOKEN_NAMES:\n",
    "                numerals_in.append(all_numerals.index(numeral))\n",
    "            else:\n",
    "                numerals_not.append(all_numerals.index(numeral))\n",
    "        for n_nu in numerals_not:\n",
    "            ESTEMIT11 = np.insert(ESTEMIT11, n_nu, np.array([0 for numb in range(K)]), 1)\n",
    "        \n",
    "        \n",
    "        for r in range(len(all_numerals)):\n",
    "            if all_numerals[r] == 'I':\n",
    "                row = ESTEMIT11[:,r]\n",
    "                most = max(row)\n",
    "                for f in range(len(row)):\n",
    "                    if row[f] == most:\n",
    "                        temp_emit.append(ESTEMIT11[f])\n",
    "            if all_numerals[r] == 'IV':\n",
    "                row = ESTEMIT11[:,r]\n",
    "                most = max(row)\n",
    "                for f in range(len(row)):\n",
    "                    if row[f] == most:\n",
    "                        temp_emit.append(ESTEMIT11[f])\n",
    "            if all_numerals[r] == 'V':\n",
    "                row = ESTEMIT11[:,r]\n",
    "                most = max(row)\n",
    "                for f in range(len(row)):\n",
    "                    if row[f] == most:\n",
    "                        temp_emit.append(ESTEMIT11[f])\n",
    "        temp_emit_2 = []\n",
    "        for xx in temp_emit:\n",
    "            for yy in xx:\n",
    "                temp_emit_2.append(yy)\n",
    "        \n",
    "        total_estemit.append(temp_emit_2)\n",
    "\n",
    "\n",
    "#         print(len(total_estemit[0]))\n",
    "        print('done one')\n",
    "    return total_estemit, corpus_names"
   ]
  },
  {
   "cell_type": "code",
   "execution_count": null,
   "metadata": {
    "collapsed": false
   },
   "outputs": [],
   "source": [
    "kap_dict = {\n",
    "    'k1': [kapsperger.v1_continuo],\n",
    "    'k2': [kapsperger.v2_continuo],\n",
    "    'k3': [kapsperger.v3_continuo],\n",
    "    'k4': [kapsperger.v4_continuo],\n",
    "    'k5': [kapsperger.v5_continuo],\n",
    "    'k6': [kapsperger.v6_continuo],\n",
    "    'k7': [kapsperger.v7_continuo],\n",
    "    'm1': [milanuzzi.Milanuzzi_1622a],\n",
    "    'm2': [milanuzzi.Milanuzzi_1625],\n",
    "    'm3': [milanuzzi.Milanuzzi_1628],\n",
    "    'm4': [milanuzzi.Milanuzzi_1630],\n",
    "    'm5': [milanuzzi.Milanuzzi_1635]\n",
    "}\n",
    "\n",
    "chronological = \\\n",
    "    {\n",
    "        1610: [kapsperger.v1_continuo],\n",
    "        1612: [montesardo.Montesardo_1612],\n",
    "        1618: [giaccio.Giaccio_1618a, giaccio.Giaccio_1618b],\n",
    "        1619: [kapsperger.v2_continuo, kapsperger.v3_continuo, rontani.Rontani_1619],\n",
    "        1620: [landi.Landi_1620, rontani.Rontani_1620b],\n",
    "        1621: [dindia.DIndia_1621, stefani.Stefani_1621],\n",
    "        1622: [stefani.Stefani_1622, vitali.Vitali_1622, marini.Marini_1622, milanuzzi.Milanuzzi_1622a],\n",
    "        1623: [stefani.Stefani_1623, dindia.DIndia_1623, kapsperger.v4_continuo, ghizzolo.Ghizzolo_1623, rontani.Rontani_1623],\n",
    "        1625: [milanuzzi.Milanuzzi_1625],\n",
    "        1627: [obizzi.libro_primo_continuo],\n",
    "        1628: [milanuzzi.Milanuzzi_1628],\n",
    "        1630: [milanuzzi.Milanuzzi_1630, kapsperger.v5_continuo],\n",
    "        1632: [kapsperger.v6_continuo],\n",
    "        1635: [milanuzzi.Milanuzzi_1635],\n",
    "        1640: [kapsperger.v7_continuo],\n",
    "        1652: [sabbatini.Sabbatini_1652]\n",
    "    }\n",
    "\n",
    "by_composer = \\\n",
    "    {\n",
    "        'dindia': [dindia.DIndia_1621, dindia.DIndia_1623],\n",
    "        'ghizzolo': [ghizzolo.Ghizzolo_1623],\n",
    "        'giaccio': [giaccio.Giaccio_1618a, giaccio.Giaccio_1618b],\n",
    "        'kapsperger': [kapsperger.v1_continuo, kapsperger.v2_continuo, kapsperger.v3_continuo, kapsperger.v4_continuo,\n",
    "                       kapsperger.v5_continuo, kapsperger.v6_continuo, kapsperger.v7_continuo],\n",
    "        'landi': [landi.Landi_1620],\n",
    "        'marini': [marini.Marini_1622],\n",
    "        'milanuzzi': [milanuzzi.Milanuzzi_1622a, milanuzzi.Milanuzzi_1625, milanuzzi.Milanuzzi_1628,\n",
    "                      milanuzzi.Milanuzzi_1630, milanuzzi.Milanuzzi_1635],\n",
    "        'montesardo': [montesardo.Montesardo_1612],\n",
    "        'obizzi': [obizzi.libro_primo_continuo],\n",
    "        'rontani': [rontani.Rontani_1619, rontani.Rontani_1620b, rontani.Rontani_1623],\n",
    "        'sabbatini': [sabbatini.Sabbatini_1652],\n",
    "        'stefani': [stefani.Stefani_1621, stefani.Stefani_1622, stefani.Stefani_1623],\n",
    "        'vitali': [vitali.Vitali_1622],\n",
    "        'bach': di.bach_continuo,\n",
    "        'palestrina': di.palestrina_continuo\n",
    "    }"
   ]
  },
  {
   "cell_type": "code",
   "execution_count": null,
   "metadata": {
    "collapsed": false,
    "scrolled": true
   },
   "outputs": [],
   "source": [
    "all_major = []\n",
    "for x in di.tonal_major:\n",
    "    all_major.append(x)\n",
    "for x in di.modal_major:\n",
    "    all_major.append(x)\n",
    "    \n",
    "all_minor = []\n",
    "for x in di.tonal_minor:\n",
    "    all_minor.append(x)\n",
    "for x in di.modal_minor:\n",
    "    all_minor.append(x)\n",
    "\n",
    "a = many_hmm(by_composer, all_major, 3, 'continuo')"
   ]
  },
  {
   "cell_type": "code",
   "execution_count": null,
   "metadata": {
    "collapsed": true
   },
   "outputs": [],
   "source": [
    "def neato_maker(lists_tuple):\n",
    "    DIST = []\n",
    "    for x in lists_tuple[0]:\n",
    "        dist_temp = []\n",
    "        for y in lists_tuple[0]:\n",
    "            dist_temp.append(euclidean(x, y))\n",
    "        DIST.append(dist_temp)\n",
    "    return DIST, lists_tuple[1]"
   ]
  },
  {
   "cell_type": "code",
   "execution_count": null,
   "metadata": {
    "collapsed": false
   },
   "outputs": [],
   "source": [
    "neato_data = neato_maker(a)\n",
    "\n",
    "dt = [('len', float)]\n",
    "\n",
    "A = (np.array(neato_data[0])*10).view(dt)\n",
    "# # print(A)\n",
    "G = nx.from_numpy_matrix(A)\n",
    "relabeled_nodes = {}\n",
    "for x, y in zip(range(len(neato_data[0])), neato_data[1]):\n",
    "    relabeled_nodes[x] = y\n",
    "    # print(y[1:-1])\n",
    "G = nx.relabel_nodes(G, relabeled_nodes)\n",
    "\n",
    "G = to_agraph(G)\n",
    "\n",
    "G.node_attr.update(style='filled', fontsize=20)\n",
    "G.edge_attr.update(color='black', style='invis')\n",
    "#  ♭ ♮ ...for copy and paste\n",
    "\n",
    "G.draw('/home/daniel/Desktop/tryit.pdf', format='pdf', prog='neato')"
   ]
  },
  {
   "cell_type": "code",
   "execution_count": null,
   "metadata": {
    "collapsed": true
   },
   "outputs": [],
   "source": []
  },
  {
   "cell_type": "code",
   "execution_count": null,
   "metadata": {
    "collapsed": false
   },
   "outputs": [],
   "source": [
    "X = di.python_hmm(di.GetComposer.all_kaps[:-1], di.modal_major, 'continuo')\n",
    "Y = hmm.MultinomialHMM(n_components=3, verbose=False,n_iter=500,tol=.001)\n",
    "Y.n_features=len(X[2])\n",
    "a = Y.fit(X[0], X[1])"
   ]
  },
  {
   "cell_type": "code",
   "execution_count": null,
   "metadata": {
    "collapsed": false
   },
   "outputs": [],
   "source": [
    "kap_try = di.python_hmm(di.GetComposer.all_kaps, di.modal_major, 'continuo')\n",
    "c = a.decode(kap_try[0], lengths=kap_try[1], algorithm='viterbi')\n",
    "# a.decode([[0],[1],[2],[0]], algorithm='viterbi')"
   ]
  },
  {
   "cell_type": "code",
   "execution_count": null,
   "metadata": {
    "collapsed": false
   },
   "outputs": [],
   "source": [
    "kap_try[2]"
   ]
  },
  {
   "cell_type": "code",
   "execution_count": null,
   "metadata": {
    "collapsed": false,
    "scrolled": true
   },
   "outputs": [],
   "source": [
    "data_dict = {}\n",
    "kap_try = di.python_hmm(di.GetAll.all_alf[0:5], di.modal_major, 'continuo')\n",
    "X = di.python_hmm(di.GetAll.all_alf[5:], di.modal_major, 'continuo')\n",
    "for K in range(2, 7):\n",
    "    all_data = []\n",
    "    decode_data = []\n",
    "    decode_labels = []\n",
    "    for x in kap_try[0]:\n",
    "        main_label = X[2].index(kap_try[2][x[0]])\n",
    "        decode_data.append([main_label])\n",
    "        decode_labels.append(X[2][main_label])\n",
    "    for x in range(20):\n",
    "        temp_data = []  \n",
    "        Y = hmm.MultinomialHMM(n_components=K, verbose=False, n_iter=500, tol=.01)\n",
    "        Y.n_features=len(X[2])\n",
    "        a = Y.fit(X[0], X[1])\n",
    "        c = a.decode(decode_data, lengths=kap_try[1], algorithm='viterbi')\n",
    "#         print('done decoding')\n",
    "        for xx in c[1]:\n",
    "            temp_data.append(xx)        \n",
    "        all_data.append(temp_data)\n",
    "#     print('numpying')\n",
    "    numpied = np.swapaxes(np.array(all_data), 0, 1)\n",
    "    DIST = []\n",
    "    for F in numpied:\n",
    "        dist = []\n",
    "        for FF in numpied:\n",
    "            dist_numb = 0\n",
    "            for f, ff in zip (F, FF):\n",
    "                if f != ff:\n",
    "                    dist_numb += 1\n",
    "            dist.append(dist_numb**2)\n",
    "        DIST.append(dist)\n",
    "    data_dict[K] = di.k_means_simple(DIST, K, decode_labels)\n",
    "    print(K, '-->', data_dict[K])"
   ]
  },
  {
   "cell_type": "code",
   "execution_count": null,
   "metadata": {
    "collapsed": false
   },
   "outputs": [],
   "source": [
    "data_dict_bach = {}\n",
    "for K in range(2, 9):\n",
    "    all_data = []\n",
    "    decode_data = []\n",
    "    decode_labels = []\n",
    "    kap_try = di.python_hmm_corpus((di.bach_continuo[0][0:50],di.bach_continuo[1][0:50]), di.tonal_major)\n",
    "    X = di.python_hmm_corpus((di.bach_continuo[0][50:],di.bach_continuo[1][50:]), di.tonal_major)\n",
    "    for x in kap_try[0]:\n",
    "        main_label = X[2].index(kap_try[2][x[0]])\n",
    "        decode_data.append([main_label])\n",
    "        decode_labels.append(X[2][main_label])\n",
    "    for x in range(20):\n",
    "        temp_data = []  \n",
    "        Y = hmm.MultinomialHMM(n_components=K, verbose=False,n_iter=500,tol=.001)\n",
    "        Y.n_features=len(X[2])\n",
    "        a = Y.fit(X[0], X[1])\n",
    "        c = a.decode(decode_data, lengths=kap_try[1], algorithm='viterbi')\n",
    "\n",
    "        for xx in c[1]:\n",
    "            temp_data.append(xx)        \n",
    "        all_data.append(temp_data)\n",
    "    numpied = np.swapaxes(np.array(all_data), 0, 1)\n",
    "    DIST = []\n",
    "    for F in numpied:\n",
    "        dist = []\n",
    "        for FF in numpied:\n",
    "            dist_numb = 0\n",
    "            for f, ff in zip (F, FF):\n",
    "                if f != ff:\n",
    "                    dist_numb += 1\n",
    "            dist.append(dist_numb**2)\n",
    "        DIST.append(dist)\n",
    "#     print(DIST)\n",
    "    data_dict_bach[K] = di.k_means_simple(DIST, K, decode_labels)\n",
    "    print(K, '-->', data_dict_bach[K])"
   ]
  },
  {
   "cell_type": "code",
   "execution_count": null,
   "metadata": {
    "collapsed": false
   },
   "outputs": [],
   "source": [
    "DIST = []\n",
    "for x in numpied:\n",
    "    dist = []\n",
    "    for y in numpied:\n",
    "        dist.append(euclidean(x, y))\n",
    "    DIST.append(dist)"
   ]
  },
  {
   "cell_type": "code",
   "execution_count": null,
   "metadata": {
    "collapsed": false
   },
   "outputs": [],
   "source": [
    "data_dict = {}\n",
    "X = di.python_hmm_corpus(di.bach_continuo, di.tonal_major)\n",
    "test_portion = int(len(X[1])/5)\n",
    "tester = (X[0][0:test_portion], X[1][0:test_portion])\n",
    "\n",
    "        c = a.decode(decode_data, lengths=kap_try[1], algorithm='viterbi')\n",
    "#         print('done decoding')\n",
    "        for xx in c[1]:\n",
    "            temp_data.append(xx)        \n",
    "        all_data.append(temp_data)\n",
    "#     print('numpying')\n",
    "    numpied = np.swapaxes(np.array(all_data), 0, 1)\n",
    "    DIST = []\n",
    "    for F in numpied:\n",
    "        dist = []\n",
    "        for FF in numpied:\n",
    "            dist_numb = 0\n",
    "            for f, ff in zip (F, FF):\n",
    "                if f != ff:\n",
    "                    dist_numb += 1\n",
    "            dist.append(dist_numb**2)\n",
    "        DIST.append(dist)\n",
    "    data_dict[K] = di.k_means_simple(DIST, K, decode_labels)\n",
    "    print(K, '-->', data_dict[K])"
   ]
  },
  {
   "cell_type": "code",
   "execution_count": null,
   "metadata": {
    "collapsed": false
   },
   "outputs": [],
   "source": [
    "kmeans_labels = []\n",
    "for x in decode_labels:\n",
    "    kmeans_labels.append(str('$'+x+'$'))"
   ]
  },
  {
   "cell_type": "code",
   "execution_count": null,
   "metadata": {
    "collapsed": false
   },
   "outputs": [],
   "source": [
    "import time"
   ]
  },
  {
   "cell_type": "code",
   "execution_count": 3,
   "metadata": {
    "collapsed": false
   },
   "outputs": [
    {
     "name": "stdout",
     "output_type": "stream",
     "text": [
      "2120\n",
      "(2120, 20)\n",
      "DIST 2 0.17856407165527344\n",
      "n_digits: 2, \t n_samples 2120, \t n_features 2120\n",
      "_______________________________________________________________________________\n",
      "init        time     inertia  homo     compl   v-meas  ARI  AMI   silhouette\n",
      "k-means++   2.62s    33415   0.263   0.931   0.410   0.233   0.261    0.873\n",
      "   random   2.71s    33415   0.263   0.931   0.410   0.233   0.261    0.873\n",
      "PCA-based   0.90s    33415   0.263   0.931   0.410   0.233   0.261    0.873\n",
      "_______________________________________________________________________________\n",
      "kmeans took 168.45694518089294\n",
      "2120\n",
      "(2120, 20)\n",
      "DIST 3 0.2180795669555664\n",
      "n_digits: 3, \t n_samples 2120, \t n_features 2120\n",
      "_______________________________________________________________________________\n",
      "init        time     inertia  homo     compl   v-meas  ARI  AMI   silhouette\n",
      "k-means++   3.01s    2462   0.383   0.838   0.526   0.409   0.380    0.981\n",
      "   random   2.75s    2462   0.383   0.838   0.526   0.409   0.380    0.981\n",
      "PCA-based   1.11s    2462   0.383   0.838   0.526   0.409   0.380    0.981\n",
      "_______________________________________________________________________________\n",
      "kmeans took 236.36192560195923\n",
      "2120\n",
      "(2120, 20)\n",
      "DIST 5 0.21534371376037598\n",
      "n_digits: 5, \t n_samples 2120, \t n_features 2120\n",
      "_______________________________________________________________________________\n",
      "init        time     inertia  homo     compl   v-meas  ARI  AMI   silhouette\n",
      "k-means++   3.77s    35765   0.526   0.846   0.649   0.567   0.521    0.742\n",
      "   random   4.38s    35765   0.526   0.846   0.649   0.567   0.521    0.742\n",
      "PCA-based   1.44s    36939   0.497   0.781   0.607   0.532   0.492    0.712\n",
      "_______________________________________________________________________________\n",
      "kmeans took 51.292813777923584\n",
      "2120\n",
      "(2120, 20)\n",
      "DIST 6 0.20904898643493652\n",
      "n_digits: 6, \t n_samples 2120, \t n_features 2120\n",
      "_______________________________________________________________________________\n",
      "init        time     inertia  homo     compl   v-meas  ARI  AMI   silhouette\n",
      "k-means++   4.81s    31633   0.537   0.747   0.625   0.584   0.531    0.672\n",
      "   random   4.72s    31632   0.537   0.747   0.625   0.584   0.532    0.672\n",
      "PCA-based   1.51s    33799   0.537   0.783   0.637   0.582   0.531    0.690\n",
      "_______________________________________________________________________________\n",
      "kmeans took 54.77500605583191\n",
      "2120\n",
      "(2120, 20)\n",
      "DIST 11 0.20888519287109375\n",
      "n_digits: 11, \t n_samples 2120, \t n_features 2120\n",
      "_______________________________________________________________________________\n",
      "init        time     inertia  homo     compl   v-meas  ARI  AMI   silhouette\n",
      "k-means++   5.96s    11486   0.846   0.897   0.871   0.860   0.842    0.798\n",
      "   random   5.65s    17243   0.835   0.893   0.863   0.850   0.831    0.750\n",
      "PCA-based   1.91s    45390   0.713   0.879   0.787   0.692   0.707    0.595\n",
      "_______________________________________________________________________________\n",
      "kmeans took 54.95981764793396\n",
      "2120\n",
      "(2120, 20)\n",
      "DIST 15 0.22093868255615234\n",
      "n_digits: 15, \t n_samples 2120, \t n_features 2120\n",
      "_______________________________________________________________________________\n",
      "init        time     inertia  homo     compl   v-meas  ARI  AMI   silhouette\n",
      "k-means++   6.03s    10944   0.863   0.793   0.827   0.673   0.787    0.715\n",
      "   random   5.28s    12017   0.841   0.767   0.803   0.635   0.760    0.692\n",
      "PCA-based   2.48s    29725   0.783   0.755   0.769   0.583   0.748    0.562\n",
      "_______________________________________________________________________________\n",
      "kmeans took 57.17045760154724\n"
     ]
    }
   ],
   "source": [
    "flipped_data = {}\n",
    "corpus = 'alfabeto_continuo'\n",
    "K_range = 3\n",
    "KK = [2, 3, 5, 6, 11, 15]\n",
    "# for K in range(2, K_range+1):\n",
    "for K in KK:\n",
    "    all_data = []\n",
    "    all_labels = []\n",
    "    l_number = joblib.load('/home/daniel/Desktop/hmm/%s/major/%s/0.pkl' % (corpus, K))['test'][0]\n",
    "    print(len(l_number))\n",
    "    l_numeral = joblib.load('/home/daniel/Desktop/hmm/%s/major/%s/0.pkl' % (corpus, K))['train'][2]\n",
    "    for l in l_number:\n",
    "        all_labels.append(l_numeral[l[0]])\n",
    "    for x in range(20):\n",
    "        temp_data = []  \n",
    "        c = joblib.load('/home/daniel/Desktop/hmm/%s/major/%s/%s.pkl' % (corpus, K, x))['decode']\n",
    "#         print('decoded')\n",
    "        for xx in c[1]:\n",
    "            temp_data.append(xx)        \n",
    "        all_data.append(temp_data)\n",
    "#     print(all_labels)\n",
    "    numpied = np.swapaxes(np.array(all_data), 0, 1)\n",
    "    print(numpied.shape)\n",
    "    DIST = []\n",
    "    st = time.time()\n",
    "    DIST = cdist(numpied, numpied, 'hamming')\n",
    "#     for F in numpied:\n",
    "# #         DIST.append([(F != FF).sum()**2 for FF in numpied])#slower...\n",
    "#         dist = []\n",
    "#         for FF in numpied:\n",
    "#             dist_numb = 0\n",
    "#             for f, ff in zip (F, FF):\n",
    "#                 if f != ff:\n",
    "#                     dist_numb += 1\n",
    "#             dist.append(dist_numb**2)\n",
    "#         DIST.append(dist)\n",
    "#     print(DIST)\n",
    "    print('DIST', K, time.time()-st)\n",
    "#     flipped_data.append(DIST)\n",
    "    st2 = time.time()\n",
    "#     flipped_data[K] = di.k_means_simple(DIST, K, all_labels)\n",
    "    print_labels = ['$'+x+'$' for x in all_labels]\n",
    "    di.k_means_data(DIST, K, print_labels, '/home/daniel/Desktop/hmmkmeans/%s_%s.pdf' % (corpus, K))\n",
    "    print('kmeans took', time.time()-st2)\n",
    "#     print(K, '-->', flipped_data[K])"
   ]
  },
  {
   "cell_type": "code",
   "execution_count": 32,
   "metadata": {
    "collapsed": false
   },
   "outputs": [],
   "source": [
    "a = joblib.load('/home/daniel/Desktop/hmm/alfabeto_continuo/major/15/11.pkl')"
   ]
  },
  {
   "cell_type": "code",
   "execution_count": 33,
   "metadata": {
    "collapsed": false
   },
   "outputs": [
    {
     "name": "stdout",
     "output_type": "stream",
     "text": [
      "0 I6 0.489718354056\n",
      "2 I 0.641372385137\n",
      "3 I 0.96372161594\n",
      "4 I6 0.645376130259\n",
      "5 VI 0.839881688722\n",
      "6 IV 0.946491562147\n",
      "7 vi 0.652955845347\n",
      "8 V 0.834353851561\n",
      "9 bVII 0.81572444353\n",
      "10 IV 0.945896298153\n",
      "11 ii 0.968595369139\n",
      "12 V6 0.742299995293\n",
      "13 II 0.921357647531\n",
      "14 V 0.968801127569\n"
     ]
    }
   ],
   "source": [
    "for i in range(15):\n",
    "    for w, x in zip(a['train'][2], a['fit'].emissionprob_[i]):\n",
    "        if x >= .4:\n",
    "            print(i, w, x)"
   ]
  },
  {
   "cell_type": "code",
   "execution_count": 7,
   "metadata": {
    "collapsed": false
   },
   "outputs": [
    {
     "data": {
      "text/plain": [
       "dict_keys(['total_chords', 'decode', 'fit', 'test', 'train'])"
      ]
     },
     "execution_count": 7,
     "metadata": {},
     "output_type": "execute_result"
    }
   ],
   "source": [
    "a.keys()"
   ]
  },
  {
   "cell_type": "code",
   "execution_count": 12,
   "metadata": {
    "collapsed": false
   },
   "outputs": [
    {
     "data": {
      "text/plain": [
       "['I',\n",
       " 'i',\n",
       " 'I6',\n",
       " 'i6',\n",
       " 'I64',\n",
       " 'i64',\n",
       " 'II',\n",
       " 'ii',\n",
       " 'ii6',\n",
       " 'bIII',\n",
       " 'III',\n",
       " 'iii',\n",
       " 'iii6',\n",
       " 'IV',\n",
       " 'IV6',\n",
       " 'iv',\n",
       " '#iv',\n",
       " 'V',\n",
       " 'V6',\n",
       " 'v',\n",
       " 'bVI',\n",
       " 'VI',\n",
       " 'vi',\n",
       " 'vi6',\n",
       " 'bVII',\n",
       " 'bVII6',\n",
       " 'VII',\n",
       " 'vii']"
      ]
     },
     "execution_count": 12,
     "metadata": {},
     "output_type": "execute_result"
    }
   ],
   "source": [
    "a['train'][2]"
   ]
  },
  {
   "cell_type": "code",
   "execution_count": null,
   "metadata": {
    "collapsed": true
   },
   "outputs": [],
   "source": [
    "import numpy as np\n",
    "from scipy.spatial.distance import cdist"
   ]
  },
  {
   "cell_type": "code",
   "execution_count": null,
   "metadata": {
    "collapsed": false
   },
   "outputs": [],
   "source": [
    "x = np.array([0, 1, 2, 3])\n",
    "y = np.array([0, 0, 2, 3])"
   ]
  },
  {
   "cell_type": "code",
   "execution_count": null,
   "metadata": {
    "collapsed": false
   },
   "outputs": [],
   "source": [
    "hamming(x, y)"
   ]
  },
  {
   "cell_type": "code",
   "execution_count": null,
   "metadata": {
    "collapsed": false
   },
   "outputs": [],
   "source": [
    "cdist(x, y, 'hamming')"
   ]
  },
  {
   "cell_type": "code",
   "execution_count": null,
   "metadata": {
    "collapsed": false
   },
   "outputs": [],
   "source": [
    "neato_data = cdist(nthing, nthing, 'euclidean')*100\n",
    "\n",
    "dt = [('len', float)]\n",
    "\n",
    "A = neato_data.view(dt)\n",
    "# # print(A)\n",
    "G = nx.from_numpy_matrix(A)\n",
    "relabeled_nodes = {}\n",
    "for x, y in zip(range(len(neato_data[0])), neatolabels):\n",
    "    relabeled_nodes[x] = y\n",
    "    # print(y[1:-1])\n",
    "G = nx.relabel_nodes(G, relabeled_nodes)\n",
    "\n",
    "G = to_agraph(G)\n",
    "\n",
    "G.node_attr.update(style='filled', fontsize=20)\n",
    "G.edge_attr.update(color='black', style='invis')\n",
    "#  ♭ ♮ ...for copy and paste\n",
    "\n",
    "G.draw('/home/daniel/Desktop/tryit.pdf', format='pdf', prog='neato')"
   ]
  },
  {
   "cell_type": "code",
   "execution_count": null,
   "metadata": {
    "collapsed": false
   },
   "outputs": [],
   "source": [
    "\n",
    "a2 = cdist(nthing, nthing, 'euclidean')*100"
   ]
  },
  {
   "cell_type": "code",
   "execution_count": null,
   "metadata": {
    "collapsed": false
   },
   "outputs": [],
   "source": [
    "nthing = np.swapaxes(np.array(neatothing), 0, 1)"
   ]
  },
  {
   "cell_type": "code",
   "execution_count": null,
   "metadata": {
    "collapsed": false
   },
   "outputs": [],
   "source": [
    "neatothing"
   ]
  },
  {
   "cell_type": "code",
   "execution_count": null,
   "metadata": {
    "collapsed": false
   },
   "outputs": [],
   "source": [
    "for x in neatothing:\n",
    "    print(sum(x))"
   ]
  },
  {
   "cell_type": "code",
   "execution_count": null,
   "metadata": {
    "collapsed": true
   },
   "outputs": [],
   "source": [
    "trn = copy.deepcopy(ESTTR11).conj().transpose()\n",
    "(D,V) = copy.deepcopy(np.linalg.eig(trn))\n",
    "item=max(D)\n",
    "idx = 0\n",
    "for x, y in zip(D, range(len(D))):\n",
    "    if x == item:\n",
    "        idx = y\n",
    "f_marginal=abs(V[:,idx])/sum(abs(V[:,idx]))\n",
    "#whew!\n",
    "\n",
    "#compute P(F|C)\n",
    "k = []\n",
    "for x in ESTEMIT11:\n",
    "    k.append(np.zeros(np.size(x)))\n",
    "PFC = np.array(k)\n",
    "for jj in range(1,len(ESTEMIT11[0])+1):\n",
    "    for ii in range(1,len(ESTEMIT11[:,0])+1):\n",
    "        PFC[ii-1][jj-1]=ESTEMIT11[ii-1][jj-1]*f_marginal[ii-1]/jj\n",
    "    PFC[:,jj-1]=PFC[:,jj-1]/sum(PFC[:,jj-1])\n",
    "    b = PFC[:,jj-1]\n",
    "    a = sum(PFC[:,jj-1])\n",
    "\n"
   ]
  }
 ],
 "metadata": {
  "anaconda-cloud": {},
  "kernelspec": {
   "display_name": "Python [Root]",
   "language": "python",
   "name": "Python [Root]"
  },
  "language_info": {
   "codemirror_mode": {
    "name": "ipython",
    "version": 3
   },
   "file_extension": ".py",
   "mimetype": "text/x-python",
   "name": "python",
   "nbconvert_exporter": "python",
   "pygments_lexer": "ipython3",
   "version": "3.5.2"
  }
 },
 "nbformat": 4,
 "nbformat_minor": 0
}
