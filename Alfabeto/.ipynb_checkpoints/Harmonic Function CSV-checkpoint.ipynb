{
 "cells": [
  {
   "cell_type": "code",
   "execution_count": 1,
   "metadata": {
    "collapsed": false
   },
   "outputs": [],
   "source": [
    "from alfabeto_sources.all_sources import *\n",
    "from alfabeto_code.AlfabetoConverter import transposed_pc_chords_noMMD\n",
    "import numpy as np\n",
    "import matplotlib.pyplot as plt\n",
    "import networkx as nx\n",
    "from networkx.drawing.nx_agraph import write_dot\n",
    "from decimal import Decimal\n",
    "\n",
    "import csv, pickle"
   ]
  },
  {
   "cell_type": "code",
   "execution_count": 2,
   "metadata": {
    "collapsed": false
   },
   "outputs": [],
   "source": [
    "minor3 = {'T': ('bIII', 'I', 'v'), 'D': ('bVII', 'V', 'ii'),\n",
    "          'S': ('i', 'IV', 'iv', 'bVI', 'II')}\n",
    "minor4 = {0: ('IV', 'iv', 'II'), 1: ('bVII', 'V', 'ii'), \n",
    "          2: ('bIII', 'I', 'v'), 3: ('i', 'bVI')}\n",
    "minor5 = {'bVII, ii': ('bVII', 'ii'), 'IV, iv, II': ('IV', 'iv', 'II'), 'V': ('V'), \n",
    "          'i, bVI': ('i', 'bVI'), 'bIII, I, v': ('bIII', 'I', 'v')}\n",
    "minor6 = {'V': ('V'), 'IV, iv, II': ('IV',  'iv', 'II'), 'i, ♭VI': ('i', 'bVI'), '♭III': ('bIII'), \n",
    "          '♭VII, ii': ('bVII', 'ii'), 'I, v': ('I', 'v')}\n",
    "\n",
    "major3 = {'S': ('IV', 'vi', 'II'), 'D': ('V', 'ii', 'bVII', 'v', 'III'), 'T': ('I', 'VI', 'iii', 'i')}\n",
    "major4 = {'D': ('V'), 'S': ('IV', 'vi', 'II'), 'T': ('I', 'VI', 'iii', 'i'), 'S\\'': ('ii', 'bVII', 'v', 'III')}\n",
    "major5 = {'IV, vi, II': ('IV', 'vi', 'II'), 'I, VI, iii, i': ('I', 'VI', 'iii', 'i'), \n",
    "          'V': ('V'), 'v, III': ('v', 'III'), 'ii, bVII': ('ii', 'bVII')}\n",
    "major6 = {'VI, i': ('VI', 'i'), 'I, iii': ('I', 'iii'), 'IV, vi, II': ('IV', 'vi', 'II'), \n",
    "          'v, III': ('v', 'III'), 'V': ('V'), 'ii, ♭VII': ('ii', 'bVII')}\n",
    "\n",
    "f5_3 = {'T': ('I', 'iii', 'VI', 'v'), 'S': ('IV', 'ii', 'vi', 'II'), 'D': ('I', 'iii', 'VI')}\n",
    "f5_6 = {'V, bVII, vii': ('V', 'bVII', 'vii'), \n",
    "        'vi': ('vi'), 'IV, II': ('IV', 'II'), 'ii': ('ii'), 'v, III': ('v', 'III'), 'I, iii, VI': ('I', 'iii', 'VI')}\n",
    "\n",
    "n7_3 = {'D': ('V', 'ii', 'bVII', 'v'), 'S': ('IV', 'II', 'vi'), 'T': ('I', 'VI', 'i', 'bIII')}\n",
    "n7_6 = {'VI, i': ('VI', 'i'), 'V': ('V'), 'v, bIII': ('v', 'bIII'), 'I': ('I'), 'ii, bVII': ('ii', 'bVII'), \n",
    "        'IV, II, vi': ('IV', 'II', 'vi')}\n",
    "\n",
    "bach_major3 = {'T' : [[0,4,7], [0,4,7,9], [0,4,7,11], [4,7,11], [2,4,7,11], [0,4,7,10], [4,8,11]], \n",
    "               'D' : [[2,7,11], [2,5,7,11], [2,5,11], [0,2,4,7], [0,2,5,7], [2,5,9,11]], \n",
    "               'S' : [[0,5,9], [0,4,9], [0,2,5,9], [2,5,9], [0,4,5,9], [0,2,6,9], [0,2,7], [0,4,5,7], [0,2,5], [2,6,9]]}\n",
    "\n",
    "bach_major6 = {'IV, ii7, ii, IV7, C-D-F' : ([0,5,9], [0,2,5,9], [2,5,9], [0,4,5,9], [0,2,5]),\n",
    "               'V, V7, viio, C-D-E-G, C-D-F-G, viio7' : ([2,7,11], [2,5,7,11], [2,5,11], \n",
    "                                                         [0,2,4,7], [0,2,5,7], [2,5,9,11]),\n",
    "               'I': [[0,4,7]], \n",
    "               'II7, C-D-G, C-E-F-G, II' : ([0,2,6,9], [0,2,7], [0,4,5,7], [2,6,9]), \n",
    "               'vi, vi7' : ([0,4,9], [0,4,7,9]),\n",
    "               'I7, iii, iii7, Ib7, III' : ([0,4,7,11], [4,7,11], [2,4,7,11], [0,4,7,10], [4,8,11])\n",
    "               }\n",
    "palestrina_major6 = {'D-G-A' : [[2,7,9]], 'IV, viio, C-E-F-G' : [[0,5,9], [2,5,11], [0,4,5,7]],\n",
    "                     'ii, vi, bVII, iii, C-D-F, ii7, V7' : [[2,5,9], [0,4,9], [2,5,10], [4,7,11], \n",
    "                                                            [0,2,5], [0,2,5,9], [2,5,7,11]], \n",
    "                     'C-D-G, II' : [[0,2,7], [2,6,9]], 'I, C-G-A' : [[0,4,7], [0,7,9]], \n",
    "                     'V, v, C-F-G, C-D-E-G' : [[2,7,11], [2,7,10], [0,5,7], [0,2,4,7]]\n",
    "                     }"
   ]
  },
  {
   "cell_type": "code",
   "execution_count": 3,
   "metadata": {
    "collapsed": false
   },
   "outputs": [],
   "source": [
    "def bigram_numbers_alfabeto(corpus, modes):\n",
    "    X = []\n",
    "    csv_data = []\n",
    "    for book in corpus:\n",
    "        for song in book.values():\n",
    "    #         print(song['alfabeto'])\n",
    "            attempt_mode = (song['data']['key'], song['data']['final'])\n",
    "            if modes == 'all':\n",
    "                X.append(transposed_pc_chords_noMMD(song['alfabeto'], 'all'))\n",
    "            elif attempt_mode in modes:\n",
    "                X.append(transposed_pc_chords_noMMD(song['alfabeto'], 'all'))\n",
    "    numerals = ['I', 'i', 'bII', 'bii', 'II', 'ii',\n",
    "            'bIII', 'biii', 'III', 'iii', 'IV', 'iv',\n",
    "            '#IV', '#iv', 'V', 'v', 'bVI', 'bvi',\n",
    "            'VI', 'vi', 'bVII', 'bvii', 'VII', 'vii']\n",
    "    numeral_data = {}\n",
    "    final_numerals = []\n",
    "    total_chords = 0\n",
    "    for x in numerals:\n",
    "        numeral_data[x] = 0\n",
    "    for x in X:\n",
    "        for y in x:\n",
    "            numeral_data[y] += 1\n",
    "            total_chords += 1\n",
    "    for x in numerals:\n",
    "        if numeral_data[x] >= .01*total_chords:\n",
    "            final_numerals.append(x)\n",
    "    after_labels = [' ']\n",
    "    for x in final_numerals:\n",
    "        after_labels.append(x)\n",
    "    csv_data.append(after_labels)\n",
    "    for numeral in final_numerals:\n",
    "        csv_temp = []\n",
    "        csv_temp.append(numeral)\n",
    "        numeral_after_dict = {}\n",
    "        total_numbers_after = 0\n",
    "        for x in numerals:\n",
    "            numeral_after_dict[x] = 0\n",
    "        for x in X:\n",
    "            for y in range(1, len(x)):\n",
    "                if x[y-1] == numeral:\n",
    "                    numeral_after_dict[x[y]] += 1\n",
    "                    total_chords += 1\n",
    "        numeral_after = []\n",
    "        for x in final_numerals:\n",
    "            csv_temp.append(numeral_after_dict[x])\n",
    "        csv_data.append(csv_temp)    \n",
    "\n",
    "    print(total_chords)\n",
    "    return csv_data\n",
    "\n",
    "def bigram_numbers_corpus(corpus_data_tuples, modes): #chord/key data into csv-ready functions\n",
    "    csv_data = []\n",
    "    all_keys = []\n",
    "    X = []\n",
    "    for x, y in zip(corpus_data_tuples[0], corpus_data_tuples[1]):\n",
    "        if modes == 'all':\n",
    "            temp_list = []\n",
    "            for z in x:\n",
    "                temp_list.append('_'.join(map(str, z)))\n",
    "            X.append(temp_list)\n",
    "            print(temp_list)\n",
    "            all_keys.append(y)\n",
    "        elif y in modes:\n",
    "            temp_list = []\n",
    "            for z in x:\n",
    "                temp_list.append('_'.join(map(str, z)))\n",
    "            X.append(temp_list)\n",
    "#             print(temp_list)\n",
    "            all_keys.append(y)\n",
    "    all_chords = {}\n",
    "    all_chord_numbers = 0\n",
    "    for x in X:\n",
    "        for y in x:\n",
    "            all_chord_numbers += 1\n",
    "    for x in X:\n",
    "        for y in x:\n",
    "            if str(y) not in all_chords.keys():\n",
    "                all_chords[str(y)] = 1\n",
    "            else:\n",
    "                all_chords[str(y)] += 1\n",
    "    all_chords_final = []\n",
    "    for x, y in all_chords.items():\n",
    "        if y/all_chord_numbers >= .01:\n",
    "            all_chords_final.append(x)\n",
    "    \n",
    "    csv_data = []\n",
    "    after_labels = [' ']\n",
    "    for x in all_chords_final:\n",
    "        after_labels.append(x)\n",
    "    csv_data.append(after_labels)\n",
    "    total_chords = 0\n",
    "    for numeral in all_chords_final:\n",
    "        csv_temp = []\n",
    "        csv_temp.append(numeral)\n",
    "        numeral_after_dict = {}\n",
    "        total_numbers_after = 0\n",
    "        for x in all_chords_final:\n",
    "            numeral_after_dict[x] = 0\n",
    "        for x in X:\n",
    "            for y in range(1, len(x)):\n",
    "                if str(x[y-1]) == numeral and str(x[y]) in all_chords_final and str(x[y-1]) != str(x[y]):\n",
    "                    numeral_after_dict[str(x[y])] += 1\n",
    "                    total_chords += 1\n",
    "        numeral_after = []\n",
    "        for x in all_chords_final:\n",
    "            csv_temp.append(numeral_after_dict[x])\n",
    "        csv_data.append(csv_temp)    \n",
    "\n",
    "    print(total_chords)\n",
    "    return csv_data"
   ]
  },
  {
   "cell_type": "code",
   "execution_count": 4,
   "metadata": {
    "collapsed": true
   },
   "outputs": [],
   "source": [
    "def song_chords(chordified_song): #converts chordify/key data into chord/key data\n",
    "    chord_data = []\n",
    "    final_data = []\n",
    "    for x in chordified_song:\n",
    "        bass_note = chordified_song[-1].bass().pitchClass\n",
    "        chord_data.append(sorted(set([(y.pitchClass - bass_note)%12 for y in x])))\n",
    "    for x in range(1, len(chord_data)):\n",
    "        if chord_data[x-1] != chord_data[x]:\n",
    "            if set(chord_data[x-1]).issubset(chord_data[x]):\n",
    "                if len(final_data) > 0 and final_data[-1] == chord_data[x-1]:\n",
    "                    final_data[-1] == chord_data[x]\n",
    "                elif len(chord_data[x]) >= 3:\n",
    "                    final_data.append(chord_data[x])\n",
    "            elif len(chord_data[x-1]) >= 3:\n",
    "                if len(final_data) > 0 and chord_data[x-1] != final_data[-1]:\n",
    "                    final_data.append(chord_data[x-1])\n",
    "            elif set(chord_data[x-1]).issuperset(chord_data[x]) is False and len(chord_data[x]) >= 3:\n",
    "                final_data.append(chord_data[x])\n",
    "    return final_data\n",
    "\n",
    "major = [('f', 5), ('n', 0), ('f', 0), ('n', 7), ('f', 10), ('n', 5), \n",
    "         (-1, 5), (0, 0), (-1, 0), (0, 7), (-1, 10), (0, 5) ]\n",
    "minor= [('n', 2), ('n', 9), ('f', 2), ('f', 7), ('n', 4)]\n",
    "# be = bigram_numbers(GetAll.all_alf, 'all')\n",
    "tonal_major = {(0,0): 'CM', (1, 7): 'GM',(2, 2): 'DM', (3, 9): 'AM', (4, 4): 'EM', (5, 11): 'BM', (6, 6): 'F♯M',\n",
    "               (-1,5): 'FM', (-2,10): 'B♭M', (-3,3): 'E♭M', (-4,8): 'A♭M', (-5,1): 'D♭M', (-6,6): 'G♭M'}\n",
    "tonal_minor = {(0,9): 'am', (1, 4): 'em', (2, 11): 'bm', (3, 6): 'f♯m', (4, 1): 'c♯m', (5, 8): 'g♯m', (6, 3): 'd♯m', \n",
    "               (-1,2): 'dm', (-2,7): 'gm', (-3,0): 'cm', (-4,5): 'fm', (-5,10): 'b♭m', (-6,3): 'e♭m'}\n",
    "bach_major = [x for x in tonal_major.keys()]"
   ]
  },
  {
   "cell_type": "code",
   "execution_count": 5,
   "metadata": {
    "collapsed": false,
    "scrolled": true
   },
   "outputs": [],
   "source": [
    "# bach_chords_pickle_in = open(\"pickles/bach_chords.pickle\", \"rb\")\n",
    "# bach_chords_data = pickle.load(bach_chords_pickle_in)\n",
    "# bach_chords_pickle_in.close()\n",
    "\n",
    "palestrina_chords_pickle_in = open(\"pickles/palestrina_chords_data.pickle\", \"rb\")\n",
    "palestrina_chords_data = pickle.load(palestrina_chords_pickle_in)\n",
    "palestrina_chords_pickle_in.close()\n",
    "\n",
    "\n"
   ]
  },
  {
   "cell_type": "code",
   "execution_count": null,
   "metadata": {
    "collapsed": false
   },
   "outputs": [],
   "source": [
    "# all_data = []\n",
    "# for x in palestrina_chords_data[0]:\n",
    "#     all_data.append(song_chords(x))\n",
    "\n",
    "# final_data = (all_data, palestrina_chords_data[1])\n",
    "# palestrina_csv = bigram_numbers_corpus(final_data, major)\n",
    "\n",
    "alfabeto_csv = bigram_numbers_alfabeto([GetComposer.all_kaps[6]], major)"
   ]
  },
  {
   "cell_type": "code",
   "execution_count": null,
   "metadata": {
    "collapsed": false
   },
   "outputs": [],
   "source": []
  },
  {
   "cell_type": "code",
   "execution_count": null,
   "metadata": {
    "collapsed": false
   },
   "outputs": [],
   "source": [
    "CSV_DATA = alfabeto_csv"
   ]
  },
  {
   "cell_type": "code",
   "execution_count": null,
   "metadata": {
    "collapsed": false
   },
   "outputs": [],
   "source": [
    "with open('/home/daniel/Desktop/kaps7_major.csv', 'w', newline='') as fp:\n",
    "    a = csv.writer(fp, delimiter=',')\n",
    "    final_data = CSV_DATA\n",
    "    a.writerows(final_data)"
   ]
  },
  {
   "cell_type": "code",
   "execution_count": null,
   "metadata": {
    "collapsed": false
   },
   "outputs": [],
   "source": [
    "x = 0.23543434\n",
    "y = Decimal(str(x),).quantize(Decimal('.00'))\n",
    "print(y)"
   ]
  },
  {
   "cell_type": "code",
   "execution_count": 6,
   "metadata": {
    "collapsed": false
   },
   "outputs": [],
   "source": [
    "def function_mapper(corpus, modes, cluster, source):\n",
    "    X = []\n",
    "    csv_data = []\n",
    "    if source == 'alfabeto':\n",
    "        for book in corpus:\n",
    "            for song in book.values():\n",
    "        #         print(song['alfabeto'])\n",
    "                attempt_mode = (song['data']['key'], song['data']['final'])\n",
    "                if modes == 'all':\n",
    "                    X.append(transposed_pc_chords_noMMD(song['alfabeto'], 'all'))\n",
    "                elif attempt_mode in modes:\n",
    "                    X.append(transposed_pc_chords_noMMD(song['alfabeto'], 'all'))\n",
    "    else:\n",
    "        for x, y in zip(corpus[0], corpus[1]):\n",
    "            if modes == 'all':\n",
    "                X.append(song_chords(x))\n",
    "            elif y in modes:\n",
    "                X.append(song_chords(x))\n",
    "#                 print(song_chords(x))\n",
    "    function_data = []\n",
    "    for x in X:\n",
    "        temp_list = []\n",
    "        for y in x:\n",
    "            for a, b in cluster.items():\n",
    "                if y in b:\n",
    "                    temp_list.append(a)\n",
    "        function_data.append(temp_list)\n",
    "    cluster_dict = {}\n",
    "    for x in cluster.keys():\n",
    "        for y in cluster.keys():\n",
    "            cluster_dict[(x, y)] = 0\n",
    "    for x in function_data:\n",
    "        for y in range(1, len(x)):\n",
    "            cluster_dict[(x[y-1], x[y])] += 1\n",
    "    total_chord_changes = 0\n",
    "    for x in cluster_dict.values():\n",
    "        total_chord_changes += x\n",
    "    print('total chord changes:', total_chord_changes)\n",
    "    \n",
    "    #networkx graph\n",
    "    G = nx.DiGraph()\n",
    "    for x, y in cluster_dict.items():\n",
    "        if y > .01*total_chord_changes:\n",
    "            G.add_edge(x[0], x[1], penwidth=y/total_chord_changes * 30) #\n",
    "#                        label=Decimal(str(y/total_chord_changes*100)).quantize(Decimal('.00')))\n",
    "    \n",
    "    edge_weights = []\n",
    "    edges = G.edges(data=True)\n",
    "    print('edges:', edges)\n",
    "    for x in edges:\n",
    "        edge_weights.append(x[2]['penwidth'])\n",
    "    pos = nx.circular_layout(G)\n",
    "    nx.draw_networkx_edges(G, pos, edges=edges, edge_color='green', width=edge_weights, alpha=.5)\n",
    "    nx.draw_networkx_nodes(G, pos, node_color='green')\n",
    "    nx.draw_networkx_labels(G, pos)\n",
    "    write_dot(G, 'pal_maj6.dot')\n",
    "    print(cluster_dict)"
   ]
  },
  {
   "cell_type": "code",
   "execution_count": null,
   "metadata": {
    "collapsed": false
   },
   "outputs": [],
   "source": [
    "function_mapper(palestrina_chords_data, major, h_major3, 'other')"
   ]
  },
  {
   "cell_type": "code",
   "execution_count": null,
   "metadata": {
    "collapsed": true
   },
   "outputs": [],
   "source": [
    "data = [1, 2, 3]\n",
    "x = ' '.join(map(str, data))"
   ]
  },
  {
   "cell_type": "code",
   "execution_count": null,
   "metadata": {
    "collapsed": false
   },
   "outputs": [],
   "source": [
    "bach_chords_pickle_in = open(\"pickles/bach_chords.pickle\", \"rb\")\n",
    "bach_chords_data = pickle.load(bach_chords_pickle_in)\n",
    "bach_chords_pickle_in.close()"
   ]
  },
  {
   "cell_type": "code",
   "execution_count": null,
   "metadata": {
    "collapsed": false
   },
   "outputs": [],
   "source": [
    "bach_chords_data[0]"
   ]
  },
  {
   "cell_type": "code",
   "execution_count": null,
   "metadata": {
    "collapsed": true
   },
   "outputs": [],
   "source": []
  }
 ],
 "metadata": {
  "kernelspec": {
   "display_name": "Python 3",
   "language": "python",
   "name": "python3"
  },
  "language_info": {
   "codemirror_mode": {
    "name": "ipython",
    "version": 3
   },
   "file_extension": ".py",
   "mimetype": "text/x-python",
   "name": "python",
   "nbconvert_exporter": "python",
   "pygments_lexer": "ipython3",
   "version": "3.5.1"
  }
 },
 "nbformat": 4,
 "nbformat_minor": 0
}
