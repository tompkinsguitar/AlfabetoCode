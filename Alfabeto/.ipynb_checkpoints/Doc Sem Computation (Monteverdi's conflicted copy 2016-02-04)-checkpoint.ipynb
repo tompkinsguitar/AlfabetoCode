{
 "cells": [
  {
   "cell_type": "code",
   "execution_count": null,
   "metadata": {
    "collapsed": false
   },
   "outputs": [],
   "source": [
    "%pylab inline\n",
    "pylab.rcParams['figure.figsize'] = (10, 10)"
   ]
  },
  {
   "cell_type": "markdown",
   "metadata": {},
   "source": [
    "This imports some python modules I made"
   ]
  },
  {
   "cell_type": "code",
   "execution_count": null,
   "metadata": {
    "collapsed": false
   },
   "outputs": [],
   "source": [
    "from alfabeto_code import chronology as ch\n",
    "from alfabeto_code import AlfabetoGraphs as gra"
   ]
  },
  {
   "cell_type": "markdown",
   "metadata": {},
   "source": [
    "Here are bigram graphs of chords that go to I:"
   ]
  },
  {
   "cell_type": "code",
   "execution_count": null,
   "metadata": {
    "collapsed": false,
    "scrolled": true
   },
   "outputs": [],
   "source": [
    "gra.make_ngram_graph_2(gra.kap1, 'all', 3, '$\\\\flat$VI', 'first_and_last')\n",
    "gra.make_ngram_graph_2(gra.kap2, 'all', 3, '$\\\\flat$VI', 'first_and_last')\n",
    "gra.make_ngram_graph_2(gra.kap3, 'all', 3, '$\\\\flat$VI', 'first_and_last')\n",
    "gra.make_ngram_graph_2(gra.kap4, 'all', 3, '$\\\\flat$VI', 'first_and_last')"
   ]
  },
  {
   "cell_type": "code",
   "execution_count": null,
   "metadata": {
    "collapsed": true
   },
   "outputs": [],
   "source": [
    "pylab.rcParams['figure.figsize'] = (15, 10)"
   ]
  },
  {
   "cell_type": "code",
   "execution_count": null,
   "metadata": {
    "collapsed": false,
    "scrolled": false
   },
   "outputs": [],
   "source": [
    "ch.kaps_plotter(2, 20, \"Bigrams for Kapsperger Villanella Corpus\", 'first')\n",
    "ch.kaps_plotter(3, 20, \"Trigrams for Kapsperger Villanella Corpus\", 'first')\n",
    "ch.kaps_plotter(4, 20, \"4-grams for Kapsperger Villanella Corpus\", 'first')\n",
    "ch.kaps_plotter(5, 20, \"5-grams for Kapsperger Villanella Corpus\", 'first')"
   ]
  },
  {
   "cell_type": "markdown",
   "metadata": {
    "collapsed": true
   },
   "source": [
    "The top 50 bigrams"
   ]
  },
  {
   "cell_type": "code",
   "execution_count": null,
   "metadata": {
    "collapsed": false,
    "scrolled": false
   },
   "outputs": [],
   "source": [
    "ch.kaps_plotter(2, 50, \"Bigrams for Kapsperger Villanella Corpus\", 'first_and_last')"
   ]
  },
  {
   "cell_type": "code",
   "execution_count": null,
   "metadata": {
    "collapsed": false,
    "scrolled": false
   },
   "outputs": [],
   "source": [
    "pylab.rcParams['figure.figsize'] = (15, 5)\n",
    "ch.kaps_plotter_2(ch.kap1, 'major', 2, 30, 'Top 50 Bigrams in Book 1 (1610)', 'first')\n",
    "ch.kaps_plotter_2(ch.kap2, 'major', 2, 30, 'Top 50 Bigrams in Book 2 (1619)', 'first')\n",
    "ch.kaps_plotter_2(ch.kap3, 'major', 2, 30, 'Top 50 Bigrams in Book 3 (1619)', 'first')\n",
    "ch.kaps_plotter_2(ch.kap4, 'major', 2, 30, 'Top 50 Bigrams in Book 4 (1623)', 'first')"
   ]
  },
  {
   "cell_type": "code",
   "execution_count": null,
   "metadata": {
    "collapsed": false,
    "scrolled": false
   },
   "outputs": [],
   "source": [
    "pylab.rcParams['figure.figsize'] = (10, 5)\n",
    "ch.kaps_plotter_2(ch.kap1, 'all', 3, 10, 'Top 10 Trigrams in Book 1 (1610)', 'first')\n",
    "ch.kaps_plotter_2(ch.kap2, 'all', 3, 10, 'Top 10 Trigrams in Book 2 (1619)', 'first')\n",
    "ch.kaps_plotter_2(ch.kap3, 'all', 3, 10, 'Top 10 Trigrams in Book 3 (1619)', 'first')\n",
    "ch.kaps_plotter_2(ch.kap4, 'all', 3, 10, 'Top 10 Trigrams in Book 4 (1623)', 'first')"
   ]
  },
  {
   "cell_type": "code",
   "execution_count": null,
   "metadata": {
    "collapsed": false,
    "scrolled": false
   },
   "outputs": [],
   "source": [
    "pylab.rcParams['figure.figsize'] = (10, 5)\n",
    "ch.kaps_plotter_2(ch.kap1, 'all', 4, 10, 'Top 10 4-grams in Book 1 (1610)', 'first')\n",
    "ch.kaps_plotter_2(ch.kap2, 'all', 4, 10, 'Top 10 4-grams in Book 2 (1619)', 'first')\n",
    "ch.kaps_plotter_2(ch.kap3, 'all', 4, 10, 'Top 10 4-grams in Book 3 (1619)', 'first')\n",
    "ch.kaps_plotter_2(ch.kap4, 'all', 4, 10, 'Top 10 4-grams in Book 4 (1623)', 'first')"
   ]
  },
  {
   "cell_type": "code",
   "execution_count": null,
   "metadata": {
    "collapsed": false,
    "scrolled": false
   },
   "outputs": [],
   "source": [
    "pylab.rcParams['figure.figsize'] = (10, 5)\n",
    "ch.kaps_plotter_2(ch.kap1, 'all', 5, 10, 'Top 10 5-grams in Book 1 (1610)', 'first')\n",
    "ch.kaps_plotter_2(ch.kap2, 'all', 5, 10, 'Top 10 5-grams in Book 2 (1619)', 'first')\n",
    "ch.kaps_plotter_2(ch.kap3, 'all', 5, 10, 'Top 10 5-grams in Book 3 (1619)', 'first')\n",
    "ch.kaps_plotter_2(ch.kap4, 'all', 5, 10, 'Top 10 5-grams in Book 4 (1623)', 'first')"
   ]
  },
  {
   "cell_type": "code",
   "execution_count": null,
   "metadata": {
    "collapsed": false,
    "scrolled": false
   },
   "outputs": [],
   "source": [
    "pylab.rcParams['figure.figsize'] = (10, 5)\n",
    "ch.kaps_plotter_2(ch.kap1, 'all', 6, 10, 'Top 10 6-grams in Book 1 (1610)', 'first')\n",
    "ch.kaps_plotter_2(ch.kap2, 'all', 6, 10, 'Top 10 6-grams in Book 2 (1619)', 'first')\n",
    "ch.kaps_plotter_2(ch.kap3, 'all', 6, 10, 'Top 10 6-grams in Book 3 (1619)', 'first')\n",
    "ch.kaps_plotter_2(ch.kap4, 'all', 6, 10, 'Top 10 6-grams in Book 4 (1623)', 'first')"
   ]
  },
  {
   "cell_type": "code",
   "execution_count": null,
   "metadata": {
    "collapsed": false,
    "scrolled": true
   },
   "outputs": [],
   "source": [
    "pylab.rcParams['figure.figsize'] = (10, 5)\n",
    "ch.kaps_plotter_2(ch.kap1, 'all', 7, 10, 'Top 10 7-grams in Book 1 (1610)', 'first')\n",
    "ch.kaps_plotter_2(ch.kap2, 'all', 7, 10, 'Top 10 7-grams in Book 2 (1619)', 'first')\n",
    "ch.kaps_plotter_2(ch.kap3, 'all', 7, 10, 'Top 10 7-grams in Book 3 (1619)', 'first')\n",
    "ch.kaps_plotter_2(ch.kap4, 'all', 7, 10, 'Top 10 7-grams in Book 4 (1623)', 'first')"
   ]
  },
  {
   "cell_type": "code",
   "execution_count": null,
   "metadata": {
    "collapsed": false
   },
   "outputs": [],
   "source": [
    "pylab.rcParams['figure.figsize'] = (10, 5)\n",
    "ch.kaps_plotter_2(ch.kap1, 'major', 2, 10, 'Top 10 Bigrams in Book 1 (1610)', 'first')\n",
    "ch.kaps_plotter_2(ch.kap2, 'major', 2, 10, 'Top 10 Bigrams in Book 2 (1619)', 'first')\n",
    "ch.kaps_plotter_2(ch.kap3, 'major', 2, 10, 'Top 10 Bigrams in Book 3 (1619)', 'first')\n",
    "ch.kaps_plotter_2(ch.kap4, 'major', 2, 10, 'Top 10 Bigrams in Book 4 (1623)', 'first')"
   ]
  },
  {
   "cell_type": "code",
   "execution_count": null,
   "metadata": {
    "collapsed": false,
    "scrolled": true
   },
   "outputs": [],
   "source": [
    "pylab.rcParams['figure.figsize'] = (9, 8)\n",
    "gra.make_ngram_graph(gra.kap1, 'major', 2, 'last')\n",
    "gra.make_ngram_graph(gra.kap2, 'major', 2, 'last')\n",
    "gra.make_ngram_graph(gra.kap3, 'major', 2, 'last')\n",
    "gra.make_ngram_graph(gra.kap4, 'major', 2, 'last')"
   ]
  },
  {
   "cell_type": "code",
   "execution_count": null,
   "metadata": {
    "collapsed": false
   },
   "outputs": [],
   "source": [
    "pylab.rcParams['figure.figsize'] = (9, 8)\n",
    "gra.make_ngram_graph(gra.kap1, 'major', 2, 'first_and_last')\n",
    "gra.make_ngram_graph(gra.kap2, 'major', 2, 'first_and_last')\n",
    "gra.make_ngram_graph(gra.kap3, 'major', 2, 'first_and_last')\n",
    "gra.make_ngram_graph(gra.kap4, 'major', 2, 'first_and_last')"
   ]
  },
  {
   "cell_type": "code",
   "execution_count": null,
   "metadata": {
    "collapsed": false,
    "scrolled": true
   },
   "outputs": [],
   "source": [
    "pylab.rcParams['figure.figsize'] = (9, 8)\n",
    "gra.make_ngram_graph(gra.kap1, 'major', 2, 'first')\n",
    "gra.make_ngram_graph(gra.kap2, 'major', 2, 'first')\n",
    "gra.make_ngram_graph(gra.kap3, 'major', 2, 'first')\n",
    "gra.make_ngram_graph(gra.kap4, 'major', 2, 'first')"
   ]
  },
  {
   "cell_type": "code",
   "execution_count": null,
   "metadata": {
    "collapsed": false,
    "scrolled": true
   },
   "outputs": [],
   "source": [
    "pylab.rcParams['figure.figsize'] = (9, 8)\n",
    "print('Kapsperger book 1')\n",
    "gra.make_ngram_graph(gra.kap1, 'major', 2, 'all')\n",
    "print('Kapsperger book 2')\n",
    "gra.make_ngram_graph(gra.kap2, 'major', 2, 'all')\n",
    "print('Kapsperger book 3')\n",
    "gra.make_ngram_graph(gra.kap3, 'major', 2, 'all')\n",
    "print('Kapsperger book 4')\n",
    "gra.make_ngram_graph(gra.kap4, 'major', 2, 'all')\n",
    "print('Stefani')\n",
    "gra.make_ngram_graph([gra.all_corpus[-1]], 'major', 2, 'all')\n",
    "print('Obizzi')\n",
    "gra.make_ngram_graph([gra.all_corpus[-2]], 'major', 2, 'all')"
   ]
  },
  {
   "cell_type": "code",
   "execution_count": null,
   "metadata": {
    "collapsed": false,
    "scrolled": true
   },
   "outputs": [],
   "source": [
    "pylab.rcParams['figure.figsize'] = (9, 8)\n",
    "print('Kapsperger book 1')\n",
    "gra.make_ngram_graph(gra.kap1, 'major', 2, 'first')\n",
    "print('Kapsperger book 2')\n",
    "gra.make_ngram_graph(gra.kap2, 'major', 2, 'first')\n",
    "print('Kapsperger book 3')\n",
    "gra.make_ngram_graph(gra.kap3, 'major', 2, 'first')\n",
    "print('Kapsperger book 4')\n",
    "gra.make_ngram_graph(gra.kap4, 'major', 2, 'first')\n",
    "print('Stefani')\n",
    "gra.make_ngram_graph([gra.all_corpus[-1]], 'major', 2, 'first')\n",
    "print('Obizzi')\n",
    "gra.make_ngram_graph([gra.all_corpus[-2]], 'major', 2, 'first')"
   ]
  },
  {
   "cell_type": "code",
   "execution_count": null,
   "metadata": {
    "collapsed": false,
    "scrolled": true
   },
   "outputs": [],
   "source": [
    "pylab.rcParams['figure.figsize'] = (9, 8)\n",
    "print('Kapsperger book 1')\n",
    "gra.make_ngram_graph(gra.kap1, 'major', 2, 'last')\n",
    "print('Kapsperger book 2')\n",
    "gra.make_ngram_graph(gra.kap2, 'major', 2, 'last')\n",
    "print('Kapsperger book 3')\n",
    "gra.make_ngram_graph(gra.kap3, 'major', 2, 'last')\n",
    "print('Kapsperger book 4')\n",
    "gra.make_ngram_graph(gra.kap4, 'major', 2, 'last')\n",
    "print('Stefani')\n",
    "gra.make_ngram_graph([gra.all_corpus[-1]], 'major', 2, 'last')\n",
    "print('Obizzi')\n",
    "gra.make_ngram_graph([gra.all_corpus[-2]], 'major', 2, 'last')"
   ]
  },
  {
   "cell_type": "code",
   "execution_count": null,
   "metadata": {
    "collapsed": false
   },
   "outputs": [],
   "source": [
    "pylab.rcParams['figure.figsize'] = (9, 8)\n",
    "print('Kapsperger book 1')\n",
    "gra.make_ngram_graph(gra.kap1, 'major', 2, 'first_and_last')\n",
    "print('Kapsperger book 2')\n",
    "gra.make_ngram_graph(gra.kap2, 'major', 2, 'first_and_last')\n",
    "print('Kapsperger book 3')\n",
    "gra.make_ngram_graph(gra.kap3, 'major', 2, 'first_and_last')\n",
    "print('Kapsperger book 4')\n",
    "gra.make_ngram_graph(gra.kap4, 'major', 2, 'first_and_last')\n",
    "print('Stefani')\n",
    "gra.make_ngram_graph([gra.all_corpus[-1]], 'major', 2, 'first_and_last')\n",
    "print('Obizzi')\n",
    "gra.make_ngram_graph([gra.all_corpus[-2]], 'major', 2, 'first_and_last')"
   ]
  },
  {
   "cell_type": "code",
   "execution_count": null,
   "metadata": {
    "collapsed": true
   },
   "outputs": [],
   "source": []
  }
 ],
 "metadata": {
  "kernelspec": {
   "display_name": "Python 3",
   "language": "python",
   "name": "python3"
  },
  "language_info": {
   "codemirror_mode": {
    "name": "ipython",
    "version": 3
   },
   "file_extension": ".py",
   "mimetype": "text/x-python",
   "name": "python",
   "nbconvert_exporter": "python",
   "pygments_lexer": "ipython3",
   "version": "3.5.1"
  }
 },
 "nbformat": 4,
 "nbformat_minor": 0
}
