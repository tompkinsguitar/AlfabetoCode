{
 "cells": [
  {
   "cell_type": "code",
   "execution_count": 1,
   "metadata": {
    "collapsed": true
   },
   "outputs": [],
   "source": [
    "import numpy as np\n",
    "import matplotlib.pyplot as plt\n",
    "import networkx as nx\n",
    "from networkx.drawing.nx_agraph import write_dot, to_agraph\n",
    "import matplotlib.image as mpimg\n",
    "from sklearn.externals import joblib\n",
    "from hmmlearn import hmm"
   ]
  },
  {
   "cell_type": "code",
   "execution_count": 59,
   "metadata": {
    "collapsed": false
   },
   "outputs": [
    {
     "name": "stdout",
     "output_type": "stream",
     "text": [
      "Populating the interactive namespace from numpy and matplotlib\n"
     ]
    },
    {
     "name": "stderr",
     "output_type": "stream",
     "text": [
      "WARNING: pylab import has clobbered these variables: ['exp']\n",
      "`%matplotlib` prevents importing * from pylab and numpy\n"
     ]
    }
   ],
   "source": [
    "%pylab qt"
   ]
  },
  {
   "cell_type": "code",
   "execution_count": 46,
   "metadata": {
    "collapsed": false
   },
   "outputs": [],
   "source": [
    "FIT_DATA = joblib.load('/home/daniel/Desktop/alfmaj.pkl')"
   ]
  },
  {
   "cell_type": "code",
   "execution_count": 143,
   "metadata": {
    "collapsed": false
   },
   "outputs": [],
   "source": [
    "emiss = FIT_DATA['fit'].emissionprob_\n",
    "tokens = FIT_DATA['tokens']\n",
    "trans = FIT_DATA['fit'].transmat_"
   ]
  },
  {
   "cell_type": "code",
   "execution_count": 140,
   "metadata": {
    "collapsed": false
   },
   "outputs": [],
   "source": [
    "def pie_nodes(fit_data_dict):\n",
    "    emiss = fit_data_dict['fit'].emissionprob_\n",
    "    tokens = fit_data_dict['tokens']\n",
    "    K = len(emiss)\n",
    "    plt.close()\n",
    "    for k in range(K):\n",
    "        plt.figure(figsize=(2,2), tight_layout=True)\n",
    "        emit1_data = []\n",
    "        emit1_labels = []\n",
    "        plt.rcParams['font.size'] = 14.0\n",
    "        plt.rcParams['font.family'] = 'serif'\n",
    "        plt.axis('equal')\n",
    "        # csfont = {'fontname':'Comic Sans MS'}\n",
    "        kcolors = ['white']\n",
    "        other_numb = 0\n",
    "        for a, b in zip(emiss[k], tokens):\n",
    "            if a >= .03:\n",
    "                emit1_data.append(a)\n",
    "                emit1_labels.append(b)\n",
    "            else:\n",
    "                other_numb += a\n",
    "        emit1_data.append(other_numb)\n",
    "        emit1_labels.append('other')\n",
    "\n",
    "        a, b = plt.pie(emit1_data, labels=emit1_labels, radius=2, colors=kcolors, labeldistance=0.8)\n",
    "        for bb in b:\n",
    "            bb.set_horizontalalignment('center')\n",
    "            bb.set_fontsize(10)\n",
    "        plt.savefig('/home/daniel/Desktop/pie/alfabeto_continuo/major/%s_%s.svg' %(K, k), bbox_inches='tight')\n",
    "        plt.close()"
   ]
  },
  {
   "cell_type": "code",
   "execution_count": 146,
   "metadata": {
    "collapsed": false
   },
   "outputs": [
    {
     "name": "stderr",
     "output_type": "stream",
     "text": [
      "/home/daniel/anaconda3/lib/python3.5/site-packages/matplotlib/figure.py:1744: UserWarning: This figure includes Axes that are not compatible with tight_layout, so its results might be incorrect.\n",
      "  warnings.warn(\"This figure includes Axes that are not \"\n"
     ]
    },
    {
     "name": "stdout",
     "output_type": "stream",
     "text": [
      "edges: [(1, 1, {'penwidth': 0.21297752851058638}), (1, 2, {'penwidth': 1.1514913415591301}), (1, 3, {'penwidth': 3.6355311299302833}), (2, 1, {'penwidth': 2.6705640771198835}), (2, 2, {'penwidth': 0.41594445363944366}), (2, 3, {'penwidth': 1.9134914692406733}), (3, 1, {'penwidth': 1.3695832893854141}), (3, 2, {'penwidth': 3.1179567228662126}), (3, 3, {'penwidth': 0.51245998774837354})]\n",
      "nodes: [1, 2, 3]\n"
     ]
    }
   ],
   "source": [
    "# pie_nodes(FIT_DATA)\n",
    "def neato_function(K)\n",
    "    import networkx as nx\n",
    "    from networkx.drawing.nx_agraph import write_dot, to_agraph\n",
    "    import pygraphviz as pgv\n",
    "    G = nx.DiGraph()\n",
    "    labels =[x for x in range(len(K))]\n",
    "    for x, y in zip(trans, labels):\n",
    "        for a, b in zip(x, labels):\n",
    "            G.add_edge(y, b, penwidth=a*5)\n",
    "    edge_weights = []\n",
    "    edges = G.edges(data=True)\n",
    "    print('edges:', edges)\n",
    "    for x in edges:\n",
    "        edge_weights.append(x[2]['penwidth'])\n",
    "    nodes = G.nodes()\n",
    "    print('nodes:', nodes)\n",
    "    for x in range(len(nodes)):\n",
    "        G.node[nodes[x]]['shape'] = 'none'\n",
    "        G.node[nodes[x]]['image'] = '/home/daniel/Desktop/pie/alfabeto_continuo/major/%s_%s.svg' %(K,x)\n",
    "        G.node[nodes[x]]['label'] = ''\n",
    "    G = to_agraph(G)\n",
    "    # G=pgv.AGraph(ranksep=10)\n",
    "    G.draw('/home/daniel/Desktop/function_%s.pdf' %K, format='pdf', prog='dot')"
   ]
  },
  {
   "cell_type": "code",
   "execution_count": 115,
   "metadata": {
    "collapsed": false
   },
   "outputs": [],
   "source": [
    "plt.close()\n",
    "plt.rcParams['font.size'] = 10.0\n",
    "exp = [.1]\n",
    "kolor = ['green', 'green', 'green', 'red', 'yellow', 'blue', 'blue', 'blue', 'blue', 'red']\n",
    "plt.pie([50, 20, 20, 10], labels=['T', 'S', 'D', 'T*'], radius = 4/2, colors = ['green', 'red', 'yellow', 'blue'])\n",
    "plt.axis('equal')\n",
    "all_labs = ['I', 'I6', 'ii', 'V', 'V6', 'IV', 'bVII', 'IV6', 'iii', 'iii6']\n",
    "plt.pie([10, 10, 10, 10, 10, 10, 10, 10, 10, 10], radius = 2/2, colors = kolor, labels = all_labs)\n",
    "plt.axis('equal')\n",
    "plt.savefig('/home/daniel/Desktop/somen.pdf', bbox_inches='tight')\n",
    "plt.close()"
   ]
  },
  {
   "cell_type": "code",
   "execution_count": 87,
   "metadata": {
    "collapsed": false
   },
   "outputs": [
    {
     "data": {
      "image/png": "[encoded data removed]",
      "text/plain": [
       "<matplotlib.figure.Figure at 0x7f289d213940>"
      ]
     },
     "metadata": {},
     "output_type": "display_data"
    }
   ],
   "source": [
    "plt.close()\n",
    "exp = [.1]\n",
    "kolor = ['green', 'green', 'green', 'red', 'yellow', 'blue', 'blue', 'blue', 'blue', 'white']\n",
    "plt.pie([70, 20, 20, 15], labels=['T', 'S', 'D', 'T*'], colors = ['purple', 'white', 'yellow', 'blue'], \n",
    "        autopct='%1.1f%%')\n",
    "plt.axis('equal')\n",
    "plt.savefig('/home/daniel/Desktop/somen2.png', bbox_inches='tight')"
   ]
  },
  {
   "cell_type": "code",
   "execution_count": 41,
   "metadata": {
    "collapsed": false
   },
   "outputs": [],
   "source": [
    "three_data = \\\n",
    "{'S': {'IV': 1484, 'ii': 827, 'II': 490}, \n",
    " 'D': {r'$\\flat$VII': 465, r'V$^6$': 295, 'v': 333, 'V': 1601, 'III': 119}, \n",
    " 'T': {'iii': 286, 'VI': 420, r'I$^6$': 540, 'I': 2095, r'IV$^6$': 225, 'vi': 632}}\n",
    "\n",
    "four_data = \\\n",
    "{'T*': {r'I$^6$': 540, 'v': 333, 'III': 119, 'iii': 286}, \n",
    " 'T': {'vi': 632, 'I': 2095, r'IV$^6$': 225, 'VI': 420}, \n",
    " 'D': {r'V$^6$': 295, r'$\\flat$VII': 465, 'V': 1601}, \n",
    " 'S': {'IV': 1484, 'ii': 827, 'II': 490}}\n",
    "\n",
    "five_data = \\\n",
    "{'D': {r'$\\flat$VII': 465, r'V$^6$': 295, 'V': 1601},\n",
    " 'S': {'II': 490, 'IV': 1484},\n",
    " 'S*': {'ii': 827, 'III': 119},\n",
    " 'T': {'I': 2095,'vi': 632,r'IV$^6$': 225,'VI': 420},\n",
    " 'T*': {'iii': 286, r'I$^6$': 540, 'v': 333}}\n",
    "\n",
    "minor_3 = \\\n",
    "{'S': {'i': 1133, 'iv': 678, 'IV6': 157, 'IV': 784, r'$\\flat$VI': 630}, \n",
    " 'T': {'I': 783, r'$\\flat$III$^6$': 138, r'$\\flat$III': 1160, 'v': 519}, \n",
    " 'D': {r'$\\flat$VII$^6$': 212, r'$\\flat$VII': 1199, 'V': 933, 'ii': 220}}\n",
    "\n",
    "bach_major_2 = \\\n",
    "{'T': {'II': 299, r'ii$^6$': 238, r'I$^6$': 1042, 'I$^{6/4}$': 263, 'vi': 992, r'V$^4$': 282, 'ii': 489, r'IV$^6$': 478, 'ii$^{6/5}': 286, 'I': 3016}, \n",
    " 'D': {'I4/2': 181, 'V$^{4/2}': 1, 'V$^{6/5}$': 229, 'IV': 689, 'V': 1945, r'V$^7$': 591, 'iii': 298, r'V$^6$': 683, r'vii$^{\\circ6}$': 333}}\n",
    "\n",
    "bach_major_3 = \\\n",
    "{'S': {'II': 299, 'ii': 489, 'ii$^6$': 238, 'IV$^6$': 478, 'V$^4$': 282, 'ii$^{6/5}$': 286}, \n",
    " 'T': {'I$^{4/2}$': 181, 'vi': 992, 'I$^{6/4}$': 263, 'I$^6$': 1042, 'I': 3016}, \n",
    " 'D': {'V$^{4/2}$': 1, 'V$^{6/5}$': 229, 'IV': 689, 'V': 1945, 'V$^{7}$': 591, 'iii': 298, 'V$^6$': 683, 'vii$^{\\circ6}$': 333}}\n",
    "\n",
    "bach_major_4 =\\\n",
    "{'S': {'V$^4$': 282, 'ii$^6$': 238, 'ii': 489, 'ii$^{6/5}$': 286, 'II': 299}, \n",
    " 'T': {'I$^{64}$': 263, 'I$^6$': 1042, 'I': 3016}, \n",
    " 'D': {'V': 1945, 'V$^7$': 591, 'V$^{6/5}$': 229, 'V$^{6}$': 683, 'vii$^{\\circ6}$': 333}, \n",
    " 'S*': {'I$^{4/2}$': 181, 'V$^{4/2}$': 1, 'IV': 689, 'vi': 992, 'IV$^6$': 478, 'iii': 298}}\n",
    "\n",
    "\n",
    "palestrina_major_3 = \\\n",
    "{'1': {'iii$^6$': 632, 'I': 7581, 'IV$^6$': 1113, 'I$^6$': 1391, 'CDEG': 476, 'CDFG': 0, 'ii$^4$': 728, 'vi': 2599}, \n",
    " '3': {'V': 5792, 'ii': 2019, 'IV': 3279, 'ii$^6$': 985, 'iii': 1322, 'vii$^{\\circ6}$': 630, 'V6': 898, 'vi$^6$': 682}, \n",
    " '2': {'II': 907, 'V$^4$': 1341, 'GAD': 393}}\n",
    "\n",
    "palestrina_major_4 = \\\n",
    "{'4': {'V': 5792, 'ii': 2019, 'IV': 3279, 'iii': 1322, 'vii$^{\\circ6}$': 630, 'V$^6$': 898, 'vi$^6$': 682}, \n",
    " '1': {'iii$^6$': 632, 'I': 7581, 'IV$^6$': 1113, 'ii$^6$': 985, 'I$^6$': 1391, 'CDEG': 476, 'CDFG': 0, 'vi': 2599}, \n",
    " '3': {'II': 907, 'V$^4$': 1341, 'GAD': 393}, \n",
    " '2': {'ii$^4$': 728}}\n",
    "\n",
    "palestrina_major_5 = \\\n",
    "{'5': {'V': 5792, 'vii${\\circ6}$': 630, 'V$^6$': 898}, \n",
    " '1': {'iii$^6$': 632, 'I': 7581, 'IV$^6$': 1113, 'vi': 2599, 'CDFG': 0, 'CDEG': 476}, \n",
    " '2': {'ii$^4$': 728}, \n",
    " '3': {'ii': 2019, 'IV': 3279, 'ii$^6$': 985, 'I$6$': 1391, 'iii': 1322, 'vi$^6$': 682}, \n",
    " '4': {'II': 907, 'V$^4$': 1341, 'GAD': 393}}\n"
   ]
  },
  {
   "cell_type": "code",
   "execution_count": 42,
   "metadata": {
    "collapsed": false
   },
   "outputs": [],
   "source": [
    "plt.close()\n",
    "color_dict = {'T': 'yellow', 'S': 'lightblue', 'D': 'green', 'T*': 'brown'}\n",
    "f_colors = []\n",
    "c_colors = []\n",
    "f_numbs = []\n",
    "c_numbs = []\n",
    "f_labels = []\n",
    "c_labels = []\n",
    "for a, b in palestrina_major_5.items():\n",
    "    f_numbs.append(sum([x for x in b.values()]))\n",
    "    f_labels.append(a)\n",
    "#     f_colors.append(color_dict[a])\n",
    "    for x, y in b.items():\n",
    "        c_numbs.append(y)\n",
    "        c_labels.append(x)\n",
    "#         c_colors.append(color_dict[a])\n",
    "fig = plt.figure()\n",
    "ax = fig.gca()     \n",
    "a, b = plt.pie(f_numbs, labels = f_labels, radius = 4, shadow=True)\n",
    "plt.axis('equal')\n",
    "for x in range(5):\n",
    "    b[x].set_fontsize(30)\n",
    "plt.pie(c_numbs, labels = c_labels, radius = 3, shadow=True)\n",
    "plt.axis('equal')\n",
    "# plt.savefig('/home/daniel/Dropbox/Dissertation/Latex/figures/function/bach_major_3_pie.pdf', bbox_inches='tight')\n",
    "plt.savefig('/home/daniel/Desktop/palestrina_5_pie.pdf', bbox_inches='tight')"
   ]
  },
  {
   "cell_type": "code",
   "execution_count": 22,
   "metadata": {
    "collapsed": false
   },
   "outputs": [
    {
     "ename": "SyntaxError",
     "evalue": "invalid syntax (<ipython-input-22-9a7241048558>, line 1)",
     "output_type": "error",
     "traceback": [
      "\u001b[1;36m  File \u001b[1;32m\"<ipython-input-22-9a7241048558>\"\u001b[1;36m, line \u001b[1;32m1\u001b[0m\n\u001b[1;33m    kolor[1]*2G.add_node(1, img='/home/daniel/Deskop/somen.pdf')\u001b[0m\n\u001b[1;37m              ^\u001b[0m\n\u001b[1;31mSyntaxError\u001b[0m\u001b[1;31m:\u001b[0m invalid syntax\n"
     ]
    }
   ],
   "source": [
    "kolor[1]*2G.add_node(1, img='/home/daniel/Deskop/somen.pdf')"
   ]
  },
  {
   "cell_type": "code",
   "execution_count": 119,
   "metadata": {
    "collapsed": false
   },
   "outputs": [
    {
     "name": "stdout",
     "output_type": "stream",
     "text": [
      "1 a\n",
      "2 b\n",
      "3 c\n"
     ]
    }
   ],
   "source": [
    "x = [1, 2, 3, 4, 5]\n",
    "y = ['a', 'b', 'c']\n",
    "\n",
    "for a, b in zip(x, y):\n",
    "    print(a, b)"
   ]
  },
  {
   "cell_type": "code",
   "execution_count": null,
   "metadata": {
    "collapsed": true
   },
   "outputs": [],
   "source": []
  }
 ],
 "metadata": {
  "anaconda-cloud": {},
  "kernelspec": {
   "display_name": "Python [Root]",
   "language": "python",
   "name": "Python [Root]"
  },
  "language_info": {
   "codemirror_mode": {
    "name": "ipython",
    "version": 3
   },
   "file_extension": ".py",
   "mimetype": "text/x-python",
   "name": "python",
   "nbconvert_exporter": "python",
   "pygments_lexer": "ipython3",
   "version": "3.5.2"
  }
 },
 "nbformat": 4,
 "nbformat_minor": 0
}
