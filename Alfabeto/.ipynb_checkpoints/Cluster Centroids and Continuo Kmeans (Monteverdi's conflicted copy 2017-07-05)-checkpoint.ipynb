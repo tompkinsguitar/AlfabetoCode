{
 "cells": [
  {
   "cell_type": "code",
   "execution_count": null,
   "metadata": {
    "collapsed": false
   },
   "outputs": [],
   "source": [
    "from alfabeto_data import dissertation_images as di\n",
    "from Continuo.kmeans_inversion import k_means_data, silhouette_analysis, label_maker_alf\n",
    "from alfabeto_code.AlfabetoConverter import AlfabetoSymbols\n",
    "from alfabeto_sources import all_sources\n",
    "from scipy.spatial.distance import euclidean"
   ]
  },
  {
   "cell_type": "code",
   "execution_count": null,
   "metadata": {
    "collapsed": true
   },
   "outputs": [],
   "source": [
    "silhouette_compare = {'bach': [], 'alfabeto': [], 'palestrina': [], 'zma': [], 'zmo': [], 'zso': []}\n",
    "completeness_compare = {'bach': [], 'alfabeto': [], 'palestrina': [], 'zma': [], 'zmo': [], 'zso': []}\n",
    "\n",
    "\n",
    "for x in range(2, 13):\n",
    "    silhouette_compare['bach'].append(di.k_means_simple(di.bach_notes_data[0], \n",
    "                                                        x, di.label_maker(di.bach_notes_data[1]))['silhouette'])\n",
    "    silhouette_compare['alfabeto'].append(di.k_means_simple(di.alfabeto_notes_data[0], \n",
    "                                                        x, di.label_maker_alfabeto(di.alfabeto_notes_data[1]))['silhouette'])\n",
    "    silhouette_compare['palestrina'].append(di.k_means_simple(di.palestrina_notes_data[0], \n",
    "                                                        x, di.label_maker_alfabeto(di.palestrina_notes_data[1]))['silhouette'])\n",
    "    silhouette_compare['zma'].append(di.k_means_simple(di.zma_notes_data[0], \n",
    "                                                        x, di.label_maker_alfabeto(di.zma_notes_data[1]))['silhouette'])\n",
    "    silhouette_compare['zmo'].append(di.k_means_simple(di.zmo_notes_data[0], \n",
    "                                                        x, di.label_maker_alfabeto(di.zmo_notes_data[1]))['silhouette'])\n",
    "    silhouette_compare['zso'].append(di.k_means_simple(di.zso_notes_data[0], \n",
    "                                                        x, di.label_maker_alfabeto(di.zso_notes_data[1]))['silhouette'])\n",
    "    \n",
    "    completeness_compare['bach'].append(di.k_means_simple(di.bach_notes_data[0],\n",
    "                                                        x, di.label_maker(di.bach_notes_data[1]))['completeness'])\n",
    "    completeness_compare['alfabeto'].append(di.k_means_simple(di.alfabeto_notes_data[0],\n",
    "                                                        x, di.label_maker_alfabeto(di.alfabeto_notes_data[1]))['completeness'])\n",
    "    completeness_compare['palestrina'].append(di.k_means_simple(di.palestrina_notes_data[0],\n",
    "                                                        x, di.label_maker_alfabeto(di.palestrina_notes_data[1]))['completeness'])\n",
    "    completeness_compare['zma'].append(di.k_means_simple(di.zma_notes_data[0],\n",
    "                                                        x, di.label_maker_alfabeto(di.zma_notes_data[1]))['completeness'])\n",
    "    completeness_compare['zmo'].append(di.k_means_simple(di.zmo_notes_data[0],\n",
    "                                                        x, di.label_maker_alfabeto(di.zmo_notes_data[1]))['completeness'])\n",
    "    completeness_compare['zso'].append(di.k_means_simple(di.zso_notes_data[0],\n",
    "                                                        x, di.label_maker_alfabeto(di.zso_notes_data[1]))['completeness'])\n",
    "\n",
    "tuple_data = ([silhouette_compare['bach']+completeness_compare['bach'], \n",
    "               silhouette_compare['alfabeto']+completeness_compare['alfabeto'], \n",
    "               silhouette_compare['palestrina']+completeness_compare['palestrina'], \n",
    "               silhouette_compare['zma']+completeness_compare['zma'], \n",
    "               silhouette_compare['zmo']+completeness_compare['zmo'], \n",
    "               silhouette_compare['zso']+completeness_compare['zso']], \n",
    "              ['bach', 'alfabeto', 'palestrina', 'zma', 'zmo', 'zso'])\n",
    "\n",
    "silhouette_neato = di.neato_maker(tuple_data)"
   ]
  },
  {
   "cell_type": "code",
   "execution_count": null,
   "metadata": {
    "collapsed": true
   },
   "outputs": [],
   "source": [
    "scaled_data = []\n",
    "for x in silhouette_neato[0]:\n",
    "    scaled_data.append([y/30 for y in x])"
   ]
  },
  {
   "cell_type": "code",
   "execution_count": null,
   "metadata": {
    "collapsed": false
   },
   "outputs": [],
   "source": [
    "di.neato_plain(scaled_data, ['$'+n+'$' for n in tuple_data[1]], 'neato_modes.pdf')"
   ]
  },
  {
   "cell_type": "code",
   "execution_count": null,
   "metadata": {
    "collapsed": false
   },
   "outputs": [],
   "source": [
    "di.victoria_masses_notes_data"
   ]
  },
  {
   "cell_type": "code",
   "execution_count": null,
   "metadata": {
    "collapsed": false
   },
   "outputs": [],
   "source": [
    "# di.liber_notes_data[0], ['$'+str(n)+'$' for n in di.liber_notes_data[1]], 48, \n",
    "#                        'liber_notes_score.pdf'\n",
    "# di.k_means_data(scaled_data, 3, ['$'+n+'$' for n in tuple_data[1]], 'kmeans_modes.pdf')\n",
    "di.fitness_plotter(di.monteverdi_notes_data[0], di.label_maker_alfabeto(di.monteverdi_notes_data[1]), 12, 'monteverdi_notes_score.pdf')\n",
    "di.k_means_data(di.monteverdi_notes_data[0], 5, di.label_maker_alfabeto(di.monteverdi_notes_data[1]), 'monteverdi_notes.pdf')"
   ]
  },
  {
   "cell_type": "code",
   "execution_count": null,
   "metadata": {
    "collapsed": true
   },
   "outputs": [],
   "source": [
    "temp_zmo = di.temperley_appender(di.zmo_notes_data)\n",
    "temperleymarvin_maj = [('$\\hat{1}$', .223), \n",
    "                       ('$♯\\hat{1}/♭\\hat{2}$', .006), \n",
    "                       ('$\\hat{2}$', .12), \n",
    "                       ('$♯\\hat{2}/♭\\hat{3}$', .003), \n",
    "                       ('$\\hat{3}$', .154), \n",
    "                       ('$\\hat{4}$', .109), \n",
    "                       ('$♯\\hat{4}/♭\\hat{5}$', .019), \n",
    "                       ('$\\hat{5}$', .189), \n",
    "                       ('$♯\\hat{5}/♭\\hat{6}$', .007), \n",
    "                       ('$\\hat{6}$', .076), \n",
    "                       ('$♯\\hat{6}/♭\\hat{7}$', .005), \n",
    "                       ('$\\hat{7}$', .089)]\n",
    "\n",
    "temperleymarvin_min = [('$\\hat{1}$', .189), \n",
    "                       ('$♯\\hat{1}/♭\\hat{2}$', .006), \n",
    "                       ('$\\hat{2}$', .126), \n",
    "                       ('$♯\\hat{2}/♭\\hat{3}$', .144), \n",
    "                       ('$\\hat{3}$', .014), \n",
    "                       ('$\\hat{4}$', .106), \n",
    "                       ('$♯\\hat{4}/♭\\hat{5}$', .021), \n",
    "                       ('$\\hat{5}$', .211), \n",
    "                       ('$♯\\hat{5}/♭\\hat{6}$', .068), \n",
    "                       ('$\\hat{6}$', .02), \n",
    "                       ('$♯\\hat{6}/♭\\hat{7}$', .023), \n",
    "                       ('$\\hat{7}$', .073)]\n",
    "\n",
    "# key_data_maj = [x[1]*100 for x in temperleymarvin_maj]\n",
    "# key_data_min = [x[1]*100 for x in temperleymarvin_min]\n",
    "# key_names = [x[0] for x in temperleymarvin_maj]\n",
    "# plt.figure(figsize=(10,5))\n",
    "# plt.plot(range(1, len(key_data)+1), key_data_maj, color='blue', linestyle='-', marker='o', label='major')\n",
    "# plt.plot(range(1, len(key_data)+1), key_data_min, color='green', linestyle='-', marker='o', label='minor')\n",
    "# plt.xticks(range(1, len(key_data)+2), key_names, rotation=0, fontsize=12)\n",
    "# plt.yticks(fontsize=12)\n",
    "\n",
    "# legend = plt.legend(loc='upper right', shadow=True, fontsize='large')\n",
    "# legend.get_frame().set_facecolor('#00FFCC')\n",
    "# plt.xlabel('Scale Degrees', fontsize=14)\n",
    "# plt.ylabel('Frequency of Use', fontsize=14)\n",
    "# plt.title('Key Profiles from Temperley Marvin 2008', fontsize=18)\n",
    "# plt.grid(True)\n",
    "# plt.savefig('/home/daniel/Desktop/temperleymarvin.pdf', bbox_inches='tight')"
   ]
  },
  {
   "cell_type": "code",
   "execution_count": null,
   "metadata": {
    "collapsed": true
   },
   "outputs": [],
   "source": [
    "scale_degrees = []\n",
    "for x in temperleymarvin_maj:\n",
    "    scale_degrees.append(x[0])"
   ]
  },
  {
   "cell_type": "code",
   "execution_count": null,
   "metadata": {
    "collapsed": true
   },
   "outputs": [],
   "source": [
    "scale_degrees"
   ]
  },
  {
   "cell_type": "code",
   "execution_count": null,
   "metadata": {
    "collapsed": true,
    "scrolled": false
   },
   "outputs": [],
   "source": [
    "corpus = di.alfabeto_notes_data\n",
    "name = 'alfabeto'\n",
    "\n",
    "K = di.k_means_data(corpus[0], 2, di.label_maker_alfabeto(corpus[1]), \n",
    "#                     'C:/Users/Daniel/Desktop/kmeans/%s_notes.svg' % name)\n",
    "                    '/home/daniel/Desktop/%s.pdf' % name)\n",
    "# di.fitness_plotter(corpus[0], di.label_maker_alfabeto(corpus[1]), 12, \n",
    "#                 '/home/daniel/Dropbox/Apps/ShareLaTeX/DissertationFinal/figures/kmeans/%s_notes_score.pdf' % name)\n",
    "# # print(K.labels_)\n",
    "# # print(di.zma_notes_data[1])"
   ]
  },
  {
   "cell_type": "code",
   "execution_count": 2,
   "metadata": {
    "collapsed": false
   },
   "outputs": [],
   "source": [
    "def centroid_modes(corpus, corpus_name, number_of_modes, tonality):\n",
    "    if tonality == 'modal':\n",
    "        K = di.k_means_data(corpus[0], number_of_modes, di.label_maker_alfabeto(corpus[1]), \n",
    "                            '%s.pdf' % corpus_name)\n",
    "        C = di.k_means_simple(corpus[0], number_of_modes, di.label_maker_alfabeto(corpus[1]))\n",
    "        di.fitness_plotter_big(corpus[0], di.label_maker_alfabeto(corpus[1]), 12, \n",
    "                               '%s_notes_score.pdf' % corpus_name)\n",
    "    elif tonality == 'tonal':\n",
    "        K = di.k_means_data(corpus[0], number_of_modes, di.label_maker(corpus[1]), \n",
    "                            '%s.pdf' % corpus_name)\n",
    "        C = di.k_means_simple(corpus[0], number_of_modes, di.label_maker(corpus[1]))\n",
    "        di.fitness_plotter_big(corpus[0], di.label_maker(corpus[1]), 12, \n",
    "                               '%s_notes_score.pdf' % corpus_name)\n",
    "    elif tonality == 'liber':\n",
    "        K = di.k_means_data(corpus[0], number_of_modes, ['$'+str(n)+'$' for n in corpus[1]], \n",
    "                            '%s.pdf' % corpus_name)\n",
    "        C = di.k_means_simple(corpus[0], number_of_modes, ['$'+str(n)+'$' for n in corpus[1]])\n",
    "        di.fitness_plotter_big(corpus[0], ['$'+str(n)+'$' for n in corpus[1]], 12, \n",
    "                               '%s_notes_score.pdf' % corpus_name)\n",
    "    elif tonality == 'fixed':\n",
    "        K = di.k_means_data(corpus[0], number_of_modes, corpus[1], \n",
    "                            '%s.pdf' % corpus_name)\n",
    "        C = di.k_means_simple(corpus[0], number_of_modes, corpus[1])\n",
    "        di.fitness_plotter_big(corpus[0], corpus[1], 12, \n",
    "                               '%s_notes_score.pdf' % corpus_name)\n",
    "    mode_labels = {'Ionian':[0, 2, 4, 5, 7, 9, 11],\n",
    "               'Dorian':[0, 2, 3, 5, 7, 9, 10],\n",
    "               'Phrygian':[0, 1, 3, 5, 7, 8, 10],\n",
    "               'Lydian':[0, 2, 4, 6, 7, 9, 11],\n",
    "               'Mixolydian':[0, 2, 4, 5, 7, 9, 10],\n",
    "               'Aeolian':[0, 2, 3, 5, 7, 8, 10],\n",
    "               'Harmonic minor':[0, 2, 3, 5, 7, 8, 11],\n",
    "               'Melodic minor':[0, 2, 3, 5, 7, 9, 11],}\n",
    "    \n",
    "    cc = C['kmeans'].cluster_centers_\n",
    "    for x in range(len(cc)):\n",
    "        print(x, cc[x])\n",
    "    l = C['kmeans'].labels_\n",
    "    CC_final = []\n",
    "    centroid_possible = {}\n",
    "    for x, y in zip(K.labels_, l):\n",
    "        if (x, y) in centroid_possible:\n",
    "            centroid_possible[(x, y)]+=1\n",
    "        else:\n",
    "            centroid_possible[(x, y)] = 1\n",
    "    print(\"centroid possible\", centroid_possible)\n",
    "    change_dict = {}\n",
    "    \n",
    "    top_centroids = []\n",
    "    for y in centroid_possible.values():\n",
    "        top_centroids.append(y)\n",
    "    top_centroids = sorted(top_centroids, reverse=True)[0:number_of_modes]\n",
    "    for x, y in centroid_possible.items():\n",
    "        if y in top_centroids:\n",
    "            change_dict[x[0]] = x[1]\n",
    "    print(\"change dict\", change_dict)\n",
    "#     for x, y in zip(K.labels_, l):\n",
    "#         if x not in change_dict:\n",
    "#             print(x, 'not in ', change_dict, y)\n",
    "#             change_dict[x] = y\n",
    "#     print('change dict', change_dict)\n",
    "    for x in range(number_of_modes):\n",
    "        CC_final.append(cc[change_dict[x]])\n",
    "    print('cc_final',CC_final)\n",
    "    for k in range(number_of_modes):\n",
    "        top7 = sorted(CC_final[k],reverse=True)[0:7]\n",
    "#         print(top7)\n",
    "        scale = []\n",
    "        for pc in CC_final[k]:\n",
    "            if pc in top7:\n",
    "                scale.append(list(CC_final[k]).index(pc))\n",
    "        for a, j in mode_labels.items():\n",
    "            if scale == j:\n",
    "                print(str(k+1)+':', a, CC_final[k])\n",
    "\n",
    "def centroid_modes_continuo(bass_harmonization, corpus_name, number_of_modes, path): #for the bass harmonization data\n",
    "    import numpy as np\n",
    "    import csv\n",
    "    K = di.k_means_data(bass_harmonization[0], number_of_modes, bass_harmonization[1], \n",
    "                        path+'%s_continuo.pdf' % corpus_name)\n",
    "    C = di.k_means_simple(bass_harmonization[0], number_of_modes, bass_harmonization[1])\n",
    "    di.fitness_plotter_big(bass_harmonization[0], bass_harmonization[1], 12,\n",
    "                           path+'%s_continuo_score.pdf' % corpus_name)\n",
    "    cc = C['kmeans'].cluster_centers_\n",
    "    l = C['kmeans'].labels_\n",
    "    CC_final = []\n",
    "    change_dict = {}\n",
    "    for x, y in zip(K.labels_, l):\n",
    "        if x not in change_dict:\n",
    "            change_dict[x] = y\n",
    "    for x in range(number_of_modes):\n",
    "        CC_final.append(cc[change_dict[x]])\n",
    "    \n",
    "    def csv_function(f_variable, path):\n",
    "        with open(path, 'w', newline='') as fp:\n",
    "            a = csv.writer(fp, delimiter='&')\n",
    "            a.writerows(f_variable)\n",
    "    def chunks(l, n):\n",
    "        \"\"\"Yield successive n-sized chunks from l.\"\"\"\n",
    "        uberlist = []\n",
    "        for i in range(0, len(l), n):\n",
    "            uberlist.append(l[i:i + n])\n",
    "        return np.around(uberlist, decimals=1)\n",
    "    print(CC_final)\n",
    "    for x in range(len(CC_final)):\n",
    "        csv_ready = list(CC_final[x])\n",
    "#         csv_function(csv_ready,\n",
    "        csv_function(chunks(csv_ready, 12), \n",
    "                     path+'%s%s_octave.csv' % (corpus_name, (x+1)))\n",
    "#     csv_function(CC_final, '/home/daniel/Dropbox/Apps/ShareLaTeX/DissertationFinal/figures/kmeans/continuo/%s_octave.csv' % corpus_name)\n",
    "#     print(CC_final)\n",
    "    return CC_final\n",
    "\n",
    "def chord_frequency(corpus_list):\n",
    "    all_chords = []\n",
    "    all_labels =  label_maker_alf(corpus_list)\n",
    "    for x in corpus_list:\n",
    "        for y in x.values():\n",
    "            alf_label_dict = {}\n",
    "            for a in AlfabetoSymbols:\n",
    "                alf_label_dict[a] = 0\n",
    "            chord_number = 0\n",
    "            temp_chords = []\n",
    "            for z in y['alfabeto']:\n",
    "                if z in AlfabetoSymbols:\n",
    "                    alf_label_dict[z] += 1\n",
    "                    chord_number += 1\n",
    "            for x in range(len(AlfabetoSymbols)):\n",
    "                temp_chords.append(alf_label_dict[AlfabetoSymbols[x]]/chord_number*100)\n",
    "            all_chords.append(temp_chords)\n",
    "    return all_chords, all_labels"
   ]
  },
  {
   "cell_type": "code",
   "execution_count": null,
   "metadata": {
    "collapsed": false
   },
   "outputs": [],
   "source": [
    "di.victoria_notes_data[0]"
   ]
  },
  {
   "cell_type": "code",
   "execution_count": 6,
   "metadata": {
    "collapsed": false,
    "scrolled": false
   },
   "outputs": [
    {
     "name": "stdout",
     "output_type": "stream",
     "text": [
      "n_digits: 2, \t n_samples 394, \t n_features 12\n",
      "_______________________________________________________\n",
      "init time inertia homo  compl v-meas ARI  AMI  silhouette\n",
      " k++ 0.67s  56917 0.288 0.913 0.438 0.233 0.284  0.429\n",
      "rand 0.66s  56917 0.288 0.913 0.438 0.233 0.284  0.429\n"
     ]
    },
    {
     "name": "stderr",
     "output_type": "stream",
     "text": [
      "/home/daniel/anaconda3/lib/python3.6/site-packages/sklearn/cluster/k_means_.py:889: RuntimeWarning: Explicit initial center position passed: performing only one init in k-means instead of n_init=100\n",
      "  return_n_iter=True)\n"
     ]
    },
    {
     "name": "stdout",
     "output_type": "stream",
     "text": [
      " PCA 0.55s  56917 0.288 0.913 0.438 0.233 0.284  0.429\n",
      "_______________________________________________________\n"
     ]
    },
    {
     "data": {
      "image/png": "[encoded data removed]",
      "text/plain": [
       "<matplotlib.figure.Figure at 0x7f5dd4a06fd0>"
      ]
     },
     "metadata": {},
     "output_type": "display_data"
    },
    {
     "data": {
      "image/png": "[encoded data removed]",
      "text/plain": [
       "<matplotlib.figure.Figure at 0x7f5e2e8236d8>"
      ]
     },
     "metadata": {},
     "output_type": "display_data"
    },
    {
     "name": "stdout",
     "output_type": "stream",
     "text": [
      "0 [ 19.62418844   0.10103404  14.62407842   0.4688573   11.51959515\n",
      "  12.5229463    0.82461435  18.28372223   0.05233366  12.0759452\n",
      "   5.17789817   4.72478674]\n",
      "1 [ 18.98162013   2.82698089   8.92067731  13.88375691   0.2660001\n",
      "  14.65663256   0.22385308  16.57718983   7.39115066   3.540652\n",
      "  12.31262025   0.41886628]\n",
      "centroid possible {(0, 1): 248, (1, 0): 145, (0, 0): 1}\n",
      "change dict {0: 1, 1: 0}\n",
      "cc_final [array([ 18.98162013,   2.82698089,   8.92067731,  13.88375691,\n",
      "         0.2660001 ,  14.65663256,   0.22385308,  16.57718983,\n",
      "         7.39115066,   3.540652  ,  12.31262025,   0.41886628]), array([ 19.62418844,   0.10103404,  14.62407842,   0.4688573 ,\n",
      "        11.51959515,  12.5229463 ,   0.82461435,  18.28372223,\n",
      "         0.05233366,  12.0759452 ,   5.17789817,   4.72478674])]\n",
      "1: Aeolian [ 18.98162013   2.82698089   8.92067731  13.88375691   0.2660001\n",
      "  14.65663256   0.22385308  16.57718983   7.39115066   3.540652\n",
      "  12.31262025   0.41886628]\n",
      "2: Mixolydian [ 19.62418844   0.10103404  14.62407842   0.4688573   11.51959515\n",
      "  12.5229463    0.82461435  18.28372223   0.05233366  12.0759452\n",
      "   5.17789817   4.72478674]\n"
     ]
    }
   ],
   "source": [
    "# alf_letter = chord_frequency(all_sources.GetAll.all_alf)\n",
    "# centroid_modes_continuo(alfcont, 'untransposed', 2, '/home/daniel/Desktop/')\n",
    "centroid_modes(di.zmo_notes_data, 'palestrina', 6, 'modal')"
   ]
  },
  {
   "cell_type": "code",
   "execution_count": null,
   "metadata": {
    "collapsed": true,
    "scrolled": true
   },
   "outputs": [],
   "source": [
    "# alfcont = di.inversion_kmeans(di.GetAll.all_alf, 'all', di.label_maker_alfabeto)\n",
    "# palcont = di.inversion_kmeans_corpus(di.palestrina_continuo, 'all', 'modal', di.label_maker_alfabeto)\n",
    "# bachcont = di.inversion_kmeans_corpus(di.bach_continuo, 'all', 'tonal', di.label_maker)\n",
    "# zma = di.inversion_kmeans_corpus(di.zma_continuo, 'all', 'modal', di.label_maker_alfabeto)\n",
    "# zmo = di.inversion_kmeans_corpus(di.zmo_continuo, 'all', 'modal', di.label_maker_alfabeto)\n",
    "# zso = di.inversion_kmeans_corpus(di.zso_continuo, 'all', 'modal', di.label_maker_alfabeto)\n",
    "alfcont = di.inversion_kmeans_untransposed(di.GetAll.all_alf, 'all', di.label_maker_alfabeto)\n",
    "\n",
    "# print(centroid_modes_continuo(palcont, 'palestrina', 2))\n",
    "\n"
   ]
  },
  {
   "cell_type": "code",
   "execution_count": null,
   "metadata": {
    "collapsed": true
   },
   "outputs": [],
   "source": [
    "di.neato_function_bigrams(di.bigram_graphs_alfabeto(di.GetAll.all_alf, di.modal_minor, 'continuo'), .02, \n",
    "                          '/home/daniel/Dropbox/Apps/ShareLaTeX/DissertationFinal/figures/function/alfabetobigramminor.pdf')"
   ]
  },
  {
   "cell_type": "code",
   "execution_count": null,
   "metadata": {
    "collapsed": true,
    "scrolled": false
   },
   "outputs": [],
   "source": [
    "centroid_modes_continuo(palcont, 'palestrina', 2)\n",
    "centroid_modes_continuo(bachcont, 'bach', 2)\n",
    "centroid_modes_continuo(zma, 'zma', 2)\n",
    "centroid_modes_continuo(zmo, 'zmo', 2)\n",
    "centroid_modes_continuo(zso, 'zso', 2)\n",
    "centroid_modes_continuo(alfcont, 'alfabeto', 2)\n",
    "\n"
   ]
  },
  {
   "cell_type": "code",
   "execution_count": null,
   "metadata": {
    "collapsed": false
   },
   "outputs": [],
   "source": [
    "di.fitness_plotter_big(di.liber_notes_data[0], ['$'+str(n)+'$' for n in di.liber_notes_data[1]], 48, \n",
    "                       'liber_notes_score.pdf')\n",
    "# centroid_modes(corpus, corpus_name, number_of_modes, tonality):\n",
    "# centroid_modes(di.liber_notes_data, 'liber', 3, 'liber')"
   ]
  },
  {
   "cell_type": "code",
   "execution_count": null,
   "metadata": {
    "collapsed": true
   },
   "outputs": [],
   "source": [
    "chunks(list(p[0]), 12)"
   ]
  },
  {
   "cell_type": "code",
   "execution_count": null,
   "metadata": {
    "collapsed": true
   },
   "outputs": [],
   "source": [
    "mode_labels = {'ionian':[0, 2, 4, 5, 7, 9, 11],\n",
    "               'dorian':[0, 2, 3, 5, 7, 9, 10],\n",
    "               'phrygian':[0, 1, 3, 5, 7, 8, 10],\n",
    "               'lydian':[0, 2, 4, 6, 7, 9, 11],\n",
    "               'mixolydian':[0, 2, 4, 5, 7, 9, 10],\n",
    "               'aeolian':[0, 2, 3, 5, 7, 8, 10],\n",
    "               'harmonic minor':[0, 2, 3, 5, 7, 8, 11],\n",
    "               'melodic minor':[0, 2, 3, 5, 7, 9, 11],}"
   ]
  },
  {
   "cell_type": "code",
   "execution_count": null,
   "metadata": {
    "collapsed": true
   },
   "outputs": [],
   "source": [
    "from scipy.spatial.distance import cdist\n",
    "\n",
    "mode_names = []\n",
    "mode_numbers = []\n",
    "\n",
    "for a, j in mode_labels.items():\n",
    "    mode_names.append(a)\n",
    "    mode_numbers.append(j)\n",
    "matrix = cdist(mode_numbers, mode_numbers, metric='hamming')"
   ]
  },
  {
   "cell_type": "code",
   "execution_count": null,
   "metadata": {
    "collapsed": true
   },
   "outputs": [],
   "source": [
    "lab = ['']+mode_names\n",
    "matrixlab = []\n",
    "for m, n in zip(mode_names, matrix):\n",
    "    matrixlab.append([m]+list(n))"
   ]
  },
  {
   "cell_type": "code",
   "execution_count": null,
   "metadata": {
    "collapsed": true
   },
   "outputs": [],
   "source": [
    "f = [lab]+matrixlab\n",
    "import csv\n",
    "def csv_function(f_variable, path):\n",
    "    with open(path, 'w', newline='') as fp:\n",
    "        a = csv.writer(fp, delimiter=',')\n",
    "        a.writerows(f_variable)\n",
    "csv_function(f, '/home/daniel/Desktop/csv.csv')"
   ]
  },
  {
   "cell_type": "code",
   "execution_count": null,
   "metadata": {
    "collapsed": true
   },
   "outputs": [],
   "source": [
    "print(str(1)+'s')"
   ]
  },
  {
   "cell_type": "code",
   "execution_count": null,
   "metadata": {
    "collapsed": true
   },
   "outputs": [],
   "source": [
    "for x in cc[0]:\n",
    "    print(x)"
   ]
  },
  {
   "cell_type": "code",
   "execution_count": null,
   "metadata": {
    "collapsed": true
   },
   "outputs": [],
   "source": [
    "e[2].index('I')"
   ]
  },
  {
   "cell_type": "code",
   "execution_count": null,
   "metadata": {
    "collapsed": true
   },
   "outputs": [],
   "source": [
    "e[1].index(31)"
   ]
  },
  {
   "cell_type": "code",
   "execution_count": null,
   "metadata": {
    "collapsed": true
   },
   "outputs": [],
   "source": [
    "s = []\n",
    "starting = 0\n",
    "\n",
    "for x in range(len(e[1])):\n",
    "    length = e[1][x]\n",
    "    print(starting, length)\n",
    "    s.append(all_songs[starting:starting+length])\n",
    "    starting += length"
   ]
  },
  {
   "cell_type": "code",
   "execution_count": null,
   "metadata": {
    "collapsed": false
   },
   "outputs": [],
   "source": [
    "di.monteverdi_notes_data[0][15]"
   ]
  },
  {
   "cell_type": "code",
   "execution_count": null,
   "metadata": {
    "collapsed": false
   },
   "outputs": [],
   "source": [
    "fixed_monteverdi_notes = []\n",
    "fixed_monteverdi_labels = []\n",
    "for x, y in zip(di.monteverdi_notes_data[0], di.label_maker_alfabeto(di.monteverdi_notes_data[1])):\n",
    "    if y != 'o':\n",
    "        fixed_monteverdi_notes.append(x)\n",
    "        fixed_monteverdi_labels.append(y)"
   ]
  },
  {
   "cell_type": "code",
   "execution_count": null,
   "metadata": {
    "collapsed": false
   },
   "outputs": [],
   "source": [
    "len(fixed_monteverdi_notes)"
   ]
  },
  {
   "cell_type": "code",
   "execution_count": null,
   "metadata": {
    "collapsed": false
   },
   "outputs": [],
   "source": [
    "fixed_monteverdi = (fixed_monteverdi_notes, fixed_monteverdi_labels)"
   ]
  },
  {
   "cell_type": "code",
   "execution_count": null,
   "metadata": {
    "collapsed": false
   },
   "outputs": [],
   "source": [
    "a = [10, 33, 0, 1, 2, 3, 4, 5, 6, 7]\n",
    "print(a[0:5])"
   ]
  },
  {
   "cell_type": "code",
   "execution_count": null,
   "metadata": {
    "collapsed": false
   },
   "outputs": [],
   "source": [
    "sorted(a, reverse=True)"
   ]
  },
  {
   "cell_type": "code",
   "execution_count": null,
   "metadata": {
    "collapsed": true
   },
   "outputs": [],
   "source": []
  }
 ],
 "metadata": {
  "anaconda-cloud": {},
  "kernelspec": {
   "display_name": "Python 3",
   "language": "python",
   "name": "python3"
  },
  "language_info": {
   "codemirror_mode": {
    "name": "ipython",
    "version": 3
   },
   "file_extension": ".py",
   "mimetype": "text/x-python",
   "name": "python",
   "nbconvert_exporter": "python",
   "pygments_lexer": "ipython3",
   "version": "3.6.0"
  }
 },
 "nbformat": 4,
 "nbformat_minor": 1
}
