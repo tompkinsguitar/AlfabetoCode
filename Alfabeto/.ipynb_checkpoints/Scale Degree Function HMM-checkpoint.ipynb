{
 "cells": [
  {
   "cell_type": "code",
   "execution_count": 1,
   "metadata": {
    "collapsed": true
   },
   "outputs": [],
   "source": [
    "from music21 import *"
   ]
  },
  {
   "cell_type": "code",
   "execution_count": 93,
   "metadata": {
    "collapsed": true
   },
   "outputs": [],
   "source": [
    "A = corpus.getComposer('palestrina')[0]"
   ]
  },
  {
   "cell_type": "code",
   "execution_count": 94,
   "metadata": {
    "collapsed": false
   },
   "outputs": [],
   "source": [
    "A = corpus.parse(A)"
   ]
  },
  {
   "cell_type": "code",
   "execution_count": 18,
   "metadata": {
    "collapsed": false
   },
   "outputs": [],
   "source": [
    "AP = A.parts"
   ]
  },
  {
   "cell_type": "code",
   "execution_count": 35,
   "metadata": {
    "collapsed": false
   },
   "outputs": [],
   "source": [
    "a = AP[0].flat.getElementsByClass(note.Note)"
   ]
  },
  {
   "cell_type": "code",
   "execution_count": 95,
   "metadata": {
    "collapsed": false
   },
   "outputs": [],
   "source": [
    "mynotes = A.parts[0].flat.getElementsByClass(note.Note)\n",
    "crd = A.chordify().flat.getElementsByClass(chord.Chord)\n",
    "bass = crd[-1].bass().pitchClass"
   ]
  },
  {
   "cell_type": "code",
   "execution_count": 96,
   "metadata": {
    "collapsed": false
   },
   "outputs": [],
   "source": [
    "all_notes = [x for x in mynotes]\n",
    "all_notes_transposed = [(x.pitchClass-bass)%12 for x in mynotes]"
   ]
  },
  {
   "cell_type": "code",
   "execution_count": 97,
   "metadata": {
    "collapsed": false
   },
   "outputs": [],
   "source": [
    "from hmmlearn import hmm"
   ]
  },
  {
   "cell_type": "code",
   "execution_count": 102,
   "metadata": {
    "collapsed": false
   },
   "outputs": [
    {
     "name": "stderr",
     "output_type": "stream",
     "text": [
      "         1        -355.3407             +nan\n",
      "         2        -254.6122        +100.7285\n",
      "         3        -254.1405          +0.4717\n",
      "         4        -253.5444          +0.5960\n",
      "         5        -252.9476          +0.5968\n",
      "         6        -252.1664          +0.7812\n",
      "         7        -250.6409          +1.5255\n",
      "         8        -247.5280          +3.1129\n",
      "         9        -242.1903          +5.3377\n",
      "        10        -236.5131          +5.6772\n",
      "/home/daniel/anaconda3/lib/python3.6/site-packages/hmmlearn/hmm.py:405: RuntimeWarning: divide by zero encountered in log\n",
      "  return np.log(self.emissionprob_)[:, np.concatenate(X)].T\n",
      "/home/daniel/anaconda3/lib/python3.6/site-packages/hmmlearn/base.py:459: RuntimeWarning: divide by zero encountered in log\n",
      "  np.log(self.startprob_),\n",
      "/home/daniel/anaconda3/lib/python3.6/site-packages/hmmlearn/base.py:468: RuntimeWarning: divide by zero encountered in log\n",
      "  np.log(self.startprob_),\n",
      "        11        -232.7251          +3.7881\n",
      "        12        -230.4232          +2.3019\n",
      "        13        -228.6854          +1.7378\n",
      "        14        -227.0499          +1.6355\n",
      "        15        -225.3815          +1.6684\n",
      "        16        -223.8593          +1.5222\n",
      "        17        -222.6174          +1.2419\n",
      "        18        -221.5758          +1.0416\n",
      "        19        -220.6615          +0.9143\n",
      "        20        -219.7999          +0.8616\n",
      "        21        -218.8832          +0.9167\n",
      "        22        -217.7901          +1.0931\n",
      "        23        -216.5400          +1.2501\n",
      "        24        -215.4520          +1.0881\n",
      "        25        -214.7635          +0.6884\n",
      "        26        -214.3814          +0.3822\n",
      "        27        -214.1659          +0.2154\n",
      "        28        -214.0285          +0.1374\n",
      "        29        -213.8602          +0.1683\n",
      "        30        -213.3926          +0.4676\n",
      "        31        -212.3448          +1.0478\n",
      "        32        -211.4498          +0.8951\n",
      "        33        -211.2399          +0.2098\n",
      "        34        -211.2150          +0.0249\n",
      "        35        -211.2083          +0.0068\n"
     ]
    }
   ],
   "source": [
    "def scale_degree_parser(unparsed):\n",
    "    counter = 0\n",
    "    sd_dict = {}\n",
    "    hmm_notes = []\n",
    "    lengths = []\n",
    "    all_parsed = []\n",
    "    for x in unparsed:\n",
    "        all_parsed.append(converter.parse(x))\n",
    "    for x in all_parsed:\n",
    "        if type(x) is stream.Stream:\n",
    "            A = x\n",
    "            for part in range(len(A.parts)):\n",
    "                mynotes = A.parts[part].flat.getElementsByClass(note.Note)\n",
    "                crd = A.chordify().flat.getElementsByClass(chord.Chord)\n",
    "                bass = crd[-1].bass().pitchClass\n",
    "                all_notes_transposed = [(j.pitchClass-bass)%12 for j in mynotes]\n",
    "                for n in all_notes_transposed:\n",
    "                    if n in sd_dict.keys():\n",
    "                        hmm_notes.append([sd_dict[n]])\n",
    "                    elif n not in sd_dict.keys():\n",
    "                        counter += 1\n",
    "                        hmm_notes.append([counter])\n",
    "                        sd_dict[counter] = n\n",
    "        elif type(x) is stream.Score:\n",
    "            for A in x:\n",
    "                for part in range(len(A.parts)):\n",
    "                    mynotes = A.parts[part].flat.getElementsByClass(note.Note)\n",
    "                    crd = A.chordify().flat.getElementsByClass(chord.Chord)\n",
    "                    bass = crd[-1].bass().pitchClass\n",
    "\n",
    "counter = 0\n",
    "sd_dict = {}\n",
    "hmm_notes = []\n",
    "lengths = []\n",
    "for x in all_notes_transposed:\n",
    "    if x in sd_dict.keys():\n",
    "        hmm_notes.append([sd_dict[x]])\n",
    "    elif x not in sd_dict.keys():\n",
    "        counter += 1\n",
    "        hmm_notes.append([counter])\n",
    "        sd_dict[counter] = x\n",
    "\n",
    "\n",
    "Z = hmm.MultinomialHMM(n_components=3, verbose=True,n_iter=1000,tol=.01)\n",
    "# Z.n_features = len(X[2])\n",
    "FIT_DATA = Z.fit(hmm_notes)"
   ]
  },
  {
   "cell_type": "code",
   "execution_count": 103,
   "metadata": {
    "collapsed": true
   },
   "outputs": [],
   "source": [
    "EMIT = FIT_DATA.emissionprob_"
   ]
  },
  {
   "cell_type": "code",
   "execution_count": 106,
   "metadata": {
    "collapsed": false
   },
   "outputs": [
    {
     "name": "stdout",
     "output_type": "stream",
     "text": [
      "0.55973978455\n"
     ]
    }
   ],
   "source": [
    "for x in EMIT[2]:\n",
    "    if x >= .3:\n",
    "        print(x)"
   ]
  },
  {
   "cell_type": "code",
   "execution_count": null,
   "metadata": {
    "collapsed": true
   },
   "outputs": [],
   "source": []
  }
 ],
 "metadata": {
  "kernelspec": {
   "display_name": "Python 3",
   "language": "python",
   "name": "python3"
  },
  "language_info": {
   "codemirror_mode": {
    "name": "ipython",
    "version": 3
   },
   "file_extension": ".py",
   "mimetype": "text/x-python",
   "name": "python",
   "nbconvert_exporter": "python",
   "pygments_lexer": "ipython3",
   "version": "3.6.0"
  }
 },
 "nbformat": 4,
 "nbformat_minor": 2
}
