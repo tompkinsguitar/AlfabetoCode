{
 "cells": [
  {
   "cell_type": "code",
   "execution_count": 2,
   "metadata": {
    "collapsed": false
   },
   "outputs": [],
   "source": [
    "import numpy as np\n",
    "from hmmlearn import hmm\n",
    "import alfabeto_data.dissertation_images as di\n",
    "from alfabeto_sources.all_sources import *\n",
    "from alfabeto_code.AlfabetoConverter import transposed_pc_chords_noMMD\n",
    "from Continuo.ContinuoConverter import figure_intervals_pc\n",
    "import csv\n",
    "import copy\n",
    "from scipy.spatial.distance import euclidean, cdist\n",
    "import networkx as nx\n",
    "from networkx.drawing.nx_agraph import write_dot, to_agraph\n",
    "from sklearn.externals import joblib"
   ]
  },
  {
   "cell_type": "code",
   "execution_count": 11,
   "metadata": {
    "collapsed": false
   },
   "outputs": [],
   "source": [
    "# X = di.python_hmm_corpus(di.monteverdi_continuo, di.modal_major)\n",
    "X = di.python_hmm(di.GetComposer.all_kaps, di.modal_major, 'chords')"
   ]
  },
  {
   "cell_type": "code",
   "execution_count": 11,
   "metadata": {
    "collapsed": false
   },
   "outputs": [],
   "source": [
    "n_samples = 500\n",
    "C = np.array([[0., -0.1], [1.7, .4]])\n",
    "XX = np.r_[np.dot(np.random.randn(n_samples, 2), C),\n",
    "          .7 * np.random.randn(n_samples, 2) + np.array([-6, 3])]"
   ]
  },
  {
   "cell_type": "code",
   "execution_count": 12,
   "metadata": {
    "collapsed": false
   },
   "outputs": [
    {
     "data": {
      "text/plain": [
       "(1000, 2)"
      ]
     },
     "execution_count": 12,
     "metadata": {},
     "output_type": "execute_result"
    }
   ],
   "source": [
    "XX.shape"
   ]
  },
  {
   "cell_type": "code",
   "execution_count": null,
   "metadata": {
    "collapsed": true
   },
   "outputs": [],
   "source": []
  },
  {
   "cell_type": "code",
   "execution_count": 4,
   "metadata": {
    "collapsed": false
   },
   "outputs": [],
   "source": [
    "X\n",
    "NUMERALS = copy.deepcopy(X[-1])"
   ]
  },
  {
   "cell_type": "code",
   "execution_count": 12,
   "metadata": {
    "collapsed": false,
    "scrolled": true
   },
   "outputs": [
    {
     "name": "stderr",
     "output_type": "stream",
     "text": [
      "         1       -9308.9017             +nan\n",
      "         2       -7168.3007       +2140.6010\n",
      "         3       -7161.9544          +6.3463\n",
      "         4       -7155.2879          +6.6664\n",
      "         5       -7147.6947          +7.5932\n",
      "         6       -7138.5146          +9.1802\n",
      "         7       -7126.8337         +11.6809\n",
      "         8       -7111.2303         +15.6034\n",
      "         9       -7089.5604         +21.6699\n",
      "        10       -7059.2104         +30.3500\n",
      "        11       -7018.6023         +40.6082\n",
      "        12       -6969.9767         +48.6255\n",
      "        13       -6920.2385         +49.7383\n",
      "        14       -6875.9907         +44.2478\n",
      "        15       -6837.6760         +38.3147\n",
      "        16       -6804.4475         +33.2285\n",
      "        17       -6777.8586         +26.5889\n",
      "        18       -6756.3815         +21.4771\n",
      "        19       -6738.6524         +17.7291\n",
      "        20       -6724.0191         +14.6333\n",
      "        21       -6711.7979         +12.2212\n",
      "        22       -6701.1548         +10.6431\n",
      "        23       -6691.2518          +9.9030\n",
      "        24       -6681.3569          +9.8950\n",
      "        25       -6670.9063         +10.4506\n",
      "        26       -6659.6303         +11.2760\n",
      "        27       -6647.7786         +11.8517\n",
      "        28       -6636.2057         +11.5729\n",
      "        29       -6625.9313         +10.2744\n",
      "        30       -6617.4913          +8.4400\n",
      "        31       -6610.7176          +6.7737\n",
      "        32       -6604.9915          +5.7262\n",
      "        33       -6599.6620          +5.3295\n",
      "        34       -6594.2702          +5.3918\n",
      "        35       -6588.5287          +5.7415\n",
      "        36       -6582.2137          +6.3150\n",
      "        37       -6575.0840          +7.1297\n",
      "        38       -6566.8493          +8.2347\n",
      "        39       -6557.1947          +9.6547\n",
      "        40       -6545.8875         +11.3072\n",
      "        41       -6532.9712         +12.9163\n",
      "        42       -6518.9959         +13.9752\n",
      "        43       -6505.1379         +13.8581\n",
      "        44       -6492.9188         +12.2190\n",
      "        45       -6483.4247          +9.4942\n",
      "        46       -6476.7000          +6.7246\n",
      "        47       -6472.0203          +4.6797\n",
      "        48       -6468.5019          +3.5185\n",
      "        49       -6465.4040          +3.0978\n",
      "        50       -6462.3674          +3.0366\n",
      "        51       -6459.5592          +2.8082\n",
      "        52       -6457.2219          +2.3373\n",
      "        53       -6455.3674          +1.8545\n",
      "        54       -6453.8966          +1.4708\n",
      "        55       -6452.7086          +1.1880\n",
      "        56       -6451.7250          +0.9836\n",
      "        57       -6450.8885          +0.8365\n",
      "        58       -6450.1643          +0.7242\n",
      "        59       -6449.5400          +0.6242\n",
      "        60       -6449.0133          +0.5268\n",
      "        61       -6448.5775          +0.4357\n",
      "        62       -6448.2212          +0.3563\n",
      "        63       -6447.9316          +0.2896\n",
      "        64       -6447.6969          +0.2347\n",
      "        65       -6447.5070          +0.1899\n",
      "        66       -6447.3534          +0.1537\n",
      "        67       -6447.2288          +0.1246\n",
      "        68       -6447.1273          +0.1014\n",
      "        69       -6447.0444          +0.0830\n",
      "        70       -6446.9761          +0.0682\n",
      "        71       -6446.9197          +0.0565\n",
      "        72       -6446.8727          +0.0470\n",
      "        73       -6446.8333          +0.0394\n",
      "        74       -6446.8002          +0.0331\n",
      "        75       -6446.7721          +0.0280\n",
      "        76       -6446.7483          +0.0238\n",
      "        77       -6446.7280          +0.0203\n",
      "        78       -6446.7106          +0.0174\n",
      "        79       -6446.6957          +0.0149\n",
      "        80       -6446.6829          +0.0128\n",
      "        81       -6446.6719          +0.0110\n",
      "        82       -6446.6624          +0.0095\n"
     ]
    }
   ],
   "source": [
    "Z = hmm.MultinomialHMM(n_components=3, verbose=True,n_iter=1000,tol=.01)\n",
    "Z.n_features = len(X[2])\n",
    "FIT_DATA = Z.fit(X[0], X[1])"
   ]
  },
  {
   "cell_type": "code",
   "execution_count": 24,
   "metadata": {
    "collapsed": false
   },
   "outputs": [
    {
     "data": {
      "text/plain": [
       "-19855.168176959822"
      ]
     },
     "execution_count": 24,
     "metadata": {},
     "output_type": "execute_result"
    }
   ],
   "source": [
    "FIT_DATA.score(X[0], X[1])"
   ]
  },
  {
   "cell_type": "code",
   "execution_count": 26,
   "metadata": {
    "collapsed": false
   },
   "outputs": [
    {
     "name": "stderr",
     "output_type": "stream",
     "text": [
      "/home/daniel/anaconda3/lib/python3.5/site-packages/hmmlearn/hmm.py:405: RuntimeWarning: divide by zero encountered in log\n",
      "  return np.log(self.emissionprob_)[:, np.concatenate(X)].T\n"
     ]
    },
    {
     "data": {
      "text/plain": [
       "-18880.561984562031"
      ]
     },
     "execution_count": 26,
     "metadata": {},
     "output_type": "execute_result"
    }
   ],
   "source": [
    "FIT_DATA.score(X[0], X[1])"
   ]
  },
  {
   "cell_type": "code",
   "execution_count": 56,
   "metadata": {
    "collapsed": true
   },
   "outputs": [],
   "source": [
    "N = {x:NUMERALS.index(x) for x in NUMERALS}\n",
    "I = [N['I']]\n",
    "ii = [N['ii']]\n",
    "iii = [N['iii']]\n",
    "IV = [N['IV']]\n",
    "V = [N['V']]\n",
    "bVII = [N['bVII']]"
   ]
  },
  {
   "cell_type": "code",
   "execution_count": 60,
   "metadata": {
    "collapsed": false
   },
   "outputs": [
    {
     "name": "stdout",
     "output_type": "stream",
     "text": [
      "-8.42219938796\n",
      "[[  6.26583945e-14   1.00000000e+00   3.68307534e-19]\n",
      " [  4.09515604e-15   1.84914318e-15   1.00000000e+00]\n",
      " [  1.99920366e-14   1.00000000e+00   1.43519759e-18]\n",
      " [  9.99998909e-01   1.71208629e-08   1.07376291e-06]\n",
      " [  1.14775590e-14   1.00000000e+00   1.39198734e-16]\n",
      " [  9.99999887e-01   1.01940575e-07   1.10710099e-08]\n",
      " [  2.51834911e-16   1.10101178e-14   1.00000000e+00]\n",
      " [  1.75840109e-13   1.00000000e+00   3.54997769e-18]]\n"
     ]
    }
   ],
   "source": [
    "FIT_DATA.predict_proba([[NUMERALS.index('I')], [NUMERALS.index('IV')], [NUMERALS.index('V')]])\n",
    "e = FIT_DATA.score_samples([I, V, I, IV, I, IV, V, I])\n",
    "\n",
    "import math\n",
    "print(e[0])\n",
    "print(e[1])\n",
    "# math.exp(e)"
   ]
  },
  {
   "cell_type": "code",
   "execution_count": null,
   "metadata": {
    "collapsed": false,
    "scrolled": true
   },
   "outputs": [],
   "source": [
    "tp = 1\n",
    "YY = hmm.MultinomialHMM(n_components=3, verbose=True, transmat_prior = tp, n_iter=1000,tol=.1)\n",
    "ff = YY.fit(X[0], X[1])\n"
   ]
  },
  {
   "cell_type": "code",
   "execution_count": null,
   "metadata": {
    "collapsed": false
   },
   "outputs": [],
   "source": [
    "YY.fit(X[0], X[1])"
   ]
  },
  {
   "cell_type": "code",
   "execution_count": null,
   "metadata": {
    "collapsed": false,
    "scrolled": true
   },
   "outputs": [],
   "source": [
    "FIT_DATA = Y.fit(X[0], X[1])"
   ]
  },
  {
   "cell_type": "code",
   "execution_count": 13,
   "metadata": {
    "collapsed": false
   },
   "outputs": [
    {
     "data": {
      "text/plain": [
       "['I',\n",
       " 'i',\n",
       " 'II',\n",
       " 'ii',\n",
       " 'bIII',\n",
       " 'III',\n",
       " 'iii',\n",
       " 'IV',\n",
       " 'iv',\n",
       " 'V',\n",
       " 'v',\n",
       " 'bVI',\n",
       " 'VI',\n",
       " 'vi',\n",
       " 'bVII',\n",
       " 'bvii',\n",
       " 'VII',\n",
       " 'vii']"
      ]
     },
     "execution_count": 13,
     "metadata": {},
     "output_type": "execute_result"
    }
   ],
   "source": [
    "emit = FIT_DATA.emissionprob_\n",
    "X[2]"
   ]
  },
  {
   "cell_type": "code",
   "execution_count": null,
   "metadata": {
    "collapsed": false
   },
   "outputs": [],
   "source": [
    "ESTTR11 = FIT_DATA.transmat_\n",
    "TOKEN_NAMES=X[2]\n",
    "ESTEMIT11 = FIT_DATA.emissionprob_\n",
    "K=3\n",
    "pickleit = {'fit': FIT_DATA, 'tokens': TOKEN_NAMES}\n",
    "# joblib.dump(pickleit, '/home/daniel/Desktop/hmmpickle/alfmajorchords6.pkl')"
   ]
  },
  {
   "cell_type": "code",
   "execution_count": null,
   "metadata": {
    "collapsed": false
   },
   "outputs": [],
   "source": [
    "jj = joblib.load('/home/daniel/Desktop/hmm/alfabeto_continuo/minor/3/3.pkl')"
   ]
  },
  {
   "cell_type": "code",
   "execution_count": null,
   "metadata": {
    "collapsed": false
   },
   "outputs": [],
   "source": [
    "jj['fit'].transmat_"
   ]
  },
  {
   "cell_type": "code",
   "execution_count": null,
   "metadata": {
    "collapsed": false
   },
   "outputs": [],
   "source": [
    "emission_prob = []\n",
    "for x in ESTEMIT11:\n",
    "    hey = []\n",
    "    for y in x:\n",
    "        if y >= .01:\n",
    "            hey.append(y)\n",
    "        else:\n",
    "            hey.append(0)\n",
    "    emission_prob.append(hey)"
   ]
  },
  {
   "cell_type": "code",
   "execution_count": null,
   "metadata": {
    "collapsed": false
   },
   "outputs": [],
   "source": [
    "def csv_function(f_variable, path):\n",
    "    with open(path, 'w', newline='') as fp:\n",
    "        a = csv.writer(fp, delimiter=',')\n",
    "        a.writerows(f_variable)"
   ]
  },
  {
   "cell_type": "code",
   "execution_count": null,
   "metadata": {
    "collapsed": false
   },
   "outputs": [],
   "source": [
    "csv_function(emission_prob, '/home/daniel/Desktop/emit_moz_maj.csv')"
   ]
  },
  {
   "cell_type": "code",
   "execution_count": null,
   "metadata": {
    "collapsed": false
   },
   "outputs": [],
   "source": [
    "#compute marginal distribution\n",
    "trn = copy.deepcopy(ESTTR11).conj().transpose()\n",
    "(D,V) = copy.deepcopy(np.linalg.eig(trn))\n",
    "item=max(D)\n",
    "idx = 0\n",
    "for x, y in zip(D, range(len(D))):\n",
    "    if x == item:\n",
    "        idx = y\n",
    "f_marginal=abs(V[:,idx])/sum(abs(V[:,idx]))\n",
    "#whew!\n",
    "\n",
    "#compute P(F|C)\n",
    "k = []\n",
    "for x in ESTEMIT11:\n",
    "    k.append(np.zeros(np.size(x)))\n",
    "PFC = np.array(k)\n",
    "for jj in range(1,len(ESTEMIT11[0])+1):\n",
    "    for ii in range(1,len(ESTEMIT11[:,0])+1):\n",
    "        PFC[ii-1][jj-1]=ESTEMIT11[ii-1][jj-1]*f_marginal[ii-1]/jj\n",
    "    PFC[:,jj-1]=PFC[:,jj-1]/sum(PFC[:,jj-1])\n",
    "    b = PFC[:,jj-1]\n",
    "    a = sum(PFC[:,jj-1])"
   ]
  },
  {
   "cell_type": "code",
   "execution_count": null,
   "metadata": {
    "collapsed": false
   },
   "outputs": [],
   "source": [
    "#Most Likely P(F|C)\n",
    "[midx,_] = PFC.max(0),PFC.argmax(0)\n",
    "state_dict = {}\n",
    "for kk in range(K):\n",
    "    state_dict[kk] = {}\n",
    "    for ll in range(len(midx)):\n",
    "        if PFC[kk][ll]>0.01:\n",
    "            state_dict[kk][TOKEN_NAMES[ll]]=PFC[kk][ll]\n"
   ]
  },
  {
   "cell_type": "code",
   "execution_count": null,
   "metadata": {
    "collapsed": false
   },
   "outputs": [],
   "source": [
    "CSV_LIST = [TOKEN_NAMES]\n",
    "for state in range(len(state_dict)):\n",
    "    token_pct = []\n",
    "    for t in TOKEN_NAMES:\n",
    "        num = 0\n",
    "        for a,b in state_dict[state].items():\n",
    "            if t == a:\n",
    "                token_pct.append(b)\n",
    "                num+=1\n",
    "        if num == 0:\n",
    "            token_pct.append(0)\n",
    "    CSV_LIST.append(token_pct)"
   ]
  },
  {
   "cell_type": "code",
   "execution_count": null,
   "metadata": {
    "collapsed": false
   },
   "outputs": [],
   "source": [
    "csv_function(CSV_LIST, '/home/daniel/Desktop/alf_major_functions.csv')"
   ]
  },
  {
   "cell_type": "code",
   "execution_count": null,
   "metadata": {
    "collapsed": false
   },
   "outputs": [],
   "source": [
    "emission_prob = copy.deepcopy(ESTEMIT11)\n",
    "new_csv = copy.deepcopy(np.array(CSV_LIST[1:]))\n",
    "# print(TOKEN_NAMES)\n",
    "# print(emission_prob.shape)\n",
    "token_reduced = []\n",
    "delete = []\n",
    "for y in range(len(emission_prob[0])):\n",
    "    if sum(emission_prob[0:,y]) <= .03:\n",
    "        delete.append(y)\n",
    "    else:\n",
    "        token_reduced.append(TOKEN_NAMES[y])\n",
    "emission_reduced = np.delete(new_csv, delete, axis=1)\n",
    "# print(emission_reduced.shape)\n",
    "# print(len(token_reduced))\n",
    "# print(token_reduced)\n",
    "# print(emission_reduced)"
   ]
  },
  {
   "cell_type": "code",
   "execution_count": null,
   "metadata": {
    "collapsed": false
   },
   "outputs": [],
   "source": [
    "reduced_csv = [token_reduced]\n",
    "for x in emission_reduced:\n",
    "    reduced_csv.append(x)\n",
    "csv_function(reduced_csv, '/home/daniel/Desktop/reduced_pal_major4.csv')"
   ]
  },
  {
   "cell_type": "code",
   "execution_count": null,
   "metadata": {
    "collapsed": false
   },
   "outputs": [],
   "source": [
    "# emission = np.swapaxes(np.array(CSV_LIST[1:]), 0, 1)\n",
    "# # emission = np.array(emission_reduced)\n",
    "# neato_data = cdist(emission, emission, 'euclidean')*10\n",
    "# # neato_data = []\n",
    "# # for x in emission:\n",
    "# #     temp = []\n",
    "# #     for y in emission:\n",
    "# #         temp.append(euclidean(x, y))\n",
    "# #     neato_data.append(temp)\n",
    "# # print(neato_data)\n",
    "# print(len(token_reduced))\n",
    "\n",
    "# dt = [('len', float)]\n",
    "\n",
    "# A = np.array(neato_data).view(dt)\n",
    "# G = nx.from_numpy_matrix(A)\n",
    "# relabeled_nodes = {}\n",
    "# for x, y in zip(range(len(neato_data[0])), TOKEN_NAMES):\n",
    "#     relabeled_nodes[x] = y\n",
    "#     # print(y[1:-1])\n",
    "# G = nx.relabel_nodes(G, relabeled_nodes)\n",
    "\n",
    "# G = to_agraph(G)\n",
    "\n",
    "# G.node_attr.update(style='filled', fontsize=20)\n",
    "# G.edge_attr.update(color='black', style='invis')\n",
    "# print(G)\n",
    "# #  ♭ ♮ ...for copy and paste\n",
    "# G.draw('/home/daniel/Desktop/tryit.pdf', format='pdf', prog='neato')"
   ]
  },
  {
   "cell_type": "code",
   "execution_count": null,
   "metadata": {
    "collapsed": false
   },
   "outputs": [],
   "source": [
    "ESTTR11\n",
    "import networkx as nx\n",
    "from networkx.drawing.nx_agraph import write_dot, to_agraph\n",
    "import pygraphviz as pgv\n",
    "labels = ['S', 'T', 'D']\n",
    "G = nx.DiGraph()\n",
    "for x, y in zip(ESTTR11, labels):\n",
    "    for a, b in zip(x, labels):\n",
    "        G.add_edge(y, b, penwidth=a*5)\n",
    "edge_weights = []\n",
    "edges = G.edges(data=True)\n",
    "print('edges:', edges)\n",
    "for x in edges:\n",
    "    edge_weights.append(x[2]['penwidth'])\n",
    "nodes = G.nodes()\n",
    "print('nodes:', nodes)\n",
    "for x in nodes:\n",
    "    G.node[x]['shape'] = 'circle'\n",
    "G = to_agraph(G)\n",
    "# G=pgv.AGraph(ranksep=10)\n",
    "G.draw('/home/daniel/Desktop/function.png', format='png', prog='dot')"
   ]
  },
  {
   "cell_type": "code",
   "execution_count": null,
   "metadata": {
    "collapsed": false
   },
   "outputs": [],
   "source": [
    "pp = FIT_DATA.predict_proba(at)\n",
    "bigF = []\n",
    "for x in range(len(pp)):\n",
    "    counter = 0\n",
    "    func = 0\n",
    "    for y in pp[x]:\n",
    "        if y >= .9:\n",
    "            counter += 1\n",
    "            func += func_guess[x]\n",
    "    if counter > 0:\n",
    "        bigF.append(func)\n",
    "    else:\n",
    "        bigF.append('-')"
   ]
  },
  {
   "cell_type": "code",
   "execution_count": null,
   "metadata": {
    "collapsed": false
   },
   "outputs": [],
   "source": [
    "a"
   ]
  },
  {
   "cell_type": "code",
   "execution_count": null,
   "metadata": {
    "collapsed": false
   },
   "outputs": [],
   "source": [
    "felici_numerals = transposed_pc_chords_noMMD(di.GetComposer.all_kaps[0][1]['alfabeto'], 'all')\n",
    "felici_numb = [[TOKEN_NAMES.index(i)] for i in felici_numerals]\n",
    "# f_nums = di.python_hmm(felici, di.modal_major)\n",
    "f_guess = FIT_DATA.predict(felici_numb)\n",
    "pp = FIT_DATA.predict_proba(felici_numb)\n",
    "Labels = ['T', 'D', 'S']"
   ]
  },
  {
   "cell_type": "code",
   "execution_count": null,
   "metadata": {
    "collapsed": false
   },
   "outputs": [],
   "source": [
    "bigF = []\n",
    "reduced_numerals = []\n",
    "bigF2 = []\n",
    "for x in range(len(pp)):\n",
    "    counter = 0\n",
    "    func = 0\n",
    "    for y in pp[x]:\n",
    "        if y >= .95:\n",
    "            counter += 1\n",
    "            func += f_guess[x]\n",
    "            reduced_numerals.append(felici_numb[x])\n",
    "    if counter > 0:\n",
    "        bigF.append(Labels[func])\n",
    "    else:\n",
    "        bigF.append('-')\n",
    "func_surface = [Labels[n] for n in f_guess]\n"
   ]
  },
  {
   "cell_type": "code",
   "execution_count": null,
   "metadata": {
    "collapsed": false
   },
   "outputs": [],
   "source": [
    "csv_felici = [felici_numerals, f_guess, [f[0] for f in pp], [f[1] for f in pp], [f[2] for f in pp]]"
   ]
  },
  {
   "cell_type": "code",
   "execution_count": null,
   "metadata": {
    "collapsed": false
   },
   "outputs": [],
   "source": []
  },
  {
   "cell_type": "code",
   "execution_count": null,
   "metadata": {
    "collapsed": false
   },
   "outputs": [],
   "source": [
    "csv_function(csv_felici, '/home/daniel/Desktop/hierarchy.csv')"
   ]
  },
  {
   "cell_type": "code",
   "execution_count": null,
   "metadata": {
    "collapsed": false
   },
   "outputs": [],
   "source": [
    "def hierarchy_maker(corpus_function):\n",
    "    f_numbers = [[TOKEN_NAMES.index(i)] for i in corpus_function]\n",
    "    reduced_numerals = copy.deepcopy(f_numbers)\n",
    "    rereduced_numerals = []\n",
    "    print([TOKEN_NAMES[x[0]] for x in reduced_numerals])\n",
    "    \n",
    "    while reduced_numerals != rereduced_numerals:\n",
    "        if len(rereduced_numerals) > 0:\n",
    "            reduced_numerals = rereduced_numerals\n",
    "        f_guess = FIT_DATA.predict(reduced_numerals)\n",
    "        pp = FIT_DATA.predict_proba(reduced_numerals)\n",
    "        print(len(pp))\n",
    "        rereduced_numerals = []\n",
    "        for x in range(len(pp)):\n",
    "            counter = 0\n",
    "            func = 0\n",
    "            for y in pp[x]:\n",
    "                if y >= .99:\n",
    "                    counter += 1\n",
    "                    func += f_guess[x]\n",
    "                    rereduced_numerals.append(reduced_numerals[x])\n",
    "#         rereduced_numerals = []\n",
    "        print([TOKEN_NAMES[x[0]] for x in reduced_numerals])\n",
    "        print(len(reduced_numerals))\n",
    "    print()\n",
    "#         if counter > 0:\n",
    "#             bigF.append(Labels[func])\n",
    "#         else:\n",
    "#             bigF.append('-')\n",
    "#     func_surface = [Labels[n] for n in f_guess]"
   ]
  },
  {
   "cell_type": "code",
   "execution_count": null,
   "metadata": {
    "collapsed": false
   },
   "outputs": [],
   "source": [
    "hierarchy_maker(transposed_pc_chords_noMMD(di.GetComposer.all_kaps[0][1]['alfabeto'], 'all'))"
   ]
  },
  {
   "cell_type": "code",
   "execution_count": null,
   "metadata": {
    "collapsed": false
   },
   "outputs": [],
   "source": [
    "hierarchy_maker"
   ]
  },
  {
   "cell_type": "code",
   "execution_count": 21,
   "metadata": {
    "collapsed": false
   },
   "outputs": [
    {
     "data": {
      "text/plain": [
       "array([[  6.66000000e+002,   2.86729113e-019,   7.66897361e-004,\n",
       "          3.08638960e-012,   5.15642096e-002,   5.86960434e-003,\n",
       "          2.85095627e-002,   5.35716062e-002,   8.53626345e-007,\n",
       "          5.14215509e-013,   6.01522952e-001,   1.16741837e-001,\n",
       "          2.66623382e-062,   4.62286251e-005,   4.43064659e-002,\n",
       "          7.09907868e-002,   1.04069715e-003,   1.21193617e-003,\n",
       "          2.38563632e-002],\n",
       "       [  6.66000000e+002,   6.14132690e-001,   1.53878433e-002,\n",
       "          1.19469080e-005,   4.48379797e-006,   2.50958998e-003,\n",
       "          1.35258863e-003,   8.61441180e-002,   4.24561614e-007,\n",
       "          3.37126861e-134,   4.04378046e-021,   7.43326224e-003,\n",
       "          8.42565037e-004,   1.06000045e-001,   1.47583239e-001,\n",
       "          1.85972039e-002,   2.16014997e-125,   8.11891738e-051,\n",
       "          3.64147995e-101],\n",
       "       [  6.66000000e+002,   1.06618431e-004,   1.84766782e-016,\n",
       "          1.21030610e-001,   2.59132338e-001,   1.27642767e-003,\n",
       "          1.28109838e-012,   3.03351070e-003,   4.66617666e-001,\n",
       "          1.84799560e-003,   8.74801850e-014,   1.15284495e-006,\n",
       "          1.01046504e-060,   1.37873322e-004,   6.95462699e-002,\n",
       "          5.51748895e-002,   2.71047216e-074,   3.54395420e-003,\n",
       "          1.85506933e-002]])"
      ]
     },
     "execution_count": 21,
     "metadata": {},
     "output_type": "execute_result"
    }
   ],
   "source": [
    "np.insert(emit, 0, 666, axis=1)"
   ]
  },
  {
   "cell_type": "code",
   "execution_count": null,
   "metadata": {
    "collapsed": true
   },
   "outputs": [],
   "source": []
  }
 ],
 "metadata": {
  "anaconda-cloud": {},
  "kernelspec": {
   "display_name": "Python 3",
   "language": "python",
   "name": "python3"
  },
  "language_info": {
   "codemirror_mode": {
    "name": "ipython",
    "version": 3
   },
   "file_extension": ".py",
   "mimetype": "text/x-python",
   "name": "python",
   "nbconvert_exporter": "python",
   "pygments_lexer": "ipython3",
   "version": "3.6.0"
  }
 },
 "nbformat": 4,
 "nbformat_minor": 0
}
