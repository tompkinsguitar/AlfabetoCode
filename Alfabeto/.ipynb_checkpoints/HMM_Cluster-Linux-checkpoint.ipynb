{
 "cells": [
  {
   "cell_type": "code",
   "execution_count": 1,
   "metadata": {
    "collapsed": false,
    "scrolled": true
   },
   "outputs": [],
   "source": [
    "import ipyparallel as ipp"
   ]
  },
  {
   "cell_type": "code",
   "execution_count": 3,
   "metadata": {
    "collapsed": false
   },
   "outputs": [
    {
     "name": "stdout",
     "output_type": "stream",
     "text": [
      "Waiting for connection file: ~/.ipython/profile_default/security/ipcontroller-client.json\n"
     ]
    },
    {
     "ename": "OSError",
     "evalue": "Connection file '~/.ipython/profile_default/security/ipcontroller-client.json' not found.\nYou have attempted to connect to an IPython Cluster but no Controller could be found.\nPlease double-check your configuration and ensure that a cluster is running.",
     "output_type": "error",
     "traceback": [
      "\u001b[1;31m---------------------------------------------------------------------------\u001b[0m",
      "\u001b[1;31mOSError\u001b[0m                                   Traceback (most recent call last)",
      "\u001b[1;32m<ipython-input-3-301a7217f3fc>\u001b[0m in \u001b[0;36m<module>\u001b[1;34m()\u001b[0m\n\u001b[1;32m----> 1\u001b[1;33m \u001b[0mrc\u001b[0m \u001b[1;33m=\u001b[0m \u001b[0mipp\u001b[0m\u001b[1;33m.\u001b[0m\u001b[0mClient\u001b[0m\u001b[1;33m(\u001b[0m\u001b[0msshserver\u001b[0m\u001b[1;33m=\u001b[0m\u001b[1;34m'daniel@hpc-login.rcc.fsu.edu'\u001b[0m\u001b[1;33m)\u001b[0m\u001b[1;33m\u001b[0m\u001b[0m\n\u001b[0m",
      "\u001b[1;32m/home/daniel/anaconda3/lib/python3.5/site-packages/ipyparallel/client/client.py\u001b[0m in \u001b[0;36m__init__\u001b[1;34m(self, url_file, profile, profile_dir, ipython_dir, context, debug, sshserver, sshkey, password, paramiko, timeout, cluster_id, **extra_args)\u001b[0m\n\u001b[0;32m    389\u001b[0m                         \u001b[0mno_file_msg\u001b[0m\u001b[1;33m,\u001b[0m\u001b[1;33m\u001b[0m\u001b[0m\n\u001b[0;32m    390\u001b[0m                     ])\n\u001b[1;32m--> 391\u001b[1;33m                     \u001b[1;32mraise\u001b[0m \u001b[0mIOError\u001b[0m\u001b[1;33m(\u001b[0m\u001b[0mmsg\u001b[0m\u001b[1;33m)\u001b[0m\u001b[1;33m\u001b[0m\u001b[0m\n\u001b[0m\u001b[0;32m    392\u001b[0m         \u001b[1;32mif\u001b[0m \u001b[0murl_file\u001b[0m \u001b[1;32mis\u001b[0m \u001b[1;32mNone\u001b[0m\u001b[1;33m:\u001b[0m\u001b[1;33m\u001b[0m\u001b[0m\n\u001b[0;32m    393\u001b[0m             \u001b[1;32mraise\u001b[0m \u001b[0mIOError\u001b[0m\u001b[1;33m(\u001b[0m\u001b[0mno_file_msg\u001b[0m\u001b[1;33m)\u001b[0m\u001b[1;33m\u001b[0m\u001b[0m\n",
      "\u001b[1;31mOSError\u001b[0m: Connection file '~/.ipython/profile_default/security/ipcontroller-client.json' not found.\nYou have attempted to connect to an IPython Cluster but no Controller could be found.\nPlease double-check your configuration and ensure that a cluster is running."
     ]
    }
   ],
   "source": [
    "rc = ipp.Client(sshserver='daniel@hpc-login.rcc.fsu.edu')"
   ]
  },
  {
   "cell_type": "code",
   "execution_count": null,
   "metadata": {
    "collapsed": false,
    "scrolled": true
   },
   "outputs": [],
   "source": [
    "rc.ids"
   ]
  },
  {
   "cell_type": "code",
   "execution_count": null,
   "metadata": {
    "collapsed": false
   },
   "outputs": [],
   "source": [
    "dview = rc[:]"
   ]
  },
  {
   "cell_type": "code",
   "execution_count": null,
   "metadata": {
    "collapsed": false
   },
   "outputs": [],
   "source": [
    "dview.execute('import alfabeto_data.hmm_threading as ht')\n",
    "dview.execute('import alfabeto_data.dissertation_images as di')"
   ]
  },
  {
   "cell_type": "code",
   "execution_count": null,
   "metadata": {
    "collapsed": false
   },
   "outputs": [],
   "source": [
    "parallel_dict = {}\n",
    "thing_number = 0\n",
    "for cluster in range(2, 16):\n",
    "    for mc in range(5):\n",
    "        parallel_dict[thing_number] = {'cluster':cluster, 'mc': mc}\n",
    "        thing_number += 1\n",
    "\n",
    "@dview.parallel(block=True)\n",
    "def parallel_hmm(parallel_number):\n",
    "    parallel_dict = {}\n",
    "    thing_number = 0\n",
    "    for cluster in range(2, 16):\n",
    "        for mc in range(5):\n",
    "            parallel_dict[thing_number] = {'cluster':cluster, 'mc': mc}\n",
    "            thing_number += 1\n",
    "    ht.hmm_pickle_generator('alfabeto continuo', di.GetAll.all_alf, di.modal_major, 'alfabeto_continuo', \n",
    "                            'major', parallel_dict[parallel_number]['mc'], parallel_dict[parallel_number]['cluster'], \n",
    "                            range(50), 'hmm/')\n",
    "#     ht.hmm_pickle_generator('palestrina', di.palestrina_continuo, [(0, 0), (-1, 5)], 'palestrina', \n",
    "#                             'major', parallel_dict[parallel_number]['mc'], parallel_dict[parallel_number]['cluster'], \n",
    "#                             range(50), 'C:/Users/Daniel/Desktop/')\n",
    "    ht.hmm_pickle_generator('bach', di.palestrina_continuo, di.tonal_major, 'bach', \n",
    "                            'major', parallel_dict[parallel_number]['mc'], parallel_dict[parallel_number]['cluster'], \n",
    "                            range(50), 'hmm/')\n"
   ]
  },
  {
   "cell_type": "code",
   "execution_count": null,
   "metadata": {
    "collapsed": false
   },
   "outputs": [],
   "source": [
    "parallel_hmm.map([k for k in range(len(parallel_dict))])\n",
    "# parallel_hmm_2.map([k for k in range(2, 16)])"
   ]
  },
  {
   "cell_type": "code",
   "execution_count": null,
   "metadata": {
    "collapsed": true
   },
   "outputs": [],
   "source": [
    "# import os\n",
    "# needs_making = []"
   ]
  },
  {
   "cell_type": "code",
   "execution_count": null,
   "metadata": {
    "collapsed": false
   },
   "outputs": [],
   "source": [
    "# # needs_making = []\n",
    "# # made = []\n",
    "# for corpus in ['alfabeto_continuo', 'bach']:\n",
    "#     for y in range(2, 16):\n",
    "#         for x in range(5): \n",
    "#             for num in range(30):\n",
    "#                 if not os.path.exists('/home/daniel/Desktop/hmm_mc/%s/major/%s/%s/%s.pkl' \n",
    "#                                       % (corpus, y, x, num)) and num not in needs_making:\n",
    "#                     needs_making.append(num)\n",
    "# #     else:\n",
    "# #         made.append(num)"
   ]
  }
 ],
 "metadata": {
  "anaconda-cloud": {},
  "kernelspec": {
   "display_name": "Python [Root]",
   "language": "python",
   "name": "Python [Root]"
  },
  "language_info": {
   "codemirror_mode": {
    "name": "ipython",
    "version": 3
   },
   "file_extension": ".py",
   "mimetype": "text/x-python",
   "name": "python",
   "nbconvert_exporter": "python",
   "pygments_lexer": "ipython3",
   "version": "3.5.2"
  }
 },
 "nbformat": 4,
 "nbformat_minor": 0
}
