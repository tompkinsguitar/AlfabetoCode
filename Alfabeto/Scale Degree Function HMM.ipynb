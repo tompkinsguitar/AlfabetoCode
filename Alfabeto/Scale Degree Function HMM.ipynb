{
 "cells": [
  {
   "cell_type": "code",
   "execution_count": 1,
   "metadata": {
    "collapsed": true
   },
   "outputs": [],
   "source": [
    "from music21 import *"
   ]
  },
  {
   "cell_type": "code",
   "execution_count": 9,
   "metadata": {
    "collapsed": true
   },
   "outputs": [],
   "source": [
    "A = corpus.getComposer('bach')"
   ]
  },
  {
   "cell_type": "code",
   "execution_count": 12,
   "metadata": {
    "collapsed": false
   },
   "outputs": [],
   "source": [
    "X = corpus.parse(A[0])"
   ]
  },
  {
   "cell_type": "code",
   "execution_count": 18,
   "metadata": {
    "collapsed": false
   },
   "outputs": [
    {
     "data": {
      "text/plain": [
       "'bwv1.6.mxl'"
      ]
     },
     "execution_count": 18,
     "metadata": {},
     "output_type": "execute_result"
    }
   ],
   "source": [
    "X.metadata.title"
   ]
  },
  {
   "cell_type": "code",
   "execution_count": 23,
   "metadata": {
    "collapsed": false,
    "scrolled": false
   },
   "outputs": [
    {
     "data": {
      "text/plain": [
       "music21.stream.Score"
      ]
     },
     "execution_count": 23,
     "metadata": {},
     "output_type": "execute_result"
    }
   ],
   "source": [
    "type(A)"
   ]
  },
  {
   "cell_type": "code",
   "execution_count": 35,
   "metadata": {
    "collapsed": false
   },
   "outputs": [],
   "source": [
    "a = AP[0].flat.getElementsByClass(note.Note)"
   ]
  },
  {
   "cell_type": "code",
   "execution_count": 95,
   "metadata": {
    "collapsed": false
   },
   "outputs": [],
   "source": [
    "mynotes = A.parts[0].flat.getElementsByClass(note.Note)\n",
    "crd = A.chordify().flat.getElementsByClass(chord.Chord)\n",
    "bass = crd[-1].bass().pitchClass"
   ]
  },
  {
   "cell_type": "code",
   "execution_count": 96,
   "metadata": {
    "collapsed": false
   },
   "outputs": [],
   "source": [
    "all_notes = [x for x in mynotes]\n",
    "all_notes_transposed = [(x.pitchClass-bass)%12 for x in mynotes]"
   ]
  },
  {
   "cell_type": "code",
   "execution_count": 5,
   "metadata": {
    "collapsed": false
   },
   "outputs": [],
   "source": [
    "from hmmlearn import hmm"
   ]
  },
  {
   "cell_type": "code",
   "execution_count": 153,
   "metadata": {
    "collapsed": false
   },
   "outputs": [],
   "source": [
    "def scale_degree_parser(unparsed):\n",
    "    counter = 0\n",
    "    sd_dict = {}\n",
    "    hmm_notes = []\n",
    "    lengths = []\n",
    "    all_parsed = []\n",
    "    for x in unparsed:\n",
    "        all_parsed.append(converter.parse(x))\n",
    "    for x in all_parsed:\n",
    "        if type(x) is stream.Score:\n",
    "            A = x\n",
    "            for part in range(len(A.parts)):\n",
    "                mynotes = A.parts[part].flat.getElementsByClass(note.Note)\n",
    "                crd = A.chordify().flat.getElementsByClass(chord.Chord)\n",
    "                bass = crd[-1].bass().pitchClass\n",
    "                all_notes_transposed = [(j.pitchClass-bass)%12 for j in mynotes]\n",
    "                lengths.append(len(all_notes_transposed))\n",
    "                for n in all_notes_transposed:\n",
    "                    if n in sd_dict.keys():\n",
    "                        hmm_notes.append([sd_dict[n]])\n",
    "                    elif n not in sd_dict.keys():\n",
    "                        \n",
    "                        hmm_notes.append([counter])\n",
    "                        counter += 1\n",
    "                        sd_dict[n] = counter\n",
    "                \n",
    "        elif type(x) is stream.Opus:\n",
    "            for A in x:\n",
    "                for part in range(len(A.parts)):\n",
    "                    mynotes = A.parts[part].flat.getElementsByClass(note.Note)\n",
    "                    crd = A.chordify().flat.getElementsByClass(chord.Chord)\n",
    "                    bass = crd[-1].bass().pitchClass\n",
    "                    all_notes_transposed = [(j.pitchClass-bass)%12 for j in mynotes]\n",
    "                    lengths.append(len(all_notes_transposed))\n",
    "                    for n in all_notes_transposed:\n",
    "                        if n in sd_dict.keys():\n",
    "                            hmm_notes.append([sd_dict[n]])\n",
    "                        elif n not in sd_dict.keys():\n",
    "                            \n",
    "                            hmm_notes.append([counter])\n",
    "                            counter += 1\n",
    "                            sd_dict[n] = counter\n",
    "    print(hmm_notes)\n",
    "    print(lengths)\n",
    "    Z = hmm.MultinomialHMM(n_components=3, verbose=False,n_iter=1000,tol=.01)\n",
    "    FIT_DATA = Z.fit(hmm_notes, lengths)\n",
    "    tokens = []\n",
    "    for x in range(len(sd_dict)):\n",
    "        for a, b in sd_dict.items():\n",
    "            if x == b:\n",
    "                tokens.append(a)\n",
    "    return {'fit':FIT_DATA, 'tokens':tokens}"
   ]
  },
  {
   "cell_type": "code",
   "execution_count": 154,
   "metadata": {
    "collapsed": false,
    "scrolled": true
   },
   "outputs": [
    {
     "name": "stdout",
     "output_type": "stream",
     "text": [
      "[[0], [1], [2], [2], [3], [3], [4], [2], [4], [5], [2], [4], [3], [4], [2], [2], [5], [2], [4], [3], [6], [7], [3], [4], [2], [2], [5], [7], [1], [1], [8], [2], [9], [5], [2], [6], [2], [5], [2], [2], [2], [6], [3], [6], [2], [1], [5], [2], [2], [4], [7], [4], [3], [7], [1], [7], [3], [7], [2], [2], [9], [5], [5], [2], [2], [6], [2], [2], [4], [3], [1], [3], [4], [4], [3], [7], [1], [1], [7], [7], [3], [7], [1], [1], [1], [9], [5], [2], [1], [1], [9], [5], [2], [4], [2], [2], [4], [3], [3], [7], [1], [1], [1], [8], [5], [8], [1], [1], [4], [1], [1], [5], [9], [5], [8], [1], [7], [2], [1], [8], [1], [2], [5], [7], [7], [7], [1], [3], [7], [1], [1], [1], [7], [3], [4], [4], [9], [1], [10], [7], [4], [3], [7], [1], [5], [1], [7], [7], [1], [7], [3], [7], [1], [9], [5], [5], [4], [2], [5], [9], [1], [7], [7], [7], [2], [7], [1], [1], [9], [5], [2], [5], [5], [2], [4], [2], [5], [8], [1], [2], [6], [2], [3], [2], [4], [1], [1], [7], [3], [4], [4], [2], [3], [1], [9], [5], [2], [5], [8], [1], [2], [5], [2], [2], [7], [2], [2], [2], [1], [2], [2], [3], [4], [3], [4], [2], [5], [7], [4], [3], [7], [3], [4], [2], [7], [3], [4], [2], [5], [2], [4], [3], [4], [7], [3], [5], [2], [4], [2], [4], [3], [7], [1], [2], [6], [3], [6], [2], [1], [7], [2], [5], [8], [1], [1], [1], [4], [4], [2], [1], [2], [7], [9], [1], [8], [5], [8], [1], [7], [2], [5], [9], [1], [8], [5], [8], [1], [4], [1], [9], [2], [9], [5], [2], [6], [2], [5], [2], [1], [1], [9], [5], [5], [2], [4], [3], [4], [1], [3], [7], [7], [1], [1], [1], [9], [5], [5], [2], [5], [8], [1], [2], [4], [3], [1], [3], [4], [4], [3], [7], [1], [7], [3], [7], [1], [1], [4], [1], [5], [9], [5], [5], [9], [1], [9], [5], [2], [2], [5], [8], [1], [1], [4], [5], [2], [2], [1], [9], [2], [9], [5], [2], [4], [2], [5], [2], [7], [1], [9], [5], [9], [1], [7], [1], [9], [5], [2], [5], [9], [2], [5], [9], [1], [7], [5], [9], [5], [2], [4], [3], [2], [1], [9], [5], [5], [2], [4], [2], [5], [4], [2], [3], [4], [1], [1], [1], [9], [5], [4], [2], [5], [1], [1], [9], [5], [2], [5], [9], [1], [4], [2], [2], [1], [7], [2], [4], [7], [3], [3], [4], [1], [5], [9], [5], [9], [1], [7], [2], [5], [9], [1], [7], [3], [4], [3], [7], [1], [4], [2], [1], [5], [7], [1], [9], [5], [2], [7], [7], [3], [4], [2], [1], [4], [3], [7], [1], [2], [2], [7], [3], [4], [2], [2], [4], [7], [4], [3], [7], [1], [2], [2], [2], [7], [2], [7], [7], [2], [9], [1], [2], [2], [4], [4], [3], [3], [7], [2], [1], [2], [5], [9], [1], [7], [3], [4], [4], [3], [4], [1], [9], [5], [2], [4], [4], [1], [1], [1], [9], [5], [1], [2], [1], [1]]\n",
      "[108, 100, 118, 93, 94]\n"
     ]
    },
    {
     "name": "stderr",
     "output_type": "stream",
     "text": [
      "/home/daniel/anaconda3/lib/python3.6/site-packages/hmmlearn/hmm.py:405: RuntimeWarning: divide by zero encountered in log\n",
      "  return np.log(self.emissionprob_)[:, np.concatenate(X)].T\n"
     ]
    }
   ],
   "source": [
    "FIT_DATA = scale_degree_parser(corpus.getComposer('palestrina')[0:1])"
   ]
  },
  {
   "cell_type": "code",
   "execution_count": 155,
   "metadata": {
    "collapsed": false
   },
   "outputs": [
    {
     "name": "stdout",
     "output_type": "stream",
     "text": [
      "[[  0.00000000e+000   2.47950352e-001   1.03632341e-001   1.90014638e-001\n",
      "    2.07254930e-001   5.14552316e-003   6.90311124e-018   2.41683181e-001\n",
      "    6.69290930e-066   2.14940150e-049   4.31903459e-003]\n",
      " [  7.02521749e-003   2.41269231e-001   1.10313706e-001   8.01418542e-015\n",
      "    1.08819658e-001   4.69345229e-001   6.32269574e-002   7.86507336e-010\n",
      "    2.34678800e-106   7.09867988e-059   5.66455900e-102]\n",
      " [  0.00000000e+000   5.20975989e-002   4.76581224e-001   4.31655650e-002\n",
      "    3.76456055e-003   2.29314034e-021   7.97186090e-070   4.34316307e-002\n",
      "    1.00630790e-001   2.80328631e-001   4.27948232e-033]]\n"
     ]
    }
   ],
   "source": [
    "emiss = FIT_DATA['fit'].emissionprob_\n",
    "tokens = FIT_DATA['tokens']\n",
    "trans = FIT_DATA['fit'].transmat_\n",
    "print(emiss)"
   ]
  },
  {
   "cell_type": "code",
   "execution_count": 156,
   "metadata": {
    "collapsed": false
   },
   "outputs": [],
   "source": [
    "import matplotlib.pyplot as plt\n",
    "import os\n",
    "import matplotlib as mpl\n",
    "mpl.rcParams['patch.force_edgecolor'] = True\n",
    "mpl.rcParams['patch.facecolor'] = 'b'\n",
    "\n",
    "\n",
    "def pie_nodes(fit_data_dict):\n",
    "    emiss = fit_data_dict['fit'].emissionprob_\n",
    "    tokens = fit_data_dict['tokens']\n",
    "#     K = len(emiss)\n",
    "    plt.close()\n",
    "    K = 3\n",
    "    for k in range(K):\n",
    "        plt.figure(figsize=(2,2), tight_layout=True)\n",
    "        emit1_data = []\n",
    "        emit1_labels = []\n",
    "        plt.rcParams['font.size'] = 14.0\n",
    "        plt.rcParams['font.family'] = 'serif'\n",
    "        plt.axis('equal')\n",
    "        # csfont = {'fontname':'Comic Sans MS'}\n",
    "        kcolors = ['white']\n",
    "        other_numb = 0\n",
    "        for a, b in zip(emiss[k], tokens):\n",
    "            if a >= .03:\n",
    "                emit1_data.append(a)\n",
    "                emit1_labels.append(b)\n",
    "            else:\n",
    "                other_numb += a\n",
    "        emit1_data.append(other_numb)\n",
    "        emit1_labels.append('other')\n",
    "\n",
    "        a, b = plt.pie(emit1_data, labels=emit1_labels, radius=2, colors=kcolors, labeldistance=0.8)\n",
    "        for bb in b:\n",
    "            bb.set_horizontalalignment('center')\n",
    "            bb.set_fontsize(12)\n",
    "        pltpath = '/home/daniel/Desktop'\n",
    "        if not os.path.exists(pltpath):\n",
    "            os.makedirs(pltpath)\n",
    "        plt.savefig(pltpath+'/%s_%s.png' %(K, k), bbox_inches='tight')\n",
    "        plt.close()"
   ]
  },
  {
   "cell_type": "code",
   "execution_count": 157,
   "metadata": {
    "collapsed": false
   },
   "outputs": [
    {
     "name": "stderr",
     "output_type": "stream",
     "text": [
      "/home/daniel/anaconda3/lib/python3.6/site-packages/matplotlib/figure.py:1742: UserWarning: This figure includes Axes that are not compatible with tight_layout, so its results might be incorrect.\n",
      "  warnings.warn(\"This figure includes Axes that are not \"\n"
     ]
    }
   ],
   "source": [
    "pie_nodes(FIT_DATA)"
   ]
  },
  {
   "cell_type": "code",
   "execution_count": 158,
   "metadata": {
    "collapsed": true
   },
   "outputs": [],
   "source": [
    "import networkx as nx\n",
    "from networkx.drawing.nx_agraph import write_dot, to_agraph\n",
    "def neato_function(K):\n",
    "    import networkx as nx\n",
    "    from networkx.drawing.nx_agraph import write_dot, to_agraph\n",
    "    import pygraphviz as pgv\n",
    "    G = nx.DiGraph()\n",
    "    labels =[x+1 for x in range(K)]\n",
    "    for x, y in zip(trans, labels):\n",
    "        for a, b in zip(x, labels):\n",
    "            G.add_edge(y, b, penwidth=a*8)\n",
    "    edge_weights = []\n",
    "    edges = G.edges(data=True)\n",
    "    print('edges:', edges)\n",
    "    for x in edges:\n",
    "        edge_weights.append(x[2]['penwidth'])\n",
    "    nodes = G.nodes()\n",
    "    print('nodes:', nodes)\n",
    "    for x in range(len(nodes)):\n",
    "        G.node[nodes[x]]['shape'] = 'none'\n",
    "        G.node[nodes[x]]['image'] = '/home/daniel/Desktop/%s_%s.svg' %(K,x)\n",
    "        G.node[nodes[x]]['fontcolor'] = 'blue'\n",
    "        G.node[nodes[x]]['fontsize'] = 40\n",
    "    G = to_agraph(G)\n",
    "    # G=pgv.AGraph(ranksep=10)\n",
    "    G.draw('/home/daniel/Desktop/function.pdf', format='pdf', prog='dot')"
   ]
  },
  {
   "cell_type": "code",
   "execution_count": 159,
   "metadata": {
    "collapsed": false
   },
   "outputs": [
    {
     "name": "stdout",
     "output_type": "stream",
     "text": [
      "edges: [(1, 1, {'penwidth': 6.6035619374540691}), (1, 2, {'penwidth': 0.0054456532530323329}), (1, 3, {'penwidth': 1.390992409292898}), (2, 1, {'penwidth': 0.79913059403427145}), (2, 2, {'penwidth': 1.5828712153150279}), (2, 3, {'penwidth': 5.6179981906507006}), (3, 1, {'penwidth': 1.671504362503512}), (3, 2, {'penwidth': 6.3261418720549365}), (3, 3, {'penwidth': 0.0023537654415526528})]\n",
      "nodes: [1, 2, 3]\n"
     ]
    },
    {
     "ename": "TypeError",
     "evalue": "cannot use a string pattern on a bytes-like object",
     "output_type": "error",
     "traceback": [
      "\u001b[0;31m---------------------------------------------------------------------------\u001b[0m",
      "\u001b[0;31mTypeError\u001b[0m                                 Traceback (most recent call last)",
      "\u001b[0;32m<ipython-input-159-4ebdd6696d54>\u001b[0m in \u001b[0;36m<module>\u001b[0;34m()\u001b[0m\n\u001b[0;32m----> 1\u001b[0;31m \u001b[0mneato_function\u001b[0m\u001b[0;34m(\u001b[0m\u001b[0;36m3\u001b[0m\u001b[0;34m)\u001b[0m\u001b[0;34m\u001b[0m\u001b[0m\n\u001b[0m",
      "\u001b[0;32m<ipython-input-158-920f205a5583>\u001b[0m in \u001b[0;36mneato_function\u001b[0;34m(K)\u001b[0m\n\u001b[1;32m     24\u001b[0m     \u001b[0mG\u001b[0m \u001b[0;34m=\u001b[0m \u001b[0mto_agraph\u001b[0m\u001b[0;34m(\u001b[0m\u001b[0mG\u001b[0m\u001b[0;34m)\u001b[0m\u001b[0;34m\u001b[0m\u001b[0m\n\u001b[1;32m     25\u001b[0m     \u001b[0;31m# G=pgv.AGraph(ranksep=10)\u001b[0m\u001b[0;34m\u001b[0m\u001b[0;34m\u001b[0m\u001b[0m\n\u001b[0;32m---> 26\u001b[0;31m     \u001b[0mG\u001b[0m\u001b[0;34m.\u001b[0m\u001b[0mdraw\u001b[0m\u001b[0;34m(\u001b[0m\u001b[0;34m'/home/daniel/Desktop/function.pdf'\u001b[0m\u001b[0;34m,\u001b[0m \u001b[0mformat\u001b[0m\u001b[0;34m=\u001b[0m\u001b[0;34m'pdf'\u001b[0m\u001b[0;34m,\u001b[0m \u001b[0mprog\u001b[0m\u001b[0;34m=\u001b[0m\u001b[0;34m'dot'\u001b[0m\u001b[0;34m)\u001b[0m\u001b[0;34m\u001b[0m\u001b[0m\n\u001b[0m",
      "\u001b[0;32m/home/daniel/anaconda3/lib/python3.6/site-packages/pygraphviz/agraph.py\u001b[0m in \u001b[0;36mdraw\u001b[0;34m(self, path, format, prog, args)\u001b[0m\n\u001b[1;32m   1472\u001b[0m             \u001b[0margs\u001b[0m \u001b[0;34m=\u001b[0m \u001b[0;34m' '\u001b[0m\u001b[0;34m.\u001b[0m\u001b[0mjoin\u001b[0m\u001b[0;34m(\u001b[0m\u001b[0;34m[\u001b[0m\u001b[0margs\u001b[0m\u001b[0;34m,\u001b[0m \u001b[0;34m\"-T\"\u001b[0m \u001b[0;34m+\u001b[0m \u001b[0mformat\u001b[0m\u001b[0;34m]\u001b[0m\u001b[0;34m)\u001b[0m\u001b[0;34m\u001b[0m\u001b[0m\n\u001b[1;32m   1473\u001b[0m \u001b[0;34m\u001b[0m\u001b[0m\n\u001b[0;32m-> 1474\u001b[0;31m         \u001b[0mdata\u001b[0m \u001b[0;34m=\u001b[0m \u001b[0mself\u001b[0m\u001b[0;34m.\u001b[0m\u001b[0m_run_prog\u001b[0m\u001b[0;34m(\u001b[0m\u001b[0mprog\u001b[0m\u001b[0;34m,\u001b[0m \u001b[0margs\u001b[0m\u001b[0;34m)\u001b[0m\u001b[0;34m\u001b[0m\u001b[0m\n\u001b[0m\u001b[1;32m   1475\u001b[0m \u001b[0;34m\u001b[0m\u001b[0m\n\u001b[1;32m   1476\u001b[0m         \u001b[0;32mif\u001b[0m \u001b[0mpath\u001b[0m \u001b[0;32mis\u001b[0m \u001b[0;32mnot\u001b[0m \u001b[0;32mNone\u001b[0m\u001b[0;34m:\u001b[0m\u001b[0;34m\u001b[0m\u001b[0m\n",
      "\u001b[0;32m/home/daniel/anaconda3/lib/python3.6/site-packages/pygraphviz/agraph.py\u001b[0m in \u001b[0;36m_run_prog\u001b[0;34m(self, prog, args)\u001b[0m\n\u001b[1;32m   1336\u001b[0m \u001b[0;34m\u001b[0m\u001b[0m\n\u001b[1;32m   1337\u001b[0m         \u001b[0;32mif\u001b[0m \u001b[0mlen\u001b[0m\u001b[0;34m(\u001b[0m\u001b[0merrors\u001b[0m\u001b[0;34m)\u001b[0m \u001b[0;34m>\u001b[0m \u001b[0;36m0\u001b[0m\u001b[0;34m:\u001b[0m\u001b[0;34m\u001b[0m\u001b[0m\n\u001b[0;32m-> 1338\u001b[0;31m             \u001b[0mwarnings\u001b[0m\u001b[0;34m.\u001b[0m\u001b[0mwarn\u001b[0m\u001b[0;34m(\u001b[0m\u001b[0;34mb\"\"\u001b[0m\u001b[0;34m.\u001b[0m\u001b[0mjoin\u001b[0m\u001b[0;34m(\u001b[0m\u001b[0merrors\u001b[0m\u001b[0;34m)\u001b[0m\u001b[0;34m,\u001b[0m \u001b[0mRuntimeWarning\u001b[0m\u001b[0;34m)\u001b[0m\u001b[0;34m\u001b[0m\u001b[0m\n\u001b[0m\u001b[1;32m   1339\u001b[0m \u001b[0;34m\u001b[0m\u001b[0m\n\u001b[1;32m   1340\u001b[0m         \u001b[0;32mreturn\u001b[0m \u001b[0;34mb\"\"\u001b[0m\u001b[0;34m.\u001b[0m\u001b[0mjoin\u001b[0m\u001b[0;34m(\u001b[0m\u001b[0mdata\u001b[0m\u001b[0;34m)\u001b[0m\u001b[0;34m\u001b[0m\u001b[0m\n",
      "\u001b[0;31mTypeError\u001b[0m: cannot use a string pattern on a bytes-like object"
     ]
    }
   ],
   "source": [
    "neato_function(3)"
   ]
  },
  {
   "cell_type": "code",
   "execution_count": 114,
   "metadata": {
    "collapsed": false
   },
   "outputs": [
    {
     "data": {
      "text/plain": [
       "0.99999999999999989"
      ]
     },
     "execution_count": 114,
     "metadata": {},
     "output_type": "execute_result"
    }
   ],
   "source": []
  },
  {
   "cell_type": "code",
   "execution_count": null,
   "metadata": {
    "collapsed": true
   },
   "outputs": [],
   "source": [
    "def function_graph_maker(corpus, corpus_name, mode, K_range, path):\n",
    "    X = corpus_function\n",
    "    for K in K_range:\n",
    "        if not os.path.exists('%s/%s_%s_%s.pkl' % (path, corpus_name, mode, K)):\n",
    "            Y = hmm.MultinomialHMM(n_components=K, verbose=True,n_iter=1000,tol=.001)\n",
    "            Y.n_features=len(X[2])\n",
    "            FIT_DATA = Y.fit(X[0], X[1])\n",
    "            TOKEN_NAMES=X[2]\n",
    "            pickleit = {'fit': FIT_DATA, 'tokens': TOKEN_NAMES}\n",
    "            if not os.path.exists(path):\n",
    "                os.makedirs(path)\n",
    "            joblib.dump(pickleit, '%s/%s_%s_%s.pkl' %(path, corpus_name, mode, K), compress=9)\n",
    "        \n",
    "        FIT_DATA = joblib.load('%s/%s_%s_%s.pkl' %(path, corpus_name, mode, K))\n",
    "        emiss = FIT_DATA['fit'].emissionprob_\n",
    "        tokens = FIT_DATA['tokens']\n",
    "        trans = FIT_DATA['fit'].transmat_\n",
    "\n",
    "def pie_nodes(fit_data_dict):\n",
    "    emiss = fit_data_dict['fit'].emissionprob_\n",
    "    tokens = fit_data_dict['tokens']\n",
    "#     K = len(emiss)\n",
    "    plt.close()\n",
    "    for k in range(K):\n",
    "        plt.figure(figsize=(2,2), tight_layout=True)\n",
    "        emit1_data = []\n",
    "        emit1_labels = []\n",
    "        plt.rcParams['font.size'] = 14.0\n",
    "        plt.rcParams['font.family'] = 'serif'\n",
    "        plt.axis('equal')\n",
    "        # csfont = {'fontname':'Comic Sans MS'}\n",
    "        kcolors = ['white']\n",
    "        other_numb = 0\n",
    "        for a, b in zip(emiss[k], tokens):\n",
    "            if a >= .03:\n",
    "                emit1_data.append(a)\n",
    "                emit1_labels.append(b)\n",
    "            else:\n",
    "                other_numb += a\n",
    "        emit1_data.append(other_numb)\n",
    "        emit1_labels.append('other')\n",
    "\n",
    "        a, b = plt.pie(emit1_data, labels=emit1_labels, radius=2, colors=kcolors, labeldistance=0.8)\n",
    "        for bb in b:\n",
    "            bb.set_horizontalalignment('center')\n",
    "            bb.set_fontsize(12)\n",
    "        pltpath = '%s/%s/%s' %(path, corpus_name, mode)\n",
    "        if not os.path.exists(pltpath):\n",
    "            os.makedirs(pltpath)\n",
    "        plt.savefig(pltpath+'/%s_%s.png' %(K, k), bbox_inches='tight')\n",
    "        plt.close()\n",
    "pie_nodes(FIT_DATA)\n",
    "\n",
    "def neato_function(K):\n",
    "    import networkx as nx\n",
    "    from networkx.drawing.nx_agraph import write_dot, to_agraph\n",
    "    import pygraphviz as pgv\n",
    "    G = nx.DiGraph()\n",
    "    labels =[x+1 for x in range(K)]\n",
    "    for x, y in zip(trans, labels):\n",
    "        for a, b in zip(x, labels):\n",
    "            if a >= .01: #threshold*******\n",
    "                G.add_edge(y, b, penwidth=a*8, weight=int(a*100))\n",
    "    edge_weights = []\n",
    "    edges = G.edges(data=True)\n",
    "#             print('edges:', edges)\n",
    "    for x in edges:\n",
    "        edge_weights.append(x[2]['penwidth'])\n",
    "    nodes = G.nodes()\n",
    "#             print('nodes:', nodes)\n",
    "    for x in range(len(nodes)):\n",
    "        G.node[nodes[x]]['shape'] = 'none'\n",
    "#                 G.node[nodes[x]]['image'] = '/home/daniel/Desktop/54.svg'\n",
    "        G.node[nodes[x]]['image'] = '%s/%s/%s/%s_%s.png' %(path, corpus_name, mode, K,x)\n",
    "        print('%s/%s/%s/%s_%s.svg' %(path, corpus_name, mode, K,x))\n",
    "        G.node[nodes[x]]['fontcolor'] = 'blue'\n",
    "        G.node[nodes[x]]['fontsize'] = 40\n",
    "    G = to_agraph(G)\n",
    "    # G=pgv.AGraph(ranksep=10)\n",
    "    if not os.path.exists(path):\n",
    "        os.makedirs(path)\n",
    "    print(G)\n",
    "#             G.draw('tryit.pdf', format='pdf', prog='dot')\n",
    "    G.draw('%s/%s_%s_%s.pdf' %(path, corpus_name, mode, K), format='pdf', prog='dot')\n",
    "neato_function(K)\n",
    "print('finished', corpus_name, mode, K)"
   ]
  }
 ],
 "metadata": {
  "kernelspec": {
   "display_name": "Python 3",
   "language": "python",
   "name": "python3"
  },
  "language_info": {
   "codemirror_mode": {
    "name": "ipython",
    "version": 3
   },
   "file_extension": ".py",
   "mimetype": "text/x-python",
   "name": "python",
   "nbconvert_exporter": "python",
   "pygments_lexer": "ipython3",
   "version": "3.6.0"
  }
 },
 "nbformat": 4,
 "nbformat_minor": 2
}
