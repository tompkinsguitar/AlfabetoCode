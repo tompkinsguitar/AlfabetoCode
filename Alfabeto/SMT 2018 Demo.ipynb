{
 "cells": [
  {
   "cell_type": "markdown",
   "metadata": {},
   "source": [
    "## This must be run from the Alfabeto directory"
   ]
  },
  {
   "cell_type": "code",
   "execution_count": null,
   "metadata": {},
   "outputs": [],
   "source": [
    "from sklearn.externals import joblib\n",
    "\n",
    "from alfabeto_data import dissertation_images as di"
   ]
  },
  {
   "cell_type": "code",
   "execution_count": null,
   "metadata": {},
   "outputs": [],
   "source": [
    "corpus_file = 'pickles/alfabeto_notes.pickle'\n",
    "data, labels = joblib.load(corpus_file)\n",
    "try:\n",
    "    labels = di.label_maker_alfabeto(labels)\n",
    "except:\n",
    "    labels = di.label_maker(labels)\n",
    "n_clusters = 2\n",
    "output_image_path = 'SMT alfabeto.pdf'"
   ]
  },
  {
   "cell_type": "code",
   "execution_count": null,
   "metadata": {},
   "outputs": [],
   "source": [
    "di.k_means_data(data, n_clusters, labels, output_image_path)"
   ]
  }
 ],
 "metadata": {
  "kernelspec": {
   "display_name": "Python 3",
   "language": "python",
   "name": "python3"
  },
  "language_info": {
   "codemirror_mode": {
    "name": "ipython",
    "version": 3
   },
   "file_extension": ".py",
   "mimetype": "text/x-python",
   "name": "python",
   "nbconvert_exporter": "python",
   "pygments_lexer": "ipython3",
   "version": "3.6.4"
  }
 },
 "nbformat": 4,
 "nbformat_minor": 2
}
