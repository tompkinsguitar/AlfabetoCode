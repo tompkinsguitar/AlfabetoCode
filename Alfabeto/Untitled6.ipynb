{
 "cells": [
  {
   "cell_type": "code",
   "execution_count": 1,
   "metadata": {
    "collapsed": true
   },
   "outputs": [],
   "source": [
    "import ipyparallel as ipp\n",
    "from sklearn.externals import joblib"
   ]
  },
  {
   "cell_type": "code",
   "execution_count": 144,
   "metadata": {
    "collapsed": false
   },
   "outputs": [
    {
     "data": {
      "text/plain": [
       "<AsyncResult: execute>"
      ]
     },
     "execution_count": 144,
     "metadata": {},
     "output_type": "execute_result"
    }
   ],
   "source": [
    "rc = ipp.Client()\n",
    "dview = rc[:]\n",
    "\n",
    "dview.execute('import numpy as np')\n",
    "dview.execute('import time')\n",
    "dview.execute('from sklearn.externals import joblib')\n",
    "dview.execute('from scipy.spatial.distance import cdist')\n",
    "dview.execute('import alfabeto_data.dissertation_images as di')"
   ]
  },
  {
   "cell_type": "code",
   "execution_count": 145,
   "metadata": {
    "collapsed": true
   },
   "outputs": [],
   "source": [
    "all_silhouette_ = {}\n",
    "thenumber_ = 0\n",
    "for corpus_ in ['alfabeto_continuo', 'bach', 'palestrina']:\n",
    "    for mode_ in ['major', 'minor']:\n",
    "        for mc_ in range(5):\n",
    "            all_silhouette_[thenumber_] = {'corpus': corpus_, 'mode': mode_, 'mc': mc_}\n",
    "            thenumber_ += 1"
   ]
  },
  {
   "cell_type": "code",
   "execution_count": 146,
   "metadata": {
    "collapsed": false
   },
   "outputs": [],
   "source": [
    "@dview.parallel(block=True)\n",
    "def silhouette_hmm(silhouette_number):\n",
    "    all_silhouette = {}\n",
    "    thenumber = 0\n",
    "    for corpus in ['alfabeto_continuo', 'bach', 'palestrina']:\n",
    "        for mode in ['major', 'minor']:\n",
    "            for mcc in range(5):\n",
    "                all_silhouette[thenumber] = {'corpus': corpus, 'mode': mode, 'mc': mcc}\n",
    "                thenumber += 1\n",
    "    corpus_name = all_silhouette[silhouette_number]['corpus']\n",
    "    mode_name = all_silhouette[silhouette_number]['mode']\n",
    "    mc = all_silhouette[silhouette_number]['mc']\n",
    "    K_range = 15\n",
    "    flipped_data = {}\n",
    "    for K in range(2, K_range+1):\n",
    "        all_data = []\n",
    "        all_labels = []\n",
    "        l_number = joblib.load('/home/daniel/Desktop/hmm_mc/%s/%s/%s/%s/0.pkl' % (corpus_name, mode_name, K, mc))['test'][0]\n",
    "        l_numeral = joblib.load('/home/daniel/Desktop/hmm_mc/%s/%s/%s/%s/0.pkl' % (corpus_name, mode_name, K, mc))['train'][2]\n",
    "        for l in l_number:\n",
    "            if l[0] < len(l_numeral):\n",
    "                all_labels.append(l_numeral[l[0]])\n",
    "            else:\n",
    "                all_labels.append('o')\n",
    "        #             print('one didn\\'t fit...')\n",
    "        for x in range(500):\n",
    "            temp_data = []\n",
    "            print(x)\n",
    "            c = joblib.load('/home/daniel/Desktop/hmm_mc/%s/%s/%s/%s/%s.pkl' % (corpus_name, mode_name, K, mc, x))['decode']\n",
    "            print('decoded')\n",
    "            for xx in c[1]:\n",
    "                temp_data.append(xx)\n",
    "            all_data.append(temp_data)\n",
    "        numpied = np.swapaxes(np.array(all_data), 0, 1)\n",
    "    #     print(numpied.shape)\n",
    "        st = time.time()\n",
    "#         DIST = cdist(numpied, numpied, 'hamming')\n",
    "        DIST = (cdist(numpied, numpied, 'hamming')*len(l_number))**2 #Quinn/White\n",
    "        st2 = time.time()\n",
    "        flipped_data[K] = di.k_means_simple(DIST, K, all_labels)\n",
    "    #     print_labels = ['$'+x+'$' for x in all_labels]\n",
    "    #     di.k_means_data(DIST, K, print_labels, '/home/daniel/Desktop/hmmkmeans/%s_%s.pdf' % (corpus, K))\n",
    "    #     print('kmeans took', time.time()-st2)\n",
    "        print(K, '-->', flipped_data[K])\n",
    "    return {(corpus_name, mode_name, mc): flipped_data}"
   ]
  },
  {
   "cell_type": "code",
   "execution_count": 147,
   "metadata": {
    "collapsed": false
   },
   "outputs": [
    {
     "data": {
      "text/plain": [
       "['/home/daniel/Desktop/silhouette_data_QW.pkl']"
      ]
     },
     "execution_count": 147,
     "metadata": {},
     "output_type": "execute_result"
    }
   ],
   "source": [
    "j = silhouette_hmm.map([mc for mc in range(len(all_silhouette_))])\n",
    "joblib.dump(j, '/home/daniel/Desktop/silhouette_data_QW.pkl', compress=True)"
   ]
  },
  {
   "cell_type": "code",
   "execution_count": 16,
   "metadata": {
    "collapsed": true
   },
   "outputs": [],
   "source": [
    "all_data = joblib.load('/home/daniel/Desktop/silhouette_data_dict.pkl')"
   ]
  },
  {
   "cell_type": "code",
   "execution_count": 10,
   "metadata": {
    "collapsed": false
   },
   "outputs": [
    {
     "ename": "NameError",
     "evalue": "name 'j' is not defined",
     "output_type": "error",
     "traceback": [
      "\u001b[1;31m---------------------------------------------------------------------------\u001b[0m",
      "\u001b[1;31mNameError\u001b[0m                                 Traceback (most recent call last)",
      "\u001b[1;32m<ipython-input-10-2a636e7a0138>\u001b[0m in \u001b[0;36m<module>\u001b[1;34m()\u001b[0m\n\u001b[0;32m      1\u001b[0m \u001b[0mall_data\u001b[0m \u001b[1;33m=\u001b[0m \u001b[1;33m{\u001b[0m\u001b[1;33m}\u001b[0m\u001b[1;33m\u001b[0m\u001b[0m\n\u001b[1;32m----> 2\u001b[1;33m \u001b[1;32mfor\u001b[0m \u001b[0mx\u001b[0m \u001b[1;32min\u001b[0m \u001b[0mj\u001b[0m\u001b[1;33m:\u001b[0m\u001b[1;33m\u001b[0m\u001b[0m\n\u001b[0m\u001b[0;32m      3\u001b[0m     \u001b[1;32mfor\u001b[0m \u001b[0mlabels\u001b[0m\u001b[1;33m,\u001b[0m \u001b[0mdata\u001b[0m \u001b[1;32min\u001b[0m \u001b[0mx\u001b[0m\u001b[1;33m.\u001b[0m\u001b[0mitems\u001b[0m\u001b[1;33m(\u001b[0m\u001b[1;33m)\u001b[0m\u001b[1;33m:\u001b[0m\u001b[1;33m\u001b[0m\u001b[0m\n\u001b[0;32m      4\u001b[0m         \u001b[1;32mif\u001b[0m \u001b[0mlabels\u001b[0m\u001b[1;33m[\u001b[0m\u001b[1;36m0\u001b[0m\u001b[1;33m]\u001b[0m \u001b[1;32mnot\u001b[0m \u001b[1;32min\u001b[0m \u001b[0mall_data\u001b[0m\u001b[1;33m.\u001b[0m\u001b[0mkeys\u001b[0m\u001b[1;33m(\u001b[0m\u001b[1;33m)\u001b[0m\u001b[1;33m:\u001b[0m\u001b[1;33m\u001b[0m\u001b[0m\n\u001b[0;32m      5\u001b[0m             \u001b[0mall_data\u001b[0m\u001b[1;33m[\u001b[0m\u001b[0mlabels\u001b[0m\u001b[1;33m[\u001b[0m\u001b[1;36m0\u001b[0m\u001b[1;33m]\u001b[0m\u001b[1;33m]\u001b[0m \u001b[1;33m=\u001b[0m \u001b[1;33m{\u001b[0m\u001b[1;33m}\u001b[0m\u001b[1;33m\u001b[0m\u001b[0m\n",
      "\u001b[1;31mNameError\u001b[0m: name 'j' is not defined"
     ]
    }
   ],
   "source": [
    "all_data = {}\n",
    "for x in j:\n",
    "    for labels, data in x.items():\n",
    "        if labels[0] not in all_data.keys():\n",
    "            all_data[labels[0]] = {}\n",
    "        if labels[1] not in all_data[labels[0]]:\n",
    "            all_data[labels[0]][labels[1]] = {}\n",
    "        for K, score in data.items():\n",
    "            if K not in all_data[labels[0]][labels[1]]:\n",
    "                all_data[labels[0]][labels[1]][K] = []\n",
    "            all_data[labels[0]][labels[1]][K].append(score['silhouette'])\n",
    "        \n",
    "# print(all_data)\n",
    "# joblib.dump(all_data, '/home/daniel/Desktop/silhouette_data_dict_QW.pkl', compress=9)\n",
    "            \n",
    "# {'alf': {'major': {2: [[]], 3:[[]]}}, {'minor': {2: [[]], 3: [[]]}}, 'palestrina'}"
   ]
  },
  {
   "cell_type": "code",
   "execution_count": 5,
   "metadata": {
    "collapsed": true
   },
   "outputs": [],
   "source": [
    "import matplotlib.pyplot as plt\n",
    "import numpy as np"
   ]
  },
  {
   "cell_type": "code",
   "execution_count": 17,
   "metadata": {
    "collapsed": false
   },
   "outputs": [],
   "source": [
    "name_dict = {'alfabeto_continuo': 'Alfabeto', 'bach': 'Bach', 'palestrina': 'Palestrina'}\n",
    "fig = plt.figure()\n",
    "ax = fig.gca()\n",
    "for corpus, a in all_data.items():\n",
    "    for mode, b in a.items():\n",
    "        if mode == 'major':\n",
    "            plt.plot([K for K in b.keys()], [np.mean(c) for c in b.values()], label=name_dict[corpus]+' '+mode)\n",
    "# for corpus, a in all_data.items():\n",
    "#     for mode, b in a.items():\n",
    "#         plt.plot([K for K in b.keys()], [np.std(c) for c in b.values()], label=corpus+' '+mode)\n",
    "#         for K, data in b.items():\n",
    "#             plt.plot()\n",
    "plt.legend(loc=1)\n",
    "\n",
    "\n",
    "ax.set_xticks(range(2, 16))\n",
    "# ax.set_yticks([0, .1, .2, .3, .4, .5, .6, .7, .8, .9, 1])\n",
    "ax.grid(True)\n",
    "plt.xlabel('Number of Functions')\n",
    "plt.ylabel('Silhouette Score')\n",
    "plt.savefig('/home/daniel/Dropbox/Dissertation/Latex/figures/function/functions_major.pdf', bboxinches='tight')\n",
    "plt.show()"
   ]
  },
  {
   "cell_type": "code",
   "execution_count": 99,
   "metadata": {
    "collapsed": false
   },
   "outputs": [],
   "source": [
    "alf_data_maj = per_number(alf_maj)\n",
    "alf_data_min = per_number(alf_min)\n",
    "bach_data_maj = per_number(bach_maj)\n",
    "bach_data_min = per_number(bach_min)\n",
    "pal_data_maj = per_number(pal_maj)\n",
    "pal_data_min = per_number(pal_min)\n",
    "\n",
    "def per_number(variable):\n",
    "    jj = []\n",
    "    for num in range(2, 16):\n",
    "        num_list = []\n",
    "        for x in variable:\n",
    "            for a in x.values():\n",
    "#                 print(a)\n",
    "                for i, p in a.items():\n",
    "#                     print(i, num)\n",
    "                    if i == num:\n",
    "#                         print(i, p['silhouette'])\n",
    "                        num_list.append(p['silhouette'])\n",
    "            if len(num_list) > 0:\n",
    "                jj.append(num_list)\n",
    "#                 jj.append(all_i)\n",
    "    return jj\n",
    "                "
   ]
  },
  {
   "cell_type": "code",
   "execution_count": 103,
   "metadata": {
    "collapsed": false
   },
   "outputs": [
    {
     "data": {
      "text/plain": [
       "[<matplotlib.lines.Line2D at 0x7f0aac3f0d68>]"
      ]
     },
     "execution_count": 103,
     "metadata": {},
     "output_type": "execute_result"
    }
   ],
   "source": [
    "plt.plot([np.mean(x) for x in alf_data_maj])"
   ]
  },
  {
   "cell_type": "code",
   "execution_count": 104,
   "metadata": {
    "collapsed": false
   },
   "outputs": [],
   "source": [
    "plt.show()"
   ]
  },
  {
   "cell_type": "code",
   "execution_count": 108,
   "metadata": {
    "collapsed": false
   },
   "outputs": [
    {
     "data": {
      "text/plain": [
       "[{('alfabeto_continuo',\n",
       "   'major',\n",
       "   0): {2: {'completeness': 0.83544563202798272,\n",
       "    'silhouette': 0.96949812934582758}, 3: {'completeness': 0.83600349226648563,\n",
       "    'silhouette': 0.98173518931147485}, 4: {'completeness': 0.84891316640904324,\n",
       "    'silhouette': 0.9054803449345209}, 5: {'completeness': 0.7468733035325118,\n",
       "    'silhouette': 0.71086716309217024}, 6: {'completeness': 0.83521020007495561,\n",
       "    'silhouette': 0.64848350668140686}, 7: {'completeness': 0.7059715894053098,\n",
       "    'silhouette': 0.60426052216769377}, 8: {'completeness': 0.86618678687831752,\n",
       "    'silhouette': 0.66081271079640858}, 9: {'completeness': 0.90853037032212647,\n",
       "    'silhouette': 0.73493594782065774}, 10: {'completeness': 0.92371516950301358,\n",
       "    'silhouette': 0.78068628062951984}, 11: {'completeness': 0.91393387522635927,\n",
       "    'silhouette': 0.77755966098620555}, 12: {'completeness': 0.87476768298213248,\n",
       "    'silhouette': 0.77269527397872606}, 13: {'completeness': 0.7218262968312541,\n",
       "    'silhouette': 0.63488344257589957}, 14: {'completeness': 0.84430850553186554,\n",
       "    'silhouette': 0.76013184039323722}, 15: {'completeness': 0.83143700043795388,\n",
       "    'silhouette': 0.76507455449246675}}},\n",
       " {('alfabeto_continuo',\n",
       "   'major',\n",
       "   1): {2: {'completeness': 0.88941694770359858,\n",
       "    'silhouette': 0.90273781070956771}, 3: {'completeness': 0.83685916533443727,\n",
       "    'silhouette': 0.98868896946185858}, 4: {'completeness': 0.84911067829702058,\n",
       "    'silhouette': 0.91474027676348879}, 5: {'completeness': 0.76715450157036924,\n",
       "    'silhouette': 0.69859320658833157}, 6: {'completeness': 0.83017463614251086,\n",
       "    'silhouette': 0.64335944877678541}, 7: {'completeness': 0.72856556451462851,\n",
       "    'silhouette': 0.5690500405744493}, 8: {'completeness': 0.87350388180841676,\n",
       "    'silhouette': 0.67454543969905523}, 9: {'completeness': 0.90661366265896559,\n",
       "    'silhouette': 0.74126730687317144}, 10: {'completeness': 0.91910441717654112,\n",
       "    'silhouette': 0.76775523431850856}, 11: {'completeness': 0.76757394170480142,\n",
       "    'silhouette': 0.69961665336682344}, 12: {'completeness': 0.77468808399646816,\n",
       "    'silhouette': 0.6639607645801372}, 13: {'completeness': 0.86522503477222346,\n",
       "    'silhouette': 0.76682961058809807}, 14: {'completeness': 0.8465128715776522,\n",
       "    'silhouette': 0.75533994157550211}, 15: {'completeness': 0.82450639487248345,\n",
       "    'silhouette': 0.7482071712386934}}},\n",
       " {('alfabeto_continuo',\n",
       "   'major',\n",
       "   2): {2: {'completeness': 0.85230465237316544,\n",
       "    'silhouette': 0.92200197395463268}, 3: {'completeness': 0.65415629764516647,\n",
       "    'silhouette': 0.86071216647441506}, 4: {'completeness': 0.82587720797187036,\n",
       "    'silhouette': 0.87780016433864527}, 5: {'completeness': 0.76334166969845663,\n",
       "    'silhouette': 0.72154046177739661}, 6: {'completeness': 0.79001431399602162,\n",
       "    'silhouette': 0.61278267638342698}, 7: {'completeness': 0.75024072323973157,\n",
       "    'silhouette': 0.63705755106233686}, 8: {'completeness': 0.90456649587770099,\n",
       "    'silhouette': 0.68519401458949425}, 9: {'completeness': 0.91391519840690782,\n",
       "    'silhouette': 0.74142255825119252}, 10: {'completeness': 0.93186598714990898,\n",
       "    'silhouette': 0.82205193886281591}, 11: {'completeness': 0.90435240292641728,\n",
       "    'silhouette': 0.79483310957403286}, 12: {'completeness': 0.85512542569327998,\n",
       "    'silhouette': 0.75712636329895544}, 13: {'completeness': 0.88637580068424782,\n",
       "    'silhouette': 0.77288560117857674}, 14: {'completeness': 0.84341181623850847,\n",
       "    'silhouette': 0.7631383208347543}, 15: {'completeness': 0.83079570923642176,\n",
       "    'silhouette': 0.75709544882648383}}},\n",
       " {('alfabeto_continuo',\n",
       "   'major',\n",
       "   3): {2: {'completeness': 0.89337813889365569,\n",
       "    'silhouette': 0.89687225841356732}, 3: {'completeness': 0.85201974219889898,\n",
       "    'silhouette': 0.98250543792356215}, 4: {'completeness': 0.85600937593824522,\n",
       "    'silhouette': 0.89887975063402159}, 5: {'completeness': 0.77604003776017172,\n",
       "    'silhouette': 0.70601252716338148}, 6: {'completeness': 0.78057110281578224,\n",
       "    'silhouette': 0.62456993230880831}, 7: {'completeness': 0.87437939825204658,\n",
       "    'silhouette': 0.60731479242863584}, 8: {'completeness': 0.87722643589577987,\n",
       "    'silhouette': 0.67710659970867448}, 9: {'completeness': 0.91883934739976636,\n",
       "    'silhouette': 0.72449025342155093}, 10: {'completeness': 0.92535041863411216,\n",
       "    'silhouette': 0.78008106841068736}, 11: {'completeness': 0.90867403608427566,\n",
       "    'silhouette': 0.78395060761022139}, 12: {'completeness': 0.87438818308381339,\n",
       "    'silhouette': 0.75739158819860442}, 13: {'completeness': 0.838652929905497,\n",
       "    'silhouette': 0.72209796699120399}, 14: {'completeness': 0.85442740669447836,\n",
       "    'silhouette': 0.74262392205147654}, 15: {'completeness': 0.82653867912550416,\n",
       "    'silhouette': 0.76547953343524233}}},\n",
       " {('alfabeto_continuo',\n",
       "   'major',\n",
       "   4): {2: {'completeness': 0.91108135467880003,\n",
       "    'silhouette': 0.88115978147161}, 3: {'completeness': 0.85501132168910976,\n",
       "    'silhouette': 0.9868927959474918}, 4: {'completeness': 0.85707491576666117,\n",
       "    'silhouette': 0.91702826619265654}, 5: {'completeness': 0.76816767042480849,\n",
       "    'silhouette': 0.69545755641762519}, 6: {'completeness': 0.81670980678449823,\n",
       "    'silhouette': 0.64159994743138837}, 7: {'completeness': 0.83573731630394699,\n",
       "    'silhouette': 0.57945206693250972}, 8: {'completeness': 0.716157018707967,\n",
       "    'silhouette': 0.6128940020293544}, 9: {'completeness': 0.89946812156764377,\n",
       "    'silhouette': 0.72130575378377448}, 10: {'completeness': 0.78442619377211875,\n",
       "    'silhouette': 0.68031761224025866}, 11: {'completeness': 0.91187396248261288,\n",
       "    'silhouette': 0.77834599197915588}, 12: {'completeness': 0.90672158330802066,\n",
       "    'silhouette': 0.78211382846924959}, 13: {'completeness': 0.76721086813237382,\n",
       "    'silhouette': 0.67319384657743431}, 14: {'completeness': 0.84527438172557168,\n",
       "    'silhouette': 0.76797037448430794}, 15: {'completeness': 0.82114966279342561,\n",
       "    'silhouette': 0.7762925097850073}}}]"
      ]
     },
     "execution_count": 108,
     "metadata": {},
     "output_type": "execute_result"
    }
   ],
   "source": [
    "alf_maj"
   ]
  },
  {
   "cell_type": "code",
   "execution_count": 63,
   "metadata": {
    "collapsed": false
   },
   "outputs": [
    {
     "data": {
      "text/plain": [
       "0.64882730752797235"
      ]
     },
     "execution_count": 63,
     "metadata": {},
     "output_type": "execute_result"
    }
   ],
   "source": [
    "np.mean(jj)"
   ]
  },
  {
   "cell_type": "code",
   "execution_count": null,
   "metadata": {
    "collapsed": true
   },
   "outputs": [],
   "source": []
  }
 ],
 "metadata": {
  "anaconda-cloud": {},
  "kernelspec": {
   "display_name": "Python [Root]",
   "language": "python",
   "name": "Python [Root]"
  },
  "language_info": {
   "codemirror_mode": {
    "name": "ipython",
    "version": 3
   },
   "file_extension": ".py",
   "mimetype": "text/x-python",
   "name": "python",
   "nbconvert_exporter": "python",
   "pygments_lexer": "ipython3",
   "version": "3.5.2"
  }
 },
 "nbformat": 4,
 "nbformat_minor": 0
}
