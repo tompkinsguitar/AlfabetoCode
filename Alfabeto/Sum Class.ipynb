{
 "cells": [
  {
   "cell_type": "code",
   "execution_count": 77,
   "metadata": {
    "collapsed": true
   },
   "outputs": [],
   "source": [
    "import itertools as it\n",
    "import csv"
   ]
  },
  {
   "cell_type": "code",
   "execution_count": 210,
   "metadata": {
    "collapsed": false
   },
   "outputs": [],
   "source": [
    "cardinality = 12\n",
    "\n",
    "all_permutations = it.combinations_with_replacement(range(12), cardinality)"
   ]
  },
  {
   "cell_type": "code",
   "execution_count": 211,
   "metadata": {
    "collapsed": false
   },
   "outputs": [
    {
     "data": {
      "text/plain": [
       "[0, 1, 2]"
      ]
     },
     "execution_count": 211,
     "metadata": {},
     "output_type": "execute_result"
    }
   ],
   "source": [
    "def icv(list_of_pitches):\n",
    "    pitch_classes = set(x % 12 for x in list_of_pitches)\n",
    "    icv_dict = {x: 0 for x in range(1, 7)}\n",
    "    for x in pitch_classes:\n",
    "        for y in pitch_classes:\n",
    "            ic = abs(x - y) % 6\n",
    "            if ic in icv_dict.keys():\n",
    "                icv_dict[ic] += 1\n",
    "    final_icv = []\n",
    "    for x in range(6):\n",
    "        for y, z in icv_dict.items():\n",
    "            if y == x:\n",
    "                final_icv.append(int(z / 2))\n",
    "    return final_icv\n",
    "\n",
    "\n",
    "def sum_class(pitches):\n",
    "    pc_set = sorted([pitch % 12 for pitch in pitches])\n",
    "    all_permutations = []\n",
    "\n",
    "    def inversions(pcset, index):\n",
    "        i_pitches = [(index - pc) % 12 for pc in pcset]\n",
    "        return i_pitches\n",
    "\n",
    "    def transpositions(pcset, index):\n",
    "        t_pitches = [(index + pc) % 12 for pc in pcset]\n",
    "        return t_pitches\n",
    "\n",
    "    for x in range(12):\n",
    "        all_permutations.append(sorted(inversions(pc_set, x)))\n",
    "        all_permutations.append(sorted(transpositions(pc_set, x)))\n",
    "\n",
    "    return min(all_permutations)\n",
    "\n",
    "test_pitches = [0, 1, 11]\n",
    "icv(test_pitches)\n",
    "sum_class(test_pitches)"
   ]
  },
  {
   "cell_type": "code",
   "execution_count": null,
   "metadata": {
    "collapsed": false
   },
   "outputs": [],
   "source": [
    "all_sum_classes = []\n",
    "\n",
    "for sc in all_permutations:\n",
    "    if sum_class(sc) not in all_sum_classes:\n",
    "        all_sum_classes.append(sum_class(sc))\n",
    "\n",
    "all_sum_classes = sorted(all_sum_classes)\n",
    "\n",
    "header_row = ['']+[x for x in range(12)]\n",
    "sc_table = [header_row]\n",
    "for sc in all_sum_classes:\n",
    "    sc_row = [tuple(sc)]\n",
    "    for s in range(12):\n",
    "        all_scs = []\n",
    "        for n in range(12):\n",
    "            test_sc = [(n+x)%12 for x in sc]\n",
    "            if sum(test_sc)%12 == s and sorted(test_sc) not in all_scs:\n",
    "                all_scs.append(sorted(test_sc))\n",
    "        sc_row.append(all_scs)\n",
    "    sc_table.append(sc_row)\n",
    "    "
   ]
  },
  {
   "cell_type": "code",
   "execution_count": null,
   "metadata": {
    "collapsed": false
   },
   "outputs": [],
   "source": [
    "sc_table"
   ]
  },
  {
   "cell_type": "code",
   "execution_count": null,
   "metadata": {
    "collapsed": false
   },
   "outputs": [],
   "source": [
    "def csv_function(f_variable, path):\n",
    "        with open(path, 'w', newline='') as fp:\n",
    "            a = csv.writer(fp, delimiter=',')\n",
    "            a.writerows(f_variable)\n"
   ]
  },
  {
   "cell_type": "code",
   "execution_count": null,
   "metadata": {
    "collapsed": false
   },
   "outputs": [],
   "source": [
    "csv_function(sc_table, '/home/daniel/Desktop/12.csv')"
   ]
  },
  {
   "cell_type": "code",
   "execution_count": 57,
   "metadata": {
    "collapsed": false
   },
   "outputs": [
    {
     "data": {
      "text/plain": [
       "(1, 1, 2)"
      ]
     },
     "execution_count": 57,
     "metadata": {},
     "output_type": "execute_result"
    }
   ],
   "source": [
    "tuple(a)"
   ]
  },
  {
   "cell_type": "code",
   "execution_count": null,
   "metadata": {
    "collapsed": true
   },
   "outputs": [],
   "source": []
  }
 ],
 "metadata": {
  "kernelspec": {
   "display_name": "Python 3",
   "language": "python",
   "name": "python3"
  },
  "language_info": {
   "codemirror_mode": {
    "name": "ipython",
    "version": 3
   },
   "file_extension": ".py",
   "mimetype": "text/x-python",
   "name": "python",
   "nbconvert_exporter": "python",
   "pygments_lexer": "ipython3",
   "version": "3.6.0"
  }
 },
 "nbformat": 4,
 "nbformat_minor": 2
}
