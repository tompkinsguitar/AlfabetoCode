{
 "cells": [
  {
   "cell_type": "code",
   "execution_count": 4,
   "metadata": {
    "collapsed": false
   },
   "outputs": [
    {
     "name": "stdout",
     "output_type": "stream",
     "text": [
      "Populating the interactive namespace from numpy and matplotlib\n"
     ]
    }
   ],
   "source": [
    "%pylab inline\n",
    "pylab.rcParams['figure.figsize'] = (15, 10)"
   ]
  },
  {
   "cell_type": "code",
   "execution_count": 5,
   "metadata": {
    "collapsed": false
   },
   "outputs": [
    {
     "name": "stdout",
     "output_type": "stream",
     "text": [
      "number of chords 0\n",
      "number of chords 0\n",
      "number of chords 0\n",
      "number of chords 43\n",
      "number of chords 0\n",
      "number of chords 0\n",
      "number of chords 0\n"
     ]
    }
   ],
   "source": [
    "from Continuo import ContinuoMarkov as CM\n",
    "import matplotlib.pyplot as plt\n",
    "import csv\n",
    "import numpy as np\n",
    "import networkx as nx\n",
    "from networkx.drawing.nx_agraph import to_agraph"
   ]
  },
  {
   "cell_type": "code",
   "execution_count": 6,
   "metadata": {
    "collapsed": false
   },
   "outputs": [
    {
     "name": "stdout",
     "output_type": "stream",
     "text": [
      "number of chords 884\n",
      "number of chords 1620\n"
     ]
    },
    {
     "data": {
      "image/png": "[encoded data removed]",
      "text/plain": [
       "<matplotlib.figure.Figure at 0x7fe8bc196828>"
      ]
     },
     "metadata": {},
     "output_type": "display_data"
    }
   ],
   "source": [
    "a = CM.scale_degree_frequency(CM.all_alf, ('f', 2))\n",
    "b = CM.scale_degree_frequency(CM.all_alf, ('n', 2))\n",
    "\n",
    "flat = [a[x] for x in range(12)]\n",
    "natural = [b[x] for x in range(12)]\n",
    "X = [x for x in range(12)]\n",
    "\n",
    "plt.bar(X, flat, color='b')\n",
    "# plt.bar(X, natural, color='g')\n",
    "\n",
    "# plt.plot(flat, color='b')\n",
    "# plt.plot(natural, color='g')\n",
    "\n",
    "plt.show()"
   ]
  },
  {
   "cell_type": "code",
   "execution_count": 7,
   "metadata": {
    "collapsed": false
   },
   "outputs": [
    {
     "data": {
      "text/plain": [
       "<Container object of 12 artists>"
      ]
     },
     "execution_count": 7,
     "metadata": {},
     "output_type": "execute_result"
    },
    {
     "data": {
      "image/png": "[encoded data removed]",
      "text/plain": [
       "<matplotlib.figure.Figure at 0x7fe8993b4dd8>"
      ]
     },
     "metadata": {},
     "output_type": "display_data"
    }
   ],
   "source": [
    "plt.bar(X, natural, color='g')"
   ]
  },
  {
   "cell_type": "code",
   "execution_count": 8,
   "metadata": {
    "collapsed": true
   },
   "outputs": [],
   "source": [
    "from scipy.spatial.distance import euclidean"
   ]
  },
  {
   "cell_type": "code",
   "execution_count": 9,
   "metadata": {
    "collapsed": false
   },
   "outputs": [
    {
     "data": {
      "text/plain": [
       "10.054288341949848"
      ]
     },
     "execution_count": 9,
     "metadata": {},
     "output_type": "execute_result"
    }
   ],
   "source": [
    "euclidean(flat, natural)"
   ]
  },
  {
   "cell_type": "code",
   "execution_count": 10,
   "metadata": {
    "collapsed": false
   },
   "outputs": [
    {
     "name": "stdout",
     "output_type": "stream",
     "text": [
      "number of notes:  368\n",
      "number of notes:  3536\n",
      "number of notes:  12664\n",
      "number of notes:  19576\n",
      "number of notes:  260\n",
      "number of notes:  696\n",
      "number of notes:  4992\n",
      "number of notes:  6480\n",
      "number of notes:  560\n",
      "number of notes:  612\n",
      "number of notes:  15584\n",
      "number of notes:  3084\n",
      "number of notes:  37920\n",
      "number of notes:  26532\n",
      "number of notes:  69384\n"
     ]
    }
   ],
   "source": [
    "'''this is just bass notes'''\n",
    "# af0 = CM.scale_degree_frequency(CM.all_alf, ('f', 0))\n",
    "# af2 = CM.scale_degree_frequency(CM.all_alf, ('f', 2))\n",
    "# af5 = CM.scale_degree_frequency(CM.all_alf, ('f', 5))\n",
    "# af7 = CM.scale_degree_frequency(CM.all_alf, ('f', 7))\n",
    "# af9 = CM.scale_degree_frequency(CM.all_alf, ('f', 9))\n",
    "# af10 = CM.scale_degree_frequency(CM.all_alf, ('f', 10))\n",
    "\n",
    "# an0 = CM.scale_degree_frequency(CM.all_alf, ('n', 0))\n",
    "# an2 = CM.scale_degree_frequency(CM.all_alf, ('n', 2))\n",
    "# an4 = CM.scale_degree_frequency(CM.all_alf, ('n', 4))\n",
    "# an5 = CM.scale_degree_frequency(CM.all_alf, ('n', 5))\n",
    "# an7 = CM.scale_degree_frequency(CM.all_alf, ('n', 7))\n",
    "# an9 = CM.scale_degree_frequency(CM.all_alf, ('n', 9))\n",
    "\n",
    "# amaj = CM.scale_degree_frequency(CM.all_alf, 'major')\n",
    "# amin = CM.scale_degree_frequency(CM.all_alf, 'minor')\n",
    "# aall = CM.scale_degree_frequency(CM.all_alf, 'all')\n",
    "\n",
    "'''this is bass notes plus chord notes'''\n",
    "\n",
    "af0 = CM.note_frequency(CM.all_alf, ('f', 0))\n",
    "af2 = CM.note_frequency(CM.all_alf, ('f', 2))\n",
    "af5 = CM.note_frequency(CM.all_alf, ('f', 5))\n",
    "af7 = CM.note_frequency(CM.all_alf, ('f', 7))\n",
    "af9 = CM.note_frequency(CM.all_alf, ('f', 9))\n",
    "af10 = CM.note_frequency(CM.all_alf, ('f', 10))\n",
    "\n",
    "an0 = CM.note_frequency(CM.all_alf, ('n', 0))\n",
    "an2 = CM.note_frequency(CM.all_alf, ('n', 2))\n",
    "an4 = CM.note_frequency(CM.all_alf, ('n', 4))\n",
    "an5 = CM.note_frequency(CM.all_alf, ('n', 5))\n",
    "an7 = CM.note_frequency(CM.all_alf, ('n', 7))\n",
    "an9 = CM.note_frequency(CM.all_alf, ('n', 9))\n",
    "\n",
    "amaj = CM.note_frequency(CM.all_alf, 'major')\n",
    "amin = CM.note_frequency(CM.all_alf, 'minor')\n",
    "aall = CM.note_frequency(CM.all_alf, 'all')\n",
    "\n",
    "\n",
    "temp_maj = {0: 0.184, 1: 0.001, 2: 0.155, 3: 0.003, 4: 0.191, \n",
    "            5: 0.109, 6: 0.005, 7: 0.214, 8: 0.001, 9: 0.078, \n",
    "            10: 0.004, 11: 0.055}\n",
    "\n",
    "temp_min = {0: 0.192, 1: 0.005, 2: 0.149, 3: 0.179, 4: 0.002, \n",
    "              5: 0.144, 6: 0.002, 7: 0.201, 8: 0.038, 9: 0.012, \n",
    "              10: 0.053, 11: 0.022}\n",
    "\n",
    "f0 = [af0[x] for x in range(12)]\n",
    "f2 = [af2[x] for x in range(12)]\n",
    "f5 = [af5[x] for x in range(12)]\n",
    "f7 = [af7[x] for x in range(12)]\n",
    "f9 = [af9[x] for x in range(12)]\n",
    "f10 = [af10[x] for x in range(12)]\n",
    "\n",
    "n0 = [an0[x] for x in range(12)]\n",
    "n2 = [an2[x] for x in range(12)]\n",
    "n4 = [an4[x] for x in range(12)]\n",
    "n5 = [an5[x] for x in range(12)]\n",
    "n7 = [an7[x] for x in range(12)]\n",
    "n9 = [an9[x] for x in range(12)] \n",
    "\n",
    "alf_maj = [amaj[x] for x in range(12)]\n",
    "alf_min = [amin[x] for x in range(12)]\n",
    "alf_all = [aall[x] for x in range(12)]\n",
    "\n",
    "t_maj = [temp_maj[x]* 100 for x in range(12)]\n",
    "t_min = [temp_min[x]* 100 for x in range(12)]"
   ]
  },
  {
   "cell_type": "code",
   "execution_count": 11,
   "metadata": {
    "collapsed": false
   },
   "outputs": [],
   "source": [
    "all_modes = [f0, f2, f5, f7, f9, f10, n0, n2, n4, n5, n7, n9, alf_maj, alf_min, alf_all, t_maj, t_min]"
   ]
  },
  {
   "cell_type": "code",
   "execution_count": 12,
   "metadata": {
    "collapsed": false
   },
   "outputs": [],
   "source": [
    "key_distances = []\n",
    "for x in all_modes:\n",
    "    distances = []\n",
    "    for y in all_modes:\n",
    "        distances.append(euclidean(x, y))\n",
    "    key_distances.append(distances)"
   ]
  },
  {
   "cell_type": "code",
   "execution_count": 13,
   "metadata": {
    "collapsed": false
   },
   "outputs": [],
   "source": [
    "names = ['flat: C', 'flat: D', 'flat: F', 'flat: G', 'flat: A', \n",
    "         'flat: Bb', 'natural: C', 'natural: D', 'natural: E', \n",
    "         'natural: F', 'natural: G', 'natural: A', \n",
    "         'alf_maj', 'alf_min', 'alf_all', \n",
    "         'Temp_maj', 'Temp_min']\n",
    "path = '/home/daniel/Desktop/key_similarity.csv'"
   ]
  },
  {
   "cell_type": "code",
   "execution_count": 14,
   "metadata": {
    "collapsed": true
   },
   "outputs": [],
   "source": [
    "all_data = []\n",
    "rows = ['']\n",
    "for x in names:\n",
    "    rows.append(x)\n",
    "all_data.append(rows)\n",
    "for a, b in zip(np.array(key_distances), names):\n",
    "    temp_list = []\n",
    "    temp_list.append(b)\n",
    "    for x in a:\n",
    "        temp_list.append(x)\n",
    "    all_data.append(temp_list)\n",
    "\n",
    "with open(path, 'w', newline='') as fp:\n",
    "    a = csv.writer(fp, delimiter=',')\n",
    "    a.writerows(all_data)"
   ]
  },
  {
   "cell_type": "code",
   "execution_count": 15,
   "metadata": {
    "collapsed": false
   },
   "outputs": [
    {
     "name": "stdout",
     "output_type": "stream",
     "text": [
      "mean: 15.2086984236\n",
      "standard deviation: 8.74641959985\n"
     ]
    }
   ],
   "source": [
    "print('mean:', np.mean(key_distances))\n",
    "print('standard deviation:', np.std(key_distances))"
   ]
  },
  {
   "cell_type": "code",
   "execution_count": 16,
   "metadata": {
    "collapsed": false
   },
   "outputs": [
    {
     "data": {
      "text/plain": [
       "6.462278823776515"
      ]
     },
     "execution_count": 16,
     "metadata": {},
     "output_type": "execute_result"
    }
   ],
   "source": [
    "np.mean(key_distances) - np.std(key_distances)"
   ]
  },
  {
   "cell_type": "code",
   "execution_count": 17,
   "metadata": {
    "collapsed": false
   },
   "outputs": [
    {
     "data": {
      "text/plain": [
       "23.955118023474"
      ]
     },
     "execution_count": 17,
     "metadata": {},
     "output_type": "execute_result"
    }
   ],
   "source": [
    "np.mean(key_distances) + np.std(key_distances)"
   ]
  },
  {
   "cell_type": "code",
   "execution_count": 18,
   "metadata": {
    "collapsed": false
   },
   "outputs": [
    {
     "name": "stdout",
     "output_type": "stream",
     "text": [
      "8.11917679559\n",
      "8.04006527952\n",
      "24.2784188707\n"
     ]
    }
   ],
   "source": [
    "no_zeros = []\n",
    "for w in key_distances:\n",
    "    for x in w:\n",
    "        if x != 0:\n",
    "            no_zeros.append(x)\n",
    "print(np.std(no_zeros))\n",
    "print(np.mean(no_zeros) - np.std(no_zeros))\n",
    "print(np.mean(no_zeros) + np.std(no_zeros))"
   ]
  },
  {
   "cell_type": "code",
   "execution_count": 33,
   "metadata": {
    "collapsed": false
   },
   "outputs": [],
   "source": [
    "def mds_graph(data_matrix):\n",
    "    dt = [('len', float)]\n",
    "    A = data_matrix.view(dt)\n",
    "    G = nx.from_numpy_matrix(A)\n",
    "#     G = nx.relabel_nodes(G, {0: '♭: C', 1: '♭: D', 2: '♭: F', 3: '♭: G', 4: '♭: A', 5: '♭: B♭', \n",
    "#                              6: '♮: C', 7: '♮: D', 8: '♮: E', 9: '♮: F', 10: '♮: G', 11: '♮: A', \n",
    "#                              12: 'alf_maj', 13: 'alf_min', 14: 'all_alf', 15: 'Temp_maj', 16: 'Temp_min'}) \n",
    "\n",
    "\n",
    "#     G = nx.relabel_nodes(G, {0: '♭: C', 1: '♭: D', 2: '♭: F', 3: '♭: G', 4: '♭: A', 5: '♭: B♭', \n",
    "#                              6: '♮: C', 7: '♮: D', 8: '♮: E', 9: '♮: F', 10: '♮: G', 11: '♮: A', \n",
    "#                              12: 'Temp_maj', 13: 'Temp_min'})\n",
    "\n",
    "    G = nx.relabel_nodes(G, {0: '♭: C', 1: '♭: D', 2: '♭: F', 3: '♭: G', 4: '♭: A', 5: '♭: B♭', \n",
    "                             6: '♮: C', 7: '♮: D', 8: '♮: E', 9: '♮: F', 10: '♮: G', 11: '♮: A'})\n",
    "\n",
    "    G = to_agraph(G)\n",
    "\n",
    "    G.node_attr.update(color='green', style='filled', fontsize=30)\n",
    "    G.edge_attr.update(weight=0, style='invis')\n",
    "    G.draw('/home/daniel/Desktop/neato_modes_poo.png', format='png', prog='neato')"
   ]
  },
  {
   "cell_type": "code",
   "execution_count": 20,
   "metadata": {
    "collapsed": false
   },
   "outputs": [
    {
     "name": "stdout",
     "output_type": "stream",
     "text": [
      "number of notes:  368\n",
      "number of notes:  3536\n",
      "number of notes:  12664\n",
      "number of notes:  19576\n",
      "number of notes:  260\n",
      "number of notes:  696\n",
      "number of notes:  4992\n",
      "number of notes:  6480\n",
      "number of notes:  560\n",
      "number of notes:  612\n",
      "number of notes:  15584\n",
      "number of notes:  3084\n"
     ]
    }
   ],
   "source": [
    "bf0 = CM.note_frequency(CM.all_alf, ('f', 0))\n",
    "bf2 = CM.note_frequency(CM.all_alf, ('f', 2))\n",
    "bf5 = CM.note_frequency(CM.all_alf, ('f', 5))\n",
    "bf7 = CM.note_frequency(CM.all_alf, ('f', 7))\n",
    "bf9 = CM.note_frequency(CM.all_alf, ('f', 9))\n",
    "bf10 = CM.note_frequency(CM.all_alf, ('f', 10))\n",
    "\n",
    "bn0 = CM.note_frequency(CM.all_alf, ('n', 0))\n",
    "bn2 = CM.note_frequency(CM.all_alf, ('n', 2))\n",
    "bn4 = CM.note_frequency(CM.all_alf, ('n', 4))\n",
    "bn5 = CM.note_frequency(CM.all_alf, ('n', 5))\n",
    "bn7 = CM.note_frequency(CM.all_alf, ('n', 7))\n",
    "bn9 = CM.note_frequency(CM.all_alf, ('n', 9))\n",
    "\n",
    "\n",
    "bf0 = [af0[x] for x in range(12)]\n",
    "bf2 = [af2[x] for x in range(12)]\n",
    "bf5 = [af5[x] for x in range(12)]\n",
    "bf7 = [af7[x] for x in range(12)]\n",
    "bf9 = [af9[x] for x in range(12)]\n",
    "bf10 = [af10[x] for x in range(12)]\n",
    "\n",
    "bn0 = [an0[x] for x in range(12)]\n",
    "bn2 = [an2[x] for x in range(12)]\n",
    "bn4 = [an4[x] for x in range(12)]\n",
    "bn5 = [an5[x] for x in range(12)]\n",
    "bn7 = [an7[x] for x in range(12)]\n",
    "bn9 = [an9[x] for x in range(12)] \n",
    "\n",
    "only_modes = [bf0, bf2, bf5, bf7, bf9, bf10, bn0, bn2, bn4, bn5, bn7, bn9]\n",
    "modes_temp = [bf0, bf2, bf5, bf7, bf9, bf10, bn0, bn2, bn4, bn5, bn7, bn9, t_maj, t_min]"
   ]
  },
  {
   "cell_type": "code",
   "execution_count": 21,
   "metadata": {
    "collapsed": true
   },
   "outputs": [],
   "source": [
    "mode_distances = []\n",
    "for x in only_modes:\n",
    "    distances = []\n",
    "    for y in only_modes:\n",
    "        distances.append(euclidean(x, y))\n",
    "    mode_distances.append(distances)"
   ]
  },
  {
   "cell_type": "code",
   "execution_count": 34,
   "metadata": {
    "collapsed": false
   },
   "outputs": [],
   "source": [
    "mds_graph(np.array(mode_distances))"
   ]
  },
  {
   "cell_type": "code",
   "execution_count": null,
   "metadata": {
    "collapsed": false
   },
   "outputs": [],
   "source": [
    "mds_graph(np.array(key_distances))"
   ]
  },
  {
   "cell_type": "code",
   "execution_count": 27,
   "metadata": {
    "collapsed": false
   },
   "outputs": [],
   "source": [
    "mds_graph(np.array(only_modes))"
   ]
  },
  {
   "cell_type": "code",
   "execution_count": 79,
   "metadata": {
    "collapsed": false
   },
   "outputs": [
    {
     "data": {
      "text/plain": [
       "[[16.84782608695653,\n",
       "  0.2717391304347826,\n",
       "  16.032608695652186,\n",
       "  9.239130434782608,\n",
       "  2.7173913043478266,\n",
       "  12.500000000000005,\n",
       "  1.358695652173913,\n",
       "  17.663043478260875,\n",
       "  0,\n",
       "  8.423913043478258,\n",
       "  10.597826086956523,\n",
       "  4.347826086956522],\n",
       " [18.18438914027175,\n",
       "  2.149321266968322,\n",
       "  8.229638009049756,\n",
       "  13.320135746606459,\n",
       "  2.4038461538461493,\n",
       "  14.366515837104226,\n",
       "  0.16968325791855207,\n",
       "  14.762443438914191,\n",
       "  9.95475113122175,\n",
       "  2.0644796380090464,\n",
       "  12.471719457013675,\n",
       "  1.92307692307692],\n",
       " [16.36133922931089,\n",
       "  1.3344914718888146,\n",
       "  14.095072646872605,\n",
       "  0.1579279848389135,\n",
       "  13.28963992419422,\n",
       "  10.99968414403018,\n",
       "  2.013581806696139,\n",
       "  16.487681617182037,\n",
       "  0.4737839545167408,\n",
       "  14.355653821856789,\n",
       "  2.9453569172457494,\n",
       "  7.485786481364613],\n",
       " [16.515120555781447,\n",
       "  0.16857376379239897,\n",
       "  11.22803432774791,\n",
       "  12.101552921944755,\n",
       "  2.5796894156109493,\n",
       "  12.985288107886593,\n",
       "  0.6181038005721304,\n",
       "  17.761544748670513,\n",
       "  5.465876583571788,\n",
       "  4.970371883939573,\n",
       "  12.86779730281918,\n",
       "  2.738046587658358],\n",
       " [15.76923076923078,\n",
       "  0,\n",
       "  13.076923076923086,\n",
       "  11.15384615384616,\n",
       "  0.7692307692307693,\n",
       "  12.307692307692315,\n",
       "  1.9230769230769231,\n",
       "  17.692307692307697,\n",
       "  3.8461538461538463,\n",
       "  8.84615384615385,\n",
       "  9.61538461538462,\n",
       "  5.000000000000001],\n",
       " [14.08045977011495,\n",
       "  1.1494252873563218,\n",
       "  11.925287356321846,\n",
       "  0.8620689655172413,\n",
       "  16.091954022988514,\n",
       "  5.747126436781612,\n",
       "  4.454022988505749,\n",
       "  15.229885057471273,\n",
       "  2.586206896551725,\n",
       "  15.517241379310354,\n",
       "  0.14367816091954022,\n",
       "  12.212643678160926],\n",
       " [16.506410256410128,\n",
       "  0.821314102564103,\n",
       "  14.102564102563996,\n",
       "  0.04006410256410256,\n",
       "  13.62179487179477,\n",
       "  9.154647435897374,\n",
       "  2.604166666666664,\n",
       "  18.589743589743442,\n",
       "  0.6009615384615384,\n",
       "  13.10096153846144,\n",
       "  0.9615384615384622,\n",
       "  9.895833333333265],\n",
       " [16.975308641975275,\n",
       "  0.10802469135802469,\n",
       "  12.870370370370265,\n",
       "  9.753086419753012,\n",
       "  3.5493827160493705,\n",
       "  12.808641975308538,\n",
       "  1.5586419753086433,\n",
       "  17.50000000000002,\n",
       "  4.012345679012329,\n",
       "  5.740740740740707,\n",
       "  11.604938271604846,\n",
       "  3.5185185185185066],\n",
       " [17.857142857142854,\n",
       "  3.3928571428571415,\n",
       "  5.535714285714286,\n",
       "  12.678571428571438,\n",
       "  3.9285714285714266,\n",
       "  15.000000000000012,\n",
       "  0,\n",
       "  16.428571428571438,\n",
       "  9.464285714285719,\n",
       "  1.6071428571428572,\n",
       "  11.607142857142865,\n",
       "  2.4999999999999996],\n",
       " [14.215686274509787,\n",
       "  2.450980392156863,\n",
       "  13.071895424836589,\n",
       "  0.4901960784313726,\n",
       "  14.05228758169933,\n",
       "  6.86274509803922,\n",
       "  3.5947712418300646,\n",
       "  16.8300653594771,\n",
       "  1.4705882352941178,\n",
       "  14.869281045751615,\n",
       "  0.4901960784313726,\n",
       "  11.601307189542476],\n",
       " [18.050564681724694,\n",
       "  1.0202772073921933,\n",
       "  13.75128336755677,\n",
       "  0.8855236139630362,\n",
       "  11.402720739219951,\n",
       "  12.288244353183014,\n",
       "  1.5721252566735031,\n",
       "  17.627053388090303,\n",
       "  0.11550308008213556,\n",
       "  13.488193018480787,\n",
       "  4.825462012320393,\n",
       "  4.973049281314236],\n",
       " [17.542153047989565,\n",
       "  1.2970168612191948,\n",
       "  9.565499351491539,\n",
       "  11.738002594033684,\n",
       "  2.756160830090785,\n",
       "  13.553826199740552,\n",
       "  0.25940337224383914,\n",
       "  18.06095979247724,\n",
       "  7.230869001296995,\n",
       "  2.723735408560305,\n",
       "  11.316472114137447,\n",
       "  3.955901426718537]]"
      ]
     },
     "execution_count": 79,
     "metadata": {},
     "output_type": "execute_result"
    }
   ],
   "source": [
    "only_modes"
   ]
  },
  {
   "cell_type": "code",
   "execution_count": null,
   "metadata": {
    "collapsed": true
   },
   "outputs": [],
   "source": []
  }
 ],
 "metadata": {
  "kernelspec": {
   "display_name": "Python [Root]",
   "language": "python",
   "name": "Python [Root]"
  },
  "language_info": {
   "codemirror_mode": {
    "name": "ipython",
    "version": 3
   },
   "file_extension": ".py",
   "mimetype": "text/x-python",
   "name": "python",
   "nbconvert_exporter": "python",
   "pygments_lexer": "ipython3",
   "version": "3.5.2"
  }
 },
 "nbformat": 4,
 "nbformat_minor": 0
}
