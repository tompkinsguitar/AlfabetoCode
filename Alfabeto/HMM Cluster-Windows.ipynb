{
 "cells": [
  {
   "cell_type": "code",
   "execution_count": 1,
   "metadata": {
    "collapsed": false,
    "scrolled": true
   },
   "outputs": [],
   "source": [
    "import ipyparallel as ipp\n",
    "import os\n",
    "import numpy as np"
   ]
  },
  {
   "cell_type": "code",
   "execution_count": 2,
   "metadata": {
    "collapsed": false
   },
   "outputs": [],
   "source": [
    "rc = ipp.Client()"
   ]
  },
  {
   "cell_type": "code",
   "execution_count": 3,
   "metadata": {
    "collapsed": false,
    "scrolled": true
   },
   "outputs": [
    {
     "data": {
      "text/plain": [
       "[0, 1, 2, 3, 4, 5, 6, 7]"
      ]
     },
     "execution_count": 3,
     "metadata": {},
     "output_type": "execute_result"
    }
   ],
   "source": [
    "rc.ids"
   ]
  },
  {
   "cell_type": "code",
   "execution_count": 4,
   "metadata": {
    "collapsed": false
   },
   "outputs": [],
   "source": [
    "dview = rc[:]"
   ]
  },
  {
   "cell_type": "code",
   "execution_count": 5,
   "metadata": {
    "collapsed": false
   },
   "outputs": [
    {
     "name": "stdout",
     "output_type": "stream",
     "text": [
      "remaining length: 527\n"
     ]
    }
   ],
   "source": [
    "dview.execute('import alfabeto_data.hmm_threading as ht')\n",
    "dview.execute('import alfabeto_data.dissertation_images as di')\n",
    "parallel_dict_ = {}\n",
    "thing_number_ = 0\n",
    "for cluster_ in range(2, 16):\n",
    "    for mc_ in range(5):\n",
    "        for mc_range_ in range(500):\n",
    "            parallel_dict_[thing_number_] = {'cluster':cluster_, 'mc': mc_, 'mc_range': [mc_range_]}\n",
    "            thing_number_ += 1\n",
    "\n",
    "remaining_list = []\n",
    "for num, data in parallel_dict_.items():\n",
    "    for corpus in ['alfabeto_continuo', 'bach', 'palestrina']:\n",
    "        for mode in ['major', 'minor']:\n",
    "            if not os.path.exists('/home/daniel/Desktop/hmm_mc/%s/%s/%s/%s/%s.pkl' % (corpus, mode, parallel_dict_[num]['cluster'],\n",
    "                                                                     parallel_dict_[num]['mc'],\n",
    "                                                                     parallel_dict_[num]['mc_range'][0])):\n",
    "                if num not in remaining_list:\n",
    "                    remaining_list.append(num)\n",
    "\n",
    "print('remaining length:', len(remaining_list))"
   ]
  },
  {
   "cell_type": "code",
   "execution_count": 6,
   "metadata": {
    "collapsed": false
   },
   "outputs": [],
   "source": [
    "@dview.parallel(block=True)\n",
    "def parallel_hmm(parallel_number):\n",
    "    parallel_dict = {}\n",
    "    thing_number = 0\n",
    "    for cluster in range(2, 16):\n",
    "        for mc in range(5):\n",
    "            for mc_range in range(500):\n",
    "                parallel_dict[thing_number] = {'cluster': cluster, 'mc': mc, 'mc_range': [mc_range]}\n",
    "                thing_number += 1\n",
    "\n",
    "    ht.hmm_pickle_generator('alfabeto continuo', di.GetAll.all_alf, di.modal_major, 'alfabeto_continuo',\n",
    "                            'major', parallel_dict[parallel_number]['mc'], parallel_dict[parallel_number]['cluster'],\n",
    "                            parallel_dict[parallel_number]['mc_range'], '/home/daniel/Desktop/')\n",
    "\n",
    "    ht.hmm_pickle_generator('alfabeto continuo', di.GetAll.all_alf, di.modal_minor, 'alfabeto_continuo',\n",
    "                            'minor', parallel_dict[parallel_number]['mc'], parallel_dict[parallel_number]['cluster'],\n",
    "                            parallel_dict[parallel_number]['mc_range'], '/home/daniel/Desktop/')\n",
    "\n",
    "    ht.hmm_pickle_generator('palestrina', di.palestrina_continuo, [(0, 9), (-1, 2)], 'palestrina',\n",
    "                            'minor', parallel_dict[parallel_number]['mc'], parallel_dict[parallel_number]['cluster'],\n",
    "                            parallel_dict[parallel_number]['mc_range'], '/home/daniel/Desktop/')\n",
    "    ht.hmm_pickle_generator('bach', di.bach_continuo, di.tonal_minor, 'bach',\n",
    "                            'minor', parallel_dict[parallel_number]['mc'], parallel_dict[parallel_number]['cluster'],\n",
    "                            parallel_dict[parallel_number]['mc_range'], '/home/daniel/Desktop/')\n",
    "\n",
    "    ht.hmm_pickle_generator('palestrina', di.palestrina_continuo, [(0, 0), (-1, 5)], 'palestrina',\n",
    "                            'major', parallel_dict[parallel_number]['mc'], parallel_dict[parallel_number]['cluster'],\n",
    "                            parallel_dict[parallel_number]['mc_range'], '/home/daniel/Desktop/')\n",
    "    ht.hmm_pickle_generator('bach', di.bach_continuo, di.tonal_major, 'bach',\n",
    "                            'major', parallel_dict[parallel_number]['mc'], parallel_dict[parallel_number]['cluster'],\n",
    "                            parallel_dict[parallel_number]['mc_range'], '/home/daniel/Desktop/')"
   ]
  },
  {
   "cell_type": "code",
   "execution_count": null,
   "metadata": {
    "collapsed": false
   },
   "outputs": [
    {
     "name": "stdout",
     "output_type": "stream",
     "text": [
      "imported stuff\n",
      "527\n"
     ]
    }
   ],
   "source": [
    "print('imported stuff')\n",
    "np.random.shuffle(remaining_list)\n",
    "print(len(remaining_list))\n",
    "parallel_hmm.map(remaining_list)"
   ]
  },
  {
   "cell_type": "code",
   "execution_count": null,
   "metadata": {
    "collapsed": false
   },
   "outputs": [],
   "source": [
    "print(len(set(remaining_list)))"
   ]
  },
  {
   "cell_type": "code",
   "execution_count": null,
   "metadata": {
    "collapsed": false
   },
   "outputs": [],
   "source": [
    "parallel_dict_[remaining_list[0]]"
   ]
  },
  {
   "cell_type": "code",
   "execution_count": null,
   "metadata": {
    "collapsed": true
   },
   "outputs": [],
   "source": [
    "from sklearn.externals import joblib"
   ]
  },
  {
   "cell_type": "code",
   "execution_count": null,
   "metadata": {
    "collapsed": true
   },
   "outputs": [],
   "source": [
    "x = joblib.load('/home/daniel/Desktop/hmm_mc/palestrina/minor/4/2MC.pkl')"
   ]
  },
  {
   "cell_type": "code",
   "execution_count": null,
   "metadata": {
    "collapsed": false
   },
   "outputs": [],
   "source": [
    "x"
   ]
  },
  {
   "cell_type": "code",
   "execution_count": null,
   "metadata": {
    "collapsed": true
   },
   "outputs": [],
   "source": []
  }
 ],
 "metadata": {
  "anaconda-cloud": {},
  "kernelspec": {
   "display_name": "Python [Root]",
   "language": "python",
   "name": "Python [Root]"
  },
  "language_info": {
   "codemirror_mode": {
    "name": "ipython",
    "version": 3
   },
   "file_extension": ".py",
   "mimetype": "text/x-python",
   "name": "python",
   "nbconvert_exporter": "python",
   "pygments_lexer": "ipython3",
   "version": "3.5.2"
  }
 },
 "nbformat": 4,
 "nbformat_minor": 0
}
