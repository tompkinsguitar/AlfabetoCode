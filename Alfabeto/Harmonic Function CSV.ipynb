{
 "cells": [
  {
   "cell_type": "code",
   "execution_count": 1,
   "metadata": {
    "collapsed": false
   },
   "outputs": [],
   "source": [
    "from alfabeto_sources.all_sources import *\n",
    "from alfabeto_code.AlfabetoConverter import transposed_pc_chords_noMMD\n",
    "from alfabeto_data.pickled_data import *\n",
    "from alfabeto_data.harmonic_function_data import *\n",
    "from Continuo.ContinuoConverter import figure_intervals_pc, transposed_figures\n",
    "import numpy as np\n",
    "import matplotlib.pyplot as plt\n",
    "import networkx as nx\n",
    "from networkx.drawing.nx_agraph import write_dot\n",
    "from decimal import Decimal\n",
    "\n",
    "import csv, pickle"
   ]
  },
  {
   "cell_type": "code",
   "execution_count": 2,
   "metadata": {
    "collapsed": false
   },
   "outputs": [],
   "source": [
    "def bigram_numbers_alfabeto(corpus, modes):\n",
    "    X = []\n",
    "    csv_data = []\n",
    "    for book in corpus:\n",
    "        for song in book.values():\n",
    "    #         print(song['alfabeto'])\n",
    "            attempt_mode = (song['data']['key'], song['data']['final'])\n",
    "            if modes == 'all':\n",
    "                X.append(transposed_pc_chords_noMMD(song['alfabeto'], 'all'))\n",
    "            elif attempt_mode in modes:\n",
    "                X.append(transposed_pc_chords_noMMD(song['alfabeto'], 'all'))\n",
    "    numerals = ['I', 'i', 'bII', 'bii', 'II', 'ii',\n",
    "            'bIII', 'biii', 'III', 'iii', 'IV', 'iv',\n",
    "            '#IV', '#iv', 'V', 'v', 'bVI', 'bvi',\n",
    "            'VI', 'vi', 'bVII', 'bvii', 'VII', 'vii']\n",
    "    numeral_data = {}\n",
    "    final_numerals = []\n",
    "    total_chords = 0\n",
    "    for x in numerals:\n",
    "        numeral_data[x] = 0\n",
    "    for x in X:\n",
    "        for y in x:\n",
    "            numeral_data[y] += 1\n",
    "            total_chords += 1\n",
    "    for x in numerals:\n",
    "        if numeral_data[x] >= .01*total_chords:\n",
    "            final_numerals.append(x)\n",
    "    after_labels = [' ']\n",
    "    for x in final_numerals:\n",
    "        after_labels.append(x)\n",
    "    csv_data.append(after_labels)\n",
    "    for numeral in final_numerals:\n",
    "        csv_temp = []\n",
    "        csv_temp.append(numeral)\n",
    "        numeral_after_dict = {}\n",
    "        total_numbers_after = 0\n",
    "        for x in numerals:\n",
    "            numeral_after_dict[x] = 0\n",
    "        for x in X:\n",
    "            for y in range(1, len(x)):\n",
    "                if x[y-1] == numeral:\n",
    "                    numeral_after_dict[x[y]] += 1\n",
    "                    total_chords += 1\n",
    "        numeral_after = []\n",
    "        for x in final_numerals:\n",
    "            csv_temp.append(numeral_after_dict[x])\n",
    "        csv_data.append(csv_temp)    \n",
    "\n",
    "    print(total_chords)\n",
    "    return csv_data\n",
    "\n",
    "def bigram_numbers_continuo(alfabeto_source, modes):\n",
    "    csv_data = []\n",
    "    all_keys = []\n",
    "    X = []\n",
    "    for book in alfabeto_source:\n",
    "        for song in book.values():\n",
    "    #         print(song['alfabeto'])\n",
    "            attempt_mode = (song['data']['key'], song['data']['final'])\n",
    "#             print(attempt_mode)\n",
    "            if modes == 'all':\n",
    "                X.append(figure_intervals_pc(song, 'all'))\n",
    "            elif attempt_mode in modes:\n",
    "                X.append(figure_intervals_pc(song, 'all'))\n",
    "    all_chords = {}\n",
    "    all_chord_numbers = 0\n",
    "    for x in X:\n",
    "        for y in x:\n",
    "            all_chord_numbers += 1\n",
    "    for x in X:\n",
    "        for y in x:\n",
    "            if str(y) not in all_chords.keys():\n",
    "                all_chords[str(y)] = 1\n",
    "            else:\n",
    "                all_chords[str(y)] += 1\n",
    "    all_chords_final = []\n",
    "    for x, y in all_chords.items():\n",
    "        if y/all_chord_numbers >= .01:\n",
    "            all_chords_final.append(x)\n",
    "    \n",
    "    csv_data = []\n",
    "    after_labels = [' ']\n",
    "    for x in all_chords_final:\n",
    "        after_labels.append(x)\n",
    "    csv_data.append(after_labels)\n",
    "    total_chords = 0\n",
    "    for numeral in all_chords_final:\n",
    "        csv_temp = []\n",
    "        csv_temp.append(numeral)\n",
    "        numeral_after_dict = {}\n",
    "        total_numbers_after = 0\n",
    "        for x in all_chords_final:\n",
    "            numeral_after_dict[x] = 0\n",
    "        for x in X:\n",
    "            for y in range(1, len(x)):\n",
    "                if str(x[y-1]) == numeral and str(x[y]) in all_chords_final and str(x[y-1]) != str(x[y]):\n",
    "                    numeral_after_dict[str(x[y])] += 1\n",
    "                    total_chords += 1\n",
    "        numeral_after = []\n",
    "        for x in all_chords_final:\n",
    "            csv_temp.append(numeral_after_dict[x])\n",
    "        csv_data.append(csv_temp)   \n",
    "    return csv_data\n",
    "\n",
    "def bigram_numbers_corpus(corpus_data_tuples, modes): #chord/key data into csv-ready functions\n",
    "    csv_data = []\n",
    "    all_keys = []\n",
    "    X = []\n",
    "    for x, y in zip(corpus_data_tuples[0], corpus_data_tuples[1]):\n",
    "        if modes == 'all':\n",
    "            temp_list = []\n",
    "            for z in x:\n",
    "                temp_list.append(''.join(map(str, z)))\n",
    "            X.append(temp_list)\n",
    "            print(temp_list)\n",
    "            all_keys.append(y)\n",
    "        elif y in modes:\n",
    "            temp_list = []\n",
    "            for z in x:\n",
    "                temp_list.append(''.join(map(str, z)))\n",
    "            X.append(temp_list)\n",
    "#             print(temp_list)\n",
    "            all_keys.append(y)\n",
    "    all_chords = {}\n",
    "    all_chord_numbers = 0\n",
    "    for x in X:\n",
    "        for y in x:\n",
    "            all_chord_numbers += 1\n",
    "    for x in X:\n",
    "        for y in x:\n",
    "            if str(y) not in all_chords.keys():\n",
    "                all_chords[str(y)] = 1\n",
    "            else:\n",
    "                all_chords[str(y)] += 1\n",
    "    all_chords_final = []\n",
    "    for x, y in all_chords.items():\n",
    "        if y/all_chord_numbers >= .01:\n",
    "            all_chords_final.append(x)\n",
    "    \n",
    "    csv_data = []\n",
    "    after_labels = [' ']\n",
    "    for x in all_chords_final:\n",
    "        after_labels.append(x)\n",
    "    csv_data.append(after_labels)\n",
    "    total_chords = 0\n",
    "    for numeral in all_chords_final:\n",
    "        csv_temp = []\n",
    "        csv_temp.append(numeral)\n",
    "        numeral_after_dict = {}\n",
    "        total_numbers_after = 0\n",
    "        for x in all_chords_final:\n",
    "            numeral_after_dict[x] = 0\n",
    "        for x in X:\n",
    "            for y in range(1, len(x)):\n",
    "                if str(x[y-1]) == numeral and str(x[y]) in all_chords_final and str(x[y-1]) != str(x[y]):\n",
    "                    numeral_after_dict[str(x[y])] += 1\n",
    "                    total_chords += 1\n",
    "        numeral_after = []\n",
    "        for x in all_chords_final:\n",
    "            csv_temp.append(numeral_after_dict[x])\n",
    "        csv_data.append(csv_temp)    \n",
    "\n",
    "    print(total_chords)\n",
    "    return csv_data"
   ]
  },
  {
   "cell_type": "code",
   "execution_count": 3,
   "metadata": {
    "collapsed": true
   },
   "outputs": [],
   "source": [
    "def song_chords(chord_data): #converts chordify/key data into chord/key data\n",
    "#     chord_data = []\n",
    "    final_data = []\n",
    "#     for x in chordified_song:\n",
    "#         bass_note = chordified_song[-1].bass().pitchClass\n",
    "#         chord_data.append(sorted(set([(y.pitchClass - bass_note)%12 for y in x])))\n",
    "    for x in range(1, len(chord_data)):\n",
    "        if chord_data[x-1] != chord_data[x] and len(chord_data[x-1][-1]) >= 3:\n",
    "            final_data.append(chord_data[x-1])\n",
    "#         elif len(final_data) > 0 and final_data[-1] == chord_data[x-1]:\n",
    "#             final_data[x-1] = chord_data[x-1]\n",
    "#         elif len(chord_data[x-1][-1]) >= 3:\n",
    "            \n",
    "#         elif chord_data[x-1] == chord_data[x]:\n",
    "# #             if set(chord_data[x-1][-1]).issubset(chord_data[x][-1]):\n",
    "# #                 print(set(chord_data[x-1][-1]), chord_data[x][-1])\n",
    "#             if len(final_data) > 0 and final_data[-1] == chord_data[x-1]:\n",
    "#                 print(final_data)\n",
    "#                 final_data[x-1] = chord_data[x]\n",
    "#             elif len(chord_data[x][-1]) >= 3:\n",
    "#                 final_data.append(chord_data[x])\n",
    "#             elif len(chord_data[x-1][-1]) >= 3:\n",
    "#                 if len(final_data) > 0 and chord_data[x-1] != final_data[-1]:\n",
    "#                     final_data.append(chord_data[x-1])\n",
    "#             elif set(chord_data[x-1][-1]).issuperset(chord_data[x][-1]) is False and len(chord_data[x][-1]) >= 3:\n",
    "#                 final_data.append(chord_data[x])\n",
    "    return final_data\n",
    "\n",
    "major = [('f', 5), ('n', 0), ('f', 0), ('n', 7), ('f', 10), ('n', 5), \n",
    "         (-1, 5), (0, 0), (-1, 0), (0, 7), (-1, 10), (0, 5) ]\n",
    "minor= [('n', 2), ('n', 9), ('f', 2), ('f', 7), ('n', 4), \n",
    "        (0, 2), (0, 9), (-1, 2), (-1, 7), (0, 4)]\n",
    "# be = bigram_numbers(GetAll.all_alf, 'all')\n",
    "tonal_major = {(0,0): 'CM', (1, 7): 'GM',(2, 2): 'DM', (3, 9): 'AM', (4, 4): 'EM', (5, 11): 'BM', (6, 6): 'F♯M',\n",
    "               (-1,5): 'FM', (-2,10): 'B♭M', (-3,3): 'E♭M', (-4,8): 'A♭M', (-5,1): 'D♭M', (-6,6): 'G♭M'}\n",
    "tonal_minor = {(0,9): 'am', (1, 4): 'em', (2, 11): 'bm', (3, 6): 'f♯m', (4, 1): 'c♯m', (5, 8): 'g♯m', (6, 3): 'd♯m', \n",
    "               (-1,2): 'dm', (-2,7): 'gm', (-3,0): 'cm', (-4,5): 'fm', (-5,10): 'b♭m', (-6,3): 'e♭m'}\n",
    "bach_major = [x for x in tonal_major.keys()]\n",
    "bach_minor = [x for x in tonal_minor.keys()]"
   ]
  },
  {
   "cell_type": "code",
   "execution_count": 6,
   "metadata": {
    "collapsed": false,
    "scrolled": true
   },
   "outputs": [],
   "source": [
    "# pal_csv = bigram_numbers_corpus(bach_chords_data, bach_minor)\n",
    "alf_continuo_csv = bigram_numbers_continuo(GetAll.all_alf, minor)\n",
    "# song_chords(bach_continuo_data[0][0])\n",
    "# for x in GetAll.all_alf:\n",
    "#     for y in x.values():\n",
    "# #         print(y)\n",
    "#         print(transposed_figures(y))"
   ]
  },
  {
   "cell_type": "code",
   "execution_count": 32,
   "metadata": {
    "collapsed": false
   },
   "outputs": [
    {
     "data": {
      "text/plain": [
       "True"
      ]
     },
     "execution_count": 32,
     "metadata": {},
     "output_type": "execute_result"
    }
   ],
   "source": [
    "alf_co"
   ]
  },
  {
   "cell_type": "code",
   "execution_count": 5,
   "metadata": {
    "collapsed": false
   },
   "outputs": [
    {
     "ename": "NameError",
     "evalue": "name 'alf_continuo_csv' is not defined",
     "output_type": "error",
     "traceback": [
      "\u001b[0;31m---------------------------------------------------------------------------\u001b[0m",
      "\u001b[0;31mNameError\u001b[0m                                 Traceback (most recent call last)",
      "\u001b[0;32m<ipython-input-5-4ad9b11b3a73>\u001b[0m in \u001b[0;36m<module>\u001b[0;34m()\u001b[0m\n\u001b[0;32m----> 1\u001b[0;31m \u001b[0mCSV_DATA\u001b[0m \u001b[0;34m=\u001b[0m \u001b[0malf_continuo_csv\u001b[0m\u001b[0;34m\u001b[0m\u001b[0m\n\u001b[0m",
      "\u001b[0;31mNameError\u001b[0m: name 'alf_continuo_csv' is not defined"
     ]
    }
   ],
   "source": [
    "CSV_DATA = alf_continuo_csv"
   ]
  },
  {
   "cell_type": "code",
   "execution_count": null,
   "metadata": {
    "collapsed": false
   },
   "outputs": [],
   "source": [
    "with open('/home/daniel/Desktop/alf_continuo_minor.csv', 'w', newline='') as fp:\n",
    "    a = csv.writer(fp, delimiter=',')\n",
    "    final_data = CSV_DATA\n",
    "    a.writerows(final_data)"
   ]
  },
  {
   "cell_type": "code",
   "execution_count": null,
   "metadata": {
    "collapsed": false
   },
   "outputs": [],
   "source": [
    "x = 0.23543434\n",
    "y = Decimal(str(x),).quantize(Decimal('.00'))\n",
    "print(y)"
   ]
  },
  {
   "cell_type": "code",
   "execution_count": 3,
   "metadata": {
    "collapsed": false
   },
   "outputs": [],
   "source": [
    "def function_mapper(corpus, modes, cluster, source, path):\n",
    "    X = []\n",
    "    csv_data = []\n",
    "    if source == 'alfabeto':\n",
    "        for book in corpus:\n",
    "            for song in book.values():\n",
    "        #         print(song['alfabeto'])\n",
    "                attempt_mode = (song['data']['key'], song['data']['final'])\n",
    "                if modes == 'all':\n",
    "                    X.append(transposed_pc_chords_noMMD(song['alfabeto'], 'all'))\n",
    "                elif attempt_mode in modes:\n",
    "                    X.append(transposed_pc_chords_noMMD(song['alfabeto'], 'all'))\n",
    "    elif source == 'alfabeto continuo':\n",
    "        for book in corpus:\n",
    "            for song in book.values():\n",
    "                attempt_mode = (song['data']['key'], song['data']['final'])\n",
    "                if modes == 'all':\n",
    "                    X.append(figure_intervals_pc(song, 'all'))\n",
    "                elif attempt_mode in modes:\n",
    "                    X.append(figure_intervals_pc(song, 'all'))\n",
    "    else:\n",
    "        for x, y in zip(corpus[0], corpus[1]):\n",
    "            if modes == 'all':\n",
    "                X.append(x)\n",
    "            elif y in modes:\n",
    "                X.append(x)\n",
    "#                 print(song_chords(x))\n",
    "    function_data = []\n",
    "    for x in X:\n",
    "        temp_list = []\n",
    "        for y in x:\n",
    "            for a, b in cluster.items():\n",
    "                if y in b:\n",
    "                    temp_list.append(a)\n",
    "        function_data.append(temp_list)\n",
    "    cluster_dict = {}\n",
    "    for x in cluster.keys():\n",
    "        for y in cluster.keys():\n",
    "            cluster_dict[(x, y)] = 0\n",
    "    for x in function_data:\n",
    "        for y in range(1, len(x)):\n",
    "            cluster_dict[(x[y-1], x[y])] += 1\n",
    "    total_chord_changes = 0\n",
    "    for x in cluster_dict.values():\n",
    "        total_chord_changes += x\n",
    "    print('total chord changes:', total_chord_changes)\n",
    "    \n",
    "    #networkx graph\n",
    "    G = nx.DiGraph()\n",
    "    for x, y in cluster_dict.items():\n",
    "        if y > .01*total_chord_changes:\n",
    "            G.add_edge(x[0], x[1], penwidth=y/total_chord_changes * 30) #\n",
    "#                        label=Decimal(str(y/total_chord_changes*100)).quantize(Decimal('.00')))\n",
    "    H = nx.Graph() #make \n",
    "    \n",
    "    edge_weights = []\n",
    "    edges = G.edges(data=True)\n",
    "    print('edges:', edges)\n",
    "    for x in edges:\n",
    "        edge_weights.append(x[2]['penwidth'])\n",
    "    pos = nx.circular_layout(G)\n",
    "    nx.draw_networkx_edges(G, pos, edges=edges, edge_color='green', width=edge_weights, alpha=.5)\n",
    "    nx.draw_networkx_nodes(G, pos, node_color='green')\n",
    "    nx.draw_networkx_labels(G, pos)\n",
    "    write_dot(G, '/home/daniel/Desktop/pal_minor_6.dot')\n",
    "    print(cluster_dict)\n",
    "\n"
   ]
  },
  {
   "cell_type": "code",
   "execution_count": null,
   "metadata": {
    "collapsed": false
   },
   "outputs": [],
   "source": [
    "# function_mapper(palestrina_chords_data, minor, palestrina_minor[6], 'other')\n",
    "function_mapper(GetAll.all_alf, major, alfabeto_continuo_major[3], 'alfabeto continuo')"
   ]
  },
  {
   "cell_type": "code",
   "execution_count": null,
   "metadata": {
    "collapsed": true
   },
   "outputs": [],
   "source": [
    "def song_function_analysis(song, cluster_data):\n",
    "    song_numerals = transposed_pc_chords_noMMD(song, 'all')\n",
    "    function_labels = []\n",
    "    for numeral in song_numerals:\n",
    "        for labels, clusters in cluster_data.items():\n",
    "            if numeral in clusters:\n",
    "                function_labels.append(labels)\n",
    "    print(song_numerals)\n",
    "    print(function_labels)\n",
    "    print(len(song_numerals), len(function_labels))"
   ]
  },
  {
   "cell_type": "code",
   "execution_count": null,
   "metadata": {
    "collapsed": false
   },
   "outputs": [],
   "source": [
    "A = GetComposer.all_obizzi[0][1]['alfabeto']\n",
    "print(GetComposer.all_obizzi[0][1]['data'])"
   ]
  },
  {
   "cell_type": "code",
   "execution_count": null,
   "metadata": {
    "collapsed": false
   },
   "outputs": [],
   "source": [
    "song_function_analysis(A, alfabeto_major[3])"
   ]
  },
  {
   "cell_type": "code",
   "execution_count": null,
   "metadata": {
    "collapsed": true
   },
   "outputs": [],
   "source": [
    "from Continuo.ContinuoMarkov import markovMaker"
   ]
  },
  {
   "cell_type": "code",
   "execution_count": null,
   "metadata": {
    "collapsed": false
   },
   "outputs": [],
   "source": [
    "mark = markovMaker(GetAll.all_alf, 'all', 2, 'joined')"
   ]
  },
  {
   "cell_type": "code",
   "execution_count": null,
   "metadata": {
    "collapsed": false
   },
   "outputs": [],
   "source": [
    "len(mark)"
   ]
  },
  {
   "cell_type": "code",
   "execution_count": null,
   "metadata": {
    "collapsed": false,
    "scrolled": true
   },
   "outputs": [],
   "source": [
    "all_numbers = 0\n",
    "for a, b in mark.items():\n",
    "    for c in b.values():\n",
    "        all_numbers += c\n",
    "\n",
    "reduced_dict = {}\n",
    "for a, b in mark.items():\n",
    "    for c, d in b.items():\n",
    "        if d/all_numbers >= .01:\n",
    "            reduced_dict[a] = {c:d}\n",
    "print(all_numbers)"
   ]
  },
  {
   "cell_type": "code",
   "execution_count": null,
   "metadata": {
    "collapsed": false,
    "scrolled": true
   },
   "outputs": [],
   "source": [
    "print(len(mark))\n",
    "print(len(reduced_dict))"
   ]
  },
  {
   "cell_type": "code",
   "execution_count": null,
   "metadata": {
    "collapsed": false
   },
   "outputs": [],
   "source": [
    "figure_intervals_pc(song, mode):"
   ]
  },
  {
   "cell_type": "code",
   "execution_count": null,
   "metadata": {
    "collapsed": true
   },
   "outputs": [],
   "source": []
  }
 ],
 "metadata": {
  "anaconda-cloud": {},
  "kernelspec": {
   "display_name": "Python [default]",
   "language": "python",
   "name": "python3"
  },
  "language_info": {
   "codemirror_mode": {
    "name": "ipython",
    "version": 3
   },
   "file_extension": ".py",
   "mimetype": "text/x-python",
   "name": "python",
   "nbconvert_exporter": "python",
   "pygments_lexer": "ipython3",
   "version": "3.5.2"
  }
 },
 "nbformat": 4,
 "nbformat_minor": 0
}
