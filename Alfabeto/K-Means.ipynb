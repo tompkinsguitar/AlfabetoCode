{
 "cells": [
  {
   "cell_type": "code",
   "execution_count": 1,
   "metadata": {
    "collapsed": false
   },
   "outputs": [],
   "source": [
    "from Continuo import ContinuoMarkov as CM\n",
    "import matplotlib.pyplot as plt\n",
    "from scipy.spatial.distance import euclidean\n",
    "import numpy as np\n",
    "from sklearn.cluster import KMeans\n",
    "import networkx as nx\n",
    "from networkx.drawing.nx_agraph import to_agraph"
   ]
  },
  {
   "cell_type": "code",
   "execution_count": 2,
   "metadata": {
    "collapsed": false
   },
   "outputs": [],
   "source": [
    "from networkx.drawing.nx_agraph import pygraphviz_layout"
   ]
  },
  {
   "cell_type": "code",
   "execution_count": 3,
   "metadata": {
    "collapsed": false
   },
   "outputs": [
    {
     "name": "stdout",
     "output_type": "stream",
     "text": [
      "number of notes:  368\n",
      "number of notes:  3536\n",
      "number of notes:  14188\n",
      "number of notes:  21448\n",
      "number of notes:  0\n",
      "number of notes:  696\n",
      "number of notes:  5176\n",
      "number of notes:  7736\n",
      "number of notes:  560\n",
      "number of notes:  612\n",
      "number of notes:  16376\n",
      "number of notes:  3432\n"
     ]
    }
   ],
   "source": [
    "af0 = CM.note_frequency(CM.all_alf, ('f', 0))\n",
    "af2 = CM.note_frequency(CM.all_alf, ('f', 2))\n",
    "af5 = CM.note_frequency(CM.all_alf, ('f', 5))\n",
    "af7 = CM.note_frequency(CM.all_alf, ('f', 7))\n",
    "af9 = CM.note_frequency(CM.all_alf, ('f', 9))\n",
    "af10 = CM.note_frequency(CM.all_alf, ('f', 10))\n",
    "\n",
    "an0 = CM.note_frequency(CM.all_alf, ('n', 0))\n",
    "an2 = CM.note_frequency(CM.all_alf, ('n', 2))\n",
    "an4 = CM.note_frequency(CM.all_alf, ('n', 4))\n",
    "an5 = CM.note_frequency(CM.all_alf, ('n', 5))\n",
    "an7 = CM.note_frequency(CM.all_alf, ('n', 7))\n",
    "an9 = CM.note_frequency(CM.all_alf, ('n', 9))\n",
    "\n",
    "\n",
    "bf0 = [af0[x] for x in range(12)]\n",
    "bf2 = [af2[x] for x in range(12)]\n",
    "bf5 = [af5[x] for x in range(12)]\n",
    "bf7 = [af7[x] for x in range(12)]\n",
    "bf9 = [af9[x] for x in range(12)]\n",
    "bf10 = [af10[x] for x in range(12)]\n",
    "\n",
    "bn0 = [an0[x] for x in range(12)]\n",
    "bn2 = [an2[x] for x in range(12)]\n",
    "bn4 = [an4[x] for x in range(12)]\n",
    "bn5 = [an5[x] for x in range(12)]\n",
    "bn7 = [an7[x] for x in range(12)]\n",
    "bn9 = [an9[x] for x in range(12)] \n",
    "\n",
    "only_modes = [bf0, bf2, bf5, bf7, bf9, bf10, bn0, bn2, bn4, bn5, bn7, bn9]\n",
    "\n",
    "mode_distances = []\n",
    "for x in only_modes:\n",
    "    distances = []\n",
    "    for y in only_modes:\n",
    "        distances.append(euclidean(x, y))\n",
    "    mode_distances.append(distances)\n",
    "\n",
    "A = np.array(mode_distances)"
   ]
  },
  {
   "cell_type": "code",
   "execution_count": 4,
   "metadata": {
    "collapsed": false
   },
   "outputs": [
    {
     "ename": "NameError",
     "evalue": "name 't_maj' is not defined",
     "output_type": "error",
     "traceback": [
      "\u001b[1;31m---------------------------------------------------------------------------\u001b[0m",
      "\u001b[1;31mNameError\u001b[0m                                 Traceback (most recent call last)",
      "\u001b[1;32m<ipython-input-4-d0b17a4f9daf>\u001b[0m in \u001b[0;36m<module>\u001b[1;34m()\u001b[0m\n\u001b[1;32m----> 1\u001b[1;33m \u001b[0meuclidean\u001b[0m\u001b[1;33m(\u001b[0m\u001b[0mt_maj\u001b[0m\u001b[1;33m,\u001b[0m \u001b[0mt_min\u001b[0m\u001b[1;33m)\u001b[0m\u001b[1;33m\u001b[0m\u001b[0m\n\u001b[0m",
      "\u001b[1;31mNameError\u001b[0m: name 't_maj' is not defined"
     ]
    }
   ],
   "source": [
    "euclidean(t_maj, t_min)"
   ]
  },
  {
   "cell_type": "code",
   "execution_count": 10,
   "metadata": {
    "collapsed": false
   },
   "outputs": [
    {
     "name": "stdout",
     "output_type": "stream",
     "text": [
      "{'key': 'n', 'final': 7}\n",
      "{'key': 'f', 'final': 7}\n",
      "{'key': 'f', 'final': 7}\n",
      "{'key': 'n', 'final': 7}\n",
      "{'key': 'n', 'final': 7}\n",
      "{'key': 'f', 'final': 7}\n",
      "{'key': 'f', 'final': 7}\n",
      "{'key': 'n', 'final': 9}\n",
      "{'key': 'n', 'final': 7}\n",
      "{'key': 'n', 'final': 7}\n",
      "{'key': 'n', 'final': 7}\n",
      "{'key': 'n', 'final': 7}\n",
      "{'key': 'f', 'final': 5}\n",
      "{'key': 'f', 'final': 5}\n",
      "{'key': 'f', 'final': 7}\n",
      "{'key': 'f', 'final': 7}\n"
     ]
    }
   ],
   "source": [
    "all_data = []\n",
    "for x in [CM.all_alf[-1]]:\n",
    "    for z in x.values():\n",
    "        all_data.append(CM.note_frequency_song(z))\n",
    "        print(z['data'])\n",
    "\n",
    "final_notes = []\n",
    "for x in all_data:\n",
    "    temp_list = []\n",
    "    for y in range(12):\n",
    "        temp_list.append(x[y])\n",
    "    final_notes.append(temp_list)"
   ]
  },
  {
   "cell_type": "code",
   "execution_count": 5,
   "metadata": {
    "collapsed": false
   },
   "outputs": [],
   "source": [
    "kmeans = KMeans(n_clusters = 2)\n"
   ]
  },
  {
   "cell_type": "code",
   "execution_count": 6,
   "metadata": {
    "collapsed": false
   },
   "outputs": [
    {
     "ename": "NameError",
     "evalue": "name 'final_notes' is not defined",
     "output_type": "error",
     "traceback": [
      "\u001b[1;31m---------------------------------------------------------------------------\u001b[0m",
      "\u001b[1;31mNameError\u001b[0m                                 Traceback (most recent call last)",
      "\u001b[1;32m<ipython-input-6-1256f42f4a35>\u001b[0m in \u001b[0;36m<module>\u001b[1;34m()\u001b[0m\n\u001b[1;32m----> 1\u001b[1;33m \u001b[0mA\u001b[0m \u001b[1;33m=\u001b[0m \u001b[0mnp\u001b[0m\u001b[1;33m.\u001b[0m\u001b[0marray\u001b[0m\u001b[1;33m(\u001b[0m\u001b[0mfinal_notes\u001b[0m\u001b[1;33m)\u001b[0m\u001b[1;33m\u001b[0m\u001b[0m\n\u001b[0m",
      "\u001b[1;31mNameError\u001b[0m: name 'final_notes' is not defined"
     ]
    }
   ],
   "source": [
    "A = np.array(final_notes)"
   ]
  },
  {
   "cell_type": "code",
   "execution_count": 7,
   "metadata": {
    "collapsed": false
   },
   "outputs": [
    {
     "data": {
      "text/plain": [
       "KMeans(copy_x=True, init='k-means++', max_iter=300, n_clusters=2, n_init=10,\n",
       "    n_jobs=1, precompute_distances='auto', random_state=None, tol=0.0001,\n",
       "    verbose=0)"
      ]
     },
     "execution_count": 7,
     "metadata": {},
     "output_type": "execute_result"
    }
   ],
   "source": [
    "kmeans.fit(A)"
   ]
  },
  {
   "cell_type": "code",
   "execution_count": 7,
   "metadata": {
    "collapsed": false
   },
   "outputs": [
    {
     "name": "stdout",
     "output_type": "stream",
     "text": [
      "coordinate: [ 23.61111111   0.          13.88888889   0.          11.11111111\n",
      "   2.77777778   4.16666667  30.55555556   0.           4.16666667   0.\n",
      "   9.72222222] label: 1\n",
      "coordinate: [ 18.25396825   0.          11.11111111   8.73015873   3.96825397\n",
      "  13.49206349   0.3968254   19.84126984   1.98412698   7.53968254\n",
      "  13.0952381    1.58730159] label: 0\n",
      "coordinate: [ 25.42372881   1.69491525   7.62711864   3.38983051  11.01694915\n",
      "  14.40677966   0.          16.10169492   5.93220339   3.81355932\n",
      "   8.89830508   1.69491525] label: 0\n",
      "coordinate: [ 16.46341463   0.          18.90243902   0.          10.97560976\n",
      "  10.97560976   3.04878049  17.68292683   0.          15.24390244\n",
      "   0.6097561    6.09756098] label: 1\n",
      "coordinate: [ 20.83333333   0.          14.0625       0.          13.02083333   9.375\n",
      "   1.04166667  25.           0.           7.8125       1.04166667   7.8125    ] label: 1\n",
      "coordinate: [ 15.0990099    0.          11.88118812  10.64356436   2.72277228\n",
      "  12.12871287   0.99009901  20.2970297    3.96039604   6.18811881\n",
      "  11.63366337   4.45544554] label: 0\n",
      "coordinate: [ 13.69047619   0.          16.07142857   7.73809524   4.76190476\n",
      "  10.71428571   1.19047619  20.83333333   2.38095238   2.97619048\n",
      "  14.88095238   4.76190476] label: 0\n",
      "coordinate: [ 18.75         0.          10.41666667  15.625        1.04166667\n",
      "  13.54166667   0.          15.625        4.16666667   1.04166667\n",
      "  17.70833333   2.08333333] label: 0\n",
      "coordinate: [ 16.47727273   3.40909091  14.20454545   0.          11.36363636   6.25\n",
      "   1.70454545  21.02272727   0.          12.5          3.40909091\n",
      "   9.65909091] label: 1\n",
      "coordinate: [ 24.01960784   0.          11.2745098    0.          12.25490196\n",
      "  10.29411765   0.98039216  20.09803922   0.          10.29411765\n",
      "   5.39215686   5.39215686] label: 1\n",
      "coordinate: [ 18.125    0.      14.6875   0.      10.625   11.5625   0.9375  21.5625\n",
      "   0.      11.5625   5.3125   5.625 ] label: 1\n",
      "coordinate: [ 21.52777778   0.          15.27777778   0.          11.80555556\n",
      "   4.16666667   2.77777778  24.30555556   0.           9.02777778\n",
      "   2.77777778   8.33333333] label: 1\n",
      "coordinate: [ 16.12903226   4.43548387  14.11290323   0.          14.11290323\n",
      "  11.69354839   1.20967742  12.5          1.20967742  17.74193548\n",
      "   3.22580645   3.62903226] label: 1\n",
      "coordinate: [ 19.375   1.25   10.625   0.     11.875  13.75    0.625  21.875   0.625\n",
      "  11.25    3.75    5.   ] label: 1\n",
      "coordinate: [  9.3220339    0.          13.98305085  13.55932203   1.69491525\n",
      "  10.16949153   0.42372881  24.57627119   3.38983051   4.23728814\n",
      "  13.13559322   5.50847458] label: 0\n",
      "coordinate: [ 18.125   0.     11.25    8.125   3.125  16.25    3.125  16.25    4.375\n",
      "   7.5     8.125   3.75 ] label: 0\n"
     ]
    },
    {
     "data": {
      "image/png": "[encoded data removed]",
      "text/plain": [
       "<matplotlib.figure.Figure at 0x7f06f608b630>"
      ]
     },
     "metadata": {},
     "output_type": "display_data"
    }
   ],
   "source": [
    "centroids = kmeans.cluster_centers_\n",
    "labels = kmeans.labels_\n",
    "\n",
    "# print(centroids)\n",
    "# print(labels)\n",
    "\n",
    "colors = [\"g.\", \"b.\"]\n",
    "\n",
    "for x in range(len(A)):\n",
    "    print('coordinate:', A[x], 'label:', labels[x])\n",
    "    plt.plot(A[x], A[x], colors[labels[x]], markersize = 3)\n",
    "\n",
    "plt.scatter(centroids[:, 0], centroids[:, 1], marker = 'x', s=150, linewidths=5, zorder=10)\n",
    "plt.show()\n"
   ]
  },
  {
   "cell_type": "code",
   "execution_count": 8,
   "metadata": {
    "collapsed": false
   },
   "outputs": [],
   "source": [
    "def mds_graph(data_matrix):\n",
    "    dt = [('len', float)]\n",
    "    A = data_matrix.view(dt)\n",
    "    G = nx.from_numpy_matrix(A)\n",
    "#     G = nx.relabel_nodes(G, {0: '♭: C', 1: '♭: D', 2: '♭: F', 3: '♭: G', 4: '♭: A', 5: '♭: B♭', \n",
    "#                              6: '♮: C', 7: '♮: D', 8: '♮: E', 9: '♮: F', 10: '♮: G', 11: '♮: A', \n",
    "#                              12: 'alf_maj', 13: 'alf_min', 14: 'all_alf', 15: 'Temp_maj', 16: 'Temp_min'}) \n",
    "\n",
    "\n",
    "#     G = nx.relabel_nodes(G, {0: '♭: C', 1: '♭: D', 2: '♭: F', 3: '♭: G', 4: '♭: A', 5: '♭: B♭', \n",
    "#                              6: '♮: C', 7: '♮: D', 8: '♮: E', 9: '♮: F', 10: '♮: G', 11: '♮: A', \n",
    "#                              12: 'Temp_maj', 13: 'Temp_min'})\n",
    "\n",
    "#     G = nx.relabel_nodes(G, {0: '♭: C', 1: '♭: D', 2: '♭: F', 3: '♭: G', 4: '♭: A', 5: '♭: B♭', \n",
    "#                              6: '♮: C', 7: '♮: D', 8: '♮: E', 9: '♮: F', 10: '♮: G', 11: '♮: A'})\n",
    "\n",
    "    G = to_agraph(G)\n",
    "\n",
    "    G.node_attr.update(color='green', style='filled')\n",
    "    G.edge_attr.update(color='black', style='invis', width=0)\n",
    "    G.draw('/home/daniel/Desktop/neato_modes_montesardo.png', format='png', prog='neato')\n",
    "    print(G.layout())"
   ]
  },
  {
   "cell_type": "code",
   "execution_count": 11,
   "metadata": {
    "collapsed": false
   },
   "outputs": [],
   "source": [
    "key_distances = []\n",
    "for x in final_notes:\n",
    "    distances = []\n",
    "    for y in final_notes:\n",
    "        distances.append(euclidean(x, y))\n",
    "    key_distances.append(distances)"
   ]
  },
  {
   "cell_type": "code",
   "execution_count": 12,
   "metadata": {
    "collapsed": false
   },
   "outputs": [
    {
     "name": "stdout",
     "output_type": "stream",
     "text": [
      "None\n"
     ]
    }
   ],
   "source": [
    "mds_graph(np.array(key_distances))"
   ]
  },
  {
   "cell_type": "code",
   "execution_count": 11,
   "metadata": {
    "collapsed": false
   },
   "outputs": [],
   "source": [
    "labels = []\n",
    "labels.append('Temperley MAJOR')\n",
    "labels.append('Temperley MINOR')\n",
    "all_notes = []\n",
    "for x in CM.all_alf:\n",
    "    for z in x.values():\n",
    "        all_notes.append(CM.note_frequency_song(z))\n",
    "        label = (z['data']['key'], z['data']['final'])\n",
    "        labels.append(label)\n",
    "\n",
    "temp_maj = {0: 0.184, 1: 0.001, 2: 0.155, 3: 0.003, 4: 0.191, \n",
    "            5: 0.109, 6: 0.005, 7: 0.214, 8: 0.001, 9: 0.078, \n",
    "            10: 0.004, 11: 0.055}\n",
    "\n",
    "temp_min = {0: 0.192, 1: 0.005, 2: 0.149, 3: 0.179, 4: 0.002, \n",
    "              5: 0.144, 6: 0.002, 7: 0.201, 8: 0.038, 9: 0.012, \n",
    "              10: 0.053, 11: 0.022}"
   ]
  },
  {
   "cell_type": "code",
   "execution_count": 12,
   "metadata": {
    "collapsed": false
   },
   "outputs": [],
   "source": [
    "t_maj = [temp_maj[x]* 100 for x in range(12)]\n",
    "t_min = [temp_min[x]* 100 for x in range(12)]\n",
    "\n",
    "\n",
    "final_notes = []\n",
    "final_notes.append(t_maj)\n",
    "final_notes.append(t_min)\n",
    "\n",
    "for x in all_notes:\n",
    "    temp_list = []\n",
    "    for y in range(12):\n",
    "        temp_list.append(x[y])\n",
    "    final_notes.append(temp_list)\n",
    "\n",
    "\n",
    "    \n",
    "key_distances = []\n",
    "for x in final_notes:\n",
    "    distances = []\n",
    "    for y in final_notes:\n",
    "        distances.append(euclidean(x, y))\n",
    "    key_distances.append(distances)"
   ]
  },
  {
   "cell_type": "code",
   "execution_count": 20,
   "metadata": {
    "collapsed": false
   },
   "outputs": [],
   "source": [
    "def mds_graph(data_matrix):\n",
    "    dt = [('len', float)]\n",
    "    A = data_matrix.view(dt)\n",
    "    G = nx.from_numpy_matrix(A)\n",
    "#     print(\"this is G\", G)\n",
    "#     G = to_agraph(G)\n",
    "\n",
    "#     G = nx.relabel_nodes(G, {0: '♭: C', 1: '♭: D', 2: '♭: F', 3: '♭: G', 4: '♭: A', 5: '♭: B♭', \n",
    "#                              6: '♮: C', 7: '♮: D', 8: '♮: E', 9: '♮: F', 10: '♮: G', 11: '♮: A', \n",
    "#                              12: 'alf_maj', 13: 'alf_min', 14: 'all_alf', 15: 'Temp_maj', 16: 'Temp_min'}) \n",
    "\n",
    "\n",
    "#     G = nx.relabel_nodes(G, {0: '♭: C', 1: '♭: D', 2: '♭: F', 3: '♭: G', 4: '♭: A', 5: '♭: B♭', \n",
    "#                              6: '♮: C', 7: '♮: D', 8: '♮: E', 9: '♮: F', 10: '♮: G', 11: '♮: A', \n",
    "#                              12: 'Temp_maj', 13: 'Temp_min'})\n",
    "\n",
    "#     G = nx.relabel_nodes(G, {0: '♭: C', 1: '♭: D', 2: '♭: F', 3: '♭: G', 4: '♭: A', 5: '♭: B♭', \n",
    "#                              6: '♮: C', 7: '♮: D', 8: '♮: E', 9: '♮: F', 10: '♮: G', 11: '♮: A'})\n",
    "    new_labels = {}\n",
    "#     print(all_labels)\n",
    "    for x in range(len(labels)):\n",
    "        new_labels[x] = str((x, labels[x]))\n",
    "#     print(new_labels)\n",
    "    G = nx.relabel_nodes(G, new_labels)\n",
    "#     print(G)\n",
    "    G = to_agraph(G)\n",
    "\n",
    "    G.node_attr.update(color='green', style='filled')\n",
    "    \n",
    "    for x in new_labels.values():\n",
    "        if \"('f', 0)\" in x:\n",
    "            G.get_node(x).attr['color'] = 'pink'\n",
    "            G.get_node(x).attr['shape'] = 'square'\n",
    "        elif \"('f', 9)\" in x:\n",
    "            G.get_node(x).attr['color'] = 'purple'\n",
    "            G.get_node(x).attr['shape'] = 'triangle'\n",
    "        elif \"('n', 2)\" in x:\n",
    "            G.get_node(x).attr['color'] = 'purple'\n",
    "            G.get_node(x).attr['shape'] = 'circle'\n",
    "        elif \"('f', 7)\" in x:\n",
    "            G.get_node(x).attr['color'] = 'purple'\n",
    "            G.get_node(x).attr['shape'] = 'square'\n",
    "        elif \"('n', 9)\" in x:\n",
    "            G.get_node(x).attr['color'] = 'blue'\n",
    "            G.get_node(x).attr['shape'] = 'triangle'\n",
    "        elif \"('n', 4)\" in x:\n",
    "            G.get_node(x).attr['color'] = 'blue'\n",
    "            G.get_node(x).attr['shape'] = 'circle'\n",
    "        elif \"('f', 2)\" in x:\n",
    "            G.get_node(x).attr['color'] = 'blue'\n",
    "            G.get_node(x).attr['shape'] = 'square'\n",
    "        elif \"('f', 10)\" in x:\n",
    "            G.get_node(x).attr['color'] = 'red'\n",
    "            G.get_node(x).attr['shape'] = 'square'\n",
    "        elif \"('n', 5)\" in x:\n",
    "            G.get_node(x).attr['color'] = 'red'\n",
    "            G.get_node(x).attr['shape'] = 'circle'\n",
    "        elif \"('n', 0)\" in x:\n",
    "            G.get_node(x).attr['color'] = 'red'\n",
    "            G.get_node(x).attr['shape'] = 'triangle'\n",
    "        elif \"('f', 5)\" in x:\n",
    "            G.get_node(x).attr['color'] = 'orange'\n",
    "            G.get_node(x).attr['shape'] = 'square'\n",
    "        elif \"('n', 7)\" in x:\n",
    "            G.get_node(x).attr['color'] = 'orange'\n",
    "            G.get_node(x).attr['shape'] = 'triangle'\n",
    "            \n",
    "    major = G.get_node(\"(0, 'Temperley MAJOR')\")\n",
    "    major.attr['color']='red'\n",
    "    major.attr['shape']='star'\n",
    "    minor = G.get_node(\"(1, 'Temperley MINOR')\")\n",
    "    minor.attr['color']=''\n",
    "    G.edge_attr.update(color='black', style='invis', width=0)\n",
    "    G.draw('/home/daniel/Desktop/kaps/all_alf.png', format='png', prog='neato')\n",
    "#     print(G.layout())\n",
    "    return G"
   ]
  },
  {
   "cell_type": "code",
   "execution_count": 21,
   "metadata": {
    "collapsed": false,
    "scrolled": true
   },
   "outputs": [
    {
     "name": "stdout",
     "output_type": "stream",
     "text": [
      "()\n"
     ]
    }
   ],
   "source": [
    "G = mds_graph(np.array(key_distances))"
   ]
  },
  {
   "cell_type": "code",
   "execution_count": 31,
   "metadata": {
    "collapsed": false
   },
   "outputs": [],
   "source": [
    "G.draw('/home/daniel/Desktop/test.dot', format='dot', prog='neato')"
   ]
  },
  {
   "cell_type": "code",
   "execution_count": 36,
   "metadata": {
    "collapsed": false
   },
   "outputs": [],
   "source": [
    "A = G.layout(prog='neato')"
   ]
  },
  {
   "cell_type": "code",
   "execution_count": 54,
   "metadata": {
    "collapsed": false
   },
   "outputs": [
    {
     "ename": "AttributeError",
     "evalue": "'AGraph' object has no attribute 'number_of_selfloops'",
     "output_type": "error",
     "traceback": [
      "\u001b[1;31m---------------------------------------------------------------------------\u001b[0m",
      "\u001b[1;31mAttributeError\u001b[0m                            Traceback (most recent call last)",
      "\u001b[1;32m<ipython-input-54-01d175b9aeb6>\u001b[0m in \u001b[0;36m<module>\u001b[1;34m()\u001b[0m\n\u001b[1;32m----> 1\u001b[1;33m \u001b[0mpos\u001b[0m \u001b[1;33m=\u001b[0m \u001b[0mpygraphviz_layout\u001b[0m\u001b[1;33m(\u001b[0m\u001b[0mG\u001b[0m\u001b[1;33m,\u001b[0m \u001b[0mprog\u001b[0m \u001b[1;33m=\u001b[0m \u001b[1;34m'neato'\u001b[0m\u001b[1;33m,\u001b[0m \u001b[0mroot\u001b[0m\u001b[1;33m=\u001b[0m\u001b[1;32mNone\u001b[0m\u001b[1;33m)\u001b[0m\u001b[1;33m\u001b[0m\u001b[0m\n\u001b[0m",
      "\u001b[1;32m/home/daniel/anaconda3/lib/python3.5/site-packages/networkx/drawing/nx_agraph.py\u001b[0m in \u001b[0;36mpygraphviz_layout\u001b[1;34m(G, prog, root, args)\u001b[0m\n\u001b[0;32m    259\u001b[0m     \u001b[1;32mif\u001b[0m \u001b[0mroot\u001b[0m \u001b[1;32mis\u001b[0m \u001b[1;32mnot\u001b[0m \u001b[1;32mNone\u001b[0m\u001b[1;33m:\u001b[0m\u001b[1;33m\u001b[0m\u001b[0m\n\u001b[0;32m    260\u001b[0m         \u001b[0margs\u001b[0m\u001b[1;33m+=\u001b[0m\u001b[1;34m\"-Groot=%s\"\u001b[0m\u001b[1;33m%\u001b[0m\u001b[0mroot\u001b[0m\u001b[1;33m\u001b[0m\u001b[0m\n\u001b[1;32m--> 261\u001b[1;33m     \u001b[0mA\u001b[0m\u001b[1;33m=\u001b[0m\u001b[0mto_agraph\u001b[0m\u001b[1;33m(\u001b[0m\u001b[0mG\u001b[0m\u001b[1;33m)\u001b[0m\u001b[1;33m\u001b[0m\u001b[0m\n\u001b[0m\u001b[0;32m    262\u001b[0m     \u001b[0mA\u001b[0m\u001b[1;33m.\u001b[0m\u001b[0mlayout\u001b[0m\u001b[1;33m(\u001b[0m\u001b[0mprog\u001b[0m\u001b[1;33m=\u001b[0m\u001b[0mprog\u001b[0m\u001b[1;33m,\u001b[0m\u001b[0margs\u001b[0m\u001b[1;33m=\u001b[0m\u001b[0margs\u001b[0m\u001b[1;33m)\u001b[0m\u001b[1;33m\u001b[0m\u001b[0m\n\u001b[0;32m    263\u001b[0m     \u001b[0mnode_pos\u001b[0m\u001b[1;33m=\u001b[0m\u001b[1;33m{\u001b[0m\u001b[1;33m}\u001b[0m\u001b[1;33m\u001b[0m\u001b[0m\n",
      "\u001b[1;32m/home/daniel/anaconda3/lib/python3.5/site-packages/networkx/drawing/nx_agraph.py\u001b[0m in \u001b[0;36mto_agraph\u001b[1;34m(N)\u001b[0m\n\u001b[0;32m    135\u001b[0m                           'http://pygraphviz.github.io/')\n\u001b[0;32m    136\u001b[0m     \u001b[0mdirected\u001b[0m\u001b[1;33m=\u001b[0m\u001b[0mN\u001b[0m\u001b[1;33m.\u001b[0m\u001b[0mis_directed\u001b[0m\u001b[1;33m(\u001b[0m\u001b[1;33m)\u001b[0m\u001b[1;33m\u001b[0m\u001b[0m\n\u001b[1;32m--> 137\u001b[1;33m     \u001b[0mstrict\u001b[0m\u001b[1;33m=\u001b[0m\u001b[0mN\u001b[0m\u001b[1;33m.\u001b[0m\u001b[0mnumber_of_selfloops\u001b[0m\u001b[1;33m(\u001b[0m\u001b[1;33m)\u001b[0m\u001b[1;33m==\u001b[0m\u001b[1;36m0\u001b[0m \u001b[1;32mand\u001b[0m \u001b[1;32mnot\u001b[0m \u001b[0mN\u001b[0m\u001b[1;33m.\u001b[0m\u001b[0mis_multigraph\u001b[0m\u001b[1;33m(\u001b[0m\u001b[1;33m)\u001b[0m\u001b[1;33m\u001b[0m\u001b[0m\n\u001b[0m\u001b[0;32m    138\u001b[0m     \u001b[0mA\u001b[0m\u001b[1;33m=\u001b[0m\u001b[0mpygraphviz\u001b[0m\u001b[1;33m.\u001b[0m\u001b[0mAGraph\u001b[0m\u001b[1;33m(\u001b[0m\u001b[0mname\u001b[0m\u001b[1;33m=\u001b[0m\u001b[0mN\u001b[0m\u001b[1;33m.\u001b[0m\u001b[0mname\u001b[0m\u001b[1;33m,\u001b[0m\u001b[0mstrict\u001b[0m\u001b[1;33m=\u001b[0m\u001b[0mstrict\u001b[0m\u001b[1;33m,\u001b[0m\u001b[0mdirected\u001b[0m\u001b[1;33m=\u001b[0m\u001b[0mdirected\u001b[0m\u001b[1;33m)\u001b[0m\u001b[1;33m\u001b[0m\u001b[0m\n\u001b[0;32m    139\u001b[0m \u001b[1;33m\u001b[0m\u001b[0m\n",
      "\u001b[1;31mAttributeError\u001b[0m: 'AGraph' object has no attribute 'number_of_selfloops'"
     ]
    }
   ],
   "source": [
    "pos = pygraphviz_layout(G, prog = 'neato', root=None)"
   ]
  },
  {
   "cell_type": "code",
   "execution_count": 45,
   "metadata": {
    "collapsed": false
   },
   "outputs": [
    {
     "ename": "AttributeError",
     "evalue": "module 'networkx' has no attribute 'pygraphviz_layout'",
     "output_type": "error",
     "traceback": [
      "\u001b[1;31m---------------------------------------------------------------------------\u001b[0m",
      "\u001b[1;31mAttributeError\u001b[0m                            Traceback (most recent call last)",
      "\u001b[1;32m<ipython-input-45-92e037efbf31>\u001b[0m in \u001b[0;36m<module>\u001b[1;34m()\u001b[0m\n\u001b[1;32m----> 1\u001b[1;33m \u001b[0mnx\u001b[0m\u001b[1;33m.\u001b[0m\u001b[0mpygraphviz_layout\u001b[0m\u001b[1;33m\u001b[0m\u001b[0m\n\u001b[0m",
      "\u001b[1;31mAttributeError\u001b[0m: module 'networkx' has no attribute 'pygraphviz_layout'"
     ]
    }
   ],
   "source": [
    " nx.pygraphviz_layout"
   ]
  },
  {
   "cell_type": "code",
   "execution_count": null,
   "metadata": {
    "collapsed": true
   },
   "outputs": [],
   "source": [
    "alls = []\n",
    "for x in CM.all_kaps:\n",
    "    for y in x:\n",
    "        alls.append(y)"
   ]
  },
  {
   "cell_type": "code",
   "execution_count": null,
   "metadata": {
    "collapsed": false
   },
   "outputs": [],
   "source": [
    "len(alls)"
   ]
  },
  {
   "cell_type": "code",
   "execution_count": null,
   "metadata": {
    "collapsed": false
   },
   "outputs": [],
   "source": [
    "for x in CM.all_milanuzzi:\n",
    "    for y in x:\n",
    "        alls.append(y)"
   ]
  },
  {
   "cell_type": "code",
   "execution_count": null,
   "metadata": {
    "collapsed": true
   },
   "outputs": [],
   "source": [
    "for x in CM.obizzi.libro_primo_continuo:\n",
    "    alls.append(x)"
   ]
  },
  {
   "cell_type": "code",
   "execution_count": null,
   "metadata": {
    "collapsed": false
   },
   "outputs": [],
   "source": [
    "len(alls)"
   ]
  },
  {
   "cell_type": "code",
   "execution_count": null,
   "metadata": {
    "collapsed": false
   },
   "outputs": [],
   "source": [
    "for x in [CM.giaccio.Giaccio_1618a, CM.giaccio.Giaccio_1618b]:\n",
    "    for y in x:\n",
    "        alls.append(y)"
   ]
  },
  {
   "cell_type": "code",
   "execution_count": null,
   "metadata": {
    "collapsed": true
   },
   "outputs": [],
   "source": []
  },
  {
   "cell_type": "code",
   "execution_count": null,
   "metadata": {
    "collapsed": false
   },
   "outputs": [],
   "source": [
    "len(alls)"
   ]
  },
  {
   "cell_type": "code",
   "execution_count": null,
   "metadata": {
    "collapsed": true
   },
   "outputs": [],
   "source": [
    "for x in [CM.stefani.Stefani_1621]:\n",
    "    for y in x:\n",
    "        alls.append(y)"
   ]
  },
  {
   "cell_type": "code",
   "execution_count": null,
   "metadata": {
    "collapsed": false
   },
   "outputs": [],
   "source": [
    "len(alls)"
   ]
  },
  {
   "cell_type": "code",
   "execution_count": 72,
   "metadata": {
    "collapsed": false
   },
   "outputs": [
    {
     "name": "stdout",
     "output_type": "stream",
     "text": [
      "()\n"
     ]
    },
    {
     "ename": "SyntaxError",
     "evalue": "'return' outside function (<ipython-input-72-5cae8254e857>, line 75)",
     "output_type": "error",
     "traceback": [
      "\u001b[1;36m  File \u001b[1;32m\"<ipython-input-72-5cae8254e857>\"\u001b[1;36m, line \u001b[1;32m75\u001b[0m\n\u001b[1;33m    return G\u001b[0m\n\u001b[1;37m            ^\u001b[0m\n\u001b[1;31mSyntaxError\u001b[0m\u001b[1;31m:\u001b[0m 'return' outside function\n"
     ]
    }
   ],
   "source": [
    "dt = [('len', float)]\n",
    "A = np.array(key_distances).view(dt)\n",
    "G = nx.from_numpy_matrix(A)\n",
    "#     print(\"this is G\", G)\n",
    "#     G = to_agraph(G)\n",
    "\n",
    "#     G = nx.relabel_nodes(G, {0: '♭: C', 1: '♭: D', 2: '♭: F', 3: '♭: G', 4: '♭: A', 5: '♭: B♭', \n",
    "#                              6: '♮: C', 7: '♮: D', 8: '♮: E', 9: '♮: F', 10: '♮: G', 11: '♮: A', \n",
    "#                              12: 'alf_maj', 13: 'alf_min', 14: 'all_alf', 15: 'Temp_maj', 16: 'Temp_min'}) \n",
    "\n",
    "\n",
    "#     G = nx.relabel_nodes(G, {0: '♭: C', 1: '♭: D', 2: '♭: F', 3: '♭: G', 4: '♭: A', 5: '♭: B♭', \n",
    "#                              6: '♮: C', 7: '♮: D', 8: '♮: E', 9: '♮: F', 10: '♮: G', 11: '♮: A', \n",
    "#                              12: 'Temp_maj', 13: 'Temp_min'})\n",
    "\n",
    "#     G = nx.relabel_nodes(G, {0: '♭: C', 1: '♭: D', 2: '♭: F', 3: '♭: G', 4: '♭: A', 5: '♭: B♭', \n",
    "#                              6: '♮: C', 7: '♮: D', 8: '♮: E', 9: '♮: F', 10: '♮: G', 11: '♮: A'})\n",
    "new_labels = {}\n",
    "#     print(all_labels)\n",
    "for x in range(len(labels)):\n",
    "    new_labels[x] = str((x, labels[x]))\n",
    "#     print(new_labels)\n",
    "G = nx.relabel_nodes(G, new_labels)\n",
    "print(G)\n",
    "G = to_agraph(G)\n",
    "\n",
    "G.node_attr.update(color='green', style='filled')\n",
    "\n",
    "for x in new_labels.values():\n",
    "    if \"('f', 0)\" in x:\n",
    "        G.get_node(x).attr['color'] = 'pink'\n",
    "        G.get_node(x).attr['shape'] = 'square'\n",
    "    elif \"('f', 9)\" in x:\n",
    "        G.get_node(x).attr['color'] = 'purple'\n",
    "        G.get_node(x).attr['shape'] = 'triangle'\n",
    "    elif \"('n', 2)\" in x:\n",
    "        G.get_node(x).attr['color'] = 'purple'\n",
    "        G.get_node(x).attr['shape'] = 'circle'\n",
    "    elif \"('f', 7)\" in x:\n",
    "        G.get_node(x).attr['color'] = 'purple'\n",
    "        G.get_node(x).attr['shape'] = 'square'\n",
    "    elif \"('n', 9)\" in x:\n",
    "        G.get_node(x).attr['color'] = 'blue'\n",
    "        G.get_node(x).attr['shape'] = 'triangle'\n",
    "    elif \"('n', 4)\" in x:\n",
    "        G.get_node(x).attr['color'] = 'blue'\n",
    "        G.get_node(x).attr['shape'] = 'circle'\n",
    "    elif \"('f', 2)\" in x:\n",
    "        G.get_node(x).attr['color'] = 'blue'\n",
    "        G.get_node(x).attr['shape'] = 'square'\n",
    "    elif \"('f', 10)\" in x:\n",
    "        G.get_node(x).attr['color'] = 'red'\n",
    "        G.get_node(x).attr['shape'] = 'square'\n",
    "    elif \"('n', 5)\" in x:\n",
    "        G.get_node(x).attr['color'] = 'red'\n",
    "        G.get_node(x).attr['shape'] = 'circle'\n",
    "    elif \"('n', 0)\" in x:\n",
    "        G.get_node(x).attr['color'] = 'red'\n",
    "        G.get_node(x).attr['shape'] = 'triangle'\n",
    "    elif \"('f', 5)\" in x:\n",
    "        G.get_node(x).attr['color'] = 'orange'\n",
    "        G.get_node(x).attr['shape'] = 'square'\n",
    "    elif \"('n', 7)\" in x:\n",
    "        G.get_node(x).attr['color'] = 'orange'\n",
    "        G.get_node(x).attr['shape'] = 'triangle'\n",
    "\n",
    "major = G.get_node(\"(0, 'Temperley MAJOR')\")\n",
    "major.attr['color']='red'\n",
    "major.attr['shape']='star'\n",
    "minor = G.get_node(\"(1, 'Temperley MINOR')\")\n",
    "minor.attr['color']='blue'\n",
    "minor.attr['shape']='star'\n",
    "G.edge_attr.update(color='black', style='invis', width=0)\n",
    "G.draw('/home/daniel/Desktop/kaps/all_alf_with_dupes.png', format='png', prog='neato')\n"
   ]
  },
  {
   "cell_type": "code",
   "execution_count": 66,
   "metadata": {
    "collapsed": false
   },
   "outputs": [
    {
     "data": {
      "text/plain": [
       "{0: \"(0, 'Temperley MAJOR')\",\n",
       " 1: \"(1, 'Temperley MINOR')\",\n",
       " 2: \"(2, ('f', 7))\",\n",
       " 3: \"(3, ('f', 7))\",\n",
       " 4: \"(4, ('n', 7))\",\n",
       " 5: \"(5, ('f', 7))\",\n",
       " 6: \"(6, ('n', 7))\",\n",
       " 7: \"(7, ('f', 7))\",\n",
       " 8: \"(8, ('n', 2))\",\n",
       " 9: \"(9, ('f', 7))\",\n",
       " 10: \"(10, ('f', 7))\",\n",
       " 11: \"(11, ('n', 7))\",\n",
       " 12: \"(12, ('f', 5))\",\n",
       " 13: \"(13, ('f', 7))\",\n",
       " 14: \"(14, ('n', 7))\",\n",
       " 15: \"(15, ('f', 5))\",\n",
       " 16: \"(16, ('n', 7))\",\n",
       " 17: \"(17, ('n', 7))\",\n",
       " 18: \"(18, ('f', 7))\",\n",
       " 19: \"(19, ('n', 0))\",\n",
       " 20: \"(20, ('f', 5))\",\n",
       " 21: \"(21, ('n', 7))\",\n",
       " 22: \"(22, ('f', 7))\",\n",
       " 23: \"(23, ('f', 5))\",\n",
       " 24: \"(24, ('n', 0))\",\n",
       " 25: \"(25, ('f', 7))\",\n",
       " 26: \"(26, ('f', 7))\",\n",
       " 27: \"(27, ('n', 7))\",\n",
       " 28: \"(28, ('f', 5))\",\n",
       " 29: \"(29, ('f', 7))\",\n",
       " 30: \"(30, ('f', 2))\",\n",
       " 31: \"(31, ('f', 5))\",\n",
       " 32: \"(32, ('f', 7))\",\n",
       " 33: \"(33, ('f', 7))\",\n",
       " 34: \"(34, ('f', 5))\",\n",
       " 35: \"(35, ('n', 0))\",\n",
       " 36: \"(36, ('f', 5))\",\n",
       " 37: \"(37, ('f', 7))\",\n",
       " 38: \"(38, ('n', 7))\",\n",
       " 39: \"(39, ('f', 2))\",\n",
       " 40: \"(40, ('f', 5))\",\n",
       " 41: \"(41, ('n', 7))\",\n",
       " 42: \"(42, ('f', 5))\",\n",
       " 43: \"(43, ('f', 5))\",\n",
       " 44: \"(44, ('n', 7))\",\n",
       " 45: \"(45, ('f', 7))\",\n",
       " 46: \"(46, ('f', 7))\",\n",
       " 47: \"(47, ('f', 7))\",\n",
       " 48: \"(48, ('n', 7))\",\n",
       " 49: \"(49, ('f', 7))\",\n",
       " 50: \"(50, ('n', 2))\",\n",
       " 51: \"(51, ('f', 7))\",\n",
       " 52: \"(52, ('n', 7))\",\n",
       " 53: \"(53, ('f', 7))\",\n",
       " 54: \"(54, ('n', 0))\",\n",
       " 55: \"(55, ('f', 5))\",\n",
       " 56: \"(56, ('f', 5))\",\n",
       " 57: \"(57, ('f', 7))\",\n",
       " 58: \"(58, ('f', 7))\",\n",
       " 59: \"(59, ('f', 7))\",\n",
       " 60: \"(60, ('n', 7))\",\n",
       " 61: \"(61, ('n', 7))\",\n",
       " 62: \"(62, ('f', 7))\",\n",
       " 63: \"(63, ('f', 5))\",\n",
       " 64: \"(64, ('f', 7))\",\n",
       " 65: \"(65, ('n', 7))\",\n",
       " 66: \"(66, ('n', 7))\",\n",
       " 67: \"(67, ('f', 5))\",\n",
       " 68: \"(68, ('f', 7))\",\n",
       " 69: \"(69, ('n', 7))\",\n",
       " 70: \"(70, ('f', 5))\",\n",
       " 71: \"(71, ('f', 5))\",\n",
       " 72: \"(72, ('n', 7))\",\n",
       " 73: \"(73, ('n', 5))\",\n",
       " 74: \"(74, ('n', 0))\",\n",
       " 75: \"(75, ('f', 7))\",\n",
       " 76: \"(76, ('n', 7))\",\n",
       " 77: \"(77, ('n', 2))\",\n",
       " 78: \"(78, ('f', 7))\",\n",
       " 79: \"(79, ('f', 7))\",\n",
       " 80: \"(80, ('n', 9))\",\n",
       " 81: \"(81, ('f', 5))\",\n",
       " 82: \"(82, ('n', 9))\",\n",
       " 83: \"(83, ('n', 7))\",\n",
       " 84: \"(84, ('n', 4))\",\n",
       " 85: \"(85, ('f', 5))\",\n",
       " 86: \"(86, ('f', 5))\",\n",
       " 87: \"(87, ('n', 0))\",\n",
       " 88: \"(88, ('f', 2))\",\n",
       " 89: \"(89, ('f', 5))\",\n",
       " 90: \"(90, ('n', 7))\",\n",
       " 91: \"(91, ('f', 7))\",\n",
       " 92: \"(92, ('f', 7))\",\n",
       " 93: \"(93, ('n', 7))\",\n",
       " 94: \"(94, ('n', 7))\",\n",
       " 95: \"(95, ('f', 7))\",\n",
       " 96: \"(96, ('n', 0))\",\n",
       " 97: \"(97, ('f', 5))\",\n",
       " 98: \"(98, ('n', 0))\",\n",
       " 99: \"(99, ('n', 0))\",\n",
       " 100: \"(100, ('f', 5))\",\n",
       " 101: \"(101, ('n', 7))\",\n",
       " 102: \"(102, ('f', 7))\",\n",
       " 103: \"(103, ('f', 7))\",\n",
       " 104: \"(104, ('f', 2))\",\n",
       " 105: \"(105, ('f', 10))\",\n",
       " 106: \"(106, ('n', 7))\",\n",
       " 107: \"(107, ('n', 0))\",\n",
       " 108: \"(108, ('n', 7))\",\n",
       " 109: \"(109, ('n', 0))\",\n",
       " 110: \"(110, ('f', 7))\",\n",
       " 111: \"(111, ('f', 2))\",\n",
       " 112: \"(112, ('n', 4))\",\n",
       " 113: \"(113, ('f', 7))\",\n",
       " 114: \"(114, ('n', 7))\",\n",
       " 115: \"(115, ('n', 7))\",\n",
       " 116: \"(116, ('n', 7))\",\n",
       " 117: \"(117, ('f', 7))\",\n",
       " 118: \"(118, ('n', 9))\",\n",
       " 119: \"(119, ('n', 7))\",\n",
       " 120: \"(120, ('n', 7))\",\n",
       " 121: \"(121, ('f', 7))\",\n",
       " 122: \"(122, ('f', 7))\",\n",
       " 123: \"(123, ('f', 7))\",\n",
       " 124: \"(124, ('f', 5))\",\n",
       " 125: \"(125, ('n', 0))\",\n",
       " 126: \"(126, ('f', 10))\",\n",
       " 127: \"(127, ('f', 7))\",\n",
       " 128: \"(128, ('f', 5))\",\n",
       " 129: \"(129, ('f', 7))\",\n",
       " 130: \"(130, ('n', 4))\",\n",
       " 131: \"(131, ('f', 5))\",\n",
       " 132: \"(132, ('f', 7))\",\n",
       " 133: \"(133, ('n', 9))\",\n",
       " 134: \"(134, ('f', 5))\",\n",
       " 135: \"(135, ('f', 2))\",\n",
       " 136: \"(136, ('f', 7))\",\n",
       " 137: \"(137, ('f', 5))\",\n",
       " 138: \"(138, ('f', 7))\",\n",
       " 139: \"(139, ('f', 2))\",\n",
       " 140: \"(140, ('f', 7))\",\n",
       " 141: \"(141, ('f', 7))\",\n",
       " 142: \"(142, ('f', 2))\",\n",
       " 143: \"(143, ('n', 7))\",\n",
       " 144: \"(144, ('n', 7))\",\n",
       " 145: \"(145, ('n', 7))\",\n",
       " 146: \"(146, ('f', 2))\",\n",
       " 147: \"(147, ('f', 0))\",\n",
       " 148: \"(148, ('n', 7))\",\n",
       " 149: \"(149, ('n', 2))\",\n",
       " 150: \"(150, ('n', 7))\",\n",
       " 151: \"(151, ('f', 7))\",\n",
       " 152: \"(152, ('f', 7))\",\n",
       " 153: \"(153, ('n', 7))\",\n",
       " 154: \"(154, ('n', 7))\",\n",
       " 155: \"(155, ('n', 7))\",\n",
       " 156: \"(156, ('n', 2))\",\n",
       " 157: \"(157, ('n', 7))\",\n",
       " 158: \"(158, ('n', 7))\",\n",
       " 159: \"(159, ('f', 7))\",\n",
       " 160: \"(160, ('n', 2))\",\n",
       " 161: \"(161, ('n', 2))\",\n",
       " 162: \"(162, ('n', 7))\",\n",
       " 163: \"(163, ('f', 5))\",\n",
       " 164: \"(164, ('n', 7))\",\n",
       " 165: \"(165, ('n', 7))\",\n",
       " 166: \"(166, ('n', 7))\",\n",
       " 167: \"(167, ('n', 7))\",\n",
       " 168: \"(168, ('n', 7))\",\n",
       " 169: \"(169, ('f', 7))\",\n",
       " 170: \"(170, ('n', 2))\",\n",
       " 171: \"(171, ('f', 7))\",\n",
       " 172: \"(172, ('f', 5))\",\n",
       " 173: \"(173, ('n', 7))\",\n",
       " 174: \"(174, ('n', 9))\",\n",
       " 175: \"(175, ('n', 2))\",\n",
       " 176: \"(176, ('n', 0))\",\n",
       " 177: \"(177, ('f', 7))\",\n",
       " 178: \"(178, ('n', 2))\",\n",
       " 179: \"(179, ('n', 2))\",\n",
       " 180: \"(180, ('n', 2))\",\n",
       " 181: \"(181, ('f', 2))\",\n",
       " 182: \"(182, ('n', 9))\",\n",
       " 183: \"(183, ('n', 2))\",\n",
       " 184: \"(184, ('n', 9))\",\n",
       " 185: \"(185, ('n', 7))\",\n",
       " 186: \"(186, ('n', 7))\",\n",
       " 187: \"(187, ('n', 2))\",\n",
       " 188: \"(188, ('n', 2))\",\n",
       " 189: \"(189, ('f', 2))\",\n",
       " 190: \"(190, ('n', 7))\",\n",
       " 191: \"(191, ('n', 7))\",\n",
       " 192: \"(192, ('n', 0))\",\n",
       " 193: \"(193, ('n', 7))\",\n",
       " 194: \"(194, ('n', 0))\",\n",
       " 195: \"(195, ('n', 7))\",\n",
       " 196: \"(196, ('n', 7))\",\n",
       " 197: \"(197, ('n', 2))\",\n",
       " 198: \"(198, ('n', 2))\",\n",
       " 199: \"(199, ('n', 2))\",\n",
       " 200: \"(200, ('n', 0))\",\n",
       " 201: \"(201, ('f', 2))\",\n",
       " 202: \"(202, ('f', 5))\",\n",
       " 203: \"(203, ('n', 2))\",\n",
       " 204: \"(204, ('f', 7))\",\n",
       " 205: \"(205, ('n', 2))\",\n",
       " 206: \"(206, ('n', 2))\",\n",
       " 207: \"(207, ('n', 7))\",\n",
       " 208: \"(208, ('n', 0))\",\n",
       " 209: \"(209, ('n', 0))\",\n",
       " 210: \"(210, ('n', 0))\",\n",
       " 211: \"(211, ('n', 0))\",\n",
       " 212: \"(212, ('n', 0))\",\n",
       " 213: \"(213, ('n', 7))\",\n",
       " 214: \"(214, ('n', 7))\",\n",
       " 215: \"(215, ('f', 2))\",\n",
       " 216: \"(216, ('f', 7))\",\n",
       " 217: \"(217, ('f', 2))\",\n",
       " 218: \"(218, ('f', 5))\",\n",
       " 219: \"(219, ('f', 9))\",\n",
       " 220: \"(220, ('n', 9))\",\n",
       " 221: \"(221, ('n', 2))\",\n",
       " 222: \"(222, ('n', 7))\",\n",
       " 223: \"(223, ('f', 7))\",\n",
       " 224: \"(224, ('f', 7))\",\n",
       " 225: \"(225, ('f', 7))\",\n",
       " 226: \"(226, ('f', 7))\",\n",
       " 227: \"(227, ('f', 5))\",\n",
       " 228: \"(228, ('n', 2))\",\n",
       " 229: \"(229, ('f', 7))\",\n",
       " 230: \"(230, ('f', 7))\",\n",
       " 231: \"(231, ('f', 2))\",\n",
       " 232: \"(232, ('f', 2))\",\n",
       " 233: \"(233, ('n', 2))\",\n",
       " 234: \"(234, ('f', 5))\",\n",
       " 235: \"(235, ('n', 9))\",\n",
       " 236: \"(236, ('n', 7))\",\n",
       " 237: \"(237, ('n', 7))\",\n",
       " 238: \"(238, ('n', 7))\",\n",
       " 239: \"(239, ('n', 7))\",\n",
       " 240: \"(240, ('n', 9))\",\n",
       " 241: \"(241, ('n', 7))\",\n",
       " 242: \"(242, ('n', 7))\",\n",
       " 243: \"(243, ('f', 2))\",\n",
       " 244: \"(244, ('n', 0))\",\n",
       " 245: \"(245, ('n', 0))\",\n",
       " 246: \"(246, ('', 7))\",\n",
       " 247: \"(247, ('', 2))\",\n",
       " 248: \"(248, ('', 7))\",\n",
       " 249: \"(249, ('', 5))\",\n",
       " 250: \"(250, ('', 5))\",\n",
       " 251: \"(251, ('f', 5))\",\n",
       " 252: \"(252, ('f', 5))\",\n",
       " 253: \"(253, ('f', 7))\",\n",
       " 254: \"(254, ('f', 7))\",\n",
       " 255: \"(255, ('f', 7))\",\n",
       " 256: \"(256, ('f', 7))\",\n",
       " 257: \"(257, ('n', 9))\",\n",
       " 258: \"(258, ('n', 9))\",\n",
       " 259: \"(259, ('n', 9))\",\n",
       " 260: \"(260, ('n', 9))\",\n",
       " 261: \"(261, ('f', 5))\",\n",
       " 262: \"(262, ('f', 5))\",\n",
       " 263: \"(263, ('f', 7))\",\n",
       " 264: \"(264, ('f', 7))\",\n",
       " 265: \"(265, ('f', 7))\",\n",
       " 266: \"(266, ('n', 2))\",\n",
       " 267: \"(267, ('n', 9))\",\n",
       " 268: \"(268, ('n', 2))\",\n",
       " 269: \"(269, ('n', 2))\",\n",
       " 270: \"(270, ('f', 5))\",\n",
       " 271: \"(271, ('f', 7))\",\n",
       " 272: \"(272, ('f', 5))\",\n",
       " 273: \"(273, ('f', 7))\",\n",
       " 274: \"(274, ('f', 5))\",\n",
       " 275: \"(275, ('f', 5))\",\n",
       " 276: \"(276, ('f', 5))\",\n",
       " 277: \"(277, ('f', 7))\",\n",
       " 278: \"(278, ('f', 7))\",\n",
       " 279: \"(279, ('f', 7))\",\n",
       " 280: \"(280, ('f', 7))\",\n",
       " 281: \"(281, ('f', 7))\",\n",
       " 282: \"(282, ('f', 7))\",\n",
       " 283: \"(283, ('n', 7))\",\n",
       " 284: \"(284, ('f', 7))\",\n",
       " 285: \"(285, ('n', 7))\",\n",
       " 286: \"(286, ('f', 5))\",\n",
       " 287: \"(287, ('f', 7))\",\n",
       " 288: \"(288, ('f', 7))\",\n",
       " 289: \"(289, ('f', 7))\",\n",
       " 290: \"(290, ('f', 7))\",\n",
       " 291: \"(291, ('f', 0))\",\n",
       " 292: \"(292, ('f', 7))\",\n",
       " 293: \"(293, ('n', 9))\",\n",
       " 294: \"(294, ('f', 7))\",\n",
       " 295: \"(295, ('n', 7))\",\n",
       " 296: \"(296, ('f', 5))\",\n",
       " 297: \"(297, ('n', 9))\",\n",
       " 298: \"(298, ('n', 7))\",\n",
       " 299: \"(299, ('f', 7))\",\n",
       " 300: \"(300, ('f', 5))\",\n",
       " 301: \"(301, ('n', 7))\",\n",
       " 302: \"(302, ('f', 7))\",\n",
       " 303: \"(303, ('f', 7))\",\n",
       " 304: \"(304, ('f', 7))\",\n",
       " 305: \"(305, ('n', 7))\",\n",
       " 306: \"(306, ('f', 5))\",\n",
       " 307: \"(307, ('n', 7))\",\n",
       " 308: \"(308, ('f', 7))\",\n",
       " 309: \"(309, ('n', 7))\",\n",
       " 310: \"(310, ('f', 5))\",\n",
       " 311: \"(311, ('f', 7))\",\n",
       " 312: \"(312, ('n', 7))\",\n",
       " 313: \"(313, ('n', 7))\",\n",
       " 314: \"(314, ('f', 5))\",\n",
       " 315: \"(315, ('n', 7))\",\n",
       " 316: \"(316, ('f', 7))\",\n",
       " 317: \"(317, ('f', 5))\",\n",
       " 318: \"(318, ('n', 2))\",\n",
       " 319: \"(319, ('f', 7))\",\n",
       " 320: \"(320, ('f', 7))\",\n",
       " 321: \"(321, ('f', 7))\",\n",
       " 322: \"(322, ('n', 9))\",\n",
       " 323: \"(323, ('f', 0))\",\n",
       " 324: \"(324, ('f', 7))\",\n",
       " 325: \"(325, ('f', 5))\",\n",
       " 326: \"(326, ('n', 0))\",\n",
       " 327: \"(327, ('n', 2))\",\n",
       " 328: \"(328, ('f', 5))\",\n",
       " 329: \"(329, ('f', 5))\",\n",
       " 330: \"(330, ('f', 5))\",\n",
       " 331: \"(331, ('f', 2))\",\n",
       " 332: \"(332, ('f', 5))\",\n",
       " 333: \"(333, ('f', 5))\",\n",
       " 334: \"(334, ('n', 7))\",\n",
       " 335: \"(335, ('n', 9))\",\n",
       " 336: \"(336, ('n', 7))\",\n",
       " 337: \"(337, ('f', 5))\",\n",
       " 338: \"(338, ('f', 7))\",\n",
       " 339: \"(339, ('f', 10))\",\n",
       " 340: \"(340, ('f', 7))\",\n",
       " 341: \"(341, ('n', 5))\",\n",
       " 342: \"(342, ('f', 5))\",\n",
       " 343: \"(343, ('n', 9))\",\n",
       " 344: \"(344, ('n', 7))\",\n",
       " 345: \"(345, ('f', 5))\",\n",
       " 346: \"(346, ('f', 5))\",\n",
       " 347: \"(347, ('f', 7))\",\n",
       " 348: \"(348, ('f', 5))\",\n",
       " 349: \"(349, ('f', 5))\",\n",
       " 350: \"(350, ('f', 7))\",\n",
       " 351: \"(351, ('n', 2))\",\n",
       " 352: \"(352, ('f', 5))\",\n",
       " 353: \"(353, ('f', 7))\",\n",
       " 354: \"(354, ('n', 2))\",\n",
       " 355: \"(355, ('n', 5))\",\n",
       " 356: \"(356, ('f', 7))\",\n",
       " 357: \"(357, ('n', 0))\",\n",
       " 358: \"(358, ('n', 9))\",\n",
       " 359: \"(359, ('f', 7))\",\n",
       " 360: \"(360, ('f', 5))\",\n",
       " 361: \"(361, ('f', 7))\",\n",
       " 362: \"(362, ('n', 7))\",\n",
       " 363: \"(363, ('n', 7))\",\n",
       " 364: \"(364, ('f', 7))\",\n",
       " 365: \"(365, ('n', 2))\",\n",
       " 366: \"(366, ('f', 5))\",\n",
       " 367: \"(367, ('n', 7))\",\n",
       " 368: \"(368, ('n', 7))\",\n",
       " 369: \"(369, ('f', 10))\",\n",
       " 370: \"(370, ('n', 0))\",\n",
       " 371: \"(371, ('f', 5))\",\n",
       " 372: \"(372, ('n', 0))\",\n",
       " 373: \"(373, ('f', 10))\",\n",
       " 374: \"(374, ('f', 2))\",\n",
       " 375: \"(375, ('f', 5))\",\n",
       " 376: \"(376, ('n', 2))\",\n",
       " 377: \"(377, ('f', 5))\",\n",
       " 378: \"(378, ('f', 5))\",\n",
       " 379: \"(379, ('f', 5))\",\n",
       " 380: \"(380, ('f', 7))\",\n",
       " 381: \"(381, ('n', 0))\",\n",
       " 382: \"(382, ('f', 7))\",\n",
       " 383: \"(383, ('n', 5))\",\n",
       " 384: \"(384, ('n', 7))\",\n",
       " 385: \"(385, ('f', 7))\",\n",
       " 386: \"(386, ('f', 7))\",\n",
       " 387: \"(387, ('n', 7))\",\n",
       " 388: \"(388, ('n', 7))\",\n",
       " 389: \"(389, ('f', 7))\",\n",
       " 390: \"(390, ('f', 7))\",\n",
       " 391: \"(391, ('n', 9))\",\n",
       " 392: \"(392, ('n', 7))\",\n",
       " 393: \"(393, ('n', 7))\",\n",
       " 394: \"(394, ('n', 7))\",\n",
       " 395: \"(395, ('n', 7))\",\n",
       " 396: \"(396, ('f', 5))\",\n",
       " 397: \"(397, ('f', 5))\",\n",
       " 398: \"(398, ('f', 7))\",\n",
       " 399: \"(399, ('f', 7))\"}"
      ]
     },
     "execution_count": 66,
     "metadata": {},
     "output_type": "execute_result"
    }
   ],
   "source": [
    "new_labels"
   ]
  },
  {
   "cell_type": "code",
   "execution_count": null,
   "metadata": {
    "collapsed": true
   },
   "outputs": [],
   "source": []
  }
 ],
 "metadata": {
  "kernelspec": {
   "display_name": "Python 3",
   "language": "python",
   "name": "python3"
  },
  "language_info": {
   "codemirror_mode": {
    "name": "ipython",
    "version": 3
   },
   "file_extension": ".py",
   "mimetype": "text/x-python",
   "name": "python",
   "nbconvert_exporter": "python",
   "pygments_lexer": "ipython3",
   "version": "3.5.1"
  }
 },
 "nbformat": 4,
 "nbformat_minor": 0
}
