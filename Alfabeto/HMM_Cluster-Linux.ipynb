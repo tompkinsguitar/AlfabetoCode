{
 "cells": [
  {
   "cell_type": "code",
   "execution_count": 7,
   "metadata": {
    "collapsed": false,
    "scrolled": true
   },
   "outputs": [],
   "source": [
    "import ipyparallel as ipp\n",
    "from sklearn.externals import joblib\n",
    "import os\n",
    "import numpy as np"
   ]
  },
  {
   "cell_type": "code",
   "execution_count": 8,
   "metadata": {
    "collapsed": false
   },
   "outputs": [],
   "source": [
    "rc = ipp.Client()"
   ]
  },
  {
   "cell_type": "code",
   "execution_count": 9,
   "metadata": {
    "collapsed": false,
    "scrolled": true
   },
   "outputs": [
    {
     "data": {
      "text/plain": [
       "[0, 1, 2, 3, 4, 5, 6, 7]"
      ]
     },
     "execution_count": 9,
     "metadata": {},
     "output_type": "execute_result"
    }
   ],
   "source": [
    "rc.ids"
   ]
  },
  {
   "cell_type": "code",
   "execution_count": 10,
   "metadata": {
    "collapsed": false
   },
   "outputs": [],
   "source": [
    "dview = rc[:]"
   ]
  },
  {
   "cell_type": "code",
   "execution_count": 11,
   "metadata": {
    "collapsed": false
   },
   "outputs": [
    {
     "data": {
      "text/plain": [
       "<AsyncResult: execute>"
      ]
     },
     "execution_count": 11,
     "metadata": {},
     "output_type": "execute_result"
    }
   ],
   "source": [
    "dview.execute('import alfabeto_data.hmm_threading as ht')\n",
    "dview.execute('import alfabeto_data.dissertation_images as di')"
   ]
  },
  {
   "cell_type": "code",
   "execution_count": 12,
   "metadata": {
    "collapsed": false
   },
   "outputs": [],
   "source": [
    "parallel_dict_ = {}\n",
    "thing_number_ = 0\n",
    "for cluster_ in range(2, 16):\n",
    "    for mc_ in range(5):\n",
    "        for mc_range_ in range(500):\n",
    "            parallel_dict_[thing_number_] = {'cluster':cluster_, 'mc': mc_, 'mc_range': [mc_range_]}\n",
    "            thing_number_ += 1\n",
    "\n",
    "remaining_list = []\n",
    "for num, data in parallel_dict_.items():\n",
    "    for corpus in ['alfabeto_continuo', 'bach', 'palestrina']:\n",
    "        for mode in ['major', 'minor']:\n",
    "            if not os.path.exists('/home/daniel/Desktop/hmm_mc/%s/%s/%s/%s/%s.pkl' % (corpus, mode, parallel_dict_[num]['cluster'],\n",
    "                                                                     parallel_dict_[num]['mc'],\n",
    "                                                                     parallel_dict_[num]['mc_range'][0])):\n",
    "                if num not in remaining_list:\n",
    "                    remaining_list.append(num)\n",
    "\n",
    "@dview.parallel(block=True)\n",
    "def parallel_hmm(parallel_number):\n",
    "    parallel_dict = {}\n",
    "    thing_number = 0\n",
    "    for cluster in range(2, 16):\n",
    "        for mc in range(5):\n",
    "            for mc_range in range(500):\n",
    "                parallel_dict[thing_number] = {'cluster': cluster, 'mc': mc, 'mc_range': [mc_range]}\n",
    "                thing_number += 1\n",
    "\n",
    "    ht.hmm_pickle_generator('alfabeto continuo', di.GetAll.all_alf, di.modal_major, 'alfabeto_continuo',\n",
    "                            'major', parallel_dict[parallel_number]['mc'], parallel_dict[parallel_number]['cluster'],\n",
    "                            parallel_dict[parallel_number]['mc_range'], '/home/daniel/Desktop/')\n",
    "\n",
    "    ht.hmm_pickle_generator('alfabeto continuo', di.GetAll.all_alf, di.modal_minor, 'alfabeto_continuo',\n",
    "                            'minor', parallel_dict[parallel_number]['mc'], parallel_dict[parallel_number]['cluster'],\n",
    "                            parallel_dict[parallel_number]['mc_range'], '/home/daniel/Desktop/')\n",
    "\n",
    "    ht.hmm_pickle_generator('palestrina', di.palestrina_continuo, [(0, 9), (-1, 2)], 'palestrina',\n",
    "                            'minor', parallel_dict[parallel_number]['mc'], parallel_dict[parallel_number]['cluster'],\n",
    "                            parallel_dict[parallel_number]['mc_range'], '/home/daniel/Desktop/')\n",
    "    ht.hmm_pickle_generator('bach', di.bach_continuo, di.tonal_minor, 'bach',\n",
    "                            'minor', parallel_dict[parallel_number]['mc'], parallel_dict[parallel_number]['cluster'],\n",
    "                            parallel_dict[parallel_number]['mc_range'], '/home/daniel/Desktop/')\n",
    "\n",
    "    ht.hmm_pickle_generator('palestrina', di.palestrina_continuo, [(0, 0), (-1, 5)], 'palestrina',\n",
    "                            'major', parallel_dict[parallel_number]['mc'], parallel_dict[parallel_number]['cluster'],\n",
    "                            parallel_dict[parallel_number]['mc_range'], '/home/daniel/Desktop/')\n",
    "    ht.hmm_pickle_generator('bach', di.bach_continuo, di.tonal_major, 'bach',\n",
    "                            'major', parallel_dict[parallel_number]['mc'], parallel_dict[parallel_number]['cluster'],\n",
    "                            parallel_dict[parallel_number]['mc_range'], '/home/daniel/Desktop/')"
   ]
  },
  {
   "cell_type": "code",
   "execution_count": 13,
   "metadata": {
    "collapsed": false
   },
   "outputs": [
    {
     "name": "stdout",
     "output_type": "stream",
     "text": [
      "imported stuff\n",
      "11\n"
     ]
    },
    {
     "data": {
      "text/plain": [
       "[None, None, None, None, None, None, None, None, None, None, None]"
      ]
     },
     "execution_count": 13,
     "metadata": {},
     "output_type": "execute_result"
    }
   ],
   "source": [
    "print('imported stuff')\n",
    "print(len(remaining_list))\n",
    "# np.random.shuffle(remaining_list)\n",
    "parallel_hmm.map(remaining_list)\n",
    "# parallel_hmm_2.map([k for k in range(2, 16)])"
   ]
  },
  {
   "cell_type": "code",
   "execution_count": null,
   "metadata": {
    "collapsed": true
   },
   "outputs": [],
   "source": [
    "# import os\n",
    "# needs_making = []"
   ]
  },
  {
   "cell_type": "code",
   "execution_count": null,
   "metadata": {
    "collapsed": false
   },
   "outputs": [],
   "source": [
    "# # needs_making = []\n",
    "# # made = []\n",
    "# for corpus in ['alfabeto_continuo', 'bach']:\n",
    "#     for y in range(2, 16):\n",
    "#         for x in range(5): \n",
    "#             for num in range(30):\n",
    "#                 if not os.path.exists('/home/daniel/Desktop/hmm_mc/%s/major/%s/%s/%s.pkl' \n",
    "#                                       % (corpus, y, x, num)) and num not in needs_making:\n",
    "#                     needs_making.append(num)\n",
    "# #     else:\n",
    "# #         made.append(num)"
   ]
  },
  {
   "cell_type": "code",
   "execution_count": 19,
   "metadata": {
    "collapsed": false
   },
   "outputs": [],
   "source": [
    "x = joblib.load('/home/daniel/Desktop/ohyeah.pkl')"
   ]
  },
  {
   "cell_type": "code",
   "execution_count": 20,
   "metadata": {
    "collapsed": false
   },
   "outputs": [
    {
     "data": {
      "text/plain": [
       "[0,\n",
       " 1,\n",
       " 2,\n",
       " 3,\n",
       " 4,\n",
       " 5,\n",
       " 6,\n",
       " 7,\n",
       " 8,\n",
       " 9,\n",
       " 10,\n",
       " 11,\n",
       " 12,\n",
       " 13,\n",
       " 14,\n",
       " 15,\n",
       " 16,\n",
       " 17,\n",
       " 18,\n",
       " 19,\n",
       " 20,\n",
       " 21,\n",
       " 22,\n",
       " 23,\n",
       " 24,\n",
       " 25,\n",
       " 26,\n",
       " 27,\n",
       " 28,\n",
       " 29,\n",
       " 30,\n",
       " 31,\n",
       " 32,\n",
       " 33,\n",
       " 34,\n",
       " 35,\n",
       " 36,\n",
       " 37,\n",
       " 38,\n",
       " 39,\n",
       " 40,\n",
       " 41,\n",
       " 42,\n",
       " 43,\n",
       " 44,\n",
       " 45,\n",
       " 46,\n",
       " 47,\n",
       " 48,\n",
       " 49,\n",
       " 50,\n",
       " 51,\n",
       " 52,\n",
       " 53,\n",
       " 54,\n",
       " 55,\n",
       " 56,\n",
       " 57,\n",
       " 58,\n",
       " 59,\n",
       " 60,\n",
       " 61,\n",
       " 62,\n",
       " 63,\n",
       " 64,\n",
       " 65,\n",
       " 66,\n",
       " 67,\n",
       " 68,\n",
       " 69]"
      ]
     },
     "execution_count": 20,
     "metadata": {},
     "output_type": "execute_result"
    }
   ],
   "source": [
    "x"
   ]
  },
  {
   "cell_type": "code",
   "execution_count": null,
   "metadata": {
    "collapsed": true
   },
   "outputs": [],
   "source": []
  }
 ],
 "metadata": {
  "anaconda-cloud": {},
  "kernelspec": {
   "display_name": "Python [default]",
   "language": "python",
   "name": "python3"
  },
  "language_info": {
   "codemirror_mode": {
    "name": "ipython",
    "version": 3
   },
   "file_extension": ".py",
   "mimetype": "text/x-python",
   "name": "python",
   "nbconvert_exporter": "python",
   "pygments_lexer": "ipython3",
   "version": "3.5.2"
  }
 },
 "nbformat": 4,
 "nbformat_minor": 0
}
