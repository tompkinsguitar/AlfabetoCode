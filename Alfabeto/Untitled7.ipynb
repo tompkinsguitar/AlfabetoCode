{
 "cells": [
  {
   "cell_type": "code",
   "execution_count": 1,
   "metadata": {
    "collapsed": false
   },
   "outputs": [
    {
     "name": "stdout",
     "output_type": "stream",
     "text": [
      "ready!\n"
     ]
    }
   ],
   "source": [
    "from alfabeto_data import dissertation_images as di\n",
    "from sklearn.externals import joblib"
   ]
  },
  {
   "cell_type": "code",
   "execution_count": 7,
   "metadata": {
    "collapsed": false
   },
   "outputs": [
    {
     "name": "stdout",
     "output_type": "stream",
     "text": [
      "n_digits: 4, \t n_samples 394, \t n_features 12\n",
      "_______________________________________________________________________________\n",
      "init        time     inertia  homo     compl   v-meas  ARI  AMI   silhouette\n",
      "k-means++   0.47s    25043   0.562   0.882   0.686   0.528   0.553    0.432\n",
      "   random   0.42s    25043   0.562   0.882   0.686   0.528   0.553    0.432\n",
      "PCA-based   0.43s    30865   0.473   0.802   0.595   0.375   0.462    0.380\n",
      "_______________________________________________________________________________\n"
     ]
    }
   ],
   "source": [
    "zso = joblib.load('pickles/Zma_notes.pkl')\n",
    "di.k_means_data(zso[0], 4, di.label_maker_alfabeto(zso[1]), '/home/daniel/Desktop/Zma.pdf')"
   ]
  },
  {
   "cell_type": "code",
   "execution_count": null,
   "metadata": {
    "collapsed": false
   },
   "outputs": [],
   "source": [
    "len(zso[0])"
   ]
  },
  {
   "cell_type": "code",
   "execution_count": 4,
   "metadata": {
    "collapsed": false
   },
   "outputs": [
    {
     "name": "stdout",
     "output_type": "stream",
     "text": [
      "{'silhouette': 0.42905958540866196, 'completeness': 0.9127710517673171}\n",
      "{'silhouette': 0.45770342995393398, 'completeness': 0.87701808101478862}\n",
      "{'silhouette': 0.43176260282129436, 'completeness': 0.88174627364801172}\n",
      "{'silhouette': 0.37337974361223081, 'completeness': 0.8564253037461631}\n",
      "{'silhouette': 0.35618832446740128, 'completeness': 0.86593617808258316}\n",
      "{'silhouette': 0.30086980040647759, 'completeness': 0.79046847146750376}\n",
      "{'silhouette': 0.23789853773972522, 'completeness': 0.70128700228706398}\n",
      "{'silhouette': 0.24868428084379024, 'completeness': 0.65360819946311699}\n",
      "{'silhouette': 0.24884128661464019, 'completeness': 0.67382800092599249}\n",
      "{'silhouette': 0.23170100686128114, 'completeness': 0.63195870803023402}\n",
      "{'silhouette': 0.24865074440658499, 'completeness': 0.63702458612740909}\n"
     ]
    }
   ],
   "source": [
    "# di.k_means_data(zso[0], 6, ['.' for x in range(len(zso[0]))], '/home/daniel/Desktop/mass.pdf')\n",
    "for x in range(2, 13):\n",
    "    print(di.k_means_simple(zso[0], x, di.label_maker_alfabeto(zso[1])))"
   ]
  },
  {
   "cell_type": "code",
   "execution_count": null,
   "metadata": {
    "collapsed": false
   },
   "outputs": [],
   "source": [
    "x = di.trigram_function_1(di.GetComposer.all_kaps, 'chords', di.modal_major)"
   ]
  },
  {
   "cell_type": "code",
   "execution_count": null,
   "metadata": {
    "collapsed": false
   },
   "outputs": [],
   "source": [
    "# ♯\n",
    "labels = []\n",
    "for l in x[1]:\n",
    "    if l[0] == '#':\n",
    "        labels.append('$'+'♯'+l[1:]+'$')\n",
    "    else:\n",
    "        labels.append('$'+l+'$')\n",
    "# labels = ['$'+'♯'+l+'$' for l in x[1]]\n",
    "scores = [s for s in x[0]]"
   ]
  },
  {
   "cell_type": "code",
   "execution_count": null,
   "metadata": {
    "collapsed": false
   },
   "outputs": [],
   "source": [
    "k_scores = []\n",
    "for k in range(2, 30):\n",
    "    k_try = di.k_means_simple(scores, k, labels)\n",
    "    print(k, k_try)\n",
    "    k_scores.append(k_try)\n",
    "best_k = k_scores.index(max(k_scores))+2"
   ]
  },
  {
   "cell_type": "code",
   "execution_count": null,
   "metadata": {
    "collapsed": false
   },
   "outputs": [],
   "source": [
    "di.k_means_data(scores, 3, labels, '/home/daniel/Desktop/kmeanstri.pdf')"
   ]
  },
  {
   "cell_type": "code",
   "execution_count": null,
   "metadata": {
    "collapsed": false
   },
   "outputs": [],
   "source": [
    "from scipy.spatial.distance import euclidean, cdist\n",
    "import numpy as np"
   ]
  },
  {
   "cell_type": "code",
   "execution_count": null,
   "metadata": {
    "collapsed": false
   },
   "outputs": [],
   "source": [
    "t1 = ('v', 'i')\n",
    "t2 = ('v', 'I')\n",
    "# cdist(t1, t2, 'hamming')"
   ]
  },
  {
   "cell_type": "code",
   "execution_count": null,
   "metadata": {
    "collapsed": true
   },
   "outputs": [],
   "source": [
    "from difflib import SequenceMatcher"
   ]
  },
  {
   "cell_type": "code",
   "execution_count": null,
   "metadata": {
    "collapsed": false
   },
   "outputs": [],
   "source": [
    "SequenceMatcher(None, t1, t2).ratio()"
   ]
  },
  {
   "cell_type": "code",
   "execution_count": null,
   "metadata": {
    "collapsed": false
   },
   "outputs": [],
   "source": [
    "print('plot hole')\n",
    "print('plot\\nhole')"
   ]
  },
  {
   "cell_type": "code",
   "execution_count": null,
   "metadata": {
    "collapsed": true
   },
   "outputs": [],
   "source": []
  }
 ],
 "metadata": {
  "anaconda-cloud": {},
  "kernelspec": {
   "display_name": "Python [Root]",
   "language": "python",
   "name": "Python [Root]"
  },
  "language_info": {
   "codemirror_mode": {
    "name": "ipython",
    "version": 3
   },
   "file_extension": ".py",
   "mimetype": "text/x-python",
   "name": "python",
   "nbconvert_exporter": "python",
   "pygments_lexer": "ipython3",
   "version": "3.5.2"
  }
 },
 "nbformat": 4,
 "nbformat_minor": 0
}
