{
 "cells": [
  {
   "cell_type": "code",
   "execution_count": 5,
   "metadata": {
    "collapsed": false
   },
   "outputs": [
    {
     "name": "stdout",
     "output_type": "stream",
     "text": [
      "ready!\n"
     ]
    }
   ],
   "source": [
    "import numpy as np\n",
    "import time\n",
    "from sklearn.externals import joblib\n",
    "from scipy.spatial.distance import cdist\n",
    "import alfabeto_data.dissertation_images as di"
   ]
  },
  {
   "cell_type": "code",
   "execution_count": 13,
   "metadata": {
    "collapsed": false
   },
   "outputs": [],
   "source": [
    "import ipyparallel as ipp\n",
    "from sklearn.externals import joblib\n",
    "rc = ipp.Client()\n",
    "dview = rc[:]\n",
    "\n",
    "dview.execute('import numpy as np')\n",
    "dview.execute('import time')\n",
    "dview.execute('from sklearn.externals import joblib')\n",
    "dview.execute('from scipy.spatial.distance import cdist')\n",
    "dview.execute('import alfabeto_data.dissertation_images as di')\n",
    "\n",
    "\n",
    "# @dview.parallel(block=True)\n",
    "def silhouette_hmm(mc):\n",
    "    final_data = {}\n",
    "    for corpus_name in ['k1']:\n",
    "        for mode_name in ['major']:\n",
    "            K_range = 15\n",
    "            flipped_data = {}\n",
    "            for K in range(2, K_range+1):\n",
    "                all_data = []\n",
    "                all_labels = []\n",
    "                l_number = joblib.load('/home/daniel/Desktop/HPC/hmm_mc/%s/%s/%s/%s/0.pkl' % \n",
    "                                       (corpus_name, mode_name, K, mc))['test'][0]\n",
    "                l_numeral = joblib.load('/home/daniel/Desktop/HPC/hmm_mc/%s/%s/%s/%s/0.pkl' % \n",
    "                                        (corpus_name, mode_name, K, mc))['train'][2]\n",
    "                for l in l_number:\n",
    "                    if l[0] < len(l_numeral):\n",
    "                        all_labels.append(l_numeral[l[0]])\n",
    "                    else:\n",
    "                        all_labels.append('o')\n",
    "                #             print('one didn\\'t fit...')\n",
    "                for x in range(500):\n",
    "                    temp_data = []\n",
    "                    c = joblib.load('/home/daniel/Desktop/HPC/hmm_mc/%s/%s/%s/%s/%s.pkl' % \n",
    "                                    (corpus_name, mode_name, K, mc, x))['decode']\n",
    "            #         print('decoded')\n",
    "                    for xx in c[1]:\n",
    "                        temp_data.append(xx)\n",
    "                    all_data.append(temp_data)\n",
    "                numpied = np.swapaxes(np.array(all_data), 0, 1)\n",
    "                print(numpied.shape)\n",
    "                st = time.time()\n",
    "                DIST = cdist(numpied, numpied, 'hamming')\n",
    "            #     DIST = (cdist(numpied, numpied, 'hamming')*len(l_number))**2 #Quinn/White\n",
    "                st2 = time.time()\n",
    "                flipped_data[K] = di.k_means_simple(DIST, K, all_labels)\n",
    "            #     print_labels = ['$'+x+'$' for x in all_labels]\n",
    "            #     di.k_means_data(DIST, K, print_labels, '/home/daniel/Desktop/hmmkmeans/%s_%s.pdf' % (corpus, K))\n",
    "            #     print('kmeans took', time.time()-st2)\n",
    "                print(corpus_name, mode_name, K, '-->', flipped_data[K]['silhouette'])\n",
    "#                 joblib.dump(flipped_data[K], 'pickles/scores/%s_%s_%s_%s.pkl' % (corpus_name, mode_name, mc, K))\n",
    "            final_data[corpus_name+'_'+mode_name] = flipped_data\n",
    "    return final_data\n",
    "# print('starting')\n",
    "# j = silhouette_hmm.map([mc for mc in range(5)])\n",
    "# joblib.dump(j, 'pickles/scores/silhouette_kapsperger_data.pkl')"
   ]
  },
  {
   "cell_type": "code",
   "execution_count": 14,
   "metadata": {
    "collapsed": false
   },
   "outputs": [
    {
     "name": "stdout",
     "output_type": "stream",
     "text": [
      "starting mc 0\n",
      "(2082, 500)\n",
      "k1 major 2 --> 0.918385079054\n",
      "(2089, 500)\n",
      "k1 major 3 --> 0.865955563393\n",
      "(1880, 500)\n",
      "k1 major 4 --> 0.808351717881\n",
      "(2007, 500)\n",
      "k1 major 5 --> 0.713341377523\n",
      "(2157, 500)\n",
      "k1 major 6 --> 0.626130660856\n",
      "(2156, 500)\n",
      "k1 major 7 --> 0.563674096704\n",
      "(2119, 500)\n",
      "k1 major 8 --> 0.645038558206\n",
      "(1828, 500)\n",
      "k1 major 9 --> 0.738786807542\n",
      "(1937, 500)\n",
      "k1 major 10 --> 0.777821293277\n",
      "(1923, 500)\n",
      "k1 major 11 --> 0.773088203862\n",
      "(2020, 500)\n",
      "k1 major 12 --> 0.777035920029\n",
      "(2128, 500)\n",
      "k1 major 13 --> 0.669367227035\n",
      "(2176, 500)\n",
      "k1 major 14 --> 0.748488933369\n",
      "(1986, 500)\n",
      "k1 major 15 --> 0.756683746321\n",
      "starting mc 1\n",
      "(2073, 500)\n",
      "k1 major 2 --> 0.879952833199\n",
      "(2201, 500)\n",
      "k1 major 3 --> 0.982324624297\n",
      "(1937, 500)\n",
      "k1 major 4 --> 0.90573107544\n",
      "(2076, 500)\n",
      "k1 major 5 --> 0.714118414574\n",
      "(1887, 500)\n",
      "k1 major 6 --> 0.656949221415\n",
      "(1869, 500)\n",
      "k1 major 7 --> 0.596519304081\n",
      "(1991, 500)\n",
      "k1 major 8 --> 0.648590716788\n",
      "(1958, 500)\n",
      "k1 major 9 --> 0.765946015582\n",
      "(2042, 500)\n",
      "k1 major 10 --> 0.762267431655\n",
      "(2059, 500)\n",
      "k1 major 11 --> 0.770612914353\n",
      "(1984, 500)\n",
      "k1 major 12 --> 0.744871148268\n",
      "(2172, 500)\n",
      "k1 major 13 --> 0.668997622153\n",
      "(2133, 500)\n",
      "k1 major 14 --> 0.758325789251\n",
      "(2046, 500)\n",
      "k1 major 15 --> 0.760882690084\n",
      "starting mc 2\n",
      "(2071, 500)\n",
      "k1 major 2 --> 0.977926492836\n",
      "(1897, 500)\n",
      "k1 major 3 --> 0.840630265159\n",
      "(2059, 500)\n",
      "k1 major 4 --> 0.915688370751\n",
      "(1964, 500)\n",
      "k1 major 5 --> 0.738063855995\n",
      "(1964, 500)\n",
      "k1 major 6 --> 0.637403684642\n",
      "(2015, 500)\n",
      "k1 major 7 --> 0.599852307457\n",
      "(2103, 500)\n",
      "k1 major 8 --> 0.646754740253\n",
      "(2260, 500)\n",
      "k1 major 9 --> 0.712156940559\n",
      "(2099, 500)\n",
      "k1 major 10 --> 0.768613468579\n"
     ]
    },
    {
     "ename": "ValueError",
     "evalue": "bad axis2 argument to swapaxes",
     "output_type": "error",
     "traceback": [
      "\u001b[1;31m---------------------------------------------------------------------------\u001b[0m",
      "\u001b[1;31mValueError\u001b[0m                                Traceback (most recent call last)",
      "\u001b[1;32m<ipython-input-14-3596ed14aedb>\u001b[0m in \u001b[0;36m<module>\u001b[1;34m()\u001b[0m\n\u001b[0;32m      1\u001b[0m \u001b[1;32mfor\u001b[0m \u001b[0mn\u001b[0m \u001b[1;32min\u001b[0m \u001b[0mrange\u001b[0m\u001b[1;33m(\u001b[0m\u001b[1;36m5\u001b[0m\u001b[1;33m)\u001b[0m\u001b[1;33m:\u001b[0m\u001b[1;33m\u001b[0m\u001b[0m\n\u001b[0;32m      2\u001b[0m     \u001b[0mprint\u001b[0m\u001b[1;33m(\u001b[0m\u001b[1;34m'starting mc'\u001b[0m\u001b[1;33m,\u001b[0m \u001b[0mn\u001b[0m\u001b[1;33m)\u001b[0m\u001b[1;33m\u001b[0m\u001b[0m\n\u001b[1;32m----> 3\u001b[1;33m     \u001b[0msilhouette_hmm\u001b[0m\u001b[1;33m(\u001b[0m\u001b[0mn\u001b[0m\u001b[1;33m)\u001b[0m\u001b[1;33m\u001b[0m\u001b[0m\n\u001b[0m",
      "\u001b[1;32m<ipython-input-13-7be032a235b7>\u001b[0m in \u001b[0;36msilhouette_hmm\u001b[1;34m(mc)\u001b[0m\n\u001b[0;32m     39\u001b[0m                         \u001b[0mtemp_data\u001b[0m\u001b[1;33m.\u001b[0m\u001b[0mappend\u001b[0m\u001b[1;33m(\u001b[0m\u001b[0mxx\u001b[0m\u001b[1;33m)\u001b[0m\u001b[1;33m\u001b[0m\u001b[0m\n\u001b[0;32m     40\u001b[0m                     \u001b[0mall_data\u001b[0m\u001b[1;33m.\u001b[0m\u001b[0mappend\u001b[0m\u001b[1;33m(\u001b[0m\u001b[0mtemp_data\u001b[0m\u001b[1;33m)\u001b[0m\u001b[1;33m\u001b[0m\u001b[0m\n\u001b[1;32m---> 41\u001b[1;33m                 \u001b[0mnumpied\u001b[0m \u001b[1;33m=\u001b[0m \u001b[0mnp\u001b[0m\u001b[1;33m.\u001b[0m\u001b[0mswapaxes\u001b[0m\u001b[1;33m(\u001b[0m\u001b[0mnp\u001b[0m\u001b[1;33m.\u001b[0m\u001b[0marray\u001b[0m\u001b[1;33m(\u001b[0m\u001b[0mall_data\u001b[0m\u001b[1;33m)\u001b[0m\u001b[1;33m,\u001b[0m \u001b[1;36m0\u001b[0m\u001b[1;33m,\u001b[0m \u001b[1;36m1\u001b[0m\u001b[1;33m)\u001b[0m\u001b[1;33m\u001b[0m\u001b[0m\n\u001b[0m\u001b[0;32m     42\u001b[0m                 \u001b[0mprint\u001b[0m\u001b[1;33m(\u001b[0m\u001b[0mnumpied\u001b[0m\u001b[1;33m.\u001b[0m\u001b[0mshape\u001b[0m\u001b[1;33m)\u001b[0m\u001b[1;33m\u001b[0m\u001b[0m\n\u001b[0;32m     43\u001b[0m                 \u001b[0mst\u001b[0m \u001b[1;33m=\u001b[0m \u001b[0mtime\u001b[0m\u001b[1;33m.\u001b[0m\u001b[0mtime\u001b[0m\u001b[1;33m(\u001b[0m\u001b[1;33m)\u001b[0m\u001b[1;33m\u001b[0m\u001b[0m\n",
      "\u001b[1;32m/home/daniel/anaconda3/lib/python3.5/site-packages/numpy/core/fromnumeric.py\u001b[0m in \u001b[0;36mswapaxes\u001b[1;34m(a, axis1, axis2)\u001b[0m\n\u001b[0;32m    502\u001b[0m     \u001b[1;32mexcept\u001b[0m \u001b[0mAttributeError\u001b[0m\u001b[1;33m:\u001b[0m\u001b[1;33m\u001b[0m\u001b[0m\n\u001b[0;32m    503\u001b[0m         \u001b[1;32mreturn\u001b[0m \u001b[0m_wrapit\u001b[0m\u001b[1;33m(\u001b[0m\u001b[0ma\u001b[0m\u001b[1;33m,\u001b[0m \u001b[1;34m'swapaxes'\u001b[0m\u001b[1;33m,\u001b[0m \u001b[0maxis1\u001b[0m\u001b[1;33m,\u001b[0m \u001b[0maxis2\u001b[0m\u001b[1;33m)\u001b[0m\u001b[1;33m\u001b[0m\u001b[0m\n\u001b[1;32m--> 504\u001b[1;33m     \u001b[1;32mreturn\u001b[0m \u001b[0mswapaxes\u001b[0m\u001b[1;33m(\u001b[0m\u001b[0maxis1\u001b[0m\u001b[1;33m,\u001b[0m \u001b[0maxis2\u001b[0m\u001b[1;33m)\u001b[0m\u001b[1;33m\u001b[0m\u001b[0m\n\u001b[0m\u001b[0;32m    505\u001b[0m \u001b[1;33m\u001b[0m\u001b[0m\n\u001b[0;32m    506\u001b[0m \u001b[1;33m\u001b[0m\u001b[0m\n",
      "\u001b[1;31mValueError\u001b[0m: bad axis2 argument to swapaxes"
     ]
    }
   ],
   "source": [
    "for n in range(5):\n",
    "    print('starting mc', n)\n",
    "    silhouette_hmm(n)"
   ]
  },
  {
   "cell_type": "code",
   "execution_count": null,
   "metadata": {
    "collapsed": true
   },
   "outputs": [],
   "source": []
  }
 ],
 "metadata": {
  "kernelspec": {
   "display_name": "Python [Root]",
   "language": "python",
   "name": "Python [Root]"
  },
  "language_info": {
   "codemirror_mode": {
    "name": "ipython",
    "version": 3
   },
   "file_extension": ".py",
   "mimetype": "text/x-python",
   "name": "python",
   "nbconvert_exporter": "python",
   "pygments_lexer": "ipython3",
   "version": "3.5.2"
  }
 },
 "nbformat": 4,
 "nbformat_minor": 0
}
