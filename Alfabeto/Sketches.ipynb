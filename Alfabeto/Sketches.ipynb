{
 "cells": [
  {
   "cell_type": "code",
   "execution_count": 1,
   "metadata": {
    "collapsed": false,
    "scrolled": false
   },
   "outputs": [],
   "source": [
    "from Continuo.ContinuoMarkov import scale_degree_harmonization, scale_degree_harmonization_song, scale_degree_harmonization_untransposed, markov_cluster_data\n",
    "from Continuo.kmeans_inversion import k_means_data, silhouette_analysis\n",
    "from alfabeto_sources.all_sources import *\n",
    "\n",
    "from scipy.spatial.distance import euclidean\n",
    "import numpy as np\n",
    "import networkx as nx\n",
    "from networkx.drawing.nx_agraph import to_agraph\n",
    "\n",
    "import csv"
   ]
  },
  {
   "cell_type": "code",
   "execution_count": 2,
   "metadata": {
    "collapsed": false
   },
   "outputs": [],
   "source": [
    "def figure_sorter(function):\n",
    "    final_data = []\n",
    "    other_numbers = []\n",
    "    figures = [[0, 4, 7], [0, 3, 7], [0, 3, 8], [0, 4, 9], [0, 5, 9], [0, 5, 8]]\n",
    "    for figure in figures:\n",
    "        figure_list = []\n",
    "        for number in range(12):\n",
    "            fig = str([number, figure])\n",
    "            if fig in function:\n",
    "                figure_list.append(function[fig])\n",
    "            else:\n",
    "#                 figure_list.append('-')\n",
    "                figure_list.append(0)\n",
    "        final_data.append(figure_list)\n",
    "    for number in range(12):\n",
    "        numbers = 0\n",
    "        for x, y in function.items():\n",
    "            if x[1:3] == str(number) and x[-10:-1] not in str(figures):\n",
    "                numbers += y\n",
    "            elif x[1:2] == str(number) and x[-10:-1] not in str(figures):\n",
    "                numbers += y\n",
    "        other_numbers.append(numbers)\n",
    "    other_final = []\n",
    "    for x in other_numbers:\n",
    "        if x > 0:\n",
    "            other_final.append(x)\n",
    "        else:\n",
    "            other_final.append('-')\n",
    "#     final_data.append(other_final) # if you want dashes instead of 0's #---none of these if no other desired\n",
    "    final_data.append(other_numbers) # if you want 0's instead of dashes\n",
    "    return final_data"
   ]
  },
  {
   "cell_type": "code",
   "execution_count": null,
   "metadata": {
    "collapsed": false
   },
   "outputs": [],
   "source": [
    "def inversion_kmeans(corpus, mode_list):\n",
    "    all_modes = []\n",
    "    if mode_list == 'all':\n",
    "        each_mode = [('f', 0), ('f',2), ('f',5), ('f',7), ('f',9), ('f',10), \n",
    "                     ('n',0), ('n',2), ('n',4), ('n',5), ('n',7), ('n',9)]\n",
    "        for x in each_mode:\n",
    "            all_modes.append(x)\n",
    "    else:\n",
    "        for x in mode_list:\n",
    "            all_modes.append(x)\n",
    "    labels = []\n",
    "    final_labels = []\n",
    "    final_songs = []\n",
    "    final_songs_reduced = []\n",
    "    for x in all_modes:\n",
    "        for y in corpus:\n",
    "            for z in y.values():\n",
    "                if z['data']['key'] == x[0] and z['data']['final'] == x[1]:\n",
    "                    temp_list = []\n",
    "                    matrix_data = (figure_sorter(scale_degree_harmonization_song(z, x)))\n",
    "                    for a in matrix_data:\n",
    "                        for b in a:\n",
    "                            temp_list.append(b)\n",
    "                    final_songs.append(temp_list)\n",
    "                    labels.append(x)\n",
    "    for x in labels:\n",
    "        if x == ('f',2):\n",
    "            final_labels.append('$♭:D$')\n",
    "        elif x == ('n',4):\n",
    "            final_labels.append('$♮:E$')\n",
    "        elif x == ('n',9):\n",
    "            final_labels.append('$♮:A$')\n",
    "        elif x == ('f',7):\n",
    "            final_labels.append('$♭:G$')\n",
    "        elif x == ('n',2):\n",
    "            final_labels.append('$♮:D$')\n",
    "        elif x == ('f',9):\n",
    "            final_labels.append('$♭:A$')\n",
    "        elif x == ('f',0):\n",
    "            final_labels.append('$♭:C$')\n",
    "        elif x == ('f',10):\n",
    "            final_labels.append('$♭:B♭$')\n",
    "        elif x == ('n',5):\n",
    "            final_labels.append('$♮:F$')\n",
    "        elif x == ('n',0):\n",
    "            final_labels.append('$♮:C$')\n",
    "        elif x == ('f',5):\n",
    "            final_labels.append('$♭:F$')\n",
    "        elif x == ('n',7):\n",
    "            final_labels.append('$♮:G$')\n",
    "        elif x == 'Temperley MAJOR':\n",
    "            final_labels.append('$Temperley MAJOR$')\n",
    "        elif x == 'Temperley MINOR':\n",
    "            final_labels.append('$Temperley MINOR$')\n",
    "        else:\n",
    "            final_labels.append('o') \n",
    "    for x in final_songs:\n",
    "        for y in x:\n",
    "            final_songs_reduced.append(y)\n",
    "    \n",
    "    return (final_songs, final_labels)\n",
    "\n",
    "def labeler(label_data):\n",
    "    final_labels = []\n",
    "    for x in label_data:\n",
    "        if x == ('f',2):\n",
    "            final_labels.append('$♭:D$')\n",
    "        elif x == ('n',4):\n",
    "            final_labels.append('$♮:E$')\n",
    "        elif x == ('n',9):\n",
    "            final_labels.append('$♮:A$')\n",
    "        elif x == ('f',7):\n",
    "            final_labels.append('$♭:G$')\n",
    "        elif x == ('n',2):\n",
    "            final_labels.append('$♮:D$')\n",
    "        elif x == ('f',9):\n",
    "            final_labels.append('$♭:A$')\n",
    "        elif x == ('f',0):\n",
    "            final_labels.append('$♭:C$')\n",
    "        elif x == ('f',10):\n",
    "            final_labels.append('$♭:B♭$')\n",
    "        elif x == ('n',5):\n",
    "            final_labels.append('$♮:F$')\n",
    "        elif x == ('n',0):\n",
    "            final_labels.append('$♮:C$')\n",
    "        elif x == ('f',5):\n",
    "            final_labels.append('$♭:F$')\n",
    "        elif x == ('n',7):\n",
    "            final_labels.append('$♮:G$')\n",
    "        elif x == 'Temperley MAJOR':\n",
    "            final_labels.append('$Temperley MAJOR$')\n",
    "        elif x == 'Temperley MINOR':\n",
    "            final_labels.append('$Temperley MINOR$')\n",
    "        else:\n",
    "            final_labels.append('o') \n",
    "    return final_labels"
   ]
  },
  {
   "cell_type": "code",
   "execution_count": null,
   "metadata": {
    "collapsed": false
   },
   "outputs": [],
   "source": [
    "alf_data = inversion_kmeans(GetAll.all_alf, 'all')"
   ]
  },
  {
   "cell_type": "code",
   "execution_count": null,
   "metadata": {
    "collapsed": false,
    "scrolled": true
   },
   "outputs": [],
   "source": [
    "def averaged_octave_harmonization(flattened_list_with_labels):\n",
    "    total_chunks = []\n",
    "    averaged_chunks = []\n",
    "    all_keys = []\n",
    "    final_unchunked = []\n",
    "    for x in flattened_list_with_labels[1]:\n",
    "        if x not in all_keys:\n",
    "            all_keys.append(x)\n",
    "    for x in all_keys:\n",
    "        a_key = []\n",
    "        for a, b in zip(flattened_list_with_labels[0], flattened_list_with_labels[1]):\n",
    "            if b == x:\n",
    "                a_key.append(a)\n",
    "        averaged_chunks.append([sum(col) / len(col) for col in zip(*a_key)])\n",
    "    \n",
    "    for instance in averaged_chunks:\n",
    "        total_chunks.append([instance[x:x+12] for x in range(0, len(instance), 12)])\n",
    "#     for x in total_chunks:\n",
    "#         for i, (a, b, c, d, e, f, g) in enumerate(zip(x[0], x[1], x[2], x[3], x[4], x[5], x[6])):\n",
    "#             maxy = max(a, b, c, d, e, f, g)\n",
    "#             if a == maxy and maxy > 0:\n",
    "#                 x[0][i] = 1\n",
    "#             else:\n",
    "#                 x[0][i] = 0\n",
    "#             if b == maxy and maxy > 0:\n",
    "#                 x[1][i] = 1\n",
    "#             else:\n",
    "#                 x[1][i] = 0\n",
    "#             if c == maxy and maxy > 0:\n",
    "#                 x[2][i] = 1\n",
    "#             else:\n",
    "#                 x[2][i] = 0\n",
    "#             if d == maxy and maxy > 0:\n",
    "#                 x[3][i] = 1\n",
    "#             else:\n",
    "#                 x[3][i] = 0\n",
    "#             if e == maxy and maxy > 0:\n",
    "#                 x[4][i] = 1\n",
    "#             else:\n",
    "#                 x[4][i] = 0\n",
    "#             if f == maxy and maxy > 0:\n",
    "#                 x[5][i] = 1\n",
    "#             else:\n",
    "#                 x[5][i] = 0\n",
    "#             if g == maxy and maxy > 0:\n",
    "#                 x[6][i] = 1\n",
    "#             else:\n",
    "#                 x[6][i] = 0\n",
    "    for x in total_chunks:\n",
    "        song_temp = []\n",
    "        for y in x:\n",
    "            for z in y:\n",
    "                song_temp.append(z)\n",
    "        final_unchunked.append(song_temp)\n",
    "    return final_unchunked, all_keys"
   ]
  },
  {
   "cell_type": "code",
   "execution_count": null,
   "metadata": {
    "collapsed": false
   },
   "outputs": [],
   "source": [
    "XY = averaged_octave_harmonization(alf_data)"
   ]
  },
  {
   "cell_type": "code",
   "execution_count": null,
   "metadata": {
    "collapsed": false
   },
   "outputs": [],
   "source": [
    "len(XY[1])"
   ]
  },
  {
   "cell_type": "code",
   "execution_count": null,
   "metadata": {
    "collapsed": false,
    "scrolled": true
   },
   "outputs": [],
   "source": [
    "%matplotlib inline\n",
    "\n",
    "for x in range(2, 13):\n",
    "    k_means_data(XY[0], x, XY[1])\n"
   ]
  },
  {
   "cell_type": "code",
   "execution_count": null,
   "metadata": {
    "collapsed": false,
    "scrolled": true
   },
   "outputs": [],
   "source": [
    "# inversion_data = inversion_kmeans(GetAll.all_alf, [('n', 2), ('f', 2)])\n",
    "\n",
    "all_books = []\n",
    "for x in range(5):\n",
    "    all_books.append(inversion_kmeans([GetComposer.all_milanuzzi[x]],  'all'))\n",
    "# inversion_data = inversion_kmeans(GetComposer.all_kaps[0:3],  'all')\n",
    "early_kap = inversion_kmeans(GetComposer.all_kaps[0:3],  'all')\n",
    "late_kap = inversion_kmeans(GetComposer.all_kaps[3:6],  'all')"
   ]
  },
  {
   "cell_type": "code",
   "execution_count": null,
   "metadata": {
    "collapsed": false
   },
   "outputs": [],
   "source": [
    "for x in all_books:\n",
    "    print(k_means_data(x[0], 2, x[1]))"
   ]
  },
  {
   "cell_type": "code",
   "execution_count": null,
   "metadata": {
    "collapsed": false,
    "scrolled": false
   },
   "outputs": [],
   "source": [
    "%matplotlib inline\n",
    "# PSA = k_means_data(inversion_data[0], 3, inversion_data[1])\n",
    "k_means_data(early_kap[0], 2, early_kap[1])\n",
    "k_means_data(late_kap[0], 2, late_kap[1])\n",
    "\n",
    "# k_means_data(inversion_data[0], 3, inversion_data[1])\n",
    "# k_means_data(inversion_data[0], 12, inversion_data[1])"
   ]
  },
  {
   "cell_type": "code",
   "execution_count": null,
   "metadata": {
    "collapsed": false
   },
   "outputs": [],
   "source": [
    "for x in range(2, 15):\n",
    "    print(x, 'yields', k_means_data(inversion_data[0], x, inversion_data[1])[1])"
   ]
  },
  {
   "cell_type": "code",
   "execution_count": null,
   "metadata": {
    "collapsed": false
   },
   "outputs": [],
   "source": [
    "%matplotlib inline\n",
    "silhouette_analysis(PSA, 6)"
   ]
  },
  {
   "cell_type": "code",
   "execution_count": null,
   "metadata": {
    "collapsed": true
   },
   "outputs": [],
   "source": [
    "def neato_graph(list_of_lists, label_lists):\n",
    "    dt = [('len', float)]\n",
    "\n",
    "    A = (np.array(list_of_lists)*5).view(dt)\n",
    "\n",
    "    G = nx.from_numpy_matrix(A)\n",
    "    relabeled_nodes = {}\n",
    "    for x, y in zip (range(len(label_lists)), label_lists):\n",
    "        relabeled_nodes[x] = str((x, y[1:-1]))\n",
    "    G = nx.relabel_nodes(G, relabeled_nodes)\n",
    "\n",
    "    G = to_agraph(G)\n",
    "\n",
    "    G.node_attr.update(color=\"green\", style=\"filled\", fontsize=30)\n",
    "    G.edge_attr.update(color=\"black\", width=0.5)\n",
    "#     G.edge_attr.update(color='black', style='invis', width=0)\n",
    "    # G.graph_attr.update(landscape='true', ranksep='0.1')\n",
    "\n",
    "    G.draw('/home/daniel/Desktop/neato_ave.dot', format='dot', prog='neato')\n",
    "    G.draw"
   ]
  },
  {
   "cell_type": "code",
   "execution_count": null,
   "metadata": {
    "collapsed": false
   },
   "outputs": [],
   "source": [
    "inversion_data = inversion_kmeans(GetComposer.all_kaps,  'all')"
   ]
  },
  {
   "cell_type": "code",
   "execution_count": null,
   "metadata": {
    "collapsed": false
   },
   "outputs": [],
   "source": [
    "DIST = []\n",
    "for x in XY[0]:\n",
    "    dist_temp = []\n",
    "    for y in XY[0]:\n",
    "        dist_temp.append(euclidean(x, y))\n",
    "    DIST.append(dist_temp)"
   ]
  },
  {
   "cell_type": "code",
   "execution_count": null,
   "metadata": {
    "collapsed": false
   },
   "outputs": [],
   "source": [
    "neato_graph(DIST, XY[1])"
   ]
  },
  {
   "cell_type": "code",
   "execution_count": 7,
   "metadata": {
    "collapsed": false
   },
   "outputs": [],
   "source": [
    "all_flats = [('f', 5), ('f', 0), ('f', 10), ('f', 2), ('f', 7)]\n",
    "all_naturals = [('n', 0), ('n', 7), ('n', 5), ('n', 2), ('n', 9), ('n', 4)]"
   ]
  },
  {
   "cell_type": "code",
   "execution_count": 16,
   "metadata": {
    "collapsed": false
   },
   "outputs": [],
   "source": [
    "CSV_DATA = figure_sorter(scale_degree_harmonization(\n",
    "        GetAll.all_alf, ('n', 7)))"
   ]
  },
  {
   "cell_type": "code",
   "execution_count": 17,
   "metadata": {
    "collapsed": false
   },
   "outputs": [],
   "source": [
    "with open('/home/daniel/Desktop/n7.csv', 'w', newline='') as fp:\n",
    "    a = csv.writer(fp, delimiter='&')\n",
    "    final_data = CSV_DATA\n",
    "    a.writerows(final_data)"
   ]
  },
  {
   "cell_type": "code",
   "execution_count": null,
   "metadata": {
    "collapsed": true
   },
   "outputs": [],
   "source": [
    "a = '[0, [2, 7, 0]]'"
   ]
  },
  {
   "cell_type": "code",
   "execution_count": null,
   "metadata": {
    "collapsed": false
   },
   "outputs": [],
   "source": [
    "b = [0, [2, 7, 0]]\n"
   ]
  },
  {
   "cell_type": "code",
   "execution_count": null,
   "metadata": {
    "collapsed": false
   },
   "outputs": [],
   "source": [
    "'0' in str(b)"
   ]
  },
  {
   "cell_type": "code",
   "execution_count": null,
   "metadata": {
    "collapsed": false
   },
   "outputs": [],
   "source": [
    "pre_20 = inversion_kmeans([GetComposer.all_kaps[0], GetComposer.all_montesardo[0], GetComposer.all_giaccio[0], \n",
    "                           GetComposer.all_giaccio[1], GetComposer.all_kaps[1], GetComposer.all_kaps[2], \n",
    "                           GetComposer.all_rontani[0]],  'all')\n",
    "# early_20 = inversion_kmeans([GetComposer.all_milanuzzi[x]],  'all')\n",
    "# late_20 = inversion_kmeans([GetComposer.all_milanuzzi[x]],  'all')\n",
    "post_20 = inversion_kmeans([GetComposer.all_milanuzzi[3], GetComposer.all_kaps[4], GetComposer.all_kaps[5], \n",
    "                           GetComposer.all_milanuzzi[4], GetComposer.all_kaps[6]],  'all')"
   ]
  },
  {
   "cell_type": "code",
   "execution_count": null,
   "metadata": {
    "collapsed": false
   },
   "outputs": [],
   "source": [
    "k_means_data(pre_20[0], 2, pre_20[1])\n",
    "k_means_data(post_20[0], 2, post_20[1])"
   ]
  },
  {
   "cell_type": "code",
   "execution_count": null,
   "metadata": {
    "collapsed": true
   },
   "outputs": [],
   "source": []
  }
 ],
 "metadata": {
  "kernelspec": {
   "display_name": "Python [default]",
   "language": "python",
   "name": "python3"
  },
  "language_info": {
   "codemirror_mode": {
    "name": "ipython",
    "version": 3
   },
   "file_extension": ".py",
   "mimetype": "text/x-python",
   "name": "python",
   "nbconvert_exporter": "python",
   "pygments_lexer": "ipython3",
   "version": "3.5.2"
  }
 },
 "nbformat": 4,
 "nbformat_minor": 0
}
