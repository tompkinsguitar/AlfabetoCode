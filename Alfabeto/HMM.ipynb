{
 "cells": [
  {
   "cell_type": "code",
   "execution_count": 1,
   "metadata": {},
   "outputs": [
    {
     "name": "stdout",
     "output_type": "stream",
     "text": [
      "ready!\n"
     ]
    }
   ],
   "source": [
    "import numpy as np\n",
    "from hmmlearn import hmm\n",
    "import alfabeto_data.dissertation_images as di\n",
    "from alfabeto_sources.all_sources import *\n",
    "from alfabeto_code.AlfabetoConverter import transposed_pc_chords_noMMD\n",
    "from Continuo.ContinuoConverter import figure_intervals_pc\n",
    "import csv\n",
    "import copy\n",
    "from scipy.spatial.distance import euclidean, cdist\n",
    "import networkx as nx\n",
    "from networkx.drawing.nx_agraph import write_dot, to_agraph\n",
    "from sklearn.externals import joblib"
   ]
  },
  {
   "cell_type": "code",
   "execution_count": 2,
   "metadata": {},
   "outputs": [],
   "source": [
    "# X = di.python_hmm_corpus(di.monteverdi_continuo, di.modal_major)\n",
    "X = di.python_hmm(di.GetAll.all_alf, di.modal_major, 'chords')"
   ]
  },
  {
   "cell_type": "code",
   "execution_count": 3,
   "metadata": {},
   "outputs": [
    {
     "data": {
      "text/plain": [
       "['I',\n",
       " 'i',\n",
       " 'II',\n",
       " 'ii',\n",
       " 'bIII',\n",
       " 'III',\n",
       " 'iii',\n",
       " 'IV',\n",
       " 'iv',\n",
       " 'V',\n",
       " 'v',\n",
       " 'bVI',\n",
       " 'VI',\n",
       " 'vi',\n",
       " 'bVII',\n",
       " 'bvii',\n",
       " 'VII',\n",
       " 'vii']"
      ]
     },
     "execution_count": 3,
     "metadata": {},
     "output_type": "execute_result"
    }
   ],
   "source": [
    "X[2]"
   ]
  },
  {
   "cell_type": "code",
   "execution_count": 85,
   "metadata": {
    "scrolled": true
   },
   "outputs": [],
   "source": [
    "#compares emission probability\n",
    "from alfabeto_sources.all_sources import composer_labels_linebreak\n",
    "\n",
    "def emission_comparison():\n",
    "    composer_data = {}\n",
    "    composer_scores = {}\n",
    "    for name, book in composer_labels_linebreak.items():\n",
    "#         if 'Kapsperger' in name:\n",
    "        print('starting', name)\n",
    "        X = di.python_hmm(book, di.modal_major, 'chords')\n",
    "        all_numerals = ['I', 'i', 'bII', 'bii', 'II', 'ii', 'bIII', 'biii', 'III', 'iii', 'IV', 'iv',\n",
    "                        '#IV', '#iv', 'V', 'v', 'bVI', 'bvi', 'VI', 'vi', 'bVII', 'bvii', 'VII', 'vii']\n",
    "        CORPUS_NUMERALS = X[2]\n",
    "        Z = hmm.MultinomialHMM(n_components=3, verbose=False,n_iter=1000,tol=.0001)\n",
    "        Z.n_features = len(X[2])\n",
    "        FIT_DATA = Z.fit(X[0], X[1])\n",
    "        composer_scores[name] = FIT_DATA.score(X[0], X[1])\n",
    "        EMIT = FIT_DATA.emissionprob_\n",
    "        indices = []\n",
    "        for a in all_numerals:\n",
    "            if a not in CORPUS_NUMERALS:\n",
    "                indices.append(all_numerals.index(a))\n",
    "\n",
    "        for n in indices:\n",
    "            EMIT = np.insert(EMIT, n, 0, axis=1)\n",
    "\n",
    "        full_array = [] #flattened, ordered array of emission data\n",
    "        I = EMIT[:,all_numerals.index(\"I\")]\n",
    "        IV = EMIT[:,all_numerals.index(\"IV\")]\n",
    "        V = EMIT[:,all_numerals.index(\"V\")]\n",
    "        for x in EMIT[np.argmax(I)]:\n",
    "            full_array.append(x)\n",
    "        for x in EMIT[np.argmax(IV)]:\n",
    "            full_array.append(x)\n",
    "        for x in EMIT[np.argmax(V)]:\n",
    "            full_array.append(x)\n",
    "        composer_data[name] = full_array\n",
    "    joblib.dump(composer_data, '/home/daniel/Desktop/composer_data.pkl', compress=9)\n",
    "    print(composer_scores)\n",
    "    return composer_data"
   ]
  },
  {
   "cell_type": "code",
   "execution_count": 86,
   "metadata": {
    "scrolled": true
   },
   "outputs": [
    {
     "name": "stdout",
     "output_type": "stream",
     "text": [
      "starting Obizzi\n",
      "1627\n"
     ]
    },
    {
     "name": "stderr",
     "output_type": "stream",
     "text": [
      "/home/daniel/anaconda3/lib/python3.5/site-packages/hmmlearn/base.py:459: RuntimeWarning: divide by zero encountered in log\n",
      "  np.log(self.startprob_),\n",
      "/home/daniel/anaconda3/lib/python3.5/site-packages/hmmlearn/base.py:468: RuntimeWarning: divide by zero encountered in log\n",
      "  np.log(self.startprob_),\n"
     ]
    },
    {
     "name": "stdout",
     "output_type": "stream",
     "text": [
      "starting Milanuzzi\n",
      "1635\n",
      "starting Marini\n",
      "1622\n"
     ]
    },
    {
     "name": "stderr",
     "output_type": "stream",
     "text": [
      "/home/daniel/anaconda3/lib/python3.5/site-packages/hmmlearn/hmm.py:405: RuntimeWarning: divide by zero encountered in log\n",
      "  return np.log(self.emissionprob_)[:, np.concatenate(X)].T\n"
     ]
    },
    {
     "name": "stdout",
     "output_type": "stream",
     "text": [
      "starting Vitali\n",
      "1622\n",
      "starting Kapsperger\n",
      "1630\n",
      "starting Kapsperger\n",
      "1610\n",
      "starting Stefani\n",
      "1623\n",
      "starting Milanuzzi\n",
      "1628\n",
      "starting Ghizzolo\n",
      "1623\n",
      "starting Rontani\n",
      "1620\n",
      "starting Kapsperger\n",
      "1632\n",
      "starting Kapsperger\n",
      "1640\n",
      "starting Kapsperger\n",
      "1619a\n",
      "starting DIndia\n",
      "1623\n",
      "starting Stefani\n",
      "1622\n",
      "starting Milanuzzi\n",
      "1622\n",
      "starting Kapsperger\n",
      "1623\n",
      "starting Milanuzzi\n",
      "1630\n",
      "starting Sabbatini\n",
      "1652\n",
      "starting Rontani\n",
      "1619\n",
      "starting Rontani\n",
      "1623\n",
      "starting Giaccio\n",
      "1618\n",
      "starting Landi\n",
      "1620\n",
      "starting Giaccio\n",
      "1620\n",
      "starting Kapsperger\n",
      "1619b\n",
      "starting DIndia\n",
      "1621\n",
      "starting Stefani\n",
      "1621\n",
      "starting Montesardo\n",
      "1612\n",
      "starting Milanuzzi\n",
      "1625\n",
      "{'DIndia\\n1621': -102.54862623823456, 'Milanuzzi\\n1635': -657.01794885253798, 'Marini\\n1622': -724.95555621020117, 'Stefani\\n1623': -1373.9435072018086, 'Kapsperger\\n1630': -1305.5504774618607, 'Kapsperger\\n1610': -779.97152495318903, 'Vitali\\n1622': -433.1681814242138, 'Milanuzzi\\n1628': -537.48905669212002, 'Ghizzolo\\n1623': -1222.7137920317107, 'Rontani\\n1620': -54.622330430023894, 'Kapsperger\\n1632': -622.86450353327484, 'Kapsperger\\n1640': -655.47901804085677, 'Kapsperger\\n1619a': -923.30640979601901, 'DIndia\\n1623': -164.11302931962314, 'Stefani\\n1622': -790.03731821906354, 'Milanuzzi\\n1622': -803.98100131230387, 'Kapsperger\\n1623': -939.50215140735952, 'Milanuzzi\\n1630': -709.71317895164896, 'Sabbatini\\n1652': -164.5287442922122, 'Rontani\\n1619': -367.72801073195717, 'Rontani\\n1623': -118.82843618794564, 'Giaccio\\n1618': -602.36136572491205, 'Landi\\n1620': -446.18906617820807, 'Giaccio\\n1620': -505.70956374000173, 'Kapsperger\\n1619b': -975.63073364763977, 'Obizzi\\n1627': -605.40393326584694, 'Stefani\\n1621': -876.74747564872803, 'Montesardo\\n1612': -390.53897430863248, 'Milanuzzi\\n1625': -813.05687067359963}\n"
     ]
    }
   ],
   "source": [
    "composer_data_compare = emission_comparison()\n",
    "all_labels = []\n",
    "all_data = []\n",
    "all_data_measured = []\n",
    "for a, b in composer_data_compare.items():\n",
    "    all_labels.append(a)\n",
    "    all_data.append(b)\n",
    "DATA = cdist(all_data, all_data, 'euclidean')\n",
    "# for x in all_data:\n",
    "#     for y in all_data:\n",
    "#         all_data_measured.append(euclidean(x, y))"
   ]
  },
  {
   "cell_type": "code",
   "execution_count": 68,
   "metadata": {},
   "outputs": [],
   "source": [
    "# di.neato_plain(DATA*100, all_labels, '/home/daniel/Desktop/neatofunk.pdf')\n",
    "def neato_plain(list_of_lists, label_lists, path):\n",
    "    dt = [('len', float)]\n",
    "\n",
    "    A = (np.array(list_of_lists)/10).view(dt)\n",
    "    # print(A)\n",
    "    G = nx.from_numpy_matrix(A)\n",
    "    relabeled_nodes = {}\n",
    "    for x, y in zip(range(len(label_lists)), label_lists):\n",
    "        relabeled_nodes[x] = y\n",
    "        # print(y[1:-1])\n",
    "    G = nx.relabel_nodes(G, relabeled_nodes)\n",
    "\n",
    "    G = to_agraph(G)\n",
    "\n",
    "    G.node_attr.update(shape='none', fontsize=12)\n",
    "    G.edge_attr.update(color='black', style='invis')\n",
    "    #  ♭ ♮ ...for copy and paste\n",
    "\n",
    "    G.draw(path, format='pdf', prog='neato')\n",
    "neato_plain(DATA*100, all_labels, '/home/daniel/Desktop/neatofunk.pdf')"
   ]
  },
  {
   "cell_type": "code",
   "execution_count": null,
   "metadata": {
    "scrolled": true
   },
   "outputs": [],
   "source": [
    "Z = hmm.MultinomialHMM(n_components=3, verbose=True,n_iter=1000,tol=.01)\n",
    "Z.n_features = len(X[2])\n",
    "FIT_DATA = Z.fit(X[0], X[1])"
   ]
  },
  {
   "cell_type": "code",
   "execution_count": null,
   "metadata": {},
   "outputs": [],
   "source": [
    "EMIT = FIT_DATA.emissionprob_"
   ]
  },
  {
   "cell_type": "code",
   "execution_count": null,
   "metadata": {},
   "outputs": [],
   "source": [
    "CORPUS_NUMERALS = X[2]"
   ]
  },
  {
   "cell_type": "code",
   "execution_count": null,
   "metadata": {},
   "outputs": [],
   "source": [
    "all_numerals = ['I', 'i', 'bII', 'bii', 'II', 'ii', 'bIII', 'biii', 'III', 'iii', 'IV', 'iv',\n",
    "                '#IV', '#iv', 'V', 'v', 'bVI', 'bvi', 'VI', 'vi', 'bVII', 'bvii', 'VII', 'vii']\n",
    "\n",
    "indices = []\n",
    "for a in all_numerals:\n",
    "    if a not in CORPUS_NUMERALS:\n",
    "        print(a)\n",
    "        indices.append(all_numerals.index(a))\n",
    "\n",
    "for n in indices:\n",
    "    EMIT = np.insert(EMIT, n, 0, axis=1)\n"
   ]
  },
  {
   "cell_type": "code",
   "execution_count": 17,
   "metadata": {},
   "outputs": [
    {
     "data": {
      "text/plain": [
       "2"
      ]
     },
     "execution_count": 17,
     "metadata": {},
     "output_type": "execute_result"
    }
   ],
   "source": [
    "a = np.array([[1, 2, 3], [4, 5, 6], [7, 8, 9]])\n",
    "np.argmax(a[0])"
   ]
  },
  {
   "cell_type": "code",
   "execution_count": null,
   "metadata": {},
   "outputs": [],
   "source": [
    "emission_prob = []\n",
    "for x in ESTEMIT11:\n",
    "    estlist = []\n",
    "    for y in x:\n",
    "        if y >= .01:\n",
    "            hey.append(y)\n",
    "        else:\n",
    "            hey.append(0)\n",
    "    emission_prob.append(estlist)"
   ]
  },
  {
   "cell_type": "code",
   "execution_count": 17,
   "metadata": {},
   "outputs": [],
   "source": [
    "def csv_function(f_variable, path):\n",
    "    with open(path, 'w', newline='') as fp:\n",
    "        a = csv.writer(fp, delimiter=',')\n",
    "        a.writerows(f_variable)"
   ]
  },
  {
   "cell_type": "code",
   "execution_count": null,
   "metadata": {},
   "outputs": [],
   "source": [
    "csv_function(emission_prob, '/home/daniel/Desktop/emit_moz_maj.csv')"
   ]
  },
  {
   "cell_type": "code",
   "execution_count": null,
   "metadata": {},
   "outputs": [],
   "source": [
    "#compute marginal distribution\n",
    "trn = copy.deepcopy(ESTTR11).conj().transpose()\n",
    "(D,V) = copy.deepcopy(np.linalg.eig(trn))\n",
    "item=max(D)\n",
    "idx = 0\n",
    "for x, y in zip(D, range(len(D))):\n",
    "    if x == item:\n",
    "        idx = y\n",
    "f_marginal=abs(V[:,idx])/sum(abs(V[:,idx]))\n",
    "#whew!\n",
    "\n",
    "#compute P(F|C)\n",
    "k = []\n",
    "for x in ESTEMIT11:\n",
    "    k.append(np.zeros(np.size(x)))\n",
    "PFC = np.array(k)\n",
    "for jj in range(1,len(ESTEMIT11[0])+1):\n",
    "    for ii in range(1,len(ESTEMIT11[:,0])+1):\n",
    "        PFC[ii-1][jj-1]=ESTEMIT11[ii-1][jj-1]*f_marginal[ii-1]/jj\n",
    "    PFC[:,jj-1]=PFC[:,jj-1]/sum(PFC[:,jj-1])\n",
    "    b = PFC[:,jj-1]\n",
    "    a = sum(PFC[:,jj-1])"
   ]
  },
  {
   "cell_type": "code",
   "execution_count": null,
   "metadata": {},
   "outputs": [],
   "source": [
    "#Most Likely P(F|C)\n",
    "[midx,_] = PFC.max(0),PFC.argmax(0)\n",
    "state_dict = {}\n",
    "for kk in range(K):\n",
    "    state_dict[kk] = {}\n",
    "    for ll in range(len(midx)):\n",
    "        if PFC[kk][ll]>0.01:\n",
    "            state_dict[kk][TOKEN_NAMES[ll]]=PFC[kk][ll]\n"
   ]
  },
  {
   "cell_type": "code",
   "execution_count": null,
   "metadata": {},
   "outputs": [],
   "source": [
    "CSV_LIST = [TOKEN_NAMES]\n",
    "for state in range(len(state_dict)):\n",
    "    token_pct = []\n",
    "    for t in TOKEN_NAMES:\n",
    "        num = 0\n",
    "        for a,b in state_dict[state].items():\n",
    "            if t == a:\n",
    "                token_pct.append(b)\n",
    "                num+=1\n",
    "        if num == 0:\n",
    "            token_pct.append(0)\n",
    "    CSV_LIST.append(token_pct)"
   ]
  },
  {
   "cell_type": "code",
   "execution_count": null,
   "metadata": {},
   "outputs": [],
   "source": [
    "csv_function(CSV_LIST, '/home/daniel/Desktop/alf_major_functions.csv')"
   ]
  },
  {
   "cell_type": "code",
   "execution_count": null,
   "metadata": {},
   "outputs": [],
   "source": [
    "emission_prob = copy.deepcopy(ESTEMIT11)\n",
    "new_csv = copy.deepcopy(np.array(CSV_LIST[1:]))\n",
    "# print(TOKEN_NAMES)\n",
    "# print(emission_prob.shape)\n",
    "token_reduced = []\n",
    "delete = []\n",
    "for y in range(len(emission_prob[0])):\n",
    "    if sum(emission_prob[0:,y]) <= .03:\n",
    "        delete.append(y)\n",
    "    else:\n",
    "        token_reduced.append(TOKEN_NAMES[y])\n",
    "emission_reduced = np.delete(new_csv, delete, axis=1)\n",
    "# print(emission_reduced.shape)\n",
    "# print(len(token_reduced))\n",
    "# print(token_reduced)\n",
    "# print(emission_reduced)"
   ]
  },
  {
   "cell_type": "code",
   "execution_count": null,
   "metadata": {},
   "outputs": [],
   "source": [
    "reduced_csv = [token_reduced]\n",
    "for x in emission_reduced:\n",
    "    reduced_csv.append(x)\n",
    "csv_function(reduced_csv, '/home/daniel/Desktop/reduced_pal_major4.csv')"
   ]
  },
  {
   "cell_type": "code",
   "execution_count": null,
   "metadata": {},
   "outputs": [],
   "source": [
    "# emission = np.swapaxes(np.array(CSV_LIST[1:]), 0, 1)\n",
    "# # emission = np.array(emission_reduced)\n",
    "# neato_data = cdist(emission, emission, 'euclidean')*10\n",
    "# # neato_data = []\n",
    "# # for x in emission:\n",
    "# #     temp = []\n",
    "# #     for y in emission:\n",
    "# #         temp.append(euclidean(x, y))\n",
    "# #     neato_data.append(temp)\n",
    "# # print(neato_data)\n",
    "# print(len(token_reduced))\n",
    "\n",
    "# dt = [('len', float)]\n",
    "\n",
    "# A = np.array(neato_data).view(dt)\n",
    "# G = nx.from_numpy_matrix(A)\n",
    "# relabeled_nodes = {}\n",
    "# for x, y in zip(range(len(neato_data[0])), TOKEN_NAMES):\n",
    "#     relabeled_nodes[x] = y\n",
    "#     # print(y[1:-1])\n",
    "# G = nx.relabel_nodes(G, relabeled_nodes)\n",
    "\n",
    "# G = to_agraph(G)\n",
    "\n",
    "# G.node_attr.update(style='filled', fontsize=20)\n",
    "# G.edge_attr.update(color='black', style='invis')\n",
    "# print(G)\n",
    "# #  ♭ ♮ ...for copy and paste\n",
    "# G.draw('/home/daniel/Desktop/tryit.pdf', format='pdf', prog='neato')"
   ]
  },
  {
   "cell_type": "code",
   "execution_count": null,
   "metadata": {},
   "outputs": [],
   "source": [
    "ESTTR11\n",
    "import networkx as nx\n",
    "from networkx.drawing.nx_agraph import write_dot, to_agraph\n",
    "import pygraphviz as pgv\n",
    "labels = ['S', 'T', 'D']\n",
    "G = nx.DiGraph()\n",
    "for x, y in zip(ESTTR11, labels):\n",
    "    for a, b in zip(x, labels):\n",
    "        G.add_edge(y, b, penwidth=a*5)\n",
    "edge_weights = []\n",
    "edges = G.edges(data=True)\n",
    "print('edges:', edges)\n",
    "for x in edges:\n",
    "    edge_weights.append(x[2]['penwidth'])\n",
    "nodes = G.nodes()\n",
    "print('nodes:', nodes)\n",
    "for x in nodes:\n",
    "    G.node[x]['shape'] = 'circle'\n",
    "G = to_agraph(G)\n",
    "# G=pgv.AGraph(ranksep=10)\n",
    "G.draw('/home/daniel/Desktop/function.png', format='png', prog='dot')"
   ]
  },
  {
   "cell_type": "code",
   "execution_count": null,
   "metadata": {},
   "outputs": [],
   "source": [
    "pp = FIT_DATA.predict_proba(at)\n",
    "bigF = []\n",
    "for x in range(len(pp)):\n",
    "    counter = 0\n",
    "    func = 0\n",
    "    for y in pp[x]:\n",
    "        if y >= .9:\n",
    "            counter += 1\n",
    "            func += func_guess[x]\n",
    "    if counter > 0:\n",
    "        bigF.append(func)\n",
    "    else:\n",
    "        bigF.append('-')"
   ]
  },
  {
   "cell_type": "code",
   "execution_count": null,
   "metadata": {},
   "outputs": [],
   "source": [
    "a"
   ]
  },
  {
   "cell_type": "code",
   "execution_count": 22,
   "metadata": {},
   "outputs": [],
   "source": [
    "alf_fit = joblib.load('/home/daniel/Desktop/hmm/alfabeto_continuo_major_3.pkl')\n",
    "FIT_DATA = alf_fit['fit']\n",
    "TOKEN_NAMES = alf_fit['tokens']\n",
    "felici_numerals = transposed_pc_chords_noMMD(di.GetComposer.all_kaps[3][10]['alfabeto'], 'all')\n",
    "felici_numb = [[TOKEN_NAMES.index(i)] for i in felici_numerals]\n",
    "# f_nums = di.python_hmm(felici, di.modal_major)\n",
    "f_guess = FIT_DATA.predict(felici_numb)\n",
    "pp = FIT_DATA.predict_proba(felici_numb)\n",
    "Labels = ['T', 'D', 'S']"
   ]
  },
  {
   "cell_type": "code",
   "execution_count": null,
   "metadata": {},
   "outputs": [],
   "source": [
    "bigF = []\n",
    "reduced_numerals = []\n",
    "bigF2 = []\n",
    "for x in range(len(pp)):\n",
    "    counter = 0\n",
    "    func = 0\n",
    "    for y in pp[x]:\n",
    "        if y >= .95:\n",
    "            counter += 1\n",
    "            func += f_guess[x]\n",
    "            reduced_numerals.append(felici_numb[x])\n",
    "    if counter > 0:\n",
    "        bigF.append(Labels[func])\n",
    "    else:\n",
    "        bigF.append('-')\n",
    "func_surface = [Labels[n] for n in f_guess]\n"
   ]
  },
  {
   "cell_type": "code",
   "execution_count": null,
   "metadata": {},
   "outputs": [],
   "source": [
    "csv_felici = [felici_numerals, f_guess, [f[0] for f in pp], [f[1] for f in pp], [f[2] for f in pp]]"
   ]
  },
  {
   "cell_type": "code",
   "execution_count": null,
   "metadata": {},
   "outputs": [],
   "source": []
  },
  {
   "cell_type": "code",
   "execution_count": null,
   "metadata": {},
   "outputs": [],
   "source": [
    "csv_function(csv_felici, '/home/daniel/Desktop/hierarchy.csv')"
   ]
  },
  {
   "cell_type": "code",
   "execution_count": null,
   "metadata": {},
   "outputs": [],
   "source": [
    "def hierarchy_maker(corpus_function):\n",
    "    f_numbers = [[TOKEN_NAMES.index(i)] for i in corpus_function]\n",
    "    reduced_numerals = copy.deepcopy(f_numbers)\n",
    "    rereduced_numerals = []\n",
    "    print([TOKEN_NAMES[x[0]] for x in reduced_numerals])\n",
    "    \n",
    "    while reduced_numerals != rereduced_numerals:\n",
    "        if len(rereduced_numerals) > 0:\n",
    "            reduced_numerals = rereduced_numerals\n",
    "        f_guess = FIT_DATA.predict(reduced_numerals)\n",
    "        pp = FIT_DATA.predict_proba(reduced_numerals)\n",
    "        print(len(pp))\n",
    "        rereduced_numerals = []\n",
    "        for x in range(len(pp)):\n",
    "            counter = 0\n",
    "            func = 0\n",
    "            for y in pp[x]:\n",
    "                if y >= .99:\n",
    "                    counter += 1\n",
    "                    func += f_guess[x]\n",
    "                    rereduced_numerals.append(reduced_numerals[x])\n",
    "#         rereduced_numerals = []\n",
    "        print([TOKEN_NAMES[x[0]] for x in reduced_numerals])\n",
    "        print(len(reduced_numerals))\n",
    "    print()\n",
    "#         if counter > 0:\n",
    "#             bigF.append(Labels[func])\n",
    "#         else:\n",
    "#             bigF.append('-')\n",
    "#     func_surface = [Labels[n] for n in f_guess]"
   ]
  },
  {
   "cell_type": "code",
   "execution_count": null,
   "metadata": {},
   "outputs": [],
   "source": [
    "hierarchy_maker(transposed_pc_chords_noMMD(di.GetComposer.all_kaps[3][10]['alfabeto'], 'all'))"
   ]
  },
  {
   "cell_type": "code",
   "execution_count": null,
   "metadata": {},
   "outputs": [],
   "source": [
    "hierarchy_maker"
   ]
  },
  {
   "cell_type": "code",
   "execution_count": 3,
   "metadata": {},
   "outputs": [],
   "source": [
    "alf_fit = joblib.load('/home/daniel/Desktop/hmm/alfabeto_continuo_major_3.pkl')"
   ]
  },
  {
   "cell_type": "code",
   "execution_count": 7,
   "metadata": {},
   "outputs": [
    {
     "data": {
      "text/plain": [
       "['I',\n",
       " 'i',\n",
       " 'I6',\n",
       " 'i6',\n",
       " 'I64',\n",
       " 'i64',\n",
       " 'II',\n",
       " 'ii',\n",
       " 'ii6',\n",
       " 'bIII',\n",
       " 'III',\n",
       " 'iii',\n",
       " 'iii6',\n",
       " 'IV',\n",
       " 'IV6',\n",
       " 'iv',\n",
       " '#iv',\n",
       " 'V',\n",
       " 'V6',\n",
       " 'v',\n",
       " 'bVI',\n",
       " 'VI',\n",
       " 'vi',\n",
       " 'vi6',\n",
       " 'bVII',\n",
       " 'bVII6',\n",
       " 'VII',\n",
       " 'vii']"
      ]
     },
     "execution_count": 7,
     "metadata": {},
     "output_type": "execute_result"
    }
   ],
   "source": [
    "alf_fit['tokens']"
   ]
  },
  {
   "cell_type": "code",
   "execution_count": 21,
   "metadata": {},
   "outputs": [
    {
     "data": {
      "text/plain": [
       "['I',\n",
       " 'V',\n",
       " 'IV',\n",
       " 'V',\n",
       " 'I',\n",
       " 'bVII',\n",
       " 'vi',\n",
       " 'V',\n",
       " 'IV',\n",
       " 'ii',\n",
       " 'IV',\n",
       " 'VI',\n",
       " 'II',\n",
       " 'bVII',\n",
       " 'vi',\n",
       " 'v',\n",
       " 'IV',\n",
       " 'V',\n",
       " 'I',\n",
       " 'bVII',\n",
       " 'vi',\n",
       " 'v',\n",
       " 'IV',\n",
       " 'V',\n",
       " 'I']"
      ]
     },
     "execution_count": 21,
     "metadata": {},
     "output_type": "execute_result"
    }
   ],
   "source": [
    "felici_numerals"
   ]
  },
  {
   "cell_type": "code",
   "execution_count": 12,
   "metadata": {},
   "outputs": [
    {
     "data": {
      "text/plain": [
       "47"
      ]
     },
     "execution_count": 12,
     "metadata": {},
     "output_type": "execute_result"
    }
   ],
   "source": [
    "len(pp)"
   ]
  },
  {
   "cell_type": "code",
   "execution_count": 23,
   "metadata": {},
   "outputs": [],
   "source": [
    "all_data = []\n",
    "for num, prob in zip(felici_numerals, pp):\n",
    "    crd = [num]+list(prob)\n",
    "    all_data.append(crd)"
   ]
  },
  {
   "cell_type": "code",
   "execution_count": 24,
   "metadata": {},
   "outputs": [],
   "source": [
    "csv_function(all_data, '/home/daniel/Desktop/felici_function.csv')"
   ]
  },
  {
   "cell_type": "code",
   "execution_count": null,
   "metadata": {
    "collapsed": true
   },
   "outputs": [],
   "source": []
  }
 ],
 "metadata": {
  "anaconda-cloud": {},
  "kernelspec": {
   "display_name": "Python 3",
   "language": "python",
   "name": "python3"
  },
  "language_info": {
   "codemirror_mode": {
    "name": "ipython",
    "version": 3
   },
   "file_extension": ".py",
   "mimetype": "text/x-python",
   "name": "python",
   "nbconvert_exporter": "python",
   "pygments_lexer": "ipython3",
   "version": "3.6.0"
  }
 },
 "nbformat": 4,
 "nbformat_minor": 1
}
