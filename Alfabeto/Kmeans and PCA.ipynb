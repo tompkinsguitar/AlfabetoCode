{
 "cells": [
  {
   "cell_type": "code",
   "execution_count": 1,
   "metadata": {
    "collapsed": false
   },
   "outputs": [],
   "source": [
    "from time import time\n",
    "import numpy as np\n",
    "import matplotlib.pyplot as plt\n",
    "\n",
    "from sklearn import metrics\n",
    "from sklearn.cluster import KMeans\n",
    "from sklearn.datasets import load_digits\n",
    "from sklearn.decomposition import PCA\n",
    "from sklearn.preprocessing import scale\n",
    "\n",
    "from Continuo import ContinuoMarkov as CM\n",
    "from scipy.spatial.distance import euclidean"
   ]
  },
  {
   "cell_type": "code",
   "execution_count": 2,
   "metadata": {
    "collapsed": false
   },
   "outputs": [
    {
     "name": "stdout",
     "output_type": "stream",
     "text": [
      "number of notes:  808\n",
      "number of notes:  7760\n",
      "number of notes:  28112\n",
      "number of notes:  42864\n",
      "number of notes:  516\n",
      "number of notes:  1464\n",
      "number of notes:  10844\n",
      "number of notes:  13764\n",
      "number of notes:  1176\n",
      "number of notes:  1368\n",
      "number of notes:  33492\n",
      "number of notes:  6696\n"
     ]
    }
   ],
   "source": [
    "'''this is the data'''\n",
    "\n",
    "af0 = CM.note_frequency(CM.all_alf, ('f', 0))\n",
    "af2 = CM.note_frequency(CM.all_alf, ('f', 2))\n",
    "af5 = CM.note_frequency(CM.all_alf, ('f', 5))\n",
    "af7 = CM.note_frequency(CM.all_alf, ('f', 7))\n",
    "af9 = CM.note_frequency(CM.all_alf, ('f', 9))\n",
    "af10 = CM.note_frequency(CM.all_alf, ('f', 10))\n",
    "\n",
    "an0 = CM.note_frequency(CM.all_alf, ('n', 0))\n",
    "an2 = CM.note_frequency(CM.all_alf, ('n', 2))\n",
    "an4 = CM.note_frequency(CM.all_alf, ('n', 4))\n",
    "an5 = CM.note_frequency(CM.all_alf, ('n', 5))\n",
    "an7 = CM.note_frequency(CM.all_alf, ('n', 7))\n",
    "an9 = CM.note_frequency(CM.all_alf, ('n', 9))\n",
    "\n",
    "\n",
    "bf0 = [af0[x] for x in range(12)]\n",
    "bf2 = [af2[x] for x in range(12)]\n",
    "bf5 = [af5[x] for x in range(12)]\n",
    "bf7 = [af7[x] for x in range(12)]\n",
    "bf9 = [af9[x] for x in range(12)]\n",
    "bf10 = [af10[x] for x in range(12)]\n",
    "\n",
    "bn0 = [an0[x] for x in range(12)]\n",
    "bn2 = [an2[x] for x in range(12)]\n",
    "bn4 = [an4[x] for x in range(12)]\n",
    "bn5 = [an5[x] for x in range(12)]\n",
    "bn7 = [an7[x] for x in range(12)]\n",
    "bn9 = [an9[x] for x in range(12)] \n",
    "\n",
    "labels = []\n",
    "labels.append('Temperley MAJOR')\n",
    "labels.append('Temperley MINOR')\n",
    "all_notes = []\n",
    "for x in CM.all_kaps:\n",
    "    for z in x.values():\n",
    "        all_notes.append(CM.note_frequency_song(z))\n",
    "        label = (z['data']['key'], z['data']['final'])\n",
    "        labels.append(label)\n",
    "\n",
    "named_labels = labels\n",
    "alf_labels = []\n",
    "    \n",
    "for x in named_labels:\n",
    "    if x == ('f',2):\n",
    "        alf_labels.append('$♭:D$')\n",
    "    elif x == ('n',4):\n",
    "        alf_labels.append('$♮:E$')\n",
    "    elif x == ('n',9):\n",
    "        alf_labels.append('$♮:A$')\n",
    "    elif x == ('f',7):\n",
    "        alf_labels.append('$♭:G$')\n",
    "    elif x == ('n',2):\n",
    "        alf_labels.append('$♮:D$')\n",
    "    elif x == ('f',9):\n",
    "        alf_labels.append('$♭:A$')\n",
    "    elif x == ('f',0):\n",
    "        alf_labels.append('$♭:C$')\n",
    "    elif x == ('f',10):\n",
    "        alf_labels.append('$♭:B♭$')\n",
    "    elif x == ('n',5):\n",
    "        alf_labels.append('$♮:F$')\n",
    "    elif x == ('n',0):\n",
    "        alf_labels.append('$♮:C$')\n",
    "    elif x == ('f',5):\n",
    "        alf_labels.append('$♭:F$')\n",
    "    elif x == ('n',7):\n",
    "        alf_labels.append('$♮:G$')\n",
    "    elif x == 'Temperley MAJOR':\n",
    "        alf_labels.append('$Temperley MAJOR$')\n",
    "    elif x == 'Temperley MINOR':\n",
    "        alf_labels.append('$Temperley MINOR$')\n",
    "    \n",
    "temp_maj = {0: 0.184, 1: 0.001, 2: 0.155, 3: 0.003, 4: 0.191, \n",
    "            5: 0.109, 6: 0.005, 7: 0.214, 8: 0.001, 9: 0.078, \n",
    "            10: 0.004, 11: 0.055}\n",
    "\n",
    "temp_min = {0: 0.192, 1: 0.005, 2: 0.149, 3: 0.179, 4: 0.002, \n",
    "              5: 0.144, 6: 0.002, 7: 0.201, 8: 0.038, 9: 0.012, \n",
    "              10: 0.053, 11: 0.022}\n",
    "\n",
    "t_maj = [temp_maj[x]* 100 for x in range(12)]\n",
    "t_min = [temp_min[x]* 100 for x in range(12)]\n",
    "\n",
    "\n",
    "final_notes = []\n",
    "final_notes.append(t_maj)\n",
    "final_notes.append(t_min)\n",
    "\n",
    "for x in all_notes:\n",
    "    temp_list = []\n",
    "    for y in range(12):\n",
    "        temp_list.append(x[y])\n",
    "    final_notes.append(temp_list)\n",
    "\n",
    "label_numbers = []\n",
    "for x in range(len(labels)):\n",
    "    label_numbers.append(x)\n",
    "\n",
    "    \n",
    "key_distances = []\n",
    "for x in final_notes:\n",
    "    distances = []\n",
    "    for y in final_notes:\n",
    "        distances.append(euclidean(x, y))\n",
    "    key_distances.append(distances)"
   ]
  },
  {
   "cell_type": "code",
   "execution_count": 11,
   "metadata": {
    "collapsed": false
   },
   "outputs": [
    {
     "name": "stdout",
     "output_type": "stream",
     "text": [
      "this is the data\n"
     ]
    }
   ],
   "source": [
    "print(__doc__)\n",
    "\n",
    "# from time import time\n",
    "# import numpy as np\n",
    "# import matplotlib.pyplot as plt\n",
    "\n",
    "# from sklearn import metrics\n",
    "# from sklearn.cluster import KMeans\n",
    "# from sklearn.datasets import load_digits\n",
    "# from sklearn.decomposition import PCA\n",
    "# from sklearn.preprocessing import scale\n",
    "def k_means_data(list_of_lists, cluster_number):\n",
    "    np.random.seed(42)\n",
    "\n",
    "    digits = np.array(list_of_lists)\n",
    "#     data = scale(digits)\n",
    "    data = digits\n",
    "    print(data)\n",
    "    \n",
    "    label_numbers = []\n",
    "    for x in range(len(list_of_lists)):\n",
    "        label_numbers.append(x)\n",
    "    \n",
    "    n_samples, n_features = data.shape\n",
    "    n_digits = cluster_number\n",
    "    labels = np.array(label_numbers)\n",
    "\n",
    "    # sample_size = 300\n",
    "\n",
    "    sample_size = len(data)\n",
    "\n",
    "    print(\"n_digits: %d, \\t n_samples %d, \\t n_features %d\"\n",
    "          % (n_digits, n_samples, n_features))\n",
    "\n",
    "\n",
    "    print(79 * '_')\n",
    "    print('% 9s' % 'init'\n",
    "          '    time  inertia    homo   compl  v-meas     ARI AMI  silhouette')\n",
    "\n",
    "\n",
    "    def bench_k_means(estimator, name, data):\n",
    "        t0 = time()\n",
    "        estimator.fit(data)\n",
    "        print('% 9s   %.2fs    %i   %.3f   %.3f   %.3f   %.3f   %.3f    %.3f'\n",
    "              % (name, (time() - t0), estimator.inertia_,\n",
    "                 metrics.homogeneity_score(labels, estimator.labels_),\n",
    "                 metrics.completeness_score(labels, estimator.labels_),\n",
    "                 metrics.v_measure_score(labels, estimator.labels_),\n",
    "                 metrics.adjusted_rand_score(labels, estimator.labels_),\n",
    "                 metrics.adjusted_mutual_info_score(labels,  estimator.labels_),\n",
    "                 metrics.silhouette_score(data, estimator.labels_,\n",
    "                                          metric='euclidean',\n",
    "                                          sample_size=sample_size)))\n",
    "\n",
    "    bench_k_means(KMeans(init='k-means++', n_clusters=n_digits, n_init=10),\n",
    "                  name=\"k-means++\", data=data)\n",
    "\n",
    "    bench_k_means(KMeans(init='random', n_clusters=n_digits, n_init=10),\n",
    "                  name=\"random\", data=data)\n",
    "\n",
    "    # in this case the seeding of the centers is deterministic, hence we run the\n",
    "    # kmeans algorithm only once with n_init=1\n",
    "    pca = PCA(n_components=n_digits).fit(data)\n",
    "    bench_k_means(KMeans(init=pca.components_, n_clusters=n_digits, n_init=1),\n",
    "                  name=\"PCA-based\",\n",
    "                  data=data)\n",
    "    print(79 * '_')\n",
    "\n",
    "    ###############################################################################\n",
    "    # Visualize the results on PCA-reduced data\n",
    "\n",
    "    reduced_data = PCA(n_components=2).fit_transform(data)\n",
    "    kmeans = KMeans(init='k-means++', n_clusters=n_digits, n_init=10)\n",
    "    kmeans.fit(reduced_data)\n",
    "\n",
    "    # Step size of the mesh. Decrease to increase the quality of the VQ.\n",
    "    h = .02     # point in the mesh [x_min, m_max]x[y_min, y_max].\n",
    "\n",
    "    # Plot the decision boundary. For that, we will assign a color to each\n",
    "    x_min, x_max = reduced_data[:, 0].min() - 1, reduced_data[:, 0].max() + 1\n",
    "    y_min, y_max = reduced_data[:, 1].min() - 1, reduced_data[:, 1].max() + 1\n",
    "    xx, yy = np.meshgrid(np.arange(x_min, x_max, h), np.arange(y_min, y_max, h))\n",
    "\n",
    "    # Obtain labels for each point in mesh. Use last trained model.\n",
    "    Z = kmeans.predict(np.c_[xx.ravel(), yy.ravel()])\n",
    "\n",
    "    # Put the result into a color plot\n",
    "    Z = Z.reshape(xx.shape)\n",
    "    plt.figure(1)\n",
    "    plt.clf()\n",
    "    plt.imshow(Z, interpolation='nearest',\n",
    "               extent=(xx.min(), xx.max(), yy.min(), yy.max()),\n",
    "               cmap=plt.cm.Paired,\n",
    "               aspect='auto', origin='lower')\n",
    "\n",
    "    for x, y, z in zip(reduced_data[:, 0], reduced_data[:, 1], alf_labels):\n",
    "        plt.plot(x, y, 'k.', marker = z, markersize=5)\n",
    "    \n",
    "#     for x in alf_labels:\n",
    "#         plt.plot(reduced_data[:, 0], reduced_data[:, 1], 'k.', marker = x, markersize=5)\n",
    "#     print('reduced data:', reduced_data)\n",
    "    # Plot the centroids as a white X\n",
    "    centroids = kmeans.cluster_centers_\n",
    "    plt.scatter(centroids[:, 0], centroids[:, 1],\n",
    "                marker='x', s=169, linewidths=3,\n",
    "                color='w', zorder=10)\n",
    "    plt.title('K-means clustering of alfabeto corpus (PCA-reduced data)\\n'\n",
    "              'Centroids are marked with white cross')\n",
    "    plt.xlim(x_min, x_max)\n",
    "    plt.ylim(y_min, y_max)\n",
    "    plt.xticks(())\n",
    "    plt.yticks(())\n",
    "    plt.show()"
   ]
  },
  {
   "cell_type": "code",
   "execution_count": 12,
   "metadata": {
    "collapsed": false,
    "scrolled": false
   },
   "outputs": [
    {
     "name": "stdout",
     "output_type": "stream",
     "text": [
      "[[ 18.4          0.1         15.5        ...,   7.8          0.4          5.5       ]\n",
      " [ 19.2          0.5         14.9        ...,   1.2          5.3          2.2       ]\n",
      " [ 15.49586777   0.          11.15702479 ...,   5.37190083  15.70247934\n",
      "    2.47933884]\n",
      " ..., \n",
      " [ 15.625        0.          10.9375     ...,   1.78571429  15.84821429\n",
      "    1.33928571]\n",
      " [ 20.6043956    0.82417582  10.43956044 ...,   2.1978022    9.61538462\n",
      "    4.67032967]\n",
      " [ 16.42857143   6.85714286   3.28571429 ...,   1.85714286  14.85714286\n",
      "    0.        ]]\n",
      "n_digits: 12, \t n_samples 143, \t n_features 12\n",
      "_______________________________________________________________________________\n",
      "init    time  inertia    homo   compl  v-meas     ARI AMI  silhouette\n",
      "k-means++   0.31s    4216   0.473   1.000   0.643   0.000   -0.000    0.176\n",
      "   random   0.18s    4297   0.491   1.000   0.659   0.000   -0.000    0.148\n",
      "PCA-based   0.02s    5389   0.432   1.000   0.603   0.000   -0.000    0.133\n",
      "_______________________________________________________________________________\n"
     ]
    },
    {
     "data": {
      "image/png": "[encoded data removed]",
      "text/plain": [
       "<matplotlib.figure.Figure at 0x7fd91c069cf8>"
      ]
     },
     "metadata": {},
     "output_type": "display_data"
    }
   ],
   "source": [
    "k_means_data(final_notes, 12)"
   ]
  },
  {
   "cell_type": "code",
   "execution_count": 13,
   "metadata": {
    "collapsed": false
   },
   "outputs": [
    {
     "name": "stdout",
     "output_type": "stream",
     "text": [
      "[[ 18.4          0.1         15.5        ...,   7.8          0.4          5.5       ]\n",
      " [ 19.2          0.5         14.9        ...,   1.2          5.3          2.2       ]\n",
      " [ 15.49586777   0.          11.15702479 ...,   5.37190083  15.70247934\n",
      "    2.47933884]\n",
      " ..., \n",
      " [ 15.625        0.          10.9375     ...,   1.78571429  15.84821429\n",
      "    1.33928571]\n",
      " [ 20.6043956    0.82417582  10.43956044 ...,   2.1978022    9.61538462\n",
      "    4.67032967]\n",
      " [ 16.42857143   6.85714286   3.28571429 ...,   1.85714286  14.85714286\n",
      "    0.        ]]\n",
      "n_digits: 2, \t n_samples 143, \t n_features 12\n",
      "_______________________________________________________________________________\n",
      "init    time  inertia    homo   compl  v-meas     ARI AMI  silhouette\n",
      "k-means++   0.06s    9266   0.139   1.000   0.244   0.000   -0.000    0.588\n",
      "   random   0.05s    9266   0.139   1.000   0.244   0.000   -0.000    0.588\n",
      "PCA-based   0.01s    9266   0.139   1.000   0.244   0.000   -0.000    0.588\n",
      "_______________________________________________________________________________\n"
     ]
    },
    {
     "data": {
      "image/png": "[encoded data removed]",
      "text/plain": [
       "<matplotlib.figure.Figure at 0x7fd91c069a90>"
      ]
     },
     "metadata": {},
     "output_type": "display_data"
    }
   ],
   "source": [
    "k_means_data(final_notes, 2)"
   ]
  },
  {
   "cell_type": "code",
   "execution_count": 6,
   "metadata": {
    "collapsed": false
   },
   "outputs": [
    {
     "name": "stdout",
     "output_type": "stream",
     "text": [
      "n_digits: 6, \t n_samples 143, \t n_features 12\n",
      "_______________________________________________________________________________\n",
      "init    time  inertia    homo   compl  v-meas     ARI AMI  silhouette\n",
      "k-means++   0.22s    539   0.333   1.000   0.500   0.000   -0.000    0.207\n",
      "   random   0.15s    542   0.334   1.000   0.501   0.000   -0.000    0.196\n",
      "PCA-based   0.01s    672   0.316   1.000   0.480   0.000   -0.000    0.237\n",
      "_______________________________________________________________________________\n"
     ]
    },
    {
     "data": {
      "image/png": "[encoded data removed]",
      "text/plain": [
       "<matplotlib.figure.Figure at 0x7fd917009c18>"
      ]
     },
     "metadata": {},
     "output_type": "display_data"
    }
   ],
   "source": [
    "k_means_data(final_notes, 6)"
   ]
  },
  {
   "cell_type": "code",
   "execution_count": 14,
   "metadata": {
    "collapsed": false
   },
   "outputs": [
    {
     "name": "stdout",
     "output_type": "stream",
     "text": [
      "[[ 18.4          0.1         15.5        ...,   7.8          0.4          5.5       ]\n",
      " [ 19.2          0.5         14.9        ...,   1.2          5.3          2.2       ]\n",
      " [ 15.49586777   0.          11.15702479 ...,   5.37190083  15.70247934\n",
      "    2.47933884]\n",
      " ..., \n",
      " [ 15.625        0.          10.9375     ...,   1.78571429  15.84821429\n",
      "    1.33928571]\n",
      " [ 20.6043956    0.82417582  10.43956044 ...,   2.1978022    9.61538462\n",
      "    4.67032967]\n",
      " [ 16.42857143   6.85714286   3.28571429 ...,   1.85714286  14.85714286\n",
      "    0.        ]]\n",
      "n_digits: 6, \t n_samples 143, \t n_features 12\n",
      "_______________________________________________________________________________\n",
      "init    time  inertia    homo   compl  v-meas     ARI AMI  silhouette\n",
      "k-means++   0.21s    5851   0.342   1.000   0.510   0.000   -0.000    0.205\n",
      "   random   0.15s    5855   0.337   1.000   0.505   0.000   -0.000    0.212\n",
      "PCA-based   0.02s    7234   0.241   1.000   0.389   0.000   -0.000    0.328\n",
      "_______________________________________________________________________________\n"
     ]
    },
    {
     "data": {
      "image/png": "[encoded data removed]",
      "text/plain": [
       "<matplotlib.figure.Figure at 0x7fd9173560f0>"
      ]
     },
     "metadata": {},
     "output_type": "display_data"
    }
   ],
   "source": [
    "k_means_data(final_notes, 6)"
   ]
  },
  {
   "cell_type": "code",
   "execution_count": 8,
   "metadata": {
    "collapsed": false
   },
   "outputs": [
    {
     "ename": "ValueError",
     "evalue": "setting an array element with a sequence",
     "output_type": "error",
     "traceback": [
      "\u001b[1;31m---------------------------------------------------------------------------\u001b[0m",
      "\u001b[1;31mValueError\u001b[0m                                Traceback (most recent call last)",
      "\u001b[1;32m<ipython-input-8-7782b70752f7>\u001b[0m in \u001b[0;36m<module>\u001b[1;34m()\u001b[0m\n\u001b[1;32m----> 1\u001b[1;33m \u001b[0mnp\u001b[0m\u001b[1;33m.\u001b[0m\u001b[0marray\u001b[0m\u001b[1;33m(\u001b[0m\u001b[0mmy_labels\u001b[0m\u001b[1;33m)\u001b[0m\u001b[1;33m\u001b[0m\u001b[0m\n\u001b[0m",
      "\u001b[1;31mValueError\u001b[0m: setting an array element with a sequence"
     ]
    }
   ],
   "source": [
    "np.array(my_labels)"
   ]
  },
  {
   "cell_type": "code",
   "execution_count": null,
   "metadata": {
    "collapsed": false
   },
   "outputs": [],
   "source": [
    "named_labels"
   ]
  },
  {
   "cell_type": "code",
   "execution_count": null,
   "metadata": {
    "collapsed": true
   },
   "outputs": [],
   "source": []
  }
 ],
 "metadata": {
  "kernelspec": {
   "display_name": "Python 3",
   "language": "python",
   "name": "python3"
  },
  "language_info": {
   "codemirror_mode": {
    "name": "ipython",
    "version": 3
   },
   "file_extension": ".py",
   "mimetype": "text/x-python",
   "name": "python",
   "nbconvert_exporter": "python",
   "pygments_lexer": "ipython3",
   "version": "3.5.1"
  }
 },
 "nbformat": 4,
 "nbformat_minor": 0
}
