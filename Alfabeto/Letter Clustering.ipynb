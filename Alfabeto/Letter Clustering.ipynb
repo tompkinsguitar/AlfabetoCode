{
 "cells": [
  {
   "cell_type": "code",
   "execution_count": 1,
   "metadata": {
    "collapsed": false
   },
   "outputs": [
    {
     "name": "stdout",
     "output_type": "stream",
     "text": [
      "ready!\n"
     ]
    }
   ],
   "source": [
    "import numpy as np\n",
    "\n",
    "from music21 import *\n",
    "from Continuo.kmeans_inversion import k_means_data, silhouette_analysis, label_maker_alf\n",
    "from alfabeto_code.AlfabetoConverter import AlfabetoSymbols\n",
    "from alfabeto_sources import all_sources\n",
    "from alfabeto_data.pickled_data import *\n",
    "from alfabeto_data import dissertation_images as di"
   ]
  },
  {
   "cell_type": "code",
   "execution_count": null,
   "metadata": {
    "collapsed": false
   },
   "outputs": [],
   "source": [
    "def chord_frequency(corpus_list):\n",
    "    all_chords = []\n",
    "    all_labels =  label_maker_alf(corpus_list)\n",
    "    for x in corpus_list:\n",
    "        for y in x.values():\n",
    "            alf_label_dict = {}\n",
    "            for a in AlfabetoSymbols:\n",
    "                alf_label_dict[a] = 0\n",
    "            chord_number = 0\n",
    "            temp_chords = []\n",
    "            for z in y['alfabeto']:\n",
    "                if z in AlfabetoSymbols:\n",
    "                    alf_label_dict[z] += 1\n",
    "                    chord_number += 1\n",
    "            for x in range(len(AlfabetoSymbols)):\n",
    "                temp_chords.append(alf_label_dict[AlfabetoSymbols[x]]/chord_number*100)\n",
    "            all_chords.append(temp_chords)\n",
    "    return all_chords, all_labels\n",
    "            \n",
    "    "
   ]
  },
  {
   "cell_type": "code",
   "execution_count": null,
   "metadata": {
    "collapsed": false
   },
   "outputs": [],
   "source": [
    "di.GetComposer.all_kaps[0][1]"
   ]
  },
  {
   "cell_type": "code",
   "execution_count": null,
   "metadata": {
    "collapsed": false
   },
   "outputs": [],
   "source": [
    "def labeler(list_o_labels):\n",
    "    final_labels = []\n",
    "    for x in list_o_labels:\n",
    "        final_labels.append('$' + str(x[0]) + ':' + str(x[1]) + '$')\n",
    "    return final_labels\n",
    "# labeler(palestrina_notes_data[1])"
   ]
  },
  {
   "cell_type": "code",
   "execution_count": 9,
   "metadata": {
    "collapsed": false
   },
   "outputs": [
    {
     "name": "stdout",
     "output_type": "stream",
     "text": [
      "{'[0, [0, 4, 7]]': 6.976744186046512, '[2, [0, 5, 8]]': 2.3255813953488373, '[2, [0, 4, 7]]': 13.953488372093023, '[7, [0, 3, 7]]': 18.6046511627907, '[5, [0, 4, 7]]': 9.30232558139535, '[7, [0, 4, 7]]': 6.976744186046512, '[2, [0, 3, 7]]': 9.30232558139535, '[2, [3, 7, 10]]': 2.3255813953488373, '[3, [0, 4, 7]]': 2.3255813953488373, '[9, [1, 5, 8]]': 2.3255813953488373, '[0, [0, 3, 7]]': 6.976744186046512, '[10, [0, 4, 7]]': 6.976744186046512, '[10, [4, 8, 11]]': 2.3255813953488373, '[0, [3, 7, 10]]': 2.3255813953488373, '[9, [0, 4, 7]]': 4.651162790697675, '[5, [1, 4, 9]]': 2.3255813953488373}\n"
     ]
    },
    {
     "data": {
      "text/plain": [
       "[[20.0, 0, 12.0, 4.0, 0, 20.0, 0, 8.0, 0, 0, 16.0, 0],\n",
       " [4.0, 0, 4.0, 0, 0, 0, 0, 4.0, 0, 0, 0, 0],\n",
       " [0, 0, 0, 0, 0, 0, 0, 0, 0, 0, 0, 0],\n",
       " [0, 0, 0, 0, 0, 0, 0, 0, 0, 0, 0, 0],\n",
       " [0, 0, 0, 0, 0, 0, 0, 0, 0, 0, 0, 0],\n",
       " [0, 0, 0, 0, 0, 0, 0, 0, 0, 0, 0, 0],\n",
       " [0, 4.0, 0, 0, 0, 0, 0, 4.0, 0, 0, 4.0, 0]]"
      ]
     },
     "execution_count": 9,
     "metadata": {},
     "output_type": "execute_result"
    }
   ],
   "source": [
    "print(di.scale_degree_harmonization_song_untransposed(di.GetComposer.all_kaps[0][8], 'all'))\n",
    "di.figure_sorter(di.scale_degree_harmonization_song_untransposed(di.GetComposer.all_kaps[0][2], 'all'))"
   ]
  },
  {
   "cell_type": "code",
   "execution_count": null,
   "metadata": {
    "collapsed": false,
    "scrolled": false
   },
   "outputs": [],
   "source": [
    "# %matplotlib inline\n",
    "di.k_means_data(test_chords[0], 2, test_chords[1], '/home/daniel/Desktop/fingers.pdf')\n",
    "# A = k_means_data(mozart_notes_data[0], 2, labeler(mozart_notes_data[1]))\n",
    "# B = k_means_data(test_chords[0], 3, test_chords[1])"
   ]
  },
  {
   "cell_type": "code",
   "execution_count": null,
   "metadata": {
    "collapsed": false,
    "scrolled": true
   },
   "outputs": [],
   "source": [
    "for x in range(2, 9):\n",
    "    print(x, 'yields', k_means_data(test_chords[0], x, test_chords[1])[1])"
   ]
  },
  {
   "cell_type": "code",
   "execution_count": null,
   "metadata": {
    "collapsed": false
   },
   "outputs": [],
   "source": [
    "print(alf_labels[0:4], bach_labels[0:4])\n",
    "bach_labels[0:4]"
   ]
  },
  {
   "cell_type": "code",
   "execution_count": null,
   "metadata": {
    "collapsed": false
   },
   "outputs": [],
   "source": [
    "B.savefig(\"/home/daniel/Desktop/letter_cluster_2.png\",bbox_inches='tight')"
   ]
  },
  {
   "cell_type": "code",
   "execution_count": null,
   "metadata": {
    "collapsed": false
   },
   "outputs": [],
   "source": [
    "alfabeto_notes_data[0]"
   ]
  },
  {
   "cell_type": "code",
   "execution_count": null,
   "metadata": {
    "collapsed": true
   },
   "outputs": [],
   "source": []
  }
 ],
 "metadata": {
  "kernelspec": {
   "display_name": "Python [default]",
   "language": "python",
   "name": "python3"
  },
  "language_info": {
   "codemirror_mode": {
    "name": "ipython",
    "version": 3
   },
   "file_extension": ".py",
   "mimetype": "text/x-python",
   "name": "python",
   "nbconvert_exporter": "python",
   "pygments_lexer": "ipython3",
   "version": "3.5.2"
  }
 },
 "nbformat": 4,
 "nbformat_minor": 0
}
